{
 "cells": [
  {
   "cell_type": "markdown",
   "metadata": {},
   "source": [
    "# 동전 2\n",
    "\n",
    "https://www.acmicpc.net/problem/2294"
   ]
  },
  {
   "cell_type": "markdown",
   "metadata": {},
   "source": [
    "## 문제\n",
    "\n",
    "n가지 종류의 동전이 있다. 이 동전들을 적당히 사용해서, 그 가치의 합이 k원이 되도록 하고 싶다. 그러면서 동전의 개수가 최소가 되도록 하려고 한다. 각각의 동전은 몇 개라도 사용할 수 있다.  \n",
    "사용한 동전의 구성이 같은데, 순서만 다른 것은 같은 경우이다."
   ]
  },
  {
   "cell_type": "markdown",
   "metadata": {},
   "source": [
    "## 입력\n",
    "\n",
    "첫째 줄에 n, k가 주어진다. (1 ≤ n ≤ 100, 1 ≤ k ≤ 10,000)   \n",
    "다음 n개의 줄에는 각각의 동전의 가치가 주어진다. 동전의 가치는 100,000보다 작거나 같은 자연수이다. 가치가 같은 동전이 여러 번 주어질 수도 있다."
   ]
  },
  {
   "cell_type": "markdown",
   "metadata": {},
   "source": [
    "## 출력\n",
    "\n",
    "첫째 줄에 사용한 동전의 최소 개수를 출력한다. 불가능한 경우에는 -1을 출력한다."
   ]
  },
  {
   "cell_type": "markdown",
   "metadata": {},
   "source": [
    "## 예제 입력 1\n",
    "\n",
    "3 15  \n",
    "1  \n",
    "5  \n",
    "12"
   ]
  },
  {
   "cell_type": "markdown",
   "metadata": {},
   "source": [
    "## 예제 출력 1\n",
    "\n",
    "3"
   ]
  },
  {
   "cell_type": "markdown",
   "metadata": {},
   "source": [
    "## 풀이"
   ]
  },
  {
   "cell_type": "markdown",
   "metadata": {},
   "source": [
    "__BFS를 이용해서 해결하기__  \n",
    "\n",
    "* 가치가 같은 동전이 여러 번 주어질 수도 있기 때문에 coins를 set으로 입력받는다.\n",
    "* 사용한 동전의 최소 개수를 출력하기 때문에 check를 만들어 확인한다.\n",
    "* 불가능한 경우를 위해 flag를 설정한다.\n",
    "* que에 우선 주어진 동전의 종류를 넣고 하나씩 꺼내서 k와 비교를 한다.\n",
    "* que에서 꺼낸 가치의 합에 coins의 coin들의 가치를 더해서 k보다 작거나 같다면 que에 넣어 위의 과정을 반복한다."
   ]
  },
  {
   "cell_type": "code",
   "execution_count": 1,
   "metadata": {},
   "outputs": [
    {
     "name": "stdout",
     "output_type": "stream",
     "text": [
      "3 15\n",
      "1\n",
      "5\n",
      "12\n",
      "3\n"
     ]
    }
   ],
   "source": [
    "from collections import deque\n",
    "import sys\n",
    "input = sys.stdin.readline\n",
    "\n",
    "n, k = map(int, input().split())\n",
    "coins = set(int(input()) for _ in range(n))\n",
    "check = [0 for _ in range(k+1)]\n",
    "que = deque()\n",
    "for coin in coins:\n",
    "    if coin > k:\n",
    "        continue\n",
    "    que.append([coin, 1])\n",
    "    check[coin] = 1\n",
    "\n",
    "flag = True\n",
    "while que:\n",
    "    val, cnt = que.popleft()\n",
    "    if val == k:\n",
    "        print(cnt)\n",
    "        flag = False\n",
    "        break\n",
    "        \n",
    "    for coin in coins:\n",
    "        if val + coin > k:\n",
    "            continue\n",
    "        if check[val+coin] == 0:\n",
    "            check[val+coin] = 1\n",
    "            que.append([val+coin, cnt+1])\n",
    "            \n",
    "if flag:\n",
    "    print(-1)"
   ]
  },
  {
   "cell_type": "markdown",
   "metadata": {},
   "source": [
    "__DP 이용해서 해결하기__  \n",
    "\n",
    "* dp를 리스트를 만든다.\n",
    "* 동전의 가치가 자연수이므로 coins에 k보다 큰 동전은 넣지 않는다.\n",
    "* n가지 종류의 동전에 대해서는 사용한 동전의 개수가 1이므로 dp에 저장한다.\n",
    "* dp 리스트를 for문으로 돌면서 i원을 만들 때 필요한 동전의 최소 개수를 저장한다.\n",
    "* i원을 만들 수 없다면 그대로 10002가 저장되어 있으므로 최종적으로 dp[k]에 10002가 저장되어 있다면 -1을 출력한다."
   ]
  },
  {
   "cell_type": "code",
   "execution_count": 2,
   "metadata": {},
   "outputs": [
    {
     "name": "stdout",
     "output_type": "stream",
     "text": [
      "3 15\n",
      "1\n",
      "5\n",
      "12\n",
      "3\n"
     ]
    }
   ],
   "source": [
    "import sys\n",
    "input = sys.stdin.readline\n",
    "\n",
    "n, k = map(int, input().split())\n",
    "coins = []\n",
    "dp = [10002 for _ in range(k+1)]\n",
    "for _ in range(n):\n",
    "    coin = int(input())\n",
    "    if coin <= k:\n",
    "        coins.append(coin)\n",
    "        dp[coin] = 1\n",
    "        \n",
    "for i in range(k+1):\n",
    "    for coin in coins:\n",
    "        try:\n",
    "            dp[i] = min(dp[i], dp[i-coin]+1)\n",
    "        except:\n",
    "            continue\n",
    "            \n",
    "if dp[k] == 10002:\n",
    "    print(-1)\n",
    "else:\n",
    "    print(dp[k])"
   ]
  },
  {
   "cell_type": "markdown",
   "metadata": {},
   "source": [
    "* 위의 방법에서 try, except 구문을 if 구문으로 바꾸기"
   ]
  },
  {
   "cell_type": "code",
   "execution_count": 3,
   "metadata": {},
   "outputs": [
    {
     "name": "stdout",
     "output_type": "stream",
     "text": [
      "3 15\n",
      "1\n",
      "5\n",
      "12\n",
      "3\n"
     ]
    }
   ],
   "source": [
    "import sys\n",
    "input = sys.stdin.readline\n",
    "\n",
    "n, k = map(int, input().split())\n",
    "coins = []\n",
    "dp = [10002 for _ in range(k+1)]\n",
    "for _ in range(n):\n",
    "    coin = int(input())\n",
    "    if coin <= k:\n",
    "        coins.append(coin)\n",
    "        dp[coin] = 1\n",
    "        \n",
    "for i in range(k+1):\n",
    "    for coin in coins:\n",
    "        if i >= coin:\n",
    "            dp[i] = min(dp[i], dp[i-coin]+1)\n",
    "            \n",
    "if dp[k] == 10002:\n",
    "    print(-1)\n",
    "else:\n",
    "    print(dp[k])"
   ]
  }
 ],
 "metadata": {
  "kernelspec": {
   "display_name": "Python 3",
   "language": "python",
   "name": "python3"
  },
  "language_info": {
   "codemirror_mode": {
    "name": "ipython",
    "version": 3
   },
   "file_extension": ".py",
   "mimetype": "text/x-python",
   "name": "python",
   "nbconvert_exporter": "python",
   "pygments_lexer": "ipython3",
   "version": "3.7.3"
  }
 },
 "nbformat": 4,
 "nbformat_minor": 2
}
