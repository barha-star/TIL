{
 "cells": [
  {
   "cell_type": "markdown",
   "metadata": {},
   "source": [
    "# A -> B\n",
    "\n",
    "https://www.acmicpc.net/problem/16953"
   ]
  },
  {
   "cell_type": "markdown",
   "metadata": {},
   "source": [
    "## 문제\n",
    "\n",
    "정수 A를 B로 바꾸려고 한다. 가능한 연산은 다음과 같은 두 가지이다.\n",
    "  \n",
    "* 2를 곱한다.\n",
    "* 1을 수의 가장 오른쪽에 추가한다. \n",
    "  \n",
    "A를 B로 바꾸는데 필요한 연산의 최솟값을 구해보자."
   ]
  },
  {
   "cell_type": "markdown",
   "metadata": {},
   "source": [
    "## 입력\n",
    "\n",
    "첫째 줄에 A, B (1 ≤ A < B ≤ 109)가 주어진다."
   ]
  },
  {
   "cell_type": "markdown",
   "metadata": {},
   "source": [
    "## 출력\n",
    "\n",
    "A를 B로 바꾸는데 필요한 연산의 최솟값에 1을 더한 값을 출력한다. 만들 수 없는 경우에는 -1을 출력한다."
   ]
  },
  {
   "cell_type": "markdown",
   "metadata": {},
   "source": [
    "## 예제 입력 1\n",
    "\n",
    "2 162"
   ]
  },
  {
   "cell_type": "markdown",
   "metadata": {},
   "source": [
    "## 예제 출력 1\n",
    "\n",
    "5"
   ]
  },
  {
   "cell_type": "markdown",
   "metadata": {},
   "source": [
    "## 풀이"
   ]
  },
  {
   "cell_type": "markdown",
   "metadata": {},
   "source": [
    "* bfs를 이용해서 해결한다.\n",
    "* que에 (a, 1)을 넣는다.\n",
    "* popleft를 통해 뽑은 숫자에서 가능한 연산을 한다.\n",
    "    * 만약 2를 곱했을 때 b보다 크다면 que에 넣지 않는다.\n",
    "    * 만약 1을 수의 가장 오른쪽에 추가했을 때 정수가 b보다 크면 que에 넣지 않는다."
   ]
  },
  {
   "cell_type": "code",
   "execution_count": 1,
   "metadata": {},
   "outputs": [
    {
     "name": "stdout",
     "output_type": "stream",
     "text": [
      "2 162\n",
      "5\n"
     ]
    }
   ],
   "source": [
    "from collections import deque\n",
    "\n",
    "a, b = map(int, input().split())\n",
    "res = -1\n",
    "que = deque([(a, 1)])\n",
    "while que:\n",
    "    i, cnt = que.popleft()\n",
    "    if i == b:\n",
    "        res = cnt\n",
    "        break\n",
    "        \n",
    "    if i*2 <= b:\n",
    "        que.append((i*2, cnt+1))\n",
    "    if int(str(i)+'1') <= b:\n",
    "        que.append((int(str(i)+'1'), cnt+1))\n",
    "\n",
    "print(res)"
   ]
  },
  {
   "cell_type": "markdown",
   "metadata": {},
   "source": [
    "* 위의 과정과 다르게 b에서 a를 만들어 해결한다.\n",
    "* while문을 통해 과정을 반복한다.\n",
    "    * 만약 a == b면 while문을 break 한다.\n",
    "    * 만약 b가 2로 나누어 떨어지지 않으며 b의 마지막 자리의 숫자가 1이 아니거나 b가 a보다 작다면 b에서 a를 만들 수 없는 경우(a에서 b를 만들 수 없는 경우)이므로 -1을 출력한다.\n",
    "    * 만약 b의 마지막 자리의 숫자가 1이면 b에서 1을 제거한다.\n",
    "    * 만약 b가 2로 나누어 떨어지면 2로 나눈다."
   ]
  },
  {
   "cell_type": "code",
   "execution_count": 2,
   "metadata": {},
   "outputs": [
    {
     "name": "stdout",
     "output_type": "stream",
     "text": [
      "2 162\n",
      "5\n"
     ]
    }
   ],
   "source": [
    "a, b = map(int, input().split())\n",
    "cnt = 1\n",
    "while True:\n",
    "    if b == a:\n",
    "        break\n",
    "    elif (b % 2 != 0 and b % 10 != 1) or (b < a):\n",
    "        cnt = -1\n",
    "        break\n",
    "    else:\n",
    "        if b % 10 == 1:\n",
    "            b //= 10\n",
    "            cnt += 1\n",
    "        else:\n",
    "            b //= 2\n",
    "            cnt += 1\n",
    "            \n",
    "print(cnt)"
   ]
  }
 ],
 "metadata": {
  "kernelspec": {
   "display_name": "Python 3",
   "language": "python",
   "name": "python3"
  },
  "language_info": {
   "codemirror_mode": {
    "name": "ipython",
    "version": 3
   },
   "file_extension": ".py",
   "mimetype": "text/x-python",
   "name": "python",
   "nbconvert_exporter": "python",
   "pygments_lexer": "ipython3",
   "version": "3.7.3"
  }
 },
 "nbformat": 4,
 "nbformat_minor": 2
}
