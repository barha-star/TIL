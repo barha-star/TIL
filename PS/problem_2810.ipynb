{
 "cells": [
  {
   "cell_type": "markdown",
   "metadata": {},
   "source": [
    "# 컵홀더\n",
    "\n",
    "https://www.acmicpc.net/problem/2810"
   ]
  },
  {
   "cell_type": "markdown",
   "metadata": {},
   "source": [
    "## 문제\n",
    "\n",
    "십년이면 강산이 변한다.  \n",
    "강산이네 동네에 드디어 극장이 생겼고, 강산이는 극장에 놀러갔다. 매점에서 콜라를 산 뒤, 자리에 앉은 강산이는 큰 혼란에 빠졌다. 양쪽 컵홀더를 이미 옆 사람들이 차지했기 때문에 콜라를 꽂을 컵 홀더가 없었기 때문이다. 영화를 보는 내내 콜라를 손에 들고 있던 강산이는 극장에 다시 왔을 때는 꼭 콜라를 컵 홀더에 놓겠다는 다짐을 한 후 집에 돌아갔다.  \n",
    "극장의 한 줄에는 자리가 N개가 있다. 서로 인접한 좌석 사이에는 컵홀더가 하나씩 있고, 양 끝 좌석에는 컵홀더가 하나씩 더 있다. 또, 이 극장에는 커플석이 있다. 커플석 사이에는 컵홀더가 없다.  \n",
    "극장의 한 줄의 정보가 주어진다. 이때, 이 줄에 사람들이 모두 앉았을 때, 컵홀더에 컵을 꽂을 수 있는 최대 사람의 수를 구하는 프로그램을 작성하시오. 모든 사람은 컵을 한 개만 들고 있고, 자신의 좌석의 양 옆에 있는 컵홀더에만 컵을 꽂을 수 있다.  \n",
    "S는 일반 좌석, L은 커플석을 의미하며, L은 항상 두개씩 쌍으로 주어진다.  \n",
    "어떤 좌석의 배치가 SLLLLSSLL일때, 컵홀더를 x로 표시하면 아래와 같다.\n",
    "  \n",
    "xSxLLxLLxSxSxLLx  \n",
    "\n",
    "위의 예에서 적어도 두 명은 컵홀더를 사용할 수 없다."
   ]
  },
  {
   "cell_type": "markdown",
   "metadata": {},
   "source": [
    "## 입력\n",
    "\n",
    "첫째 줄에 좌석의 수 N이 주어진다. (1 ≤ N ≤ 50) 둘째 줄에는 좌석의 정보가 주어진다."
   ]
  },
  {
   "cell_type": "markdown",
   "metadata": {},
   "source": [
    "## 출력\n",
    "\n",
    "컵을 컵홀더에 놓을 수 있는 최대 사람의 수를 출력한다."
   ]
  },
  {
   "cell_type": "markdown",
   "metadata": {},
   "source": [
    "## 예제 입력 1\n",
    "\n",
    "9  \n",
    "SLLLLSSLL"
   ]
  },
  {
   "cell_type": "markdown",
   "metadata": {},
   "source": [
    "## 예제 출력 1\n",
    "\n",
    "7"
   ]
  },
  {
   "cell_type": "markdown",
   "metadata": {},
   "source": [
    "## 풀이"
   ]
  },
  {
   "cell_type": "markdown",
   "metadata": {},
   "source": [
    "* 좌석이 n개 있고 모두 일반 좌석이라면 컵홀더를 n+1개 사용할 수 있다.\n",
    "* 이때, 커플석이 l쌍(lx2) 있다면 l개만큼 컵홀더가 없어지게 된다.\n",
    "* 따라서 n+1 - (l)이 컵홀더의 수이다.\n",
    "* 컵을 컵홀더에 놓을 수 있는 최대 사람은 컵홀더의 수만큼 있거나 컵홀더의 수가 좌석보다 많다면 n개 가능하다."
   ]
  },
  {
   "cell_type": "code",
   "execution_count": 2,
   "metadata": {},
   "outputs": [
    {
     "name": "stdout",
     "output_type": "stream",
     "text": [
      "9\n",
      "SLLLLSSLL\n",
      "7\n"
     ]
    }
   ],
   "source": [
    "n = int(input())\n",
    "seat = input()\n",
    "l = 0\n",
    "for i in range(n):\n",
    "    if seat[i] == 'L':\n",
    "        l += 1\n",
    "l //= 2\n",
    "print(min(n+1-l, n))"
   ]
  },
  {
   "cell_type": "markdown",
   "metadata": {},
   "source": [
    "* 위의 방법과 같은데 'L'을 세는 방법에서 차이가 있다."
   ]
  },
  {
   "cell_type": "code",
   "execution_count": 3,
   "metadata": {},
   "outputs": [
    {
     "name": "stdout",
     "output_type": "stream",
     "text": [
      "9\n",
      "SLLLLSSLL\n",
      "7\n"
     ]
    }
   ],
   "source": [
    "n = int(input())\n",
    "seat = input()\n",
    "l = seat.count('LL')\n",
    "print(min(n+1-l, n))"
   ]
  }
 ],
 "metadata": {
  "kernelspec": {
   "display_name": "Python 3",
   "language": "python",
   "name": "python3"
  },
  "language_info": {
   "codemirror_mode": {
    "name": "ipython",
    "version": 3
   },
   "file_extension": ".py",
   "mimetype": "text/x-python",
   "name": "python",
   "nbconvert_exporter": "python",
   "pygments_lexer": "ipython3",
   "version": "3.7.3"
  }
 },
 "nbformat": 4,
 "nbformat_minor": 2
}
