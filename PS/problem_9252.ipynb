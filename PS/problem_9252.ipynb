{
 "cells": [
  {
   "cell_type": "markdown",
   "metadata": {},
   "source": [
    "# LCS 2\n",
    "\n",
    "https://www.acmicpc.net/problem/9252"
   ]
  },
  {
   "cell_type": "markdown",
   "metadata": {},
   "source": [
    "## 문제\n",
    "\n",
    "LCS(Longest Common Subsequence, 최장 공통 부분 수열)문제는 두 수열이 주어졌을 때, 모두의 부분 수열이 되는 수열 중 가장 긴 것을 찾는 문제이다.  \n",
    "예를 들어, ACAYKP와 CAPCAK의 LCS는 ACAK가 된다."
   ]
  },
  {
   "cell_type": "markdown",
   "metadata": {},
   "source": [
    "## 입력\n",
    "\n",
    "첫째 줄과 둘째 줄에 두 문자열이 주어진다. 문자열은 알파벳 대문자로만 이루어져 있으며, 최대 1000글자로 이루어져 있다."
   ]
  },
  {
   "cell_type": "markdown",
   "metadata": {},
   "source": [
    "## 출력\n",
    "\n",
    "첫째 줄에 입력으로 주어진 두 문자열의 LCS의 길이를, 둘째 줄에 LCS를 출력한다.  \n",
    "LCS가 여러 가지인 경우에는 아무거나 출력하고, LCS의 길이가 0인 경우에는 둘째 줄을 출력하지 않는다."
   ]
  },
  {
   "cell_type": "markdown",
   "metadata": {},
   "source": [
    "## 예제 입력 1\n",
    "\n",
    "ACAYKP  \n",
    "CAPCAK"
   ]
  },
  {
   "cell_type": "markdown",
   "metadata": {},
   "source": [
    "## 예제 출력 1\n",
    "\n",
    "4  \n",
    "ACAK"
   ]
  },
  {
   "cell_type": "markdown",
   "metadata": {},
   "source": [
    "## 풀이"
   ]
  },
  {
   "cell_type": "code",
   "execution_count": 1,
   "metadata": {},
   "outputs": [
    {
     "name": "stdout",
     "output_type": "stream",
     "text": [
      "ACAYKP\n",
      "CAPCAK\n",
      "4\n",
      "ACAK\n"
     ]
    }
   ],
   "source": [
    "a = input()\n",
    "b = input()\n",
    "\n",
    "dp = [[[0, ''] for _ in range(len(a)+1)] for _ in range(len(b)+1)]\n",
    "\n",
    "for i in range(1, len(b)+1):\n",
    "    for j in range(1, len(a)+1):\n",
    "        if a[j-1] == b[i-1]:\n",
    "            dp[i][j][0] = dp[i-1][j-1][0] + 1\n",
    "            dp[i][j][1] = dp[i-1][j-1][1] + a[j-1]\n",
    "        else:\n",
    "            if dp[i-1][j][0] < dp[i][j-1][0]:\n",
    "                dp[i][j] = dp[i][j-1]\n",
    "            else:\n",
    "                dp[i][j] = dp[i-1][j]\n",
    "            \n",
    "print(dp[-1][-1][0])\n",
    "print(dp[-1][-1][1])"
   ]
  },
  {
   "cell_type": "code",
   "execution_count": 2,
   "metadata": {},
   "outputs": [
    {
     "name": "stdout",
     "output_type": "stream",
     "text": [
      "ACAYKP\n",
      "CAPCAK\n",
      "4\n",
      "ACAK\n"
     ]
    }
   ],
   "source": [
    "a = input()\n",
    "b = input()\n",
    "\n",
    "dp = [['' for _ in range(len(a)+1)] for _ in range(len(b)+1)]\n",
    "\n",
    "for i in range(1, len(b)+1):\n",
    "    for j in range(1, len(a)+1):\n",
    "        if a[j-1] == b[i-1]:\n",
    "            dp[i][j] = dp[i-1][j-1] + a[j-1]\n",
    "        else:\n",
    "            if len(dp[i-1][j]) < len(dp[i][j-1]):\n",
    "                dp[i][j] = dp[i][j-1]\n",
    "            else:\n",
    "                dp[i][j] = dp[i-1][j]\n",
    "            \n",
    "print(len(dp[-1][-1]))\n",
    "if len(dp[-1][-1]):\n",
    "    print(dp[-1][-1])"
   ]
  },
  {
   "cell_type": "code",
   "execution_count": 3,
   "metadata": {},
   "outputs": [
    {
     "name": "stdout",
     "output_type": "stream",
     "text": [
      "ACAYKP\n",
      "CAPCAK\n",
      "4\n",
      "ACAK\n"
     ]
    }
   ],
   "source": [
    "a = input()\n",
    "b = input()\n",
    "\n",
    "dp = [[0 for _ in range(len(a)+1)] for _ in range(len(b)+1)]\n",
    "\n",
    "for i in range(1, len(b)+1):\n",
    "    for j in range(1, len(a)+1):\n",
    "        if a[j-1] == b[i-1]:\n",
    "            dp[i][j] = dp[i-1][j-1] + 1\n",
    "        else:\n",
    "            dp[i][j] = max(dp[i-1][j], dp[i][j-1])\n",
    "            \n",
    "print(dp[-1][-1])\n",
    "\n",
    "def solve():\n",
    "    res = ''\n",
    "    curr = dp[-1][-1]\n",
    "    n, m = len(b), len(a)\n",
    "    while curr != 0:\n",
    "        if curr-1 == dp[n][m-1] and curr-1 == dp[n-1][m]:\n",
    "            res += a[m-1]\n",
    "            curr -= 1\n",
    "            n -= 1\n",
    "            m -= 1\n",
    "        else:\n",
    "            if dp[n-1][m] > dp[n][m-1]:\n",
    "                n -= 1\n",
    "            else:\n",
    "                m -= 1\n",
    "    return res[::-1]\n",
    "    \n",
    "if dp[-1][-1]:\n",
    "    print(solve())"
   ]
  }
 ],
 "metadata": {
  "kernelspec": {
   "display_name": "Python 3",
   "language": "python",
   "name": "python3"
  },
  "language_info": {
   "codemirror_mode": {
    "name": "ipython",
    "version": 3
   },
   "file_extension": ".py",
   "mimetype": "text/x-python",
   "name": "python",
   "nbconvert_exporter": "python",
   "pygments_lexer": "ipython3",
   "version": "3.7.3"
  }
 },
 "nbformat": 4,
 "nbformat_minor": 2
}
