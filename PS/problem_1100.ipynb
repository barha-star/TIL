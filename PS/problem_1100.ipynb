{
 "cells": [
  {
   "cell_type": "markdown",
   "metadata": {},
   "source": [
    "# 하얀 칸\n",
    "\n",
    "https://www.acmicpc.net/problem/1100"
   ]
  },
  {
   "cell_type": "markdown",
   "metadata": {},
   "source": [
    "## 문제\n",
    "\n",
    "체스판은 8x8크기이고, 검정 칸과 하얀 칸이 번갈아가면서 색칠되어 있다. 가장 왼쪽 위칸 (0,0)은 하얀색이다. 체스판의 상태가 주어졌을 때, 하얀 칸 위에 말이 몇 개 있는지 출력하는 프로그램을 작성하시오."
   ]
  },
  {
   "cell_type": "markdown",
   "metadata": {},
   "source": [
    "## 입력\n",
    "\n",
    "첫째 줄부터 8개의 줄에 체스판의 상태가 주어진다. ‘.’은 빈 칸이고, ‘F’는 위에 말이 있는 칸이다."
   ]
  },
  {
   "cell_type": "markdown",
   "metadata": {},
   "source": [
    "## 출력\n",
    "\n",
    "첫째 줄에 문제의 정답을 출력한다."
   ]
  },
  {
   "cell_type": "markdown",
   "metadata": {},
   "source": [
    "## 예제 입력 1\n",
    "\n",
    ".F.F...F  \n",
    "F...F.F.  \n",
    "...F.F.F  \n",
    "F.F...F.  \n",
    ".F...F..  \n",
    "F...F.F.  \n",
    ".F.F.F.F  \n",
    "..FF..F."
   ]
  },
  {
   "cell_type": "markdown",
   "metadata": {},
   "source": [
    "## 예제 출력 1\n",
    "\n",
    "1"
   ]
  },
  {
   "cell_type": "markdown",
   "metadata": {},
   "source": [
    "## 풀이"
   ]
  },
  {
   "cell_type": "markdown",
   "metadata": {},
   "source": [
    "* 검정 칸과 하얀 칸이 번갈아가면서 색칠되어 있고 (0, 0)이 하얀색이므로 체스판의 row 인덱스와 column 인덱스의 합이 2의 배수이면 하얀 칸이다.\n",
    "* 따라서 체스판의 상태를 board에 저장한다.\n",
    "* 체스판을 for문으로 확인하면서 인덱스의 합이 2로 나누어 떨어지면서 말이 있는 칸이면 res에 1을 더해준다.\n",
    "* 최종적으로 res를 출력하면 된다."
   ]
  },
  {
   "cell_type": "code",
   "execution_count": 1,
   "metadata": {},
   "outputs": [
    {
     "name": "stdout",
     "output_type": "stream",
     "text": [
      ".F.F...F\n",
      "F...F.F.\n",
      "...F.F.F\n",
      "F.F...F.\n",
      ".F...F..\n",
      "F...F.F.\n",
      ".F.F.F.F\n",
      "..FF..F.\n",
      "1\n"
     ]
    }
   ],
   "source": [
    "n = 8\n",
    "board = [list(input()) for _ in range(n)]\n",
    "res = 0\n",
    "for i in range(n):\n",
    "    for j in range(n):\n",
    "        if (i+j) % 2 == 0:\n",
    "            if board[i][j] == 'F':\n",
    "                res += 1\n",
    "print(res)"
   ]
  }
 ],
 "metadata": {
  "kernelspec": {
   "display_name": "Python 3",
   "language": "python",
   "name": "python3"
  },
  "language_info": {
   "codemirror_mode": {
    "name": "ipython",
    "version": 3
   },
   "file_extension": ".py",
   "mimetype": "text/x-python",
   "name": "python",
   "nbconvert_exporter": "python",
   "pygments_lexer": "ipython3",
   "version": "3.7.3"
  }
 },
 "nbformat": 4,
 "nbformat_minor": 2
}
