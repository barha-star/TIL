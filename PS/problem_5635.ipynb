{
 "cells": [
  {
   "cell_type": "markdown",
   "metadata": {},
   "source": [
    "# 생일\n",
    "\n",
    "https://www.acmicpc.net/problem/5635"
   ]
  },
  {
   "cell_type": "markdown",
   "metadata": {},
   "source": [
    "## 문제\n",
    "\n",
    "어떤 반에 있는 학생들의 생일이 주어졌을 때, 가장 나이가 적은 사람과 가장 많은 사람을 구하는 프로그램을 작성하시오."
   ]
  },
  {
   "cell_type": "markdown",
   "metadata": {},
   "source": [
    "## 입력\n",
    "\n",
    "첫째 줄에 반에 있는 학생의 수 n이 주어진다. (1 ≤ n ≤ 100)  \n",
    "다음 n개 줄에는 각 학생의 이름과 생일이 \"이름 dd mm yyyy\"와 같은 형식으로 주어진다. 이름은 그 학생의 이름이며, 최대 15글자로 이루어져 있다. dd mm yyyy는 생일 일, 월, 연도이다. (1990 ≤ yyyy ≤ 2010, 1 ≤ mm ≤ 12, 1 ≤ dd ≤ 31) 주어지는 생일은 올바른 날짜이며, 연, 월 일은 0으로 시작하지 않는다.  \n",
    "이름이 같거나, 생일이 같은 사람은 없다."
   ]
  },
  {
   "cell_type": "markdown",
   "metadata": {},
   "source": [
    "## 출력\n",
    "\n",
    "첫째 줄에 가장 나이가 적은 사람의 이름, 둘째 줄에 가장 나이가 많은 사람 이름을 출력한다."
   ]
  },
  {
   "cell_type": "markdown",
   "metadata": {},
   "source": [
    "## 예제 입력 1\n",
    "\n",
    "5  \n",
    "Mickey 1 10 1991  \n",
    "Alice 30 12 1990  \n",
    "Tom 15 8 1993  \n",
    "Jerry 18 9 1990  \n",
    "Garfield 20 9 1990"
   ]
  },
  {
   "cell_type": "markdown",
   "metadata": {},
   "source": [
    "## 예제 출력 1\n",
    "\n",
    "Tom  \n",
    "Jerry"
   ]
  },
  {
   "cell_type": "markdown",
   "metadata": {},
   "source": [
    "## 풀이"
   ]
  },
  {
   "cell_type": "markdown",
   "metadata": {},
   "source": [
    "* 이름, 일, 월, 연도를 이름과 연도+월+일로 저장한다.\n",
    "    * 정렬을 위해 월과 일이 길이가 1이면(1 - 9) 앞에 0을 붙여서 저장한다.(01 - 09)\n",
    "* 생일을 기준으로 정렬한다.\n",
    "* 가장 나이 적은 사람과 많은 사람을 출력한다."
   ]
  },
  {
   "cell_type": "code",
   "execution_count": 1,
   "metadata": {},
   "outputs": [
    {
     "name": "stdout",
     "output_type": "stream",
     "text": [
      "5\n",
      "Mickey 1 10 1991\n",
      "Alice 30 12 1990\n",
      "Tom 15 8 1993\n",
      "Jerry 18 9 1990\n",
      "Garfield 20 9 1990\n",
      "Tom\n",
      "Jerry\n"
     ]
    }
   ],
   "source": [
    "import sys\n",
    "input = sys.stdin.readline\n",
    "\n",
    "n = int(input())\n",
    "lst = []\n",
    "for _ in range(n):\n",
    "    name, d, m, y = input().rstrip().split()\n",
    "    if len(m) == 1:\n",
    "        m = '0'+m\n",
    "    if len(d) == 1:\n",
    "        d = '0'+d\n",
    "    lst.append((name, y+m+d))\n",
    "    \n",
    "lst.sort(key=lambda x:int(x[1]))\n",
    "print(lst[-1][0])\n",
    "print(lst[0][0])"
   ]
  }
 ],
 "metadata": {
  "kernelspec": {
   "display_name": "Python 3",
   "language": "python",
   "name": "python3"
  },
  "language_info": {
   "codemirror_mode": {
    "name": "ipython",
    "version": 3
   },
   "file_extension": ".py",
   "mimetype": "text/x-python",
   "name": "python",
   "nbconvert_exporter": "python",
   "pygments_lexer": "ipython3",
   "version": "3.7.3"
  }
 },
 "nbformat": 4,
 "nbformat_minor": 2
}
