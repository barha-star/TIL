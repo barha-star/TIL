{
 "cells": [
  {
   "cell_type": "markdown",
   "metadata": {},
   "source": [
    "# 디지털 티비\n",
    "\n",
    "https://www.acmicpc.net/problem/2816"
   ]
  },
  {
   "cell_type": "markdown",
   "metadata": {},
   "source": [
    "## 문제\n",
    "\n",
    "2012년 12월 31일 새벽 4시부터 지상파 아날로그 TV방송이 종료되었다. TV를 자주보는 할머니를 위해서, 상근이네 집도 디지털 수신기를 구입했다.  \n",
    "원래 상근이네 집에는 KBS1과 KBS2만 나왔다. 할머니는 두 방송만 시청한다. 이제 디지털 수신기와 함께 엄청난 양의 채널을 볼 수 있게 되었다.  하지만, 할머니는 오직 KBS1과 KBS2만 보려고 한다. 따라서, 상근이는 채널 리스트를 조절해 KBS1을 첫 번째로, KBS2를 두 번째로 만들려고 한다.  \n",
    "티비를 켜면 디지털 수신기는 시청 가능한 채널 리스트를 보여준다. 모든 채널의 이름은 서로 다르고, 항상 KBS1과 KBS2를 포함하고 있다. 상근이는 이 리모콘을 이용해서 리스트의 순서를 바꾸는 법을 알아냈다. 리스트의 왼편에는 작은 화살표가 있고, 이 화살표는 현재 선택한 채널을 나타낸다. 가장 처음에 화살표는 제일 첫 번째 채널을 가리키고 있다.  \n",
    "다음과 같은 네 가지 버튼을 이용해서 리스트의 순서를 바꿀 수 있다. 각각은 1번부터 4번까지 번호가 적혀져있는 버튼이다.  \n",
    "1. 화살표를 한 칸 아래로 내린다. (채널 i에서 i+1로)\n",
    "2. 화살표를 위로 한 칸 올린다. (채널 i에서 i-1로)\n",
    "3. 현재 선택한 채널을 한 칸 아래로 내린다. (채널 i와 i+1의 위치를 바꾼다. 화살표는 i+1을 가리키고 있는다)\n",
    "4. 현재 선택한 채널을 위로 한 칸 올린다. (채널 i와 i-1의 위치를 바꾼다. 화살표는 i-1을 가리키고 있다)\n",
    "  \n",
    "화살표가 채널 리스트의 범위를 넘어간다면, 그 명령은 무시한다.  \n",
    "현재 채널 리스트의 순서가 주어졌을 때, KBS1를 첫 번째로, KBS2를 두 번째로 순서를 바꾸는 방법을 구하는 프로그램을 작성하시오. 방법의 길이는 500보다 작아야 한다. 두 채널을 제외한 나머지 채널의 순서는 상관없다."
   ]
  },
  {
   "cell_type": "markdown",
   "metadata": {},
   "source": [
    "## 입력\n",
    "\n",
    "첫째 줄에 채널의 수 N이 주어진다. (2 ≤ N ≤ 100)  \n",
    "다음 N개 줄에는 채널의 이름이 한 줄에 하나씩 주어진다. 채널의 이름은 최대 10글자이고, 알파벳 대문자와 숫자로만 이루어져 있다.  \n",
    "이미 KBS1이 첫 번째에, KBS2가 두 번째에 있는 입력은 주어지지 않는다."
   ]
  },
  {
   "cell_type": "markdown",
   "metadata": {},
   "source": [
    "## 출력\n",
    "\n",
    "상근이가 눌러야 하는 버튼을 순서대로 공백없이 출력한다."
   ]
  },
  {
   "cell_type": "markdown",
   "metadata": {},
   "source": [
    "## 예제 입력 1\n",
    "\n",
    "3  \n",
    "MBC  \n",
    "KBS1  \n",
    "KBS2"
   ]
  },
  {
   "cell_type": "markdown",
   "metadata": {},
   "source": [
    "## 예제 출력 1\n",
    "\n",
    "33"
   ]
  },
  {
   "cell_type": "markdown",
   "metadata": {},
   "source": [
    "__방법__  \n",
    "* 1번을 이용해서 KBS1과 KBS2가 있는 곳에 화살표를 이동시킨다.\n",
    "* 4번을 이용해서 KBS1과 KBS2를 첫 번째, 두 번째 오도록 한 칸씩 위로 올린다.\n",
    "* 1번과 4번을 반복해서 channel를 정렬한다."
   ]
  },
  {
   "cell_type": "code",
   "execution_count": 2,
   "metadata": {},
   "outputs": [
    {
     "name": "stdout",
     "output_type": "stream",
     "text": [
      "3\n",
      "MBC\n",
      "KBS1\n",
      "KBS2\n",
      "14114\n"
     ]
    }
   ],
   "source": [
    "n = int(input())\n",
    "channel = []\n",
    "for i in range(n):\n",
    "    name = input()\n",
    "    if name == 'KBS1':\n",
    "        idx1 = i\n",
    "    elif name == 'KBS2':\n",
    "        idx2 = i\n",
    "    channel.append(name)\n",
    "    \n",
    "res = ''\n",
    "res += '1' * idx1   # KBS1이 있는 곳으로 1번을 이용해서 화살표를 내린다.\n",
    "res += '4' * idx1   # KBS1을 4번을 이용해서 첫 번째로 보낸다.(화살표는 첫 번째(index=0)을 가리킨다.)\n",
    "if idx1 > idx2:     # KBS1이 KBS2보다 아래에 있으면 KBS1을 첫 번째로 보내는 과정을 통해 KBS2의 위치가 하나 낮아졌다.(index는 1 증가)\n",
    "    idx2 += 1\n",
    "res += '1' * idx2      # KBS2가 있는 곳으로 1번을 이용해서 화살표를 내린다.\n",
    "res += '4' * (idx2-1)   # KBS2를 4번을 이용해서 두 번째로 보낸다.(첫 번째가 아닌 두 번째로 이동하면 되므로 idx2-1만큼 실행)\n",
    "print(res)"
   ]
  },
  {
   "cell_type": "markdown",
   "metadata": {},
   "source": [
    "위의 코드를 전반적으로 간단하게 나타내기"
   ]
  },
  {
   "cell_type": "code",
   "execution_count": 3,
   "metadata": {},
   "outputs": [
    {
     "name": "stdout",
     "output_type": "stream",
     "text": [
      "3\n",
      "MBC\n",
      "KBS1\n",
      "KBS2\n",
      "14114\n"
     ]
    }
   ],
   "source": [
    "n = int(input())\n",
    "channel = [input() for _ in range(n)]\n",
    "idx1, idx2 = channel.index('KBS1'), channel.index('KBS2')\n",
    "\n",
    "if idx1 > idx2:\n",
    "    idx2 += 1\n",
    "    \n",
    "print('1'*idx1 + '4'*idx1 + '1'*idx2 + '4'*(idx2-1))"
   ]
  }
 ],
 "metadata": {
  "kernelspec": {
   "display_name": "Python 3",
   "language": "python",
   "name": "python3"
  },
  "language_info": {
   "codemirror_mode": {
    "name": "ipython",
    "version": 3
   },
   "file_extension": ".py",
   "mimetype": "text/x-python",
   "name": "python",
   "nbconvert_exporter": "python",
   "pygments_lexer": "ipython3",
   "version": "3.7.3"
  }
 },
 "nbformat": 4,
 "nbformat_minor": 2
}
