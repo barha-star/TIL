{
 "cells": [
  {
   "cell_type": "markdown",
   "metadata": {},
   "source": [
    "# 양념 반 후라이드 반\n",
    "\n",
    "https://www.acmicpc.net/problem/16917"
   ]
  },
  {
   "cell_type": "markdown",
   "metadata": {},
   "source": [
    "## 문제\n",
    "\n",
    "현진 치킨에서 판매하는 치킨은 양념 치킨, 후라이드 치킨, 반반 치킨으로 총 세 종류이다. 반반 치킨은 절반은 양념 치킨, 절반은 후라이드 치킨으로 이루어져있다. 양념 치킨 한 마리의 가격은 A원, 후라이드 치킨 한 마리의 가격은 B원, 반반 치킨 한 마리의 가격은 C원이다.  \n",
    "상도는 오늘 파티를 위해 양념 치킨 최소 X마리, 후라이드 치킨 최소 Y마리를 구매하려고 한다. 반반 치킨을 두 마리 구입해 양념 치킨 하나와 후라이드 치킨 하나를 만드는 방법도 가능하다. 상도가 치킨을 구매하는 금액의 최솟값을 구해보자."
   ]
  },
  {
   "cell_type": "markdown",
   "metadata": {},
   "source": [
    "## 입력\n",
    "\n",
    "첫째 줄에 다섯 정수 A, B, C, X, Y가 주어진다."
   ]
  },
  {
   "cell_type": "markdown",
   "metadata": {},
   "source": [
    "## 출력\n",
    "\n",
    "양념 치킨 최소 X마리, 후라이드 치킨 최소 Y마리를 구매하는 비용의 최솟값을 출력한다.  \n",
    "* 1 ≤ A, B, C ≤ 5,000\n",
    "* 1 ≤ X, Y ≤ 100,000"
   ]
  },
  {
   "cell_type": "markdown",
   "metadata": {},
   "source": [
    "## 예제 입력 1\n",
    "\n",
    "1500 2000 1600 3 2"
   ]
  },
  {
   "cell_type": "markdown",
   "metadata": {},
   "source": [
    "## 예제 출력 1\n",
    "\n",
    "7900"
   ]
  },
  {
   "cell_type": "markdown",
   "metadata": {},
   "source": [
    "## 풀이"
   ]
  },
  {
   "cell_type": "markdown",
   "metadata": {},
   "source": [
    "* a, b, c, x, y는 각각 양념 치킨 한 마리의 가격, 후라이드 치킨 한 마리의 가격, 반반 치킨 한 마리의 가격, 최소 양념 치킨 마리 수, 최소 후라이드 치킨 마리 수이다.\n",
    "* 만약에 양념 치킨 한 마리의 가격 + 후라이드 치킨 한 마리의 가격이 반반 치킨 한 마리의 가격 x 2보다 작다면 반반 치킨이 아닌 각각 한 마리씩 주문하는 것이 최솟값이다.\n",
    "* 크다면 x, y 중 작은 값을 기준으로 반반 치킨으로 한 마리를 만들어 시킨다.\n",
    "* 거기에 부족한 치킨의 수를 각각 한 마리씩 주문했을 때, 반반 치킨을 한 마리로 만들어 시킬 때 중 최솟값을 더하면 최솟값이다."
   ]
  },
  {
   "cell_type": "code",
   "execution_count": 3,
   "metadata": {},
   "outputs": [
    {
     "name": "stdout",
     "output_type": "stream",
     "text": [
      "1500 2000 500 90000 100000\n",
      "100000000\n"
     ]
    }
   ],
   "source": [
    "a, b, c, x, y = map(int, input().split())\n",
    "if a+b < 2*c:\n",
    "    print(a*x+b*y)\n",
    "else:\n",
    "    res = 2*c*min(x, y)\n",
    "    if x >= y:\n",
    "        dif = x - y\n",
    "        res += min(a*dif, 2*c*dif)\n",
    "    else:\n",
    "        dif = y - x\n",
    "        res += min(b*dif, 2*c*dif)\n",
    "    print(res)"
   ]
  }
 ],
 "metadata": {
  "kernelspec": {
   "display_name": "Python 3",
   "language": "python",
   "name": "python3"
  },
  "language_info": {
   "codemirror_mode": {
    "name": "ipython",
    "version": 3
   },
   "file_extension": ".py",
   "mimetype": "text/x-python",
   "name": "python",
   "nbconvert_exporter": "python",
   "pygments_lexer": "ipython3",
   "version": "3.7.3"
  }
 },
 "nbformat": 4,
 "nbformat_minor": 2
}
