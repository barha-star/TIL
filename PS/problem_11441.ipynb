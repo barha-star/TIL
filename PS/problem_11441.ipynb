{
 "cells": [
  {
   "cell_type": "markdown",
   "metadata": {},
   "source": [
    "# 합 구하기\n",
    "\n",
    "https://www.acmicpc.net/problem/11441"
   ]
  },
  {
   "cell_type": "markdown",
   "metadata": {},
   "source": [
    "## 문제\n",
    "\n",
    "N개의 수 A1, A2, ..., AN이 입력으로 주어진다. 총 M개의 구간 i, j가 주어졌을 때, i번째 수부터 j번째 수까지 합을 구하는 프로그램을 작성하시오."
   ]
  },
  {
   "cell_type": "markdown",
   "metadata": {},
   "source": [
    "## 입력\n",
    "\n",
    "첫째 줄에 수의 개수 N이 주어진다. (1 ≤ N ≤ 100,000)  \n",
    "둘째 줄에는 A1, A2, ..., AN이 주어진다. (-1,000 ≤ Ai ≤ 1,000)  \n",
    "셋째 줄에는 구간의 개수 M이 주어진다. (1 ≤ M ≤ 100,000)  \n",
    "넷째 줄부터 M개의 줄에는 각 구간을 나타내는 i와 j가 주어진다. (1 ≤ i ≤ j ≤ N)"
   ]
  },
  {
   "cell_type": "markdown",
   "metadata": {},
   "source": [
    "## 출력\n",
    "\n",
    "총 M개의 줄에 걸쳐 입력으로 주어진 구간의 합을 출력한다."
   ]
  },
  {
   "cell_type": "markdown",
   "metadata": {},
   "source": [
    "## 예제 입력 1\n",
    "\n",
    "5  \n",
    "10 20 30 40 50  \n",
    "5  \n",
    "1 3  \n",
    "2 4  \n",
    "3 5  \n",
    "1 5  \n",
    "4 4"
   ]
  },
  {
   "cell_type": "markdown",
   "metadata": {},
   "source": [
    "## 예제 출력 1\n",
    "\n",
    "60  \n",
    "90  \n",
    "120   \n",
    "150  \n",
    "40"
   ]
  },
  {
   "cell_type": "markdown",
   "metadata": {},
   "source": [
    "## 풀이"
   ]
  },
  {
   "cell_type": "markdown",
   "metadata": {},
   "source": [
    "* 구간의 합을 구하는 문제로 누적합을 이용하면 쉽게 해결할 수 있다.\n",
    "* 누적합 cum array를 구한다.\n",
    "    * cum에 nums[0]을 넣어둔다.\n",
    "    * for문으로 반복하면서 cum의 마지막 숫자(지금까지 누적합)와 현재 nums를 더하면 만들 수 있다.\n",
    "* i, j 구간의 합을 출력한다.(index와 i, j는 차이가 1이 나기 때문에 조심해야 한다.)"
   ]
  },
  {
   "cell_type": "code",
   "execution_count": 2,
   "metadata": {},
   "outputs": [
    {
     "name": "stdout",
     "output_type": "stream",
     "text": [
      "3\n",
      "1 0 -1\n",
      "6\n",
      "1 1\n",
      "1\n",
      "2 2\n",
      "0\n",
      "3 3\n",
      "-1\n",
      "1 2\n",
      "1\n",
      "2 3\n",
      "-1\n",
      "1 3\n",
      "0\n"
     ]
    }
   ],
   "source": [
    "import sys\n",
    "input = sys.stdin.readline\n",
    "\n",
    "n = int(input())\n",
    "nums = list(map(int, input().split()))\n",
    "cum = [nums[0]]\n",
    "for i in range(1, n):\n",
    "    cum.append(cum[-1]+nums[i])\n",
    "\n",
    "m = int(input())\n",
    "for _ in range(m):\n",
    "    i, j = map(int, input().split())\n",
    "    if i == 1:\n",
    "        print(cum[j-1])\n",
    "    else:\n",
    "        print(cum[j-1]-cum[i-2])"
   ]
  }
 ],
 "metadata": {
  "kernelspec": {
   "display_name": "Python 3",
   "language": "python",
   "name": "python3"
  },
  "language_info": {
   "codemirror_mode": {
    "name": "ipython",
    "version": 3
   },
   "file_extension": ".py",
   "mimetype": "text/x-python",
   "name": "python",
   "nbconvert_exporter": "python",
   "pygments_lexer": "ipython3",
   "version": "3.7.3"
  }
 },
 "nbformat": 4,
 "nbformat_minor": 2
}
