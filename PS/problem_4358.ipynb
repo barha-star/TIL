{
 "cells": [
  {
   "cell_type": "markdown",
   "metadata": {},
   "source": [
    "# 생태학\n",
    "\n",
    "https://www.acmicpc.net/problem/4358"
   ]
  },
  {
   "cell_type": "markdown",
   "metadata": {},
   "source": [
    "## 문제\n",
    "\n",
    "생태학에서 나무의 분포도를 측정하는 것은 중요하다. 그러므로 당신은 미국 전역의 나무들이 주어졌을 때, 각 종이 전체에서 몇 %를 차지하는지 구하는 프로그램을 만들어야 한다."
   ]
  },
  {
   "cell_type": "markdown",
   "metadata": {},
   "source": [
    "## 입력\n",
    "\n",
    "프로그램은 여러 줄로 이루어져 있으며, 한 줄에 하나의 나무 종 이름이 주어진다. 어떤 종 이름도 30글자를 넘지 않으며, 입력에는 최대 10,000개의 종이 주어지고 최대 1,000,000그루의 나무가 주어진다."
   ]
  },
  {
   "cell_type": "markdown",
   "metadata": {},
   "source": [
    "## 출력\n",
    "\n",
    "주어진 각 종의 이름을 사전순으로 출력하고, 그 종이 차지하는 비율을 백분율로 소수점 4째자리까지 함께 출력한다."
   ]
  },
  {
   "cell_type": "markdown",
   "metadata": {},
   "source": [
    "## 예제 입력 1\n",
    "\n",
    "Red Alder  \n",
    "Ash  \n",
    "Aspen  \n",
    "Basswood  \n",
    "Ash  \n",
    "Beech  \n",
    "Yellow Birch  \n",
    "Ash  \n",
    "Cherry  \n",
    "Cottonwood  \n",
    "Ash  \n",
    "Cypress  \n",
    "Red Elm  \n",
    "Gum  \n",
    "Hackberry  \n",
    "White Oak  \n",
    "Hickory  \n",
    "Pecan  \n",
    "Hard Maple  \n",
    "White Oak  \n",
    "Soft Maple  \n",
    "Red Oak  \n",
    "Red Oak  \n",
    "White Oak  \n",
    "Poplan  \n",
    "Sassafras  \n",
    "Sycamore  \n",
    "Black Walnut  \n",
    "Willow"
   ]
  },
  {
   "cell_type": "markdown",
   "metadata": {},
   "source": [
    "## 예제 출력 1\n",
    "\n",
    "Ash 13.7931  \n",
    "Aspen 3.4483  \n",
    "Basswood 3.4483  \n",
    "Beech 3.4483  \n",
    "Black Walnut 3.4483  \n",
    "Cherry 3.4483  \n",
    "Cottonwood 3.4483  \n",
    "Cypress 3.4483  \n",
    "Gum 3.4483  \n",
    "Hackberry 3.4483  \n",
    "Hard Maple 3.4483  \n",
    "Hickory 3.4483  \n",
    "Pecan 3.4483  \n",
    "Poplan 3.4483  \n",
    "Red Alder 3.4483  \n",
    "Red Elm 3.4483  \n",
    "Red Oak 6.8966  \n",
    "Sassafras 3.4483  \n",
    "Soft Maple 3.4483  \n",
    "Sycamore 3.4483  \n",
    "White Oak 10.3448  \n",
    "Willow 3.4483  \n",
    "Yellow Birch 3.4483"
   ]
  },
  {
   "cell_type": "markdown",
   "metadata": {},
   "source": [
    "## 풀이"
   ]
  },
  {
   "cell_type": "markdown",
   "metadata": {},
   "source": [
    "* 입력을 받고 만약 입력이 비어있으면 입력받는 것을 멈춘다.\n",
    "* 입력받을 때 defaultdict에 value 값에 1을 더해준다.\n",
    "* 동시에 전체 나무 수를 찾기 위해 n에도 1을 더해준다.\n",
    "* 각 종의 이름을 사전 순으로 출력하기 위해 key값들을 따로 저장해 정렬한다.\n",
    "* 비율이 소수점 넷째 자리까지 출력하도록 한다."
   ]
  },
  {
   "cell_type": "code",
   "execution_count": 1,
   "metadata": {},
   "outputs": [
    {
     "name": "stdout",
     "output_type": "stream",
     "text": [
      "Red\n",
      "Ash\n",
      "Aspen\n",
      "Basswood\n",
      "Ash\n",
      "Beech\n",
      "Yellow\n",
      "Ash\n",
      "Cherry\n",
      "\n",
      "Ash 33.3333\n",
      "Aspen 11.1111\n",
      "Basswood 11.1111\n",
      "Beech 11.1111\n",
      "Cherry 11.1111\n",
      "Red 11.1111\n",
      "Yellow 11.1111\n"
     ]
    }
   ],
   "source": [
    "from collections import defaultdict\n",
    "import sys\n",
    "input = sys.stdin.readline\n",
    "\n",
    "trees = defaultdict(int)\n",
    "n = 0\n",
    "while True:\n",
    "    tree = input().rstrip()\n",
    "    if not tree:\n",
    "        break\n",
    "    trees[tree] += 1\n",
    "    n += 1\n",
    "    \n",
    "tree_lst = list(trees.keys())\n",
    "tree_lst.sort()\n",
    "for tree in tree_lst:\n",
    "    print('%s %.4f' %(tree, trees[tree]/n*100))"
   ]
  },
  {
   "cell_type": "markdown",
   "metadata": {},
   "source": [
    "* defaultdict를 사용하지 않고 해결하는 방법\n",
    "    * dict에 tree가 key로 있으면 해당 value에 +1을 하는 것\n",
    "    * dict에 tree가 key로 없으면 tree를 key로 하고 value가 1인 dict의 item을 만드는 것"
   ]
  },
  {
   "cell_type": "code",
   "execution_count": 2,
   "metadata": {},
   "outputs": [
    {
     "name": "stdout",
     "output_type": "stream",
     "text": [
      "Cottonwood\n",
      "AshCypress\n",
      "Red\n",
      "Gum\n",
      "Hack\n",
      "White\n",
      "Hickory\n",
      "Pecan\n",
      "Hard\n",
      "White\n",
      "Red\n",
      "Red\n",
      "\n",
      "AshCypress 8.3333\n",
      "Cottonwood 8.3333\n",
      "Gum 8.3333\n",
      "Hack 8.3333\n",
      "Hard 8.3333\n",
      "Hickory 8.3333\n",
      "Pecan 8.3333\n",
      "Red 25.0000\n",
      "White 16.6667\n"
     ]
    }
   ],
   "source": [
    "import sys\n",
    "input = sys.stdin.readline\n",
    "\n",
    "trees = {}\n",
    "n = 0\n",
    "while True:\n",
    "    tree = input().rstrip()\n",
    "    if not tree:\n",
    "        break\n",
    "    if tree in trees:\n",
    "        trees[tree] += 1\n",
    "    else:\n",
    "        trees[tree] = 1\n",
    "    n += 1\n",
    "        \n",
    "tree_lst = list(trees.keys())\n",
    "tree_lst.sort()\n",
    "for tree in tree_lst:\n",
    "    print('%s %.4f' %(tree, trees[tree]/n*100))"
   ]
  },
  {
   "cell_type": "markdown",
   "metadata": {},
   "source": [
    "* Python 입출력 방법을 다른 방법으로 해결하기"
   ]
  },
  {
   "cell_type": "code",
   "execution_count": null,
   "metadata": {},
   "outputs": [],
   "source": [
    "from collections import defaultdict\n",
    "import sys\n",
    "\n",
    "trees = defaultdict(int)\n",
    "n = 0\n",
    "for line in sys.stdin:\n",
    "    if line == '\\n':\n",
    "        break\n",
    "    tree = line.rstrip()\n",
    "    trees[tree] += 1\n",
    "    n += 1\n",
    "    \n",
    "tree_lst = list(trees.keys())\n",
    "tree_lst.sort()\n",
    "for tree in tree_lst:\n",
    "    print('%s %.4f' %(tree, trees[tree]/n*100))"
   ]
  }
 ],
 "metadata": {
  "kernelspec": {
   "display_name": "Python 3",
   "language": "python",
   "name": "python3"
  },
  "language_info": {
   "codemirror_mode": {
    "name": "ipython",
    "version": 3
   },
   "file_extension": ".py",
   "mimetype": "text/x-python",
   "name": "python",
   "nbconvert_exporter": "python",
   "pygments_lexer": "ipython3",
   "version": "3.7.3"
  }
 },
 "nbformat": 4,
 "nbformat_minor": 2
}
