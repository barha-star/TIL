{
 "cells": [
  {
   "cell_type": "markdown",
   "metadata": {},
   "source": [
    "# 주유소\n",
    "\n",
    "https://www.acmicpc.net/problem/13305"
   ]
  },
  {
   "cell_type": "markdown",
   "metadata": {},
   "source": [
    "## 문제\n",
    "\n",
    "어떤 나라에 N개의 도시가 있다. 이 도시들은 일직선 도로 위에 있다. 편의상 일직선을 수평 방향으로 두자. 제일 왼쪽의 도시에서 제일 오른쪽의 도시로 자동차를 이용하여 이동하려고 한다. 인접한 두 도시 사이의 도로들은 서로 길이가 다를 수 있다. 도로 길이의 단위는 km를 사용한다.  \n",
    "처음 출발할 때 자동차에는 기름이 없어서 주유소에서 기름을 넣고 출발하여야 한다. 기름통의 크기는 무제한이어서 얼마든지 많은 기름을 넣을 수 있다. 도로를 이용하여 이동할 때 1km마다 1리터의 기름을 사용한다. 각 도시에는 단 하나의 주유소가 있으며, 도시 마다 주유소의 리터당 가격은 다를 수 있다. 가격의 단위는 원을 사용한다.  \n",
    "예를 들어, 이 나라에 다음 그림처럼 4개의 도시가 있다고 하자. 원 안에 있는 숫자는 그 도시에 있는 주유소의 리터당 가격이다. 도로 위에 있는 숫자는 도로의 길이를 표시한 것이다.  \n",
    "제일 왼쪽 도시에서 6리터의 기름을 넣고, 더 이상의 주유 없이 제일 오른쪽 도시까지 이동하면 총 비용은 30원이다. 만약 제일 왼쪽 도시에서 2리터의 기름을 넣고(2×5 = 10원) 다음 번 도시까지 이동한 후 3리터의 기름을 넣고(3×2 = 6원) 다음 도시에서 1리터의 기름을 넣어(1×4 = 4원) 제일 오른쪽 도시로 이동하면, 총 비용은 20원이다. 또 다른 방법으로 제일 왼쪽 도시에서 2리터의 기름을 넣고(2×5 = 10원) 다음 번 도시까지 이동한 후 4리터의 기름을 넣고(4×2 = 8원) 제일 오른쪽 도시까지 이동하면, 총 비용은 18원이다.  \n",
    "각 도시에 있는 주유소의 기름 가격과, 각 도시를 연결하는 도로의 길이를 입력으로 받아 제일 왼쪽 도시에서 제일 오른쪽 도시로 이동하는 최소의 비용을 계산하는 프로그램을 작성하시오."
   ]
  },
  {
   "cell_type": "markdown",
   "metadata": {},
   "source": [
    "## 입력\n",
    "\n",
    "표준 입력으로 다음 정보가 주어진다.  \n",
    "첫 번째 줄에는 도시의 개수를 나타내는 정수 N(2 ≤ N ≤ 100,000)이 주어진다. 다음 줄에는 인접한 두 도시를 연결하는 도로의 길이가 제일 왼쪽 도로부터 N-1개의 자연수로 주어진다.  \n",
    "다음 줄에는 주유소의 리터당 가격이 제일 왼쪽 도시부터 순서대로 N개의 자연수로 주어진다. 제일 왼쪽 도시부터 제일 오른쪽 도시까지의 거리는 1이상 1,000,000,000 이하의 자연수이다. 리터당 가격은 1 이상 1,000,000,000 이하의 자연수이다. "
   ]
  },
  {
   "cell_type": "markdown",
   "metadata": {},
   "source": [
    "## 출력\n",
    "\n",
    "표준 출력으로 제일 왼쪽 도시에서 제일 오른쪽 도시로 가는 최소 비용을 출력한다. "
   ]
  },
  {
   "cell_type": "markdown",
   "metadata": {},
   "source": [
    "## 예제 입력 1\n",
    "\n",
    "4  \n",
    "2 3 1  \n",
    "5 2 4 1"
   ]
  },
  {
   "cell_type": "markdown",
   "metadata": {},
   "source": [
    "## 예제 출력 1\n",
    "\n",
    "18"
   ]
  },
  {
   "cell_type": "markdown",
   "metadata": {},
   "source": [
    "## 풀이"
   ]
  },
  {
   "cell_type": "markdown",
   "metadata": {},
   "source": [
    "* 도시의 개수와 도로의 길이, 주유소의 리터당 가격을 n, roads, costs에 입력받는다.\n",
    "* 두 번째 도시로 가기 위해서 무조건 첫 번째에서 주유를 해야 한다.\n",
    "    * 첫 번째에서 두 번째 도시로 가는 도로의 길이 * 첫 번째 도시에서의 주유소의 리터당 가격을 더한다.\n",
    "* for문을 돌면서 지금까지 주유 가격보다 이번 도시에서의 가격이 작으면 지금까지 왔던 거리 * 가장 작았던 주유 가격을 곱해서 결과에 더해준다.\n",
    "* 그리고 주유 가격을 제일 작은 가격으로 바꾼다.\n",
    "* 마지막 도로에서 넘어갈 때 가격을 계산한다."
   ]
  },
  {
   "cell_type": "code",
   "execution_count": 3,
   "metadata": {},
   "outputs": [
    {
     "name": "stdout",
     "output_type": "stream",
     "text": [
      "4\n",
      "2 3 1\n",
      "5 2 1 1\n",
      "17\n"
     ]
    }
   ],
   "source": [
    "n = int(input())\n",
    "roads = list(map(int, input().split()))\n",
    "costs = list(map(int, input().split()))\n",
    "\n",
    "res = roads[0] * costs[0]\n",
    "m = costs[0]\n",
    "dist = 0\n",
    "for i in range(1, n-1):\n",
    "    if costs[i] < m:\n",
    "        res += m*dist\n",
    "        dist = roads[i]\n",
    "        m = costs[i]\n",
    "    else:\n",
    "        dist += roads[i]\n",
    "        \n",
    "    if i == n-2:\n",
    "        res += m*dist\n",
    "print(res)"
   ]
  },
  {
   "cell_type": "markdown",
   "metadata": {},
   "source": [
    "* 위와 전체적인 흐름은 같지만 더 간단한 풀이이다.\n",
    "* for문을 돌면서 매번 res에 더해주는 것이다.\n",
    "* 지금까지 지났던 주유소의 리터당 가격 중 가장 작은 값으로 도로를 이동한다고 생각하면 된다.\n",
    "* 따라서 주유소 가격은 지금까지의 주유소 가격보다 작을 때 갱신된다."
   ]
  },
  {
   "cell_type": "code",
   "execution_count": 3,
   "metadata": {},
   "outputs": [
    {
     "name": "stdout",
     "output_type": "stream",
     "text": [
      "4\n",
      "2 3 1\n",
      "5 2 1 1\n",
      "17\n"
     ]
    }
   ],
   "source": [
    "n = int(input())\n",
    "roads = list(map(int, input().split()))\n",
    "costs = list(map(int, input().split()))\n",
    "\n",
    "res = 0\n",
    "m = costs[0]\n",
    "for i in range(n-1):\n",
    "    if costs[i] < m:\n",
    "        m = costs[i]\n",
    "    res += m * roads[i]\n",
    "    \n",
    "print(res)"
   ]
  }
 ],
 "metadata": {
  "kernelspec": {
   "display_name": "Python 3",
   "language": "python",
   "name": "python3"
  },
  "language_info": {
   "codemirror_mode": {
    "name": "ipython",
    "version": 3
   },
   "file_extension": ".py",
   "mimetype": "text/x-python",
   "name": "python",
   "nbconvert_exporter": "python",
   "pygments_lexer": "ipython3",
   "version": "3.7.3"
  }
 },
 "nbformat": 4,
 "nbformat_minor": 2
}
