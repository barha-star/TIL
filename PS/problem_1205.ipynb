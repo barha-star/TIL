{
 "cells": [
  {
   "cell_type": "markdown",
   "metadata": {},
   "source": [
    "# 등수 구하기\n",
    "\n",
    "https://www.acmicpc.net/problem/1205"
   ]
  },
  {
   "cell_type": "markdown",
   "metadata": {},
   "source": [
    "## 문제\n",
    "\n",
    "유진이가 즐겨하는 디제이맥스 게임은 각각의 노래마다 랭킹 리스트가 있다. 이것은 매번 게임할 때 마다 얻는 점수가 비오름차순으로 저장되어 있는 것이다.  \n",
    "이 랭킹 리스트의 등수는 보통 위에서부터 몇 번째 있는 점수인지로 결정한다. 하지만, 같은 점수가 있을 때는 그러한 점수의 등수 중에 가장 작은 등수가 된다.  \n",
    "예를 들어 랭킹 리스트가 100, 90, 90, 80일 때 각각의 등수는 1, 2, 2, 4등이 된다  \n",
    "랭킹 리스트에 올라 갈 수 있는 점수의 개수 P가 주어진다. 그리고 리스트에 있는 점수 N개가 비오름차순으로 주어지고, 송유진의 새로운 점수가 주어진다. 이때, 송유진의 새로운 점수가 랭킹 리스트에서 몇 등 하는지 구하는 프로그램을 작성하시오. 만약 점수가 랭킹 리스트에 올라갈 수 없을 정도로 낮다면 -1을 출력한다.  \n",
    "만약, 랭킹 리스트가 꽉 차있을 때, 새 점수가 이전 점수보다 더 좋을 때만 점수가 바뀐다. (예제 2)"
   ]
  },
  {
   "cell_type": "markdown",
   "metadata": {},
   "source": [
    "## 입력\n",
    "\n",
    "첫째 줄에 N, 송유진의 새로운 점수, 그리고 P가 주어진다.  \n",
    "P는 10보다 크거나 같고, 50보다 작거나 같은 정수, N은 0보다 크거나 같고, P보다 작거나 같은 정수이다.  \n",
    "그리고 모든 점수는 2,000,000,000보다 작거나 같은 자연수 또는 0이다.  \n",
    "둘째 줄에는 현재 랭킹 리스트에 있는 점수가 비오름차순으로 주어진다.  \n",
    "둘째 줄은 N이 0보다 큰 경우에만 주어진다."
   ]
  },
  {
   "cell_type": "markdown",
   "metadata": {},
   "source": [
    "## 출력\n",
    "\n",
    "첫째 줄에 문제의 정답을 출력한다."
   ]
  },
  {
   "cell_type": "markdown",
   "metadata": {},
   "source": [
    "## 예제 입력 1\n",
    "\n",
    "3 90 10  \n",
    "100 90 80"
   ]
  },
  {
   "cell_type": "markdown",
   "metadata": {},
   "source": [
    "## 예제 출력 1\n",
    "\n",
    "2"
   ]
  },
  {
   "cell_type": "markdown",
   "metadata": {},
   "source": [
    "## 풀이"
   ]
  },
  {
   "cell_type": "markdown",
   "metadata": {},
   "source": [
    "* 0 <= n <= p이고 둘째 줄은 n이 0보다 큰 경우에만 주어지므로 n == 0일 때와 n > 0인 경우로 나눈다.\n",
    "* n == 0이면 10 <= p <= 50이므로 랭킹은 1이 된다.\n",
    "* n > 0인 경우\n",
    "    * n == p이면서 랭킹 중 가장 작은 점수가 새로운 점수보다 크거나 같다면 -1을 출력한다.\n",
    "    * 그 외의 경우 랭킹 점수를 for문으로 돌면서 랭킹의 점수가 새로운 점수보다 작거나 같으면 그 등수가 새로운 점수의 등수가 된다.\n",
    "    * for문을 돌았지만 새로운 점수보다 작거나 같은 점수가 없다면 n+1이 새로운 점수가 된다."
   ]
  },
  {
   "cell_type": "code",
   "execution_count": 1,
   "metadata": {},
   "outputs": [
    {
     "name": "stdout",
     "output_type": "stream",
     "text": [
      "3 90 10\n",
      "100 90 80\n",
      "2\n"
     ]
    }
   ],
   "source": [
    "n, new, p = map(int, input().split())\n",
    "if n == 0:\n",
    "    print(1)\n",
    "else:\n",
    "    score = list(map(int, input().split()))\n",
    "    if n == p and score[-1] >= new:\n",
    "        print(-1)\n",
    "    else:\n",
    "        res = n + 1\n",
    "        for i in range(n):\n",
    "            if score[i] <= new:\n",
    "                res = i + 1\n",
    "                break\n",
    "        print(res)"
   ]
  },
  {
   "cell_type": "markdown",
   "metadata": {},
   "source": [
    "* 0 <= n <= p이고 둘째 줄은 n이 0보다 큰 경우에만 주어지므로 n == 0일 때와 n > 0인 경우로 나눈다.\n",
    "* n != 0인 경우\n",
    "    * 점수 리스트에 새로운 점수를 추가하고 정렬한다.\n",
    "    * 새로운 점수의 등수를 idx에 저장한다.\n",
    "    * idx(등수)가 p보다 큰 경우 -1을 출력한다.\n",
    "    * idx(등수)가 p보다 작은 경우\n",
    "        * 만약 n(랭킹 리스트의 점수의 개수)가 p랑 같을 때 가장 낮은 점수가 새로운 점수라면 이는 랭킹 리스트가 꽉 차있을 때, 새로운 점수가 이전 점수보다 좋지 않은 경우이므로 -1을 출력한다.\n",
    "        * 그런 경우가 아니면 idx(새로운 점수의 등수)를 출력한다.\n",
    "* n == 0이면 10 <= p <= 50이므로 랭킹은 1이 된다."
   ]
  },
  {
   "cell_type": "code",
   "execution_count": 2,
   "metadata": {},
   "outputs": [
    {
     "name": "stdout",
     "output_type": "stream",
     "text": [
      "10 1 10\n",
      "10 9 8 7 6 5 4 3 2 1\n",
      "-1\n"
     ]
    }
   ],
   "source": [
    "n, new, p = map(int, input().split())\n",
    "if n:\n",
    "    score = list(map(int, input().split()))\n",
    "    score.append(new)\n",
    "    score.sort(reverse=True)\n",
    "    idx = score.index(new) + 1\n",
    "    if idx > p:\n",
    "        print(-1)\n",
    "    else:\n",
    "        if n == p and new == score[-1]:\n",
    "            print(-1)\n",
    "        else:\n",
    "            print(idx)\n",
    "    \n",
    "else:\n",
    "    print(1)"
   ]
  }
 ],
 "metadata": {
  "kernelspec": {
   "display_name": "Python 3",
   "language": "python",
   "name": "python3"
  },
  "language_info": {
   "codemirror_mode": {
    "name": "ipython",
    "version": 3
   },
   "file_extension": ".py",
   "mimetype": "text/x-python",
   "name": "python",
   "nbconvert_exporter": "python",
   "pygments_lexer": "ipython3",
   "version": "3.7.3"
  }
 },
 "nbformat": 4,
 "nbformat_minor": 2
}
