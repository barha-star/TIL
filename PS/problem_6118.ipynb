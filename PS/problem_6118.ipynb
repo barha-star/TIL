{
 "cells": [
  {
   "cell_type": "markdown",
   "metadata": {},
   "source": [
    "# 숨바꼭질\n",
    "\n",
    "https://www.acmicpc.net/problem/6118"
   ]
  },
  {
   "cell_type": "markdown",
   "metadata": {},
   "source": [
    "## 문제\n",
    "\n",
    "재서기는 수혀니와 교외 농장에서 숨바꼭질을 하고 있다. 농장에는 헛간이 많이 널려있고 재서기는 그 중에 하나에 숨어야 한다. 헛간의 개수는 N(2 <= N <= 20,000)개이며, 1 부터 샌다고 하자.   \n",
    "재서기는 수혀니가 1번 헛간부터 찾을 것을 알고 있다. 모든 헛간은 M(1<= M <= 50,000)개의 양방향 길로 이어져 있고, 그 양 끝을 A_i 와 B_i(1<= A_i <= N; 1 <= B_i <= N; A_i != B_i)로 나타낸다. 또한 어떤 헛간에서 다른 헛간으로는 언제나 도달 가능하다고 생각해도 좋다.  \n",
    "재서기는 발냄새가 지독하기 때문에 최대한 냄새가 안나게 숨을 장소를 찾고자 한다. 냄새는 1번 헛간에서의 거리(여기서 거리라 함은 지나야 하는 길의 최소 개수이다)가 멀어질수록 감소한다고 한다. 재서기의 발냄새를 최대한 숨길 수 있는 헛간을 찾을 수 있게 도와주자!"
   ]
  },
  {
   "cell_type": "markdown",
   "metadata": {},
   "source": [
    "## 입력\n",
    "\n",
    "첫 번째 줄에는 N과 M이 공백을 사이에 두고 주어진다.  \n",
    "이후 M줄에 걸쳐서 A_i와 B_i가 공백을 사이에 두고 주어진다."
   ]
  },
  {
   "cell_type": "markdown",
   "metadata": {},
   "source": [
    "## 출력\n",
    "\n",
    "출력은 한줄로 이루어지며, 세 개의 값을 공백으로 구분지어 출력해야한다.   \n",
    "첫 번째는 숨어야 하는 헛간 번호를(만약 거리가 같은 헛간이 여러개면 가장 작은 헛간 번호를 출력한다), 두 번째는 그 헛간까지의 거리를, 세 번째는 그 헛간과 같은 거리를 갖는 헛간의 개수를 출력해야한다."
   ]
  },
  {
   "cell_type": "markdown",
   "metadata": {},
   "source": [
    "## 예제 입력 1\n",
    "\n",
    "6 7  \n",
    "3 6  \n",
    "4 3  \n",
    "3 2  \n",
    "1 3  \n",
    "1 2  \n",
    "2 4  \n",
    "5 2"
   ]
  },
  {
   "cell_type": "markdown",
   "metadata": {},
   "source": [
    "## 예제 출력 1\n",
    "\n",
    "4 2 3"
   ]
  },
  {
   "cell_type": "markdown",
   "metadata": {},
   "source": [
    "## 풀이"
   ]
  },
  {
   "cell_type": "markdown",
   "metadata": {},
   "source": [
    "* dis에 헛간 길을 입력받아 저장한다.\n",
    "* check는 이미 도달한 헛간인지 아닌지 여부와 동시에 1번 헛간에서 얼마나 멀리 떨어져있는 헛간인지를 판별하기 위함이다.\n",
    "* bfs로 헛간 1번에서 얼마나 깊이 있는지를 판별한다.\n",
    "* 가장 멀리 있는 헛간과, 그 헛간의 위치 및 개수를 구한다."
   ]
  },
  {
   "cell_type": "code",
   "execution_count": 1,
   "metadata": {},
   "outputs": [
    {
     "name": "stdout",
     "output_type": "stream",
     "text": [
      "6 7\n",
      "3 6\n",
      "4 3\n",
      "3 2\n",
      "1 3\n",
      "1 2\n",
      "2 4\n",
      "5 2\n",
      "4 2 3\n"
     ]
    }
   ],
   "source": [
    "from collections import deque\n",
    "import sys\n",
    "input = sys.stdin.readline\n",
    "\n",
    "n, m = map(int, input().split())\n",
    "dis = {}\n",
    "for _ in range(m):\n",
    "    a, b = map(int, input().split())\n",
    "    if a in dis:\n",
    "        dis[a].append(b)\n",
    "    else:\n",
    "        dis[a] = [b]\n",
    "    if b in dis:\n",
    "        dis[b].append(a)\n",
    "    else:\n",
    "        dis[b] = [a]\n",
    "        \n",
    "check = [0 for _ in range(n+1)]\n",
    "que = deque([[1, 0]])\n",
    "check[1] = -1\n",
    "while que:\n",
    "    i, cnt = que.popleft()\n",
    "    for j in dis[i]:\n",
    "        if check[j] == 0:\n",
    "            check[j] = cnt + 1\n",
    "            que.append([j, cnt+1])\n",
    "            \n",
    "far = max(check)\n",
    "idx = 0\n",
    "count = 0\n",
    "for i in range(n+1):\n",
    "    if check[i] == far:\n",
    "        count += 1\n",
    "        if idx == 0:\n",
    "            idx = i\n",
    "print(idx, far, count)"
   ]
  }
 ],
 "metadata": {
  "kernelspec": {
   "display_name": "Python 3",
   "language": "python",
   "name": "python3"
  },
  "language_info": {
   "codemirror_mode": {
    "name": "ipython",
    "version": 3
   },
   "file_extension": ".py",
   "mimetype": "text/x-python",
   "name": "python",
   "nbconvert_exporter": "python",
   "pygments_lexer": "ipython3",
   "version": "3.7.3"
  }
 },
 "nbformat": 4,
 "nbformat_minor": 2
}
