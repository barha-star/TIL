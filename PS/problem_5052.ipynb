{
 "cells": [
  {
   "cell_type": "markdown",
   "metadata": {},
   "source": [
    "# 전화번호 목록\n",
    "\n",
    "https://www.acmicpc.net/problem/5052"
   ]
  },
  {
   "cell_type": "markdown",
   "metadata": {},
   "source": [
    "## 문제\n",
    "\n",
    "전화번호 목록이 주어진다. 이때, 이 목록이 일관성이 있는지 없는지를 구하는 프로그램을 작성하시오.  \n",
    "전화번호 목록이 일관성을 유지하려면, 한 번호가 다른 번호의 접두어인 경우가 없어야 한다.  \n",
    "예를 들어, 전화번호 목록이 아래와 같은 경우를 생각해보자  \n",
    "  \n",
    "* 긴급전화: 911\n",
    "* 상근: 97 625 999\n",
    "* 선영: 91 12 54 26\n",
    "  \n",
    "이 경우에 선영이에게 전화를 걸 수 있는 방법이 없다. 전화기를 들고 선영이 번호의 처음 세 자리를 누르는 순간 바로 긴급전화가 걸리기 때문이다. 따라서, 이 목록은 일관성이 없는 목록이다."
   ]
  },
  {
   "cell_type": "markdown",
   "metadata": {},
   "source": [
    "## 입력\n",
    "\n",
    "첫째 줄에 테스트 케이스의 개수 t가 주어진다. (1 ≤ t ≤ 50)  \n",
    "각 테스트 케이스의 첫째 줄에는 전화번호의 수 n이 주어진다. (1 ≤ n ≤ 10000)  \n",
    "다음 n개의 줄에는 목록에 포함되어 있는 전화번호가 하나씩 주어진다.  \n",
    "전화번호의 길이는 길어야 10자리이며, 목록에 있는 두 전화번호가 같은 경우는 없다."
   ]
  },
  {
   "cell_type": "markdown",
   "metadata": {},
   "source": [
    "## 출력\n",
    "\n",
    "각 테스트 케이스에 대해서, 일관성 있는 목록인 경우에는 YES, 아닌 경우에는 NO를 출력한다."
   ]
  },
  {
   "cell_type": "markdown",
   "metadata": {},
   "source": [
    "## 예제 입력 1\n",
    "\n",
    "2  \n",
    "3  \n",
    "911  \n",
    "97625999  \n",
    "91125426  \n",
    "5  \n",
    "113  \n",
    "12340  \n",
    "123440  \n",
    "12345  \n",
    "98346"
   ]
  },
  {
   "cell_type": "markdown",
   "metadata": {},
   "source": [
    "## 예제 출력 1\n",
    "\n",
    "NO  \n",
    "YES"
   ]
  },
  {
   "cell_type": "markdown",
   "metadata": {},
   "source": [
    "## 풀이"
   ]
  },
  {
   "cell_type": "markdown",
   "metadata": {},
   "source": [
    "* 전화번호 목록을 받아서 정렬을 하면 prefix의 가능성이 있는 번호가 앞뒤로 정렬된다.\n",
    "* 따라서 바로 뒤에 있는 번호만 확인하면 된다."
   ]
  },
  {
   "cell_type": "code",
   "execution_count": 1,
   "metadata": {},
   "outputs": [
    {
     "name": "stdout",
     "output_type": "stream",
     "text": [
      "2\n",
      "3\n",
      "911\n",
      "97625999\n",
      "91125426\n",
      "NO\n",
      "5\n",
      "113\n",
      "12340\n",
      "123440\n",
      "12345\n",
      "98346\n",
      "YES\n"
     ]
    }
   ],
   "source": [
    "import sys\n",
    "input = sys.stdin.readline\n",
    "\n",
    "t = int(input())\n",
    "for _ in range(t):\n",
    "    n = int(input())\n",
    "    nums = [input() for _ in range(n)]\n",
    "    nums.sort()\n",
    "    flag = True\n",
    "    for i in range(n-1):\n",
    "        long = len(nums[i])\n",
    "        if nums[i] == nums[i+1][:long]:\n",
    "            flag = False\n",
    "            break\n",
    "    if flag:\n",
    "        print('YES')\n",
    "    else:\n",
    "        print('NO')"
   ]
  },
  {
   "cell_type": "markdown",
   "metadata": {},
   "source": [
    "* 문자열 검색할 때 특화된 Trie를 사용한다."
   ]
  },
  {
   "cell_type": "code",
   "execution_count": 2,
   "metadata": {},
   "outputs": [
    {
     "name": "stdout",
     "output_type": "stream",
     "text": [
      "2\n",
      "3\n",
      "911\n",
      "97625999\n",
      "91125426\n",
      "NO\n",
      "5\n",
      "113\n",
      "12340\n",
      "123440\n",
      "12345\n",
      "98346\n",
      "YES\n"
     ]
    }
   ],
   "source": [
    "import sys\n",
    "input = sys.stdin.readline\n",
    "\n",
    "class Node(object):\n",
    "    def __init__(self, key, data=None):\n",
    "        self.key = key\n",
    "        self.data = data\n",
    "        self.children = {}\n",
    "        \n",
    "class Trie(object):\n",
    "    def __init__(self):\n",
    "        self.head = Node(None)\n",
    "        \n",
    "    def insert(self, string):\n",
    "        curr_node = self.head\n",
    "        \n",
    "        for s in string:\n",
    "            if s not in curr_node.children:\n",
    "                curr_node.children[s] = Node(s)\n",
    "            curr_node = curr_node.children[s]\n",
    "        \n",
    "        curr_node.data = string\n",
    "        \n",
    "    def search_prefix(self, string):\n",
    "        curr_node = self.head\n",
    "        \n",
    "        for s in string:\n",
    "            curr_node = curr_node.children[s]\n",
    "            \n",
    "        if curr_node.children:\n",
    "            return False\n",
    "        else:\n",
    "            return True\n",
    "\n",
    "t = int(input())\n",
    "for _ in range(t):\n",
    "    n = int(input())\n",
    "    trie = Trie()\n",
    "    nums = []\n",
    "    for _ in range(n):\n",
    "        num = input().rstrip()\n",
    "        nums.append(num)\n",
    "        trie.insert(num)\n",
    "    \n",
    "    flag = True\n",
    "    nums.sort()\n",
    "    for num in nums:\n",
    "        if not trie.search_prefix(num):\n",
    "            flag = False\n",
    "            break\n",
    "    if flag:\n",
    "        print('YES')\n",
    "    else:\n",
    "        print('NO')"
   ]
  }
 ],
 "metadata": {
  "kernelspec": {
   "display_name": "Python 3",
   "language": "python",
   "name": "python3"
  },
  "language_info": {
   "codemirror_mode": {
    "name": "ipython",
    "version": 3
   },
   "file_extension": ".py",
   "mimetype": "text/x-python",
   "name": "python",
   "nbconvert_exporter": "python",
   "pygments_lexer": "ipython3",
   "version": "3.7.3"
  }
 },
 "nbformat": 4,
 "nbformat_minor": 2
}
