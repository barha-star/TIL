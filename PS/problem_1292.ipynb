{
 "cells": [
  {
   "cell_type": "markdown",
   "metadata": {},
   "source": [
    "# 쉽게 푸는 문제\n",
    "\n",
    "https://www.acmicpc.net/problem/1292"
   ]
  },
  {
   "cell_type": "markdown",
   "metadata": {},
   "source": [
    "## 문제\n",
    "\n",
    "동호는 내년에 초등학교를 입학한다. 그래서 동호 어머니는 수학 선행 학습을 위해 쉽게 푸는 문제를 동호에게 주었다.  \n",
    "이 문제는 다음과 같다. 1을 한 번, 2를 두 번, 3을 세 번, 이런 식으로 1 2 2 3 3 3 4 4 4 4 5 .. 이러한 수열을 만들고 어느 일정한 구간을 주면 그 구간의 합을 구하는 것이다.  \n",
    "하지만 동호는 현재 더 어려운 문제를 푸느라 바쁘기에 우리가 동호를 도와주자."
   ]
  },
  {
   "cell_type": "markdown",
   "metadata": {},
   "source": [
    "## 입력\n",
    "\n",
    "첫째 줄에 구간의 시작과 끝을 나타내는 정수 A, B(1≤A≤B≤1,000)가 주어진다.  \n",
    "즉, 수열에서 A번째 숫자부터 B번째 숫자까지 합을 구하면 된다."
   ]
  },
  {
   "cell_type": "markdown",
   "metadata": {},
   "source": [
    "## 출력\n",
    "\n",
    "첫 줄에 구간에 속하는 숫자의 합을 출력한다."
   ]
  },
  {
   "cell_type": "markdown",
   "metadata": {},
   "source": [
    "## 예제 입력 1\n",
    "\n",
    "3 7"
   ]
  },
  {
   "cell_type": "markdown",
   "metadata": {},
   "source": [
    "## 예제 출력 1\n",
    "\n",
    "15"
   ]
  },
  {
   "cell_type": "markdown",
   "metadata": {},
   "source": [
    "## 풀이"
   ]
  },
  {
   "cell_type": "markdown",
   "metadata": {},
   "source": [
    "* section에 1을 한 번, 2를 두 번, 3을 세 번, ... 의 수를 누적하여 누적이 1000을 넘을 때까지 저장한다.\n",
    "* a, b 구간을 for문을 돌면서 누적된 값보다 작아지면 그 인덱스를 더한다."
   ]
  },
  {
   "cell_type": "code",
   "execution_count": 1,
   "metadata": {},
   "outputs": [
    {
     "name": "stdout",
     "output_type": "stream",
     "text": [
      "3 7\n",
      "15\n"
     ]
    }
   ],
   "source": [
    "a, b = map(int, input().split())\n",
    "section = [0, 1]\n",
    "i = 1\n",
    "while section[-1] < 1000:\n",
    "    i += 1\n",
    "    section.append(section[-1]+i)\n",
    "\n",
    "res = 0\n",
    "for i in range(a, b+1):\n",
    "    for j in range(len(section)):\n",
    "        if i <= section[j]:\n",
    "            res += j\n",
    "            break\n",
    "print(res)"
   ]
  },
  {
   "cell_type": "markdown",
   "metadata": {},
   "source": [
    "* 위의 방식과 같지만 누적되는 리스트를 따로 만들지 않고 변수 선언하여 해결한다."
   ]
  },
  {
   "cell_type": "code",
   "execution_count": 2,
   "metadata": {},
   "outputs": [
    {
     "name": "stdout",
     "output_type": "stream",
     "text": [
      "3 7\n",
      "15\n"
     ]
    }
   ],
   "source": [
    "a, b = map(int, input().split())\n",
    "\n",
    "res, curr, cnt = 0, 1, 1\n",
    "\n",
    "for i in range(1, b+1):\n",
    "    if i >= a:\n",
    "        res += curr\n",
    "    if cnt >= curr:\n",
    "        cnt = 0\n",
    "        curr += 1\n",
    "    cnt += 1\n",
    "    \n",
    "print(res)"
   ]
  },
  {
   "cell_type": "markdown",
   "metadata": {},
   "source": [
    "* a, b의 범우가 1 이상 1,000 이하이므로 section에 1 2 2 3 3 3 ... 이런 규칙을 갖도록 배열의 크기가 1000 이상이 되는 sectioin을 만든다.\n",
    "* a, b의 구간의 합을 구한다."
   ]
  },
  {
   "cell_type": "code",
   "execution_count": 3,
   "metadata": {},
   "outputs": [
    {
     "name": "stdout",
     "output_type": "stream",
     "text": [
      "3 7\n",
      "15\n"
     ]
    }
   ],
   "source": [
    "a, b = map(int, input().split())\n",
    "section = [[i]*i for i in range(1, 46)]\n",
    "section = [0] + sum(section, [])\n",
    "print(sum(section[a:b+1]))"
   ]
  }
 ],
 "metadata": {
  "kernelspec": {
   "display_name": "Python 3",
   "language": "python",
   "name": "python3"
  },
  "language_info": {
   "codemirror_mode": {
    "name": "ipython",
    "version": 3
   },
   "file_extension": ".py",
   "mimetype": "text/x-python",
   "name": "python",
   "nbconvert_exporter": "python",
   "pygments_lexer": "ipython3",
   "version": "3.7.3"
  }
 },
 "nbformat": 4,
 "nbformat_minor": 2
}
