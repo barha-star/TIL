{
 "cells": [
  {
   "cell_type": "markdown",
   "metadata": {},
   "source": [
    "# !밀비 급일\n",
    "\n",
    "https://www.acmicpc.net/problem/11365"
   ]
  },
  {
   "cell_type": "markdown",
   "metadata": {},
   "source": [
    "## 문제\n",
    "\n",
    "당신은 길을 가다가 이상한 쪽지를 발견했다. 그 쪽지에는 암호가 적혀 있었는데, 똑똑한 당신은 암호가 뒤집으면 해독된다는 것을 발견했다.  \n",
    "이 암호를 해독하는 프로그램을 작성하시오."
   ]
  },
  {
   "cell_type": "markdown",
   "metadata": {},
   "source": [
    "## 입력\n",
    "\n",
    "한 줄에 하나의 암호가 주어진다. 암호의 길이는 500을 넘지 않는다.  \n",
    "마지막 줄에는 \"END\"가 주어진다. (END는 해독하지 않는다.)"
   ]
  },
  {
   "cell_type": "markdown",
   "metadata": {},
   "source": [
    "## 출력\n",
    "\n",
    "각 암호가 해독된 것을 한 줄에 하나씩 출력한다."
   ]
  },
  {
   "cell_type": "markdown",
   "metadata": {},
   "source": [
    "## 예제 입력 1\n",
    "\n",
    "!edoc doog a tahW  \n",
    "noitacitsufbo  \n",
    "erafraw enirambus detcirtsernu yraurbeF fo tsrif eht no nigeb ot dnetni eW  \n",
    "lla sees rodroM fo drol eht ,ssertrof sih nihtiw delaecnoC  \n",
    "END"
   ]
  },
  {
   "cell_type": "markdown",
   "metadata": {},
   "source": [
    "## 예제 출력 1\n",
    "\n",
    "What a good code!  \n",
    "obfustication  \n",
    "We intend to begin on the first of February unrestricted submarine warfare  \n",
    "Concealed within his fortress, the lord of Mordor sees all"
   ]
  },
  {
   "cell_type": "markdown",
   "metadata": {},
   "source": [
    "## 풀이"
   ]
  },
  {
   "cell_type": "markdown",
   "metadata": {},
   "source": [
    "* while문으로 END가 입력될 때까지 계속 반복한다.\n",
    "* 입력받고 뒤집어 출력한다."
   ]
  },
  {
   "cell_type": "code",
   "execution_count": 1,
   "metadata": {},
   "outputs": [
    {
     "name": "stdout",
     "output_type": "stream",
     "text": [
      "!edoc doog a tahW\n",
      "What a good code!\n",
      "noitacitsufbo\n",
      "obfustication\n",
      "erafraw enirambus detcirtsernu yraurbeF fo tsrif eht no nigeb ot dnetni eW\n",
      "We intend to begin on the first of February unrestricted submarine warfare\n",
      "lla sees rodroM fo drol eht ,ssertrof sih nihtiw delaecnoC\n",
      "Concealed within his fortress, the lord of Mordor sees all\n",
      "END\n"
     ]
    }
   ],
   "source": [
    "import sys\n",
    "input = sys.stdin.readline\n",
    "\n",
    "while True:\n",
    "    sentence = input().rstrip()\n",
    "    if sentence == 'END':\n",
    "        break\n",
    "        \n",
    "    print(sentence[::-1])"
   ]
  }
 ],
 "metadata": {
  "kernelspec": {
   "display_name": "Python 3",
   "language": "python",
   "name": "python3"
  },
  "language_info": {
   "codemirror_mode": {
    "name": "ipython",
    "version": 3
   },
   "file_extension": ".py",
   "mimetype": "text/x-python",
   "name": "python",
   "nbconvert_exporter": "python",
   "pygments_lexer": "ipython3",
   "version": "3.7.3"
  }
 },
 "nbformat": 4,
 "nbformat_minor": 2
}
