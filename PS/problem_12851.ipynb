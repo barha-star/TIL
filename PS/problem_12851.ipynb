{
 "cells": [
  {
   "cell_type": "markdown",
   "metadata": {},
   "source": [
    "# 숨바꼭질 2\n",
    "\n",
    "https://www.acmicpc.net/problem/12851"
   ]
  },
  {
   "cell_type": "markdown",
   "metadata": {},
   "source": [
    "## 문제\n",
    "\n",
    "수빈이는 동생과 숨바꼭질을 하고 있다. 수빈이는 현재 점 N(0 ≤ N ≤ 100,000)에 있고, 동생은 점 K(0 ≤ K ≤ 100,000)에 있다. 수빈이는 걷거나 순간이동을 할 수 있다. 만약, 수빈이의 위치가 X일 때 걷는다면 1초 후에 X-1 또는 X+1로 이동하게 된다. 순간이동을 하는 경우에는 1초 후에 2 x X의 위치로 이동하게 된다.  \n",
    "수빈이와 동생의 위치가 주어졌을 때, 수빈이가 동생을 찾을 수 있는 가장 빠른 시간이 몇 초 후인지 그리고, 가장 빠른 시간으로 찾는 방법이 몇 가지 인지 구하는 프로그램을 작성하시오."
   ]
  },
  {
   "cell_type": "markdown",
   "metadata": {},
   "source": [
    "## 입력\n",
    "\n",
    "첫 번째 줄에 수빈이가 있는 위치 N과 동생이 있는 위치 K가 주어진다. N과 K는 정수이다."
   ]
  },
  {
   "cell_type": "markdown",
   "metadata": {},
   "source": [
    "## 출력\n",
    "\n",
    "첫째 줄에 수빈이가 동생을 찾는 가장 빠른 시간을 출력한다.  \n",
    "둘째 줄에는 가장 빠른 시간으로 수빈이가 동생을 찾는 방법의 수를 출력한다."
   ]
  },
  {
   "cell_type": "markdown",
   "metadata": {},
   "source": [
    "## 예제 입력 1\n",
    "\n",
    "5 17"
   ]
  },
  {
   "cell_type": "markdown",
   "metadata": {},
   "source": [
    "## 예제 출력 1\n",
    "\n",
    "4  \n",
    "2"
   ]
  },
  {
   "cell_type": "markdown",
   "metadata": {},
   "source": [
    "## 풀이"
   ]
  },
  {
   "cell_type": "markdown",
   "metadata": {},
   "source": [
    "* 수빈이(n)와 동생(k)의 위치를 입력받는다.\n",
    "* 수빈이가 동생보다 오른쪽에 위치한다면(n >= k) -1을 수빈이와 동생의 위치 차이만큼 가는 방법 한 가지만 있다.\n",
    "* 수빈이가 동생보다 왼쪽에 위치한다면 모든 경우를 따져봐야 한다.\n",
    "    * check를 통해 수빈이가 각각 위치에 몇 번의 이동으로 도달할 수 있는지를 확인한다."
   ]
  },
  {
   "cell_type": "code",
   "execution_count": 1,
   "metadata": {},
   "outputs": [
    {
     "name": "stdout",
     "output_type": "stream",
     "text": [
      "5 17\n",
      "4\n",
      "2\n"
     ]
    }
   ],
   "source": [
    "from collections import deque\n",
    "\n",
    "n, k = map(int, input().split())\n",
    "\n",
    "def solve(n, k):\n",
    "    if n >= k:\n",
    "        print(n-k)\n",
    "        print(1)\n",
    "        return\n",
    "    \n",
    "    dx = [2, 1, -1]\n",
    "    que = deque([(n, 0)])\n",
    "    check = [0 for _ in range(100001)]\n",
    "    count = 0\n",
    "    while que:\n",
    "        idx, cnt = que.popleft()\n",
    "        if idx == k:\n",
    "            if not check[idx]:\n",
    "                check[idx] = cnt\n",
    "                count += 1\n",
    "            else:\n",
    "                if cnt == check[idx]:\n",
    "                    count += 1\n",
    "                    \n",
    "        for i in dx:\n",
    "            if i == 2:\n",
    "                new_idx = idx * i\n",
    "            else:\n",
    "                new_idx = idx + i\n",
    "                \n",
    "            if 0 <= new_idx <= 100000:\n",
    "                if check[new_idx] == 0 or check[new_idx] >= cnt+1:\n",
    "                    if check[k] and cnt+1 > check[new_idx]:\n",
    "                        continue\n",
    "                    check[new_idx] = cnt + 1\n",
    "                    que.append((new_idx, cnt+1))\n",
    "                \n",
    "    print(check[idx])\n",
    "    print(count)\n",
    "    return\n",
    "\n",
    "solve(n, k)"
   ]
  }
 ],
 "metadata": {
  "kernelspec": {
   "display_name": "Python 3",
   "language": "python",
   "name": "python3"
  },
  "language_info": {
   "codemirror_mode": {
    "name": "ipython",
    "version": 3
   },
   "file_extension": ".py",
   "mimetype": "text/x-python",
   "name": "python",
   "nbconvert_exporter": "python",
   "pygments_lexer": "ipython3",
   "version": "3.7.3"
  }
 },
 "nbformat": 4,
 "nbformat_minor": 2
}
