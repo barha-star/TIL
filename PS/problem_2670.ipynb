{
 "cells": [
  {
   "cell_type": "markdown",
   "metadata": {},
   "source": [
    "# 연속부분최대곱\n",
    "\n",
    "https://www.acmicpc.net/problem/2670"
   ]
  },
  {
   "cell_type": "markdown",
   "metadata": {},
   "source": [
    "## 문제\n",
    "\n",
    "N개의 양의 실수가 있을 때, 한 개 이상의 연속된 수들의 곱이 최대가 되는 부분을 찾아, 그 곱을 출력하는 프로그램을 작성하시오. 예를 들어 아래와 같이 8개의 양의 실수가 주어진다면,  \n",
    "색칠된 부분의 곱이 최대가 되며, 그 값은 1.638이다."
   ]
  },
  {
   "cell_type": "markdown",
   "metadata": {},
   "source": [
    "## 입력\n",
    "\n",
    "첫째 줄은 나열된 양의 실수들의 개수 N이 주어지고,  \n",
    "그 다음 줄부터 N개의 수가 한 줄에 하나씩 들어 있다.  \n",
    "N은 10,000 이하의 자연수이다. 실수는 소수점 첫째자리까지 주어진다. "
   ]
  },
  {
   "cell_type": "markdown",
   "metadata": {},
   "source": [
    "## 출력\n",
    "\n",
    "계산된 최댓값을 소수점 이하 넷째 자리에서 반올림하여 소수점 이하 셋째 자리까지 출력한다."
   ]
  },
  {
   "cell_type": "markdown",
   "metadata": {},
   "source": [
    "## 예제 입력 1\n",
    "\n",
    "8  \n",
    "1.1  \n",
    "0.7  \n",
    "1.3  \n",
    "0.9  \n",
    "1.4  \n",
    "0.8  \n",
    "0.7  \n",
    "1.4"
   ]
  },
  {
   "cell_type": "markdown",
   "metadata": {},
   "source": [
    "## 예제 출력 1\n",
    "\n",
    "1.638"
   ]
  },
  {
   "cell_type": "markdown",
   "metadata": {},
   "source": [
    "## 풀이"
   ]
  },
  {
   "cell_type": "code",
   "execution_count": 1,
   "metadata": {},
   "outputs": [
    {
     "name": "stdout",
     "output_type": "stream",
     "text": [
      "8\n",
      "1.1\n",
      "0.7\n",
      "1.3\n",
      "0.9\n",
      "1.4\n",
      "0.8\n",
      "0.7\n",
      "1.4\n",
      "1.638\n"
     ]
    }
   ],
   "source": [
    "import sys\n",
    "input = sys.stdin.readline\n",
    "\n",
    "n = int(input())\n",
    "nums = [float(input()) for _ in range(n)]\n",
    "dp = [0 for _ in range(n)]\n",
    "dp[0] = nums[0]\n",
    "for i in range(1, n):\n",
    "    dp[i] = max(nums[i], dp[i-1]*nums[i])\n",
    "    \n",
    "print('%0.3f' %max(dp))"
   ]
  }
 ],
 "metadata": {
  "kernelspec": {
   "display_name": "Python 3",
   "language": "python",
   "name": "python3"
  },
  "language_info": {
   "codemirror_mode": {
    "name": "ipython",
    "version": 3
   },
   "file_extension": ".py",
   "mimetype": "text/x-python",
   "name": "python",
   "nbconvert_exporter": "python",
   "pygments_lexer": "ipython3",
   "version": "3.7.3"
  }
 },
 "nbformat": 4,
 "nbformat_minor": 2
}
