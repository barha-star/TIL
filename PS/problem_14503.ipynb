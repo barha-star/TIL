{
 "cells": [
  {
   "cell_type": "markdown",
   "metadata": {},
   "source": [
    "# 로봇 청소기\n",
    "\n",
    "https://www.acmicpc.net/problem/14503"
   ]
  },
  {
   "cell_type": "markdown",
   "metadata": {},
   "source": [
    "## 문제\n",
    "\n",
    "로봇 청소기가 주어졌을 때, 청소하는 영역의 개수를 구하는 프로그램을 작성하시오.  \n",
    "로봇 청소기가 있는 장소는 N×M 크기의 직사각형으로 나타낼 수 있으며, 1×1크기의 정사각형 칸으로 나누어져 있다. 각각의 칸은 벽 또는 빈 칸이다. 청소기는 바라보는 방향이 있으며, 이 방향은 동, 서, 남, 북중 하나이다. 지도의 각 칸은 (r, c)로 나타낼 수 있고, r은 북쪽으로부터 떨어진 칸의 개수, c는 서쪽으로 부터 떨어진 칸의 개수이다.  \n",
    "로봇 청소기는 다음과 같이 작동한다.  \n",
    "  \n",
    "1. 현재 위치를 청소한다.\n",
    "2. 현재 위치에서 현재 방향을 기준으로 왼쪽방향부터 차례대로 탐색을 진행한다.\n",
    "    1. 왼쪽 방향에 아직 청소하지 않은 공간이 존재한다면, 그 방향으로 회전한 다음 한 칸을 전진하고 1번부터 진행한다.\n",
    "    2. 왼쪽 방향에 청소할 공간이 없다면, 그 방향으로 회전하고 2번으로 돌아간다.\n",
    "    3. 네 방향 모두 청소가 이미 되어있거나 벽인 경우에는, 바라보는 방향을 유지한 채로 한 칸 후진을 하고 2번으로 돌아간다.\n",
    "    4. 네 방향 모두 청소가 이미 되어있거나 벽이면서, 뒤쪽 방향이 벽이라 후진도 할 수 없는 경우에는 작동을 멈춘다.\n",
    "  \n",
    "로봇 청소기는 이미 청소되어있는 칸을 또 청소하지 않으며, 벽을 통과할 수 없다."
   ]
  },
  {
   "cell_type": "markdown",
   "metadata": {},
   "source": [
    "## 입력\n",
    "\n",
    "첫째 줄에 세로 크기 N과 가로 크기 M이 주어진다. (3 ≤ N, M ≤ 50)  \n",
    "둘째 줄에 로봇 청소기가 있는 칸의 좌표 (r, c)와 바라보는 방향 d가 주어진다. d가 0인 경우에는 북쪽을, 1인 경우에는 동쪽을, 2인 경우에는 남쪽을, 3인 경우에는 서쪽을 바라보고 있는 것이다.  \n",
    "셋째 줄부터 N개의 줄에 장소의 상태가 북쪽부터 남쪽 순서대로, 각 줄은 서쪽부터 동쪽 순서대로 주어진다. 빈 칸은 0, 벽은 1로 주어진다. 지도의 첫 행, 마지막 행, 첫 열, 마지막 열에 있는 모든 칸은 벽이다.  \n",
    "로봇 청소기가 있는 칸의 상태는 항상 빈 칸이다."
   ]
  },
  {
   "cell_type": "markdown",
   "metadata": {},
   "source": [
    "## 출력\n",
    "\n",
    "로봇 청소기가 청소하는 칸의 개수를 출력한다."
   ]
  },
  {
   "cell_type": "markdown",
   "metadata": {},
   "source": [
    "## 예제 입력 1\n",
    "\n",
    "3 3  \n",
    "1 1 0  \n",
    "1 1 1  \n",
    "1 0 1  \n",
    "1 1 1"
   ]
  },
  {
   "cell_type": "markdown",
   "metadata": {},
   "source": [
    "## 예제 출력 1\n",
    "\n",
    "1"
   ]
  },
  {
   "cell_type": "markdown",
   "metadata": {},
   "source": [
    "## 풀이"
   ]
  },
  {
   "cell_type": "markdown",
   "metadata": {},
   "source": [
    "* 로봇 청소기 작동을 하나하나 다 구현해보기\n",
    "* 먼저 왼쪽 방향부터 탐색하고, 한 칸 전진하는 direction 함수를 만든다.\n",
    "    * 현재 바라보고 있는 방향을 가준으로 왼쪽 방향과 좌표를 return 한다.\n",
    "* 네 방향 모두 청소가 이미 되어있거나 벽인 경우 후진하는 back 함수를 만든다.\n",
    "    * 현재 바라보고 있는 방향을 기준으로 현재 방향과 후진한 좌표를 return 한다.\n",
    "* 로봇 청소기 작동을 구현하는 solve 함수를 만든다.\n",
    "    * 현재 위치가 청소 전이라면 청소한다.\n",
    "    * 현재 위치에서 현재 방향을 기준으로 왼쪽 방향부터 차례대로 탐색을 진행한다."
   ]
  },
  {
   "cell_type": "code",
   "execution_count": 1,
   "metadata": {},
   "outputs": [
    {
     "name": "stdout",
     "output_type": "stream",
     "text": [
      "3 3\n",
      "1 1 0\n",
      "1 1 1\n",
      "1 0 1\n",
      "1 1 1\n",
      "1\n"
     ]
    }
   ],
   "source": [
    "import sys\n",
    "input = sys.stdin.readline\n",
    "\n",
    "def direction(r, c, d):\n",
    "    if d == 0:\n",
    "        d = 3\n",
    "        c -= 1\n",
    "    elif d == 1:\n",
    "        d = 0\n",
    "        r -= 1\n",
    "    elif d == 2:\n",
    "        d = 1\n",
    "        c += 1\n",
    "    else:\n",
    "        d = 2\n",
    "        r += 1\n",
    "    return r, c, d\n",
    "\n",
    "def back(r, c, d):\n",
    "    if d == 0:\n",
    "        r += 1\n",
    "    elif d == 1:\n",
    "        c -= 1\n",
    "    elif d == 2:\n",
    "        r -= 1\n",
    "    else:\n",
    "        c += 1\n",
    "    return r, c, d\n",
    "\n",
    "def solve(r, c, d):\n",
    "    global res\n",
    "    if board[r][c] == 0:\n",
    "        res += 1\n",
    "        board[r][c] = 2\n",
    "    \n",
    "    flag = False\n",
    "    new_r, new_c, new_d = r, c, d\n",
    "    for _ in range(4):\n",
    "        new_r, new_c, new_d = direction(new_r, new_c, new_d)\n",
    "        if 0 <= new_r < n and 0 <= new_c < m:\n",
    "            if board[new_r][new_c] == 0:\n",
    "                res += 1\n",
    "                board[new_r][new_c] = 2\n",
    "                flag = True\n",
    "                break\n",
    "        new_r, new_c, new_d = r, c, new_d\n",
    "        \n",
    "                \n",
    "    if flag:\n",
    "        return solve(new_r, new_c, new_d)\n",
    "    else:\n",
    "        new_r, new_c, d = back(r, c, d)\n",
    "        if 0 <= new_r < n and 0 <= new_c < m:\n",
    "            if board[new_r][new_c] != 1:\n",
    "                return solve(new_r, new_c, d)\n",
    "    return\n",
    "    \n",
    "            \n",
    "\n",
    "n, m = map(int, input().split())\n",
    "r, c, d = map(int, input().split())\n",
    "board = [list(map(int, input().split())) for _ in range(n)]\n",
    "\n",
    "res = 0\n",
    "solve(r, c, d)\n",
    "print(res)"
   ]
  },
  {
   "cell_type": "code",
   "execution_count": 2,
   "metadata": {},
   "outputs": [
    {
     "name": "stdout",
     "output_type": "stream",
     "text": [
      "3 3\n",
      "1 1 0\n",
      "1 1 1\n",
      "1 0 1\n",
      "1 1 1\n",
      "1\n"
     ]
    }
   ],
   "source": [
    "import sys\n",
    "input = sys.stdin.readline\n",
    "\n",
    "dx = [-1, 0, 1, 0]\n",
    "dy = [0, 1, 0, -1]\n",
    "\n",
    "def direction(d):\n",
    "    if d == 0:\n",
    "        return 3\n",
    "    elif d == 1:\n",
    "        return 0\n",
    "    elif d == 2:\n",
    "        return 1\n",
    "    else:\n",
    "        return 2\n",
    "    \n",
    "def back(d):\n",
    "    if d == 0:\n",
    "        return 2\n",
    "    elif d == 1:\n",
    "        return 3\n",
    "    elif d == 2:\n",
    "        return 0\n",
    "    else:\n",
    "        return 1\n",
    "    \n",
    "def solve(r, c, d):\n",
    "    global res\n",
    "    if board[r][c] == 0:\n",
    "        res += 1\n",
    "        board[r][c] = 2\n",
    "    \n",
    "    flag = False\n",
    "    new_r, new_c, new_d = r, c, d\n",
    "    for _ in range(4):\n",
    "        new_d = direction(new_d)\n",
    "        new_r, new_c = r+dx[new_d], c+dy[new_d]\n",
    "        if 0 <= new_r < n and 0 <= new_c < m:\n",
    "            if board[new_r][new_c] == 0:\n",
    "                res += 1\n",
    "                board[new_r][new_c] = 2\n",
    "                flag = True\n",
    "                break\n",
    "        \n",
    "                \n",
    "    if flag:\n",
    "        return solve(new_r, new_c, new_d)\n",
    "    else:\n",
    "        back_d = back(d)\n",
    "        new_r, new_c = r+dx[back_d], c+dy[back_d]\n",
    "        if 0 <= new_r < n and 0 <= new_c < m:\n",
    "            if board[new_r][new_c] != 1:\n",
    "                return solve(new_r, new_c, d)\n",
    "    return\n",
    "    \n",
    "            \n",
    "\n",
    "n, m = map(int, input().split())\n",
    "r, c, d = map(int, input().split())\n",
    "board = [list(map(int, input().split())) for _ in range(n)]\n",
    "\n",
    "res = 0\n",
    "solve(r, c, d)\n",
    "print(res)"
   ]
  }
 ],
 "metadata": {
  "kernelspec": {
   "display_name": "Python 3",
   "language": "python",
   "name": "python3"
  },
  "language_info": {
   "codemirror_mode": {
    "name": "ipython",
    "version": 3
   },
   "file_extension": ".py",
   "mimetype": "text/x-python",
   "name": "python",
   "nbconvert_exporter": "python",
   "pygments_lexer": "ipython3",
   "version": "3.7.3"
  }
 },
 "nbformat": 4,
 "nbformat_minor": 2
}
