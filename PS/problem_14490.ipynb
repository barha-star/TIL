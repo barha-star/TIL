{
 "cells": [
  {
   "cell_type": "markdown",
   "metadata": {},
   "source": [
    "# 백대열\n",
    "\n",
    "https://www.acmicpc.net/problem/14490"
   ]
  },
  {
   "cell_type": "markdown",
   "metadata": {},
   "source": [
    "## 문제\n",
    "\n",
    "대열이는 욱제의 친구다.  \n",
    "  \n",
    "* “야 백대열을 약분하면 뭔지 알아?”\n",
    "* “??”\n",
    "* “십대일이야~ 하하!” \n",
    "  \n",
    "n:m이 주어진다. 욱제를 도와주자. (...)"
   ]
  },
  {
   "cell_type": "markdown",
   "metadata": {},
   "source": [
    "## 입력\n",
    "\n",
    "n과 m이 :을 사이에 두고 주어진다. (1 <= n, m <= 100,000,000)"
   ]
  },
  {
   "cell_type": "markdown",
   "metadata": {},
   "source": [
    "## 출력\n",
    "\n",
    "두 수를 최대한으로 약분하여 출력한다."
   ]
  },
  {
   "cell_type": "markdown",
   "metadata": {},
   "source": [
    "## 예제 입력 1\n",
    "\n",
    "100:10"
   ]
  },
  {
   "cell_type": "markdown",
   "metadata": {},
   "source": [
    "## 예제 출력 1\n",
    "\n",
    "10:1"
   ]
  },
  {
   "cell_type": "markdown",
   "metadata": {},
   "source": [
    "## 풀이"
   ]
  },
  {
   "cell_type": "markdown",
   "metadata": {},
   "source": [
    "* 최대한 약분해야 하기 때문에 최대공약수로 약분하면 된다.\n",
    "* 최대공약수를 만들어주는 gcd 함수를 만든다.\n",
    "* 입력이 숫자:숫자이므로 split() 안에 ':'를 넣어 :를 기준으로 분리한다.\n",
    "* 두 숫자의 최대공약수로 나눈 값을 형식에 맞춰 출력한다."
   ]
  },
  {
   "cell_type": "code",
   "execution_count": 1,
   "metadata": {},
   "outputs": [
    {
     "name": "stdout",
     "output_type": "stream",
     "text": [
      "100:10\n",
      "10:1\n"
     ]
    }
   ],
   "source": [
    "def gcd(n, m):\n",
    "    while n % m != 0:\n",
    "        mod = m\n",
    "        m = n % m\n",
    "        n = mod\n",
    "    return m            \n",
    "\n",
    "n, m = map(int, input().split(':'))\n",
    "g = gcd(n, m)\n",
    "print('%d:%d' %(n//g, m//g))"
   ]
  }
 ],
 "metadata": {
  "kernelspec": {
   "display_name": "Python 3",
   "language": "python",
   "name": "python3"
  },
  "language_info": {
   "codemirror_mode": {
    "name": "ipython",
    "version": 3
   },
   "file_extension": ".py",
   "mimetype": "text/x-python",
   "name": "python",
   "nbconvert_exporter": "python",
   "pygments_lexer": "ipython3",
   "version": "3.7.3"
  }
 },
 "nbformat": 4,
 "nbformat_minor": 2
}
