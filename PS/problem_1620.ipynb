{
 "cells": [
  {
   "cell_type": "markdown",
   "metadata": {},
   "source": [
    "# 나는야 포켓몬 마스터 이다솜\n",
    "\n",
    "https://www.acmicpc.net/problem/1620"
   ]
  },
  {
   "cell_type": "markdown",
   "metadata": {},
   "source": [
    "## 입력\n",
    "\n",
    "첫째 줄에는 도감에 수록되어 있는 포켓몬의 개수 N이랑 내가 맞춰야 하는 문제의 개수 M이 주어져. N과 M은 1보다 크거나 같고, 100,000보다 작거나 같은 자연수인데, 자연수가 뭔지는 알지? 모르면 물어봐도 괜찮아. 나는 언제든지 질문에 답해줄 준비가 되어있어.  \n",
    "둘째 줄부터 N개의 줄에 포켓몬의 번호가 1번인 포켓몬부터 N번에 해당하는 포켓몬까지 한 줄에 하나씩 입력으로 들어와. 포켓몬의 이름은 모두 영어로만 이루어져있고, 또, 음... 첫 글자만 대문자이고, 나머지 문자는 소문자로만 이루어져 있어. 포켓몬 이름의 최대 길이는 20이야.  \n",
    "그 다음 줄부터 총 M개의 줄에 내가 맞춰야하는 문제가 입력으로 들어와. 문제가 알파벳으로만 들어오면 포켓몬 번호를 말해야 하고, 숫자로만 들어오면, 포켓몬 번호에 해당하는 문자를 출력해야해. 입력으로 들어오는 숫자는 반드시 1보다 크거나 같고, N보다 작거나 같고, 입력으로 들어오는 문자는 반드시 도감에 있는 포켓몬의 이름만 주어져. 그럼 화이팅!!!"
   ]
  },
  {
   "cell_type": "markdown",
   "metadata": {},
   "source": [
    "## 출력\n",
    "\n",
    "첫째 줄부터 차례대로 M개의 줄에 각각의 문제에 대한 답을 말해줬으면 좋겠어!!!. 입력으로 숫자가 들어왔다면 그 숫자에 해당하는 포켓몬의 이름을, 문자가 들어왔으면 그 포켓몬의 이름에 해당하는 번호를 출력하면 돼. 그럼 땡큐"
   ]
  },
  {
   "cell_type": "markdown",
   "metadata": {},
   "source": [
    "## 예제 입력 1\n",
    "\n",
    "26 5  \n",
    "Bulbasaur  \n",
    "Ivysaur  \n",
    "Venusaur  \n",
    "Charmander  \n",
    "Charmeleon  \n",
    "Charizard  \n",
    "Squirtle  \n",
    "Wartortle  \n",
    "Blastoise  \n",
    "Caterpie  \n",
    "Metapod  \n",
    "Butterfree  \n",
    "Weedle  \n",
    "Kakuna  \n",
    "Beedrill  \n",
    "Pidgey  \n",
    "Pidgeotto  \n",
    "Pidgeot  \n",
    "Rattata  \n",
    "Raticate  \n",
    "Spearow  \n",
    "Fearow  \n",
    "Ekans  \n",
    "Arbok  \n",
    "Pikachu  \n",
    "Raichu  \n",
    "25  \n",
    "Raichu  \n",
    "3  \n",
    "Pidgey  \n",
    "Kakuna"
   ]
  },
  {
   "cell_type": "markdown",
   "metadata": {},
   "source": [
    "## 예제 출력 1\n",
    "\n",
    "Pikachu  \n",
    "26  \n",
    "Venusaur  \n",
    "16  \n",
    "14"
   ]
  },
  {
   "cell_type": "markdown",
   "metadata": {},
   "source": [
    "## 풀이"
   ]
  },
  {
   "cell_type": "markdown",
   "metadata": {},
   "source": [
    "* n, m의 크기가 1보다 크거나 같고 100,000보다 작거나 같은 자연수이기 때문에 포켓몬 이름을 리스트와 맵으로 저장해야 한다.\n",
    "* 리스트는 나중에 숫자에 해당하는 포켓몬의 이름을 찾을 때 사용한다.\n",
    "* 맵은 문자로 해당하는 번호를 출력할 때 사용한다."
   ]
  },
  {
   "cell_type": "code",
   "execution_count": 2,
   "metadata": {},
   "outputs": [
    {
     "name": "stdout",
     "output_type": "stream",
     "text": [
      "26 5\n",
      "Bulbasaur\n",
      "Ivysaur\n",
      "Venusaur\n",
      "Charmander\n",
      "Charmeleon\n",
      "Charizard\n",
      "Squirtle\n",
      "Wartortle\n",
      "Blastoise\n",
      "Caterpie\n",
      "Metapod\n",
      "Butterfree\n",
      "Weedle\n",
      "Kakuna\n",
      "Beedrill\n",
      "Pidgey\n",
      "Pidgeotto\n",
      "Pidgeot\n",
      "Rattata\n",
      "Raticate\n",
      "Spearow\n",
      "Fearow\n",
      "Ekans\n",
      "Arbok\n",
      "Pikachu\n",
      "Raichu\n",
      "25\n",
      "Pikachu\n",
      "Raichu\n",
      "26\n",
      "3\n",
      "Venusaur\n",
      "Pidgey\n",
      "16\n",
      "Kakuna\n",
      "14\n"
     ]
    }
   ],
   "source": [
    "import sys\n",
    "input = sys.stdin.readline\n",
    "\n",
    "n, m = map(int, input().split())\n",
    "lst = [0]\n",
    "dic = {}\n",
    "for i in range(n):\n",
    "    name = input().rstrip()\n",
    "    lst.append(name)\n",
    "    dic[name] = i+1\n",
    "    \n",
    "\n",
    "for _ in range(m):\n",
    "    p = input().rstrip()\n",
    "    if p.isdigit():\n",
    "        print(lst[int(p)])\n",
    "    else:\n",
    "        print(dic[p])"
   ]
  }
 ],
 "metadata": {
  "kernelspec": {
   "display_name": "Python 3",
   "language": "python",
   "name": "python3"
  },
  "language_info": {
   "codemirror_mode": {
    "name": "ipython",
    "version": 3
   },
   "file_extension": ".py",
   "mimetype": "text/x-python",
   "name": "python",
   "nbconvert_exporter": "python",
   "pygments_lexer": "ipython3",
   "version": "3.7.3"
  }
 },
 "nbformat": 4,
 "nbformat_minor": 2
}
