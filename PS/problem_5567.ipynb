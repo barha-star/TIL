{
 "cells": [
  {
   "cell_type": "markdown",
   "metadata": {},
   "source": [
    "# 결혼식\n",
    "\n",
    "https://www.acmicpc.net/problem/5567"
   ]
  },
  {
   "cell_type": "markdown",
   "metadata": {},
   "source": [
    "## 문제\n",
    "\n",
    "상근이는 자신의 결혼식에 학교 동기 중 자신의 친구와 친구의 친구를 초대하기로 했다. 상근이의 동기는 모두 N명이고, 이 학생들의 학번은 모두 1부터 N까지이다. 상근이의 학번은 1이다.  \n",
    "상근이는 동기들의 친구 관계를 모두 조사한 리스트를 가지고 있다. 이 리스트를 바탕으로 결혼식에 초대할 사람의 수를 구하는 프로그램을 작성하시오."
   ]
  },
  {
   "cell_type": "markdown",
   "metadata": {},
   "source": [
    "## 입력\n",
    "\n",
    "첫째 줄에 상근이의 동기의 수 n (2 ≤ n ≤ 500)이 주어진다.  \n",
    "둘째 줄에는 리스트의 길이 m (1 ≤ m ≤ 10000)이 주어진다.  \n",
    "다음 줄부터 m개 줄에는 친구 관계 ai bi가 주어진다. (1 ≤ ai < bi ≤ n) ai와 bi가 친구라는 뜻이며, bi와 ai도 친구관계이다. "
   ]
  },
  {
   "cell_type": "markdown",
   "metadata": {},
   "source": [
    "## 출력\n",
    "\n",
    "첫째 줄에 상근이의 결혼식에 초대하는 동기의 수를 출력한다."
   ]
  },
  {
   "cell_type": "markdown",
   "metadata": {},
   "source": [
    "## 예제 입력 1\n",
    "\n",
    "6  \n",
    "5  \n",
    "1 2  \n",
    "1 3  \n",
    "3 4  \n",
    "2 3  \n",
    "4 5"
   ]
  },
  {
   "cell_type": "markdown",
   "metadata": {},
   "source": [
    "## 예제 출력 1\n",
    "\n",
    "3"
   ]
  },
  {
   "cell_type": "markdown",
   "metadata": {},
   "source": [
    "## 풀이"
   ]
  },
  {
   "cell_type": "markdown",
   "metadata": {},
   "source": [
    "* 상근이의 친구와, 친구의 친구를 초대하는 것이므로 dfs로 깊이가 2인 것까지 탐색한다.\n",
    "* 상근이와 동기들의 친구 관계를 friends에 map으로 정리한다.\n",
    "* dfs 함수를 만들고 깊이가 2까지 friend set에 넣어준다.\n",
    "* 이미 확인했는지 여부를 위해 check 리스트를 만들고 상근이 친구 관계부터 dfs를 시작한다."
   ]
  },
  {
   "cell_type": "code",
   "execution_count": 1,
   "metadata": {},
   "outputs": [
    {
     "name": "stdout",
     "output_type": "stream",
     "text": [
      "6\n",
      "5\n",
      "1 2\n",
      "1 3\n",
      "3 4\n",
      "2 3\n",
      "4 5\n",
      "3\n"
     ]
    }
   ],
   "source": [
    "import sys\n",
    "input = sys.stdin.readline\n",
    "\n",
    "n = int(input())\n",
    "m = int(input())\n",
    "friends = {}\n",
    "for _ in range(m):\n",
    "    a, b = map(int, input().split())\n",
    "    \n",
    "    if a in friends:\n",
    "        friends[a].append(b)\n",
    "    else:\n",
    "        friends[a] = [b]\n",
    "        \n",
    "    if b in friends:\n",
    "        friends[b].append(a)\n",
    "    else:\n",
    "        friends[b] = [a]\n",
    "        \n",
    "def dfs(i, c):\n",
    "    global friend\n",
    "    if i != 1:\n",
    "        friend.add(i)\n",
    "    if c == 2:\n",
    "        return\n",
    "    for j in friends[i]:\n",
    "        if not check[j]:\n",
    "            check[j] = True\n",
    "            dfs(j, c+1)\n",
    "            check[j] = False\n",
    "    \n",
    "    \n",
    "    \n",
    "check = [False for _ in range(n+1)]\n",
    "friend = set()\n",
    "check[1] = True\n",
    "if 1 in friends:\n",
    "    dfs(1, 0)\n",
    "\n",
    "print(len(friend))"
   ]
  }
 ],
 "metadata": {
  "kernelspec": {
   "display_name": "Python 3",
   "language": "python",
   "name": "python3"
  },
  "language_info": {
   "codemirror_mode": {
    "name": "ipython",
    "version": 3
   },
   "file_extension": ".py",
   "mimetype": "text/x-python",
   "name": "python",
   "nbconvert_exporter": "python",
   "pygments_lexer": "ipython3",
   "version": "3.7.3"
  }
 },
 "nbformat": 4,
 "nbformat_minor": 2
}
