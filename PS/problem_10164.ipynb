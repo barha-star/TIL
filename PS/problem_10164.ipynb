{
 "cells": [
  {
   "cell_type": "markdown",
   "metadata": {},
   "source": [
    "# 격자상의 경로\n",
    "\n",
    "https://www.acmicpc.net/problem/10164"
   ]
  },
  {
   "cell_type": "markdown",
   "metadata": {},
   "source": [
    "## 문제\n",
    "\n",
    "행의 수가 N이고 열의 수가 M인 격자의 각 칸에 1부터 N×M까지의 번호가 첫 행부터 시작하여 차례로 부여되어 있다. 격자의 어떤 칸은 ○ 표시가 되어 있다. (단, 1번 칸과 N × M번 칸은 ○ 표시가 되어 있지 않다. 또한, ○ 표시가 되어 있는 칸은 최대 한 개이다. 즉, ○ 표시가 된 칸이 없을 수도 있다.)   \n",
    "행의 수가 3이고 열의 수가 5인 격자에서 각 칸에 번호가 1부터 차례대로 부여된 예가 아래에 있다. 이 격자에서는 8번 칸에 ○ 표시가 되어 있다.  \n",
    "격자의 1번 칸에서 출발한 어떤 로봇이 아래의 두 조건을 만족하면서 N×M번 칸으로 가고자 한다.   \n",
    "* 조건 1: 로봇은 한 번에 오른쪽에 인접한 칸 또는 아래에 인접한 칸으로만 이동할 수 있다. (즉, 대각선 방향으로는 이동할 수 없다.)\n",
    "* 조건 2: 격자에 ○로 표시된 칸이 있는 경우엔 로봇은 그 칸을 반드시 지나가야 한다.\n",
    "  \n",
    "위에서 보인 것과 같은 격자가 주어질 때, 로봇이 이동할 수 있는 서로 다른 경로의 두 가지 예가 아래에 있다.  \n",
    "* 1 → 2 → 3 → 8 → 9 → 10 → 15\n",
    "* 1 → 2 → 3 → 8 → 13 → 14 → 15\n",
    "  \n",
    "격자에 관한 정보가 주어질 때 로봇이 앞에서 설명한 두 조건을 만족하면서 이동할 수 있는 서로 다른 경로가 총 몇 개나 되는지 찾는 프로그램을 작성하라. "
   ]
  },
  {
   "cell_type": "markdown",
   "metadata": {},
   "source": [
    "## 입력\n",
    "\n",
    "입력의 첫째 줄에는 격자의 행의 수와 열의 수를 나타내는 두 정수 N과 M(1 ≤ N, M ≤ 15), 그리고 ○로 표시된 칸의 번호를 나타내는 정수 K(K=0 또는 1 < K < N×M)가 차례로 주어지며, 각 값은 공백으로 구분된다. K의 값이 0인 경우도 있는데, 이는 ○로 표시된 칸이 없음을 의미한다. N과 M이 동시에 1인 경우는 없다."
   ]
  },
  {
   "cell_type": "markdown",
   "metadata": {},
   "source": [
    "## 출력\n",
    "\n",
    "주어진 격자의 정보를 이용하여 설명한 조건을 만족하는 서로 다른 경로의 수를 계산하여 출력해야 한다. "
   ]
  },
  {
   "cell_type": "markdown",
   "metadata": {},
   "source": [
    "## 예제 입력 1\n",
    "\n",
    "3 5 8"
   ]
  },
  {
   "cell_type": "markdown",
   "metadata": {},
   "source": [
    "## 예제 출력 1\n",
    "\n",
    "9"
   ]
  },
  {
   "cell_type": "markdown",
   "metadata": {},
   "source": [
    "## 풀이"
   ]
  },
  {
   "cell_type": "code",
   "execution_count": 1,
   "metadata": {},
   "outputs": [
    {
     "name": "stdout",
     "output_type": "stream",
     "text": [
      "3 5 8\n",
      "9\n"
     ]
    }
   ],
   "source": [
    "n, m, o = map(int, input().split())\n",
    "dp = [[0 for _ in range(m)] for _ in range(n)]\n",
    "if o == 0:\n",
    "    for i in range(n):\n",
    "        for j in range(m):\n",
    "            if i == 0:\n",
    "                dp[i][j] = 1\n",
    "            elif j == 0:\n",
    "                dp[i][j] = 1\n",
    "            else:\n",
    "                dp[i][j] = dp[i-1][j] + dp[i][j-1]\n",
    "                \n",
    "    print(dp[n-1][m-1])\n",
    "else: \n",
    "    x, y = (o-1)//m, (o-1)%m\n",
    "    for i in range(x+1):\n",
    "        for j in range(y+1):\n",
    "            if i == 0:\n",
    "                dp[i][j] = 1\n",
    "            elif j == 0:\n",
    "                dp[i][j] = 1\n",
    "            else:\n",
    "                dp[i][j] = dp[i-1][j] + dp[i][j-1]\n",
    "                \n",
    "    for i in range(x, n):\n",
    "        for j in range(y, m):\n",
    "            if i == x and j == y:\n",
    "                continue\n",
    "            elif i == x:\n",
    "                dp[i][j] = 1\n",
    "            elif j == y:\n",
    "                dp[i][j] = 1\n",
    "            else:\n",
    "                dp[i][j] = dp[i-1][j] + dp[i][j-1]\n",
    "                \n",
    "    print(dp[x][y] * dp[n-1][m-1])"
   ]
  }
 ],
 "metadata": {
  "kernelspec": {
   "display_name": "Python 3",
   "language": "python",
   "name": "python3"
  },
  "language_info": {
   "codemirror_mode": {
    "name": "ipython",
    "version": 3
   },
   "file_extension": ".py",
   "mimetype": "text/x-python",
   "name": "python",
   "nbconvert_exporter": "python",
   "pygments_lexer": "ipython3",
   "version": "3.7.3"
  }
 },
 "nbformat": 4,
 "nbformat_minor": 2
}
