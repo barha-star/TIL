{
 "cells": [
  {
   "cell_type": "markdown",
   "metadata": {},
   "source": [
    "# 1로 만들기 2\n",
    "\n",
    "https://www.acmicpc.net/problem/12852"
   ]
  },
  {
   "cell_type": "markdown",
   "metadata": {},
   "source": [
    "## 문제\n",
    "\n",
    "정수 X에 사용할 수 있는 연산은 다음과 같이 세 가지 이다.  \n",
    "  \n",
    "1. X가 3으로 나누어 떨어지면, 3으로 나눈다.\n",
    "2. X가 2로 나누어 떨어지면, 2로 나눈다.\n",
    "3. 1을 뺀다.\n",
    "  \n",
    "정수 N이 주어졌을 때, 위와 같은 연산 세 개를 적절히 사용해서 1을 만들려고 한다. 연산을 사용하는 횟수의 최솟값을 출력하시오."
   ]
  },
  {
   "cell_type": "markdown",
   "metadata": {},
   "source": [
    "## 입력\n",
    "\n",
    "첫째 줄에 1보다 크거나 같고, 106보다 작거나 같은 자연수 N이 주어진다."
   ]
  },
  {
   "cell_type": "markdown",
   "metadata": {},
   "source": [
    "## 출력\n",
    "\n",
    "첫째 줄에 연산을 하는 횟수의 최솟값을 출력한다.  \n",
    "둘째 줄에는 N을 1로 만드는 방법에 포함되어 있는 수를 공백으로 구분해서 순서대로 출력한다. 정답이 여러 가지인 경우에는 아무거나 출력한다."
   ]
  },
  {
   "cell_type": "markdown",
   "metadata": {},
   "source": [
    "## 예제 입력 1\n",
    "\n",
    "2"
   ]
  },
  {
   "cell_type": "markdown",
   "metadata": {},
   "source": [
    "## 예제 출력 1\n",
    "\n",
    "1  \n",
    "2 1"
   ]
  },
  {
   "cell_type": "markdown",
   "metadata": {},
   "source": [
    "## 풀이"
   ]
  },
  {
   "cell_type": "code",
   "execution_count": 1,
   "metadata": {},
   "outputs": [
    {
     "name": "stdout",
     "output_type": "stream",
     "text": [
      "2\n",
      "1\n",
      "2 1\n"
     ]
    }
   ],
   "source": [
    "n = int(input())\n",
    "arr = [0] * (n+1)\n",
    "idx = [0] * (n+1)\n",
    "idx[1] = 1\n",
    "for i in range(1, n+1):\n",
    "    if i * 2 <= n:\n",
    "        if arr[2*i] == 0:\n",
    "            arr[2*i] = arr[i] + 1\n",
    "            idx[2*i] = i\n",
    "        else:\n",
    "            if arr[2*i] > arr[i] + 1:\n",
    "                arr[2*i] = arr[i] + 1\n",
    "                idx[2*i] = i\n",
    "    if i * 3 <= n:\n",
    "        if arr[3*i] == 0 or (arr[3*i] > arr[i] + 1):\n",
    "            arr[3*i] = arr[i] + 1\n",
    "            idx[3*i] = i\n",
    "    if i + 1 <= n:\n",
    "        if arr[i+1] == 0 or (arr[i+1] > arr[i] + 1):\n",
    "            arr[i+1] = arr[i] + 1\n",
    "            idx[i+1] = i\n",
    "        \n",
    "print(arr[n])\n",
    "res = []\n",
    "i = n\n",
    "while True:\n",
    "    if i == 1:\n",
    "        res.append(i)\n",
    "        break\n",
    "    res.append(i)\n",
    "    i = idx[i]\n",
    "    \n",
    "print(*res)"
   ]
  },
  {
   "cell_type": "code",
   "execution_count": 2,
   "metadata": {},
   "outputs": [
    {
     "name": "stdout",
     "output_type": "stream",
     "text": [
      "2\n",
      "1\n",
      "2 1\n"
     ]
    }
   ],
   "source": [
    "n = int(input())\n",
    "dp = [[0, []] for _ in range(n+1)]\n",
    "dp[1][0] = 0\n",
    "dp[1][1] = [1]\n",
    "\n",
    "for i in range(2, n+1):\n",
    "    dp[i][0] = dp[i-1][0] + 1\n",
    "    dp[i][1] = dp[i-1][1] + [i]\n",
    "    \n",
    "    if i % 3 == 0 and dp[i//3][0] + 1 < dp[i][0]:\n",
    "        dp[i][0] = dp[i//3][0] + 1\n",
    "        dp[i][1] = dp[i//3][1] + [i]\n",
    "        \n",
    "    if i % 2 == 0 and dp[i//2][0] + 1 < dp[i][0]:\n",
    "        dp[i][0] = dp[i//2][0] + 1\n",
    "        dp[i][1] = dp[i//2][1] + [i]\n",
    "        \n",
    "print(dp[n][0])\n",
    "print(*dp[n][1][::-1])"
   ]
  }
 ],
 "metadata": {
  "kernelspec": {
   "display_name": "Python 3",
   "language": "python",
   "name": "python3"
  },
  "language_info": {
   "codemirror_mode": {
    "name": "ipython",
    "version": 3
   },
   "file_extension": ".py",
   "mimetype": "text/x-python",
   "name": "python",
   "nbconvert_exporter": "python",
   "pygments_lexer": "ipython3",
   "version": "3.7.3"
  }
 },
 "nbformat": 4,
 "nbformat_minor": 2
}
