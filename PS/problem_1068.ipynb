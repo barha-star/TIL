{
 "cells": [
  {
   "cell_type": "markdown",
   "metadata": {},
   "source": [
    "# 트리\n",
    "\n",
    "https://www.acmicpc.net/problem/1068"
   ]
  },
  {
   "cell_type": "markdown",
   "metadata": {},
   "source": [
    "## 문제\n",
    "\n",
    "트리에서 리프 노드란, 자식의 개수가 0인 노드를 말한다.  \n",
    "트리가 주어졌을 때, 노드 중 하나를 제거할 것이다. 그 때, 남은 트리에서 리프 노드의 개수를 구하는 프로그램을 작성하시오.  \n",
    "예를 들어, 다음과 같은 트리가 있다고 하자.  \n",
    "현재 리프 노드의 개수는 3개이다. (초록색 색칠된 노드) 이때, 1번을 제거한다고 하면, 다음과 같이 된다.  \n",
    "이제 리프 노드의 개수는 1개이다."
   ]
  },
  {
   "cell_type": "markdown",
   "metadata": {},
   "source": [
    "## 입력\n",
    "\n",
    "첫째 줄에 트리의 노드의 개수 N이 주어진다. N은 50보다 작거나 같은 자연수이다.  \n",
    "둘째 줄에는 0번 노드부터 N-1번 노드까지, 각 노드의 부모가 주어진다. 만약 부모가 없다면 (루트) -1이 주어진다.  \n",
    "셋째 줄에는 지울 노드의 번호가 주어진다."
   ]
  },
  {
   "cell_type": "markdown",
   "metadata": {},
   "source": [
    "## 출력\n",
    "\n",
    "첫째 줄에 입력으로 주어진 트리에서 입력으로 주어진 노드를 지웠을 때, 리프 노드의 개수를 출력한다."
   ]
  },
  {
   "cell_type": "markdown",
   "metadata": {},
   "source": [
    "## 예제 입력 1\n",
    "\n",
    "5  \n",
    "-1 0 0 1 1  \n",
    "2"
   ]
  },
  {
   "cell_type": "markdown",
   "metadata": {},
   "source": [
    "## 예제 출력 1\n",
    "\n",
    "2"
   ]
  },
  {
   "cell_type": "markdown",
   "metadata": {},
   "source": [
    "## 풀이"
   ]
  },
  {
   "cell_type": "markdown",
   "metadata": {},
   "source": [
    "* 각 노드의 부모를 parents에 저장한다.\n",
    "* 삭제할 노드도 del_node에 저장하고 tree 맵을 만든다.\n",
    "* parents를 for문으로 돌면서 삭제할 노드이거나 삭제할 노드를 부모로 둔 노드를 제외하고 tree에 저장한다.\n",
    "* 삭제한 노드가 루트라면 빈 리스트를, 아니라면 [-1]를 que에 저장한다.\n",
    "* tree를 돌면서 리프 노드의 개수를 센다."
   ]
  },
  {
   "cell_type": "code",
   "execution_count": 1,
   "metadata": {},
   "outputs": [
    {
     "name": "stdout",
     "output_type": "stream",
     "text": [
      "5\n",
      "-1 0 0 1 1\n",
      "2\n",
      "2\n"
     ]
    }
   ],
   "source": [
    "n = int(input())\n",
    "parents = list(map(int, input().split()))\n",
    "del_node = int(input())\n",
    "tree = {}\n",
    "for i in range(n):\n",
    "    if i == del_node or parents[i] == del_node:\n",
    "        continue\n",
    "    if parents[i] in tree:\n",
    "        tree[parents[i]].append(i)\n",
    "    else:\n",
    "        tree[parents[i]] = [i]\n",
    "        \n",
    "res = 0\n",
    "if -1 in tree:\n",
    "    que = [-1]\n",
    "else:\n",
    "    que = []\n",
    "while que:\n",
    "    node = que.pop()\n",
    "    if node not in tree:\n",
    "        res += 1\n",
    "    else:\n",
    "        que += tree[node]\n",
    "print(res)"
   ]
  }
 ],
 "metadata": {
  "kernelspec": {
   "display_name": "Python 3",
   "language": "python",
   "name": "python3"
  },
  "language_info": {
   "codemirror_mode": {
    "name": "ipython",
    "version": 3
   },
   "file_extension": ".py",
   "mimetype": "text/x-python",
   "name": "python",
   "nbconvert_exporter": "python",
   "pygments_lexer": "ipython3",
   "version": "3.7.3"
  }
 },
 "nbformat": 4,
 "nbformat_minor": 2
}
