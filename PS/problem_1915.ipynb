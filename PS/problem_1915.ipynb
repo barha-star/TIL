{
 "cells": [
  {
   "cell_type": "markdown",
   "metadata": {},
   "source": [
    "# 가장 큰 정사각형\n",
    "\n",
    "https://www.acmicpc.net/problem/1915"
   ]
  },
  {
   "cell_type": "markdown",
   "metadata": {},
   "source": [
    "## 문제\n",
    "\n",
    "n×m의 0, 1로 된 배열이 있다. 이 배열에서 1로 된 가장 큰 정사각형의 크기를 구하는 프로그램을 작성하시오.  \n",
    "  \n",
    "0 |\t1 |\t0 |\t0\n",
    "--|--|--|--\n",
    "0 |\t1 |\t1 |\t1\n",
    "1 |\t1 |\t1 |\t0\n",
    "0 |\t0 |\t1 |\t0\n",
    "  \n",
    "위와 같은 예제에서는 가운데의 2×2 배열이 가장 큰 정사각형이다. "
   ]
  },
  {
   "cell_type": "markdown",
   "metadata": {},
   "source": [
    "## 입력\n",
    "\n",
    "첫째 줄에 n, m(1 ≤ n, m ≤ 1,000)이 주어진다. 다음 n개의 줄에는 m개의 숫자로 배열이 주어진다."
   ]
  },
  {
   "cell_type": "markdown",
   "metadata": {},
   "source": [
    "## 출력\n",
    "\n",
    "첫째 줄에 가장 큰 정사각형의 넓이를 출력한다."
   ]
  },
  {
   "cell_type": "markdown",
   "metadata": {},
   "source": [
    "## 예제 입력 1\n",
    "\n",
    "4 4  \n",
    "0100  \n",
    "0111  \n",
    "1110  \n",
    "0010"
   ]
  },
  {
   "cell_type": "markdown",
   "metadata": {},
   "source": [
    "## 예제 출력 1\n",
    "\n",
    "4"
   ]
  },
  {
   "cell_type": "markdown",
   "metadata": {},
   "source": [
    "## 풀이"
   ]
  },
  {
   "cell_type": "markdown",
   "metadata": {},
   "source": [
    "* 배열을 입력받는다.\n",
    "* 이중 for문을 돌면서\n",
    "    * (i, j)가 1이 아니라면 정사각형을 만들 수 없다.\n",
    "    * 1이라면 (i-1, j), (i, j-1), (i-1, j-1)에서 만들 수 있는 정사각형의 변의 최대 길이 중 최솟값 + 1의 크기로 만들 수 있다."
   ]
  },
  {
   "cell_type": "code",
   "execution_count": 1,
   "metadata": {},
   "outputs": [
    {
     "name": "stdout",
     "output_type": "stream",
     "text": [
      "4 4\n",
      "0100\n",
      "0111\n",
      "1110\n",
      "0010\n",
      "4\n"
     ]
    }
   ],
   "source": [
    "import sys\n",
    "input = sys.stdin.readline\n",
    "\n",
    "n, m = map(int, input().split())\n",
    "board = [list(map(int, input().rstrip())) for _ in range(n)]\n",
    "for i in range(1, n):\n",
    "    for j in range(1, m):\n",
    "        if board[i][j] != 0:\n",
    "            board[i][j] += min(board[i-1][j-1], board[i-1][j], board[i][j-1])\n",
    "            \n",
    "res = 0\n",
    "for row in board:\n",
    "    res = max(res, max(row))\n",
    "print(res**2)"
   ]
  }
 ],
 "metadata": {
  "kernelspec": {
   "display_name": "Python 3",
   "language": "python",
   "name": "python3"
  },
  "language_info": {
   "codemirror_mode": {
    "name": "ipython",
    "version": 3
   },
   "file_extension": ".py",
   "mimetype": "text/x-python",
   "name": "python",
   "nbconvert_exporter": "python",
   "pygments_lexer": "ipython3",
   "version": "3.7.3"
  }
 },
 "nbformat": 4,
 "nbformat_minor": 2
}
