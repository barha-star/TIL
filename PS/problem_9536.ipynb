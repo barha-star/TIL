{
 "cells": [
  {
   "cell_type": "markdown",
   "metadata": {},
   "source": [
    "# 여우는 어떻게 울지?\n",
    "\n",
    "https://www.acmicpc.net/problem/9536"
   ]
  },
  {
   "cell_type": "markdown",
   "metadata": {},
   "source": [
    "## 문제\n",
    "\n",
    "고대 미스테리로 전해지는 여우의 울음소리를 밝혀내기 위해 한신이는 고성능 녹음기로 무장하고 숲으로 들어갔다. 하지만 숲에는 동물들이 가득해, 녹음된 음성에는 다른 동물들의 울음소리가 섞여 있다. 그러나 한신이는 철저한 준비를 해 왔기 때문에 다른 동물들이 어떤 울음소리를 내는지 정확히 알고 있다. 그러므로 그 소리를 모두 걸러내면 남은 잡음은 분명히 여우의 울음소리일 것이다."
   ]
  },
  {
   "cell_type": "markdown",
   "metadata": {},
   "source": [
    "## 입력\n",
    "\n",
    "첫 번째 줄에는 테스트케이스의 개수 T가 입력된다. 각 테스트케이스는 아래와 같이 구성되어 있다.  \n",
    "테스트케이스의 첫 줄에는 몇 개의 단어로 이루어진 녹음된 소리가 입력된다. 단어는 알파벳 소문자로만 이루어져 있으며 공백으로 구분된다. 단어의 길이는 최대 100글자이고, 단어의 개수는 최대 100개이다. 다음 줄부터는 여우를 제외한 동물들의 울음소리가 <동물> goes <소리>의 형태로 입력된다. 최소 1마리, 최대 100마리이며, 이름은 최대 100글자이고 실제로 존재하는 동물의 이름이다. 여우를 제외한 동물의 울음소리는 한 단어이고 최대 100글자이다.  \n",
    "마지막 줄에는 한신이가 알고 싶어하는 질문이 주어진다. what does the fox say?"
   ]
  },
  {
   "cell_type": "markdown",
   "metadata": {},
   "source": [
    "## 출력\n",
    "\n",
    "각 테스트케이스마다 여우의 울음소리를 한 줄씩, 녹음된 순서대로 출력한다. 여우의 울음소리가 녹음되어 있음이 보장된다. (알려진 것과는 달리, 여우는 모스 부호로 의사소통하지 않는다.)"
   ]
  },
  {
   "cell_type": "markdown",
   "metadata": {},
   "source": [
    "## 예제 입력 1\n",
    "\n",
    "1  \n",
    "toot woof wa ow ow ow pa blub blub pa toot pa blub pa pa ow pow toot  \n",
    "dog goes woof  \n",
    "fish goes blub  \n",
    "elephant goes toot  \n",
    "seal goes ow  \n",
    "what does the fox say?"
   ]
  },
  {
   "cell_type": "markdown",
   "metadata": {},
   "source": [
    "## 예제 출력 1\n",
    "\n",
    "wa pa pa pa pa pa pow"
   ]
  },
  {
   "cell_type": "markdown",
   "metadata": {},
   "source": [
    "## 풀이"
   ]
  },
  {
   "cell_type": "markdown",
   "metadata": {},
   "source": [
    "* 테스트케이스만큼 과정을 반복한다.\n",
    "    * 여기서 잘못되면 33%에서 \"틀렸습니다\"가 뜬다.\n",
    "* 녹음된 울음소리를 recode에 리스트로 입력받는다.\n",
    "* 동물들의 울음소리만 sounds에 저장한다.\n",
    "    * <동물> goes <소리>의 형태이므로 항상 길이가 3이다.\n",
    "    * what does the fox say?는 길이가 3보다 크므로 길이가 3보다 클 때 while문을 빠져나온다.\n",
    "* 여우를 제외한 동물의 울음소리를 반복문을 이용하여 제거한다.\n",
    "    * 녹음된 울음소리 중 다른 동물의 울음소리와 하나라도 같으면 new에 넣지 않고, 그렇지 않으면 넣는다.\n",
    "* new를 출력한다."
   ]
  },
  {
   "cell_type": "code",
   "execution_count": 2,
   "metadata": {},
   "outputs": [
    {
     "name": "stdout",
     "output_type": "stream",
     "text": [
      "1\n",
      "toot woof wa ow ow ow pa blub blub pa toot pa blub pa pa ow pow toot\n",
      "dog goes woof\n",
      "fish goes blub\n",
      "elephant goes toot\n",
      "seal goes ow\n",
      "what does the fox say?\n",
      "wa pa pa pa pa pa pow\n"
     ]
    }
   ],
   "source": [
    "import sys\n",
    "input = sys.stdin.readline\n",
    "\n",
    "t = int(input())\n",
    "for _ in range(t):\n",
    "    recode = list(input().rstrip().split())\n",
    "\n",
    "    sounds = []\n",
    "    while True:\n",
    "        s = list(input().rstrip().split())\n",
    "        if len(s) > 3:\n",
    "            break\n",
    "        sounds.append(s[2])\n",
    "    \n",
    "    new = []\n",
    "    for i in recode:\n",
    "        flag = True\n",
    "        for s in sounds:\n",
    "            if i == s:\n",
    "                flag = False\n",
    "                break\n",
    "        if flag:\n",
    "            new.append(i)\n",
    "        \n",
    "    print(*new)"
   ]
  },
  {
   "cell_type": "markdown",
   "metadata": {},
   "source": [
    "* 위의 과정과 '여우를 제외한 동물의 울음소리를 반복문을 이용하여 제거한다.' 부분을 제외하고는 같다.\n",
    "    * 동물의 울음소리를 반복문으로 돌면서 녹음된 울음소리 중 동물의 울음소리와 같으면 new에 넣지 않고, 그렇지 않으면 넣는다.\n",
    "    * recode에 new를 저장한다.\n",
    "* new를 출력한다."
   ]
  },
  {
   "cell_type": "code",
   "execution_count": 9,
   "metadata": {},
   "outputs": [
    {
     "name": "stdout",
     "output_type": "stream",
     "text": [
      "1\n",
      "toot woof wa ow ow ow pa blub blub pa toot pa blub pa pa ow pow toot\n",
      "dog goes woof\n",
      "fish goes blub\n",
      "elephant goes toot\n",
      "seal goes ow\n",
      "what does the fox say?\n",
      "wa pa pa pa pa pa pow\n"
     ]
    }
   ],
   "source": [
    "import sys\n",
    "input = sys.stdin.readline\n",
    "\n",
    "t = int(input())\n",
    "for _ in range(t):\n",
    "    recode = list(input().rstrip().split())\n",
    "\n",
    "    sounds = []\n",
    "    while True:\n",
    "        s = list(input().rstrip().split())\n",
    "        if len(s) > 3:\n",
    "            break\n",
    "        sounds.append(s[2])\n",
    "    \n",
    "    for s in sounds:\n",
    "        new = []\n",
    "        for i in recode:\n",
    "            if i != s:\n",
    "                new.append(i)\n",
    "        recode = new\n",
    "        \n",
    "    print(*new)"
   ]
  }
 ],
 "metadata": {
  "kernelspec": {
   "display_name": "Python 3",
   "language": "python",
   "name": "python3"
  },
  "language_info": {
   "codemirror_mode": {
    "name": "ipython",
    "version": 3
   },
   "file_extension": ".py",
   "mimetype": "text/x-python",
   "name": "python",
   "nbconvert_exporter": "python",
   "pygments_lexer": "ipython3",
   "version": "3.7.3"
  }
 },
 "nbformat": 4,
 "nbformat_minor": 2
}
