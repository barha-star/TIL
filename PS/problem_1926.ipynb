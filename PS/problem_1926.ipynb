{
 "cells": [
  {
   "cell_type": "markdown",
   "metadata": {},
   "source": [
    "# 그림\n",
    "\n",
    "https://www.acmicpc.net/problem/1926"
   ]
  },
  {
   "cell_type": "markdown",
   "metadata": {},
   "source": [
    "## 문제\n",
    "\n",
    "어떤 큰 도화지에 그림이 그려져 있을 때, 그 그림의 개수와, 그 그림 중 넓이가 가장 넓은 것의 넓이를 출력하여라. 단, 그림이라는 것은 1로 연결된 것을 한 그림이라고 정의하자. 가로나 세로로 연결된 것은 연결이 된 것이고 대각선으로 연결이 된 것은 떨어진 그림이다. 그림의 넓이란 그림에 포함된 1의 개수이다."
   ]
  },
  {
   "cell_type": "markdown",
   "metadata": {},
   "source": [
    "## 입력\n",
    "\n",
    "첫째 줄에 도화지의 세로 크기 n(1 ≤ n ≤ 500)과 가로 크기 m(1 ≤ m ≤ 500)이 차례로 주어진다.  \n",
    "두 번째 줄부터 n+1 줄 까지 그림의 정보가 주어진다. (단 그림의 정보는 0과 1이 공백을 두고 주어지며, 0은 색칠이 안된 부분, 1은 색칠이 된 부분을 의미한다)"
   ]
  },
  {
   "cell_type": "markdown",
   "metadata": {},
   "source": [
    "## 출력\n",
    "\n",
    "첫째 줄에는 그림의 개수,  \n",
    "둘째 줄에는 그 중 가장 넓은 그림의 넓이를 출력하여라.  \n",
    "단, 그림이 하나도 없는 경우에는 가장 넓은 그림의 넓이는 0이다."
   ]
  },
  {
   "cell_type": "markdown",
   "metadata": {},
   "source": [
    "## 예제 입력 1\n",
    "\n",
    "6 5  \n",
    "1 1 0 1 1  \n",
    "0 1 1 0 0  \n",
    "0 0 0 0 0  \n",
    "1 0 1 1 1  \n",
    "0 0 1 1 1  \n",
    "0 0 1 1 1"
   ]
  },
  {
   "cell_type": "markdown",
   "metadata": {},
   "source": [
    "## 예제 출력 1\n",
    "\n",
    "4  \n",
    "9"
   ]
  },
  {
   "cell_type": "markdown",
   "metadata": {},
   "source": [
    "## 풀이"
   ]
  },
  {
   "cell_type": "markdown",
   "metadata": {},
   "source": [
    "* bfs로 해결하기\n",
    "* paint에 도화지 정보를 입력받는다.\n",
    "* bfs 함수를 만들어 그림의 넓이를 구한다.\n",
    "* 이미 확인했는지 아닌지를 위해 check 리스트를 만든다.\n",
    "* paint 모든 곳을 돌며 그림인지 아닌지를 확인하고 그림이면 그림의 넓이를 구한다."
   ]
  },
  {
   "cell_type": "code",
   "execution_count": 1,
   "metadata": {},
   "outputs": [
    {
     "name": "stdout",
     "output_type": "stream",
     "text": [
      "6 5\n",
      "1 1 0 1 1\n",
      "0 1 1 0 0\n",
      "0 0 0 0 0\n",
      "1 0 1 1 1\n",
      "0 0 1 1 1\n",
      "0 0 1 1 1\n",
      "4\n",
      "9\n"
     ]
    }
   ],
   "source": [
    "import sys\n",
    "input = sys.stdin.readline\n",
    "\n",
    "n, m = map(int, input().split())\n",
    "paint = [list(map(int, input().split())) for _ in range(n)]\n",
    "\n",
    "dx = [-1, 1, 0, 0]\n",
    "dy = [0, 0, -1, 1]\n",
    "\n",
    "def bfs(x, y):\n",
    "    w = 1\n",
    "    que = [(x, y)]\n",
    "    while que:\n",
    "        x, y = que.pop()\n",
    "        for i in range(4):\n",
    "            nx, ny = x+dx[i], y+dy[i]\n",
    "            if 0 <= nx < n and 0 <= ny < m:\n",
    "                if paint[nx][ny] == 1 and not check[nx][ny]:\n",
    "                    w += 1\n",
    "                    check[nx][ny] = 1\n",
    "                    que.append((nx, ny))\n",
    "    return w\n",
    "\n",
    "cnt, wide = 0, 0\n",
    "check = [[0]*m for _ in range(n)]\n",
    "for i in range(n):\n",
    "    for j in range(m):\n",
    "        if paint[i][j] == 1 and not check[i][j]:\n",
    "            cnt += 1\n",
    "            check[i][j] = 1\n",
    "            wide = max(wide, bfs(i, j))\n",
    "print(cnt)\n",
    "print(wide)"
   ]
  }
 ],
 "metadata": {
  "kernelspec": {
   "display_name": "Python 3",
   "language": "python",
   "name": "python3"
  },
  "language_info": {
   "codemirror_mode": {
    "name": "ipython",
    "version": 3
   },
   "file_extension": ".py",
   "mimetype": "text/x-python",
   "name": "python",
   "nbconvert_exporter": "python",
   "pygments_lexer": "ipython3",
   "version": "3.7.3"
  }
 },
 "nbformat": 4,
 "nbformat_minor": 2
}
