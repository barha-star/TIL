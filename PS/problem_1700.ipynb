{
 "cells": [
  {
   "cell_type": "markdown",
   "metadata": {},
   "source": [
    "# 멀티탭 스케줄링\n",
    "\n",
    "https://www.acmicpc.net/problem/1700"
   ]
  },
  {
   "cell_type": "markdown",
   "metadata": {},
   "source": [
    "## 문제\n",
    "\n",
    "기숙사에서 살고 있는 준규는 한 개의 멀티탭을 이용하고 있다. 준규는 키보드, 헤어드라이기, 핸드폰 충전기, 디지털 카메라 충전기 등 여러 개의 전기용품을 사용하면서 어쩔 수 없이 각종 전기용품의 플러그를 뺐다 꽂았다 하는 불편함을 겪고 있다. 그래서 준규는 자신의 생활 패턴을 분석하여, 자기가 사용하고 있는 전기용품의 사용순서를 알아내었고, 이를 기반으로 플러그를 빼는 횟수를 최소화하는 방법을 고안하여 보다 쾌적한 생활환경을 만들려고 한다.  \n",
    "예를 들어 3 구(구멍이 세 개 달린) 멀티탭을 쓸 때, 전기용품의 사용 순서가 아래와 같이 주어진다면,  \n",
    "  \n",
    "1. 키보드\n",
    "2. 헤어드라이기\n",
    "3. 핸드폰 충전기\n",
    "4. 디지털 카메라 충전기\n",
    "5. 키보드\n",
    "6. 헤어드라이기\n",
    "  \n",
    "키보드, 헤어드라이기, 핸드폰 충전기의 플러그를 순서대로 멀티탭에 꽂은 다음 디지털 카메라 충전기 플러그를 꽂기 전에 핸드폰충전기 플러그를 빼는 것이 최적일 것이므로 플러그는 한 번만 빼면 된다. "
   ]
  },
  {
   "cell_type": "markdown",
   "metadata": {},
   "source": [
    "## 입력\n",
    "\n",
    "첫 줄에는 멀티탭 구멍의 개수 N (1 ≤ N ≤ 100)과 전기 용품의 총 사용횟수 K (1 ≤ K ≤ 100)가 정수로 주어진다.  \n",
    "두 번째 줄에는 전기용품의 이름이 K 이하의 자연수로 사용 순서대로 주어진다.  \n",
    "각 줄의 모든 정수 사이는 공백문자로 구분되어 있다. "
   ]
  },
  {
   "cell_type": "markdown",
   "metadata": {},
   "source": [
    "## 출력\n",
    "\n",
    "하나씩 플러그를 빼는 최소의 횟수를 출력하시오. "
   ]
  },
  {
   "cell_type": "markdown",
   "metadata": {},
   "source": [
    "## 예제 입력 1\n",
    "\n",
    "2 7  \n",
    "2 3 2 3 1 2 7"
   ]
  },
  {
   "cell_type": "markdown",
   "metadata": {},
   "source": [
    "## 예제 출력 1\n",
    "\n",
    "2"
   ]
  },
  {
   "cell_type": "markdown",
   "metadata": {},
   "source": [
    "## 풀이"
   ]
  },
  {
   "cell_type": "markdown",
   "metadata": {},
   "source": [
    "* 전기용품의 이름 list인 kind를 for문으로 돌면서\n",
    "    * kind[i]가 이미 plug에 꽂혀있으면 continue로 넘어간다.\n",
    "    * plug에 구멍이 남아있으면 kind[i]를 꽂고  넘어간다.\n",
    "    * kind[i]가 plug에 꽂혀있지 않으면서 plug에 구멍이 남아있지 않다면\n",
    "        * idx를 저장할 idxs list를 만들고\n",
    "        * plug에 들어있는 전기용품들이 다음 사용 순서가 언제인지 알아낸다.\n",
    "        * 만약 다음 사용 순서가 없다면 총 사용횟수의 최댓값이 100이기 때문에 그것보다 큰 101로 저장한다.\n",
    "        * plug_out을 idxs list의 가장 큰 index로 정하고(다음 사용 순서가 없거나 가장 멀리 있기 때문에) plug에서 delete 한다.\n",
    "        * plug에 kind[i]를 추가하고\n",
    "        * cnt(플러그 빼는 횟수)에 1을 더한다."
   ]
  },
  {
   "cell_type": "code",
   "execution_count": 1,
   "metadata": {},
   "outputs": [
    {
     "name": "stdout",
     "output_type": "stream",
     "text": [
      "2 7\n",
      "2 3 2 3 1 2 7\n",
      "2\n"
     ]
    }
   ],
   "source": [
    "n, k = map(int, input().split())\n",
    "kind = list(map(int, input().split()))\n",
    "plug = []\n",
    "cnt = 0\n",
    "\n",
    "for i in range(k):\n",
    "    if kind[i] in plug:\n",
    "        continue\n",
    "    if len(plug) < n:\n",
    "        plug.append(kind[i])\n",
    "        continue\n",
    "        \n",
    "    idxs = []\n",
    "    for j in range(n):\n",
    "        try:\n",
    "            idx = kind[i:].index(plug[j])\n",
    "        except:\n",
    "            idx = 101\n",
    "        idxs.append(idx)\n",
    "    \n",
    "    plug_out = idxs.index(max(idxs))\n",
    "    del plug[plug_out]\n",
    "    plug.append(kind[i])\n",
    "    cnt += 1\n",
    "print(cnt)"
   ]
  },
  {
   "cell_type": "markdown",
   "metadata": {},
   "source": [
    "* 위의 내용과 동일\n",
    "* 만약 다음 사용 순서가 없다면 총 사용횟수의 최댓값이 100이기 때문에 그것보다 큰 101로 저장한다.\n",
    "* 이때, 이 index를 plug_out으로 정하면 되기 때문에 for문을 마저 돌지 않고 break로 빠져나오면 된다."
   ]
  },
  {
   "cell_type": "code",
   "execution_count": 2,
   "metadata": {},
   "outputs": [
    {
     "name": "stdout",
     "output_type": "stream",
     "text": [
      "2 7\n",
      "2 3 2 3 1 2 7\n",
      "2\n"
     ]
    }
   ],
   "source": [
    "n, k = map(int, input().split())\n",
    "kind = list(map(int, input().split()))\n",
    "plug = []\n",
    "cnt = 0\n",
    "\n",
    "for i in range(k):\n",
    "    if kind[i] in plug:\n",
    "        continue\n",
    "    if len(plug) < n:\n",
    "        plug.append(kind[i])\n",
    "        continue\n",
    "        \n",
    "    idxs = []\n",
    "    flag = True\n",
    "    for j in range(n):\n",
    "        try:\n",
    "            idx = kind[i:].index(plug[j])\n",
    "        except:\n",
    "            idx = 101\n",
    "            flag = False\n",
    "        idxs.append(idx)\n",
    "        if not flag:\n",
    "            break\n",
    "    \n",
    "    plug_out = idxs.index(max(idxs))\n",
    "    del plug[plug_out]\n",
    "    plug.append(kind[i])\n",
    "    cnt += 1\n",
    "print(cnt)"
   ]
  }
 ],
 "metadata": {
  "kernelspec": {
   "display_name": "Python 3",
   "language": "python",
   "name": "python3"
  },
  "language_info": {
   "codemirror_mode": {
    "name": "ipython",
    "version": 3
   },
   "file_extension": ".py",
   "mimetype": "text/x-python",
   "name": "python",
   "nbconvert_exporter": "python",
   "pygments_lexer": "ipython3",
   "version": "3.7.3"
  }
 },
 "nbformat": 4,
 "nbformat_minor": 2
}
