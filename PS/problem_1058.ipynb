{
 "cells": [
  {
   "cell_type": "markdown",
   "metadata": {},
   "source": [
    "# 친구\n",
    "\n",
    "https://www.acmicpc.net/problem/1058"
   ]
  },
  {
   "cell_type": "markdown",
   "metadata": {},
   "source": [
    "## 문제\n",
    "\n",
    "지민이는 세계에서 가장 유명한 사람이 누구인지 궁금해졌다. 가장 유명한 사람을 구하는 방법은 각 사람의 2-친구를 구하면 된다. 어떤 사람 A가 또다른 사람 B의 2-친구가 되기 위해선, 두 사람이 친구이거나, A와 친구이고, B와 친구인 C가 존재해야 된다. 여기서 가장 유명한 사람은 2-친구의 수가 가장 많은 사람이다. 가장 유명한 사람의 2-친구의 수를 출력하는 프로그램을 작성하시오.  \n",
    "A와 B가 친구면, B와 A도 친구이고, A와 A는 친구가 아니다."
   ]
  },
  {
   "cell_type": "markdown",
   "metadata": {},
   "source": [
    "## 입력\n",
    "\n",
    "첫째 줄에 사람의 수 N이 주어진다. N은 50보다 작거나 같은 자연수이다.  \n",
    "둘째 줄부터 N개의 줄에 각 사람이 친구이면 Y, 아니면 N이 주어진다. (예제를 참고)"
   ]
  },
  {
   "cell_type": "markdown",
   "metadata": {},
   "source": [
    "## 출력\n",
    "\n",
    "첫째 줄에 가장 유명한 사람의 2-친구의 수를 출력한다."
   ]
  },
  {
   "cell_type": "markdown",
   "metadata": {},
   "source": [
    "## 예제 입력 1\n",
    "\n",
    "3  \n",
    "NYY  \n",
    "YNY  \n",
    "YYN"
   ]
  },
  {
   "cell_type": "markdown",
   "metadata": {},
   "source": [
    "## 예제 출력 1\n",
    "\n",
    "2"
   ]
  },
  {
   "cell_type": "markdown",
   "metadata": {},
   "source": [
    "## 풀이"
   ]
  },
  {
   "cell_type": "markdown",
   "metadata": {},
   "source": [
    "* bfs를 이용해서 해결한다.\n",
    "* 모든 친구를 for문으로 돌아 bfs로 2-친구의 수를 확인한다."
   ]
  },
  {
   "cell_type": "code",
   "execution_count": 1,
   "metadata": {},
   "outputs": [
    {
     "name": "stdout",
     "output_type": "stream",
     "text": [
      "3\n",
      "NYY\n",
      "YNY\n",
      "YYN\n",
      "2\n"
     ]
    }
   ],
   "source": [
    "from collections import deque\n",
    "import sys\n",
    "input = sys.stdin.readline\n",
    "\n",
    "n = int(input())\n",
    "friends = [[0 for _ in range(n)] for _ in range(n)]\n",
    "for i in range(n):\n",
    "    f = list(input().rstrip())\n",
    "    for j in range(n):\n",
    "        if f[j] == 'Y':\n",
    "            friends[i][j] = 1\n",
    "\n",
    "def bfs(n, i):\n",
    "    check = [0] * n\n",
    "    check[i] = 1\n",
    "    que = deque([(i, 0)])\n",
    "    count = 0\n",
    "    while que:\n",
    "        j, cnt = que.popleft()\n",
    "        if cnt >= 2:\n",
    "            continue\n",
    "            \n",
    "        for k in range(n):\n",
    "            if not check[k] and friends[j][k]:\n",
    "                count += 1\n",
    "                check[k] = 1\n",
    "                que.append((k, cnt+1))\n",
    "                \n",
    "    return count\n",
    "        \n",
    "res = 0\n",
    "for i in range(n):\n",
    "    res = max(res, bfs(n, i))\n",
    "print(res)"
   ]
  },
  {
   "cell_type": "markdown",
   "metadata": {},
   "source": [
    "* Floyd-Warshall 알고리즘을 이용해서 해결한다."
   ]
  },
  {
   "cell_type": "code",
   "execution_count": 2,
   "metadata": {},
   "outputs": [
    {
     "name": "stdout",
     "output_type": "stream",
     "text": [
      "3\n",
      "NYY\n",
      "YNY\n",
      "YYN\n",
      "2\n"
     ]
    }
   ],
   "source": [
    "import sys\n",
    "input = sys.stdin.readline\n",
    "\n",
    "n = int(input())\n",
    "friends = [list(input().rstrip()) for _ in range(n)]\n",
    "    \n",
    "dp = [[0 for _ in range(n)] for _ in range(n)]\n",
    "\n",
    "for k in range(n):\n",
    "    for i in range(n):\n",
    "        for j in range(n):\n",
    "            if i == j:\n",
    "                continue\n",
    "            if friends[i][j] == 'Y' or (friends[i][k] == 'Y' and friends[k][j] == 'Y'):\n",
    "                dp[i][j] = 1\n",
    "\n",
    "res = 0\n",
    "for row in dp:\n",
    "    res = max(res, sum(row))\n",
    "print(res)"
   ]
  }
 ],
 "metadata": {
  "kernelspec": {
   "display_name": "Python 3",
   "language": "python",
   "name": "python3"
  },
  "language_info": {
   "codemirror_mode": {
    "name": "ipython",
    "version": 3
   },
   "file_extension": ".py",
   "mimetype": "text/x-python",
   "name": "python",
   "nbconvert_exporter": "python",
   "pygments_lexer": "ipython3",
   "version": "3.7.3"
  }
 },
 "nbformat": 4,
 "nbformat_minor": 2
}
