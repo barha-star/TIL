{
 "cells": [
  {
   "cell_type": "markdown",
   "metadata": {},
   "source": [
    "# 숫자 정사각형\n",
    "\n",
    "https://www.acmicpc.net/problem/1051"
   ]
  },
  {
   "cell_type": "markdown",
   "metadata": {},
   "source": [
    "## 문제\n",
    "\n",
    "NxM크기의 직사각형이 있다. 각 칸은 한 자리 숫자가 적혀 있다. 이 직사각형에서 꼭짓점에 쓰여 있는 수가 모두 같은 가장 큰 정사각형을 찾는 프로그램을 작성하시오. 이때, 정사각형은 행 또는 열에 평행해야 한다."
   ]
  },
  {
   "cell_type": "markdown",
   "metadata": {},
   "source": [
    "## 입력\n",
    "\n",
    "첫째 줄에 N과 M이 주어진다. N과 M은 50보다 작거나 같은 자연수이다.  \n",
    "둘째 줄부터 N개의 줄에 수가 주어진다."
   ]
  },
  {
   "cell_type": "markdown",
   "metadata": {},
   "source": [
    "## 출력\n",
    "\n",
    "첫째 줄에 정답 정사각형의 크기를 출력한다."
   ]
  },
  {
   "cell_type": "markdown",
   "metadata": {},
   "source": [
    "## 예제 입력 1\n",
    "\n",
    "3 5  \n",
    "42101  \n",
    "22100  \n",
    "22101"
   ]
  },
  {
   "cell_type": "markdown",
   "metadata": {},
   "source": [
    "## 예제 출력 1\n",
    "\n",
    "9"
   ]
  },
  {
   "cell_type": "markdown",
   "metadata": {},
   "source": [
    "## 풀이"
   ]
  },
  {
   "cell_type": "code",
   "execution_count": 1,
   "metadata": {},
   "outputs": [
    {
     "name": "stdout",
     "output_type": "stream",
     "text": [
      "3 5\n",
      "42101\n",
      "22100\n",
      "22101\n",
      "9\n"
     ]
    }
   ],
   "source": [
    "import sys\n",
    "input = sys.stdin.readline\n",
    "\n",
    "n, m = map(int, input().split())\n",
    "square = [list(map(int, input().rstrip())) for _ in range(n)]\n",
    "s = min(n, m)\n",
    "res = 1\n",
    "flag = False\n",
    "for k in range(s, 1, -1):\n",
    "    if flag:\n",
    "        break\n",
    "    for i in range(n-k+1):\n",
    "        if flag:\n",
    "            break\n",
    "        for j in range(m-k+1):\n",
    "            stand = square[i][j]\n",
    "            if stand == square[i+k-1][j] and stand == square[i][j+k-1] and stand == square[i+k-1][j+k-1]:\n",
    "                res = k\n",
    "                flag = True\n",
    "                break\n",
    "                \n",
    "print(res**2)"
   ]
  }
 ],
 "metadata": {
  "kernelspec": {
   "display_name": "Python 3",
   "language": "python",
   "name": "python3"
  },
  "language_info": {
   "codemirror_mode": {
    "name": "ipython",
    "version": 3
   },
   "file_extension": ".py",
   "mimetype": "text/x-python",
   "name": "python",
   "nbconvert_exporter": "python",
   "pygments_lexer": "ipython3",
   "version": "3.7.3"
  }
 },
 "nbformat": 4,
 "nbformat_minor": 2
}
