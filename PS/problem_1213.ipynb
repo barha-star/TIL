{
 "cells": [
  {
   "cell_type": "markdown",
   "metadata": {},
   "source": [
    "# 팰린드롬 만들기\n",
    "\n",
    "https://www.acmicpc.net/problem/1213"
   ]
  },
  {
   "cell_type": "markdown",
   "metadata": {},
   "source": [
    "## 문제\n",
    "\n",
    "임한수와 임문빈은 서로 사랑하는 사이이다.  \n",
    "임한수는 세상에서 팰린드롬인 문자열을 너무 좋아하기 때문에, 둘의 백일을 기념해서 임문빈은 팰린드롬을 선물해주려고 한다.  \n",
    "임문빈은 임한수의 영어 이름으로 팰린드롬을 만들려고 하는데, 임한수의 영어 이름의 알파벳 순서를 적절히 바꿔서 팰린드롬을 만들려고 한다.  \n",
    "임문빈을 도와 임한수의 영어 이름을 팰린드롬으로 바꾸는 프로그램을 작성하시오."
   ]
  },
  {
   "cell_type": "markdown",
   "metadata": {},
   "source": [
    "## 입력\n",
    "\n",
    "첫째 줄에 임한수의 영어 이름이 있다. 알파벳 대문자로만 된 최대 50글자이다."
   ]
  },
  {
   "cell_type": "markdown",
   "metadata": {},
   "source": [
    "## 출력\n",
    "\n",
    "첫째 줄에 문제의 정답을 출력한다. 만약 불가능할 때는 \"I'm Sorry Hansoo\"를 출력한다. 정답이 여러 개일 경우에는 사전순으로 앞서는 것을 출력한다."
   ]
  },
  {
   "cell_type": "markdown",
   "metadata": {},
   "source": [
    "## 예제 입력 1\n",
    "\n",
    "AABB"
   ]
  },
  {
   "cell_type": "markdown",
   "metadata": {},
   "source": [
    "## 예제 출력 1\n",
    "\n",
    "ABBA"
   ]
  },
  {
   "cell_type": "markdown",
   "metadata": {},
   "source": [
    "## 풀이"
   ]
  },
  {
   "cell_type": "markdown",
   "metadata": {},
   "source": [
    "* 영어 이름을 names에 입력받고 name_cnt에 영어 이름에 포함된 알파벳 대문자 수를 저장한다.\n",
    "* for문을 돌면서 홀수인 알파벳 대문자가 몇 개 있는지 확인하고 홀수 알파벳과 짝수 알파벳을 저장한다.\n",
    "* 홀수가 2개 이상이면 팰린드롬을 만들 수 없기 때문에 \"I'm Sorry Hansoo\"를 출력한다.\n",
    "* 홀수가 1개 이하라면 짝수 알파벳 + 홀수 알파벳 + 짝수 알파벳 역순을 출력한다."
   ]
  },
  {
   "cell_type": "code",
   "execution_count": 1,
   "metadata": {},
   "outputs": [
    {
     "name": "stdout",
     "output_type": "stream",
     "text": [
      "AABB\n",
      "ABBA\n"
     ]
    }
   ],
   "source": [
    "names = input()\n",
    "name_cnt = [0 for _ in range(26)]\n",
    "for name in names:\n",
    "    name_cnt[ord(name)-65] += 1\n",
    "    \n",
    "odd = 0\n",
    "odd_alpha = ''\n",
    "alpha = ''\n",
    "for i in range(26):\n",
    "    if name_cnt[i] % 2 == 1:\n",
    "        odd += 1\n",
    "        odd_alpha += chr(i+65)\n",
    "    alpha += chr(i+65) * (name_cnt[i] // 2)\n",
    "        \n",
    "if odd > 1:\n",
    "    print(\"I'm Sorry Hansoo\")\n",
    "else:\n",
    "    print(alpha+odd_alpha+alpha[::-1])"
   ]
  }
 ],
 "metadata": {
  "kernelspec": {
   "display_name": "Python 3",
   "language": "python",
   "name": "python3"
  },
  "language_info": {
   "codemirror_mode": {
    "name": "ipython",
    "version": 3
   },
   "file_extension": ".py",
   "mimetype": "text/x-python",
   "name": "python",
   "nbconvert_exporter": "python",
   "pygments_lexer": "ipython3",
   "version": "3.7.3"
  }
 },
 "nbformat": 4,
 "nbformat_minor": 2
}
