{
 "cells": [
  {
   "cell_type": "markdown",
   "metadata": {},
   "source": [
    "# 문자열 집합\n",
    "\n",
    "https://www.acmicpc.net/problem/14425"
   ]
  },
  {
   "cell_type": "markdown",
   "metadata": {},
   "source": [
    "## 문제\n",
    "\n",
    "총 N개의 문자열로 이루어진 집합 S가 주어진다.  \n",
    "입력으로 주어지는 M개의 문자열 중에서 집합 S에 포함되어 있는 것이 총 몇 개인지 구하는 프로그램을 작성하시오."
   ]
  },
  {
   "cell_type": "markdown",
   "metadata": {},
   "source": [
    "## 입력\n",
    "\n",
    "첫째 줄에 문자열의 개수 N과 M (1 ≤ N ≤ 10,000, 1 ≤ M ≤ 10,000)이 주어진다.   \n",
    "다음 N개의 줄에는 집합 S에 포함되어 있는 문자열들이 주어진다.  \n",
    "다음 M개의 줄에는 검사해야 하는 문자열들이 주어진다.  \n",
    "입력으로 주어지는 문자열은 알파벳 소문자로만 이루어져 있으며, 길이는 500을 넘지 않는다. 집합 S에 같은 문자열이 여러 번 주어지는 경우는 없다."
   ]
  },
  {
   "cell_type": "markdown",
   "metadata": {},
   "source": [
    "## 출력\n",
    "\n",
    "첫째 줄에 M개의 문자열 중에 총 몇 개가 집합 S에 포함되어 있는지 출력한다."
   ]
  },
  {
   "cell_type": "markdown",
   "metadata": {},
   "source": [
    "## 예제 입력 1\n",
    "\n",
    "5 11  \n",
    "baekjoononlinejudge  \n",
    "startlink  \n",
    "codeplus  \n",
    "sundaycoding  \n",
    "codingsh  \n",
    "baekjoon  \n",
    "codeplus  \n",
    "codeminus  \n",
    "startlink  \n",
    "starlink  \n",
    "sundaycoding  \n",
    "codingsh  \n",
    "codinghs  \n",
    "sondaycoding  \n",
    "startrink  \n",
    "icerink"
   ]
  },
  {
   "cell_type": "markdown",
   "metadata": {},
   "source": [
    "## 예제 출력 1\n",
    "\n",
    "4"
   ]
  },
  {
   "cell_type": "markdown",
   "metadata": {},
   "source": [
    "## 풀이"
   ]
  },
  {
   "cell_type": "markdown",
   "metadata": {},
   "source": [
    "__Trie를 공부했으므로 Trie로 풀어보기__  \n",
    "* Trie를 구현한다.\n",
    "* 집합 S는 Trie의 insert를 이용한다.\n",
    "* M개의 문자열은 search를 통해 집합 S에 포함되어 있는지 여부를 판단한다.\n",
    "______\n",
    "* python 시간 초과\n",
    "* pypy 정답"
   ]
  },
  {
   "cell_type": "code",
   "execution_count": 1,
   "metadata": {},
   "outputs": [
    {
     "name": "stdout",
     "output_type": "stream",
     "text": [
      "5 11\n",
      "baekjoononlinejudge\n",
      "startlink\n",
      "codeplus\n",
      "sundaycoding\n",
      "codingsh\n",
      "baekjoon\n",
      "codeplus\n",
      "codeminus\n",
      "startlink\n",
      "starlink\n",
      "sundaycoding\n",
      "codingsh\n",
      "codinghs\n",
      "sondaycoding\n",
      "startrink\n",
      "icerink\n",
      "4\n"
     ]
    }
   ],
   "source": [
    "class Node(object):\n",
    "    def __init__(self, key, data=None):\n",
    "        self.key = key\n",
    "        self.data = data\n",
    "        self.children = {}\n",
    "        \n",
    "class Trie(object):\n",
    "    def __init__(self):\n",
    "        self.root = Node(None)\n",
    "        \n",
    "    def insert(self, string):\n",
    "        curr_node = self.root\n",
    "        \n",
    "        for s in string:\n",
    "            if s not in curr_node.children:\n",
    "                curr_node.children[s] = Node(s)\n",
    "            curr_node = curr_node.children[s]\n",
    "            \n",
    "        curr_node.data = string\n",
    "        \n",
    "    def search(self, string):\n",
    "        curr_node = self.root\n",
    "        \n",
    "        for s in string:\n",
    "            if s in curr_node.children:\n",
    "                curr_node = curr_node.children[s]\n",
    "            else:\n",
    "                return False\n",
    "        if curr_node.data:\n",
    "            return True\n",
    "        return False\n",
    "    \n",
    "\n",
    "import sys\n",
    "input = sys.stdin.readline\n",
    "\n",
    "n, m = map(int, input().split())\n",
    "trie = Trie()\n",
    "cnt = 0\n",
    "for i in range(n+m):\n",
    "    string = input().rstrip()\n",
    "    if i < n:\n",
    "        trie.insert(string)\n",
    "    else:\n",
    "        if trie.search(string):\n",
    "            cnt += 1\n",
    "\n",
    "print(cnt)"
   ]
  },
  {
   "cell_type": "markdown",
   "metadata": {},
   "source": [
    "* Trie는 Python에서 시간 초과이므로 Trie가 아닌 다른 방법으로 풀어본다.\n",
    "* N과 M의 범위가 1이상 10,000이하 이므로 for문을 통해 확인한다."
   ]
  },
  {
   "cell_type": "code",
   "execution_count": 2,
   "metadata": {},
   "outputs": [
    {
     "name": "stdout",
     "output_type": "stream",
     "text": [
      "5 11\n",
      "baekjoononlinejudge\n",
      "startlink\n",
      "codeplus\n",
      "sundaycoding\n",
      "codingsh\n",
      "baekjoon\n",
      "codeplus\n",
      "codeminus\n",
      "startlink\n",
      "starlink\n",
      "sundaycoding\n",
      "codingsh\n",
      "codinghs\n",
      "sondaycoding\n",
      "startrink\n",
      "icerink\n",
      "4\n"
     ]
    }
   ],
   "source": [
    "import sys\n",
    "input = sys.stdin.readline\n",
    "\n",
    "n, m = map(int, input().split())\n",
    "strings = {input().rstrip() for _ in range(n)}\n",
    "cnt = 0\n",
    "\n",
    "for j in range(m):\n",
    "    string = input().rstrip()\n",
    "    if string in strings:\n",
    "        cnt += 1\n",
    "print(cnt)"
   ]
  }
 ],
 "metadata": {
  "kernelspec": {
   "display_name": "Python 3",
   "language": "python",
   "name": "python3"
  },
  "language_info": {
   "codemirror_mode": {
    "name": "ipython",
    "version": 3
   },
   "file_extension": ".py",
   "mimetype": "text/x-python",
   "name": "python",
   "nbconvert_exporter": "python",
   "pygments_lexer": "ipython3",
   "version": "3.7.3"
  }
 },
 "nbformat": 4,
 "nbformat_minor": 2
}
