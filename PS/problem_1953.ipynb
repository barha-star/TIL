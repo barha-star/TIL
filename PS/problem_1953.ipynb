{
 "cells": [
  {
   "cell_type": "markdown",
   "metadata": {},
   "source": [
    "# 팀분배\n",
    "\n",
    "https://www.acmicpc.net/problem/1953"
   ]
  },
  {
   "cell_type": "markdown",
   "metadata": {},
   "source": [
    "## 문제\n",
    "\n",
    "2007년 1월 9일(화)는 원장선생님의 말씀대로 어제와 같이 하루 일과를 팀플레이를 통해 하려고 한다. 이 날은 특별히 청팀과 백팀으로 두 팀을 나누어 팀전을 하려 한다. 하지만 어제 하루 팀플레이를 하면서, 서로 같은 팀을 하기 싫어하는 사람들이 생겼다.  \n",
    "이제 우리가 할 일은 다음과 같다. 사람들이 각각 싫어하는 사람들의 정보가 주어져 있을 때, 그 사람들의 요구를 수용하여 서로 싫어하는 사람은 같은 팀에 넣지 않으려 한다. 이 조건을 만족하여 n명의 사람들 두 팀으로 나누는 프로그램을 작성하여라."
   ]
  },
  {
   "cell_type": "markdown",
   "metadata": {},
   "source": [
    "## 입력\n",
    "\n",
    "첫 줄에는 학생들의 수 n (1 ≤ n ≤ 100)이 주어진다.  \n",
    "그리고 둘째 줄부터 n+1번째 줄까지 서로가 싫어하는 사람들의 정보가 주어진다.  \n",
    "i+1번째 줄에는 i번째 사람이 싫어하는 사람의 수와 싫어하는 사람들이 나온다.  \n",
    "모든 사람이 싫어하는 사람이 단 한 명도 없는 경우는 없다."
   ]
  },
  {
   "cell_type": "markdown",
   "metadata": {},
   "source": [
    "## 출력\n",
    "\n",
    "첫줄에는 청팀의 사람의 수를 출력하고,  \n",
    "그리고 둘째 줄에는 청팀에 속한 사람들을 오름차순으로 나열한다.  \n",
    "그리고 셋째 줄과 넷째 줄은 위와 같은 방법으로 백팀에 속한 인원의 수, 백팀에 속한 사람들을 출력한다.  \n",
    "단 답이 여러 가지 일 경우에는 한 가지만 출력하여도 좋다."
   ]
  },
  {
   "cell_type": "markdown",
   "metadata": {},
   "source": [
    "## 예제 입력 1\n",
    "\n",
    "5  \n",
    "1 3  \n",
    "1 5  \n",
    "2 1 4  \n",
    "1 3  \n",
    "1 2"
   ]
  },
  {
   "cell_type": "markdown",
   "metadata": {},
   "source": [
    "## 예제 출력 1\n",
    "\n",
    "3  \n",
    "1 4 5  \n",
    "2  \n",
    "2 3"
   ]
  },
  {
   "cell_type": "markdown",
   "metadata": {},
   "source": [
    "## 풀이"
   ]
  },
  {
   "cell_type": "code",
   "execution_count": 1,
   "metadata": {},
   "outputs": [
    {
     "name": "stdout",
     "output_type": "stream",
     "text": [
      "5\n",
      "1 3\n",
      "1 5\n",
      "2 1 4\n",
      "1 3\n",
      "1 2\n",
      "3\n",
      "1 2 4\n",
      "2\n",
      "3 5\n"
     ]
    }
   ],
   "source": [
    "import sys\n",
    "sys.setrecursionlimit(10**6)\n",
    "# input = sys.stdin.readline\n",
    "\n",
    "n = int(input())\n",
    "rel = [[0 for _ in range(n)] for _ in range(n)]\n",
    "for i in range(n):\n",
    "    r = list(map(int, input().split()))\n",
    "    for j in r[1:]:\n",
    "        rel[i][j-1] = 1\n",
    "        rel[j-1][i] = 1\n",
    "        \n",
    "visit = [0] * n\n",
    "res = [0] * n\n",
    "\n",
    "def dfs(i, t):\n",
    "    res[i] = t\n",
    "    visit[i] = 1\n",
    "    \n",
    "    for j in range(n):\n",
    "        if visit[j] == 0 and rel[i][j] == 1:\n",
    "            dfs(j, -t)\n",
    "\n",
    "for i in range(n):\n",
    "    if visit[i] == 0:\n",
    "        dfs(i, 1)\n",
    "        \n",
    "t1, t2 = [], []\n",
    "for i in range(n):\n",
    "    if res[i] == 1:\n",
    "        t1.append(i+1)\n",
    "    else:\n",
    "        t2.append(i+1)\n",
    "        \n",
    "print(len(t1))\n",
    "print(*t1)\n",
    "print(len(t2))\n",
    "print(*t2)"
   ]
  }
 ],
 "metadata": {
  "kernelspec": {
   "display_name": "Python 3",
   "language": "python",
   "name": "python3"
  },
  "language_info": {
   "codemirror_mode": {
    "name": "ipython",
    "version": 3
   },
   "file_extension": ".py",
   "mimetype": "text/x-python",
   "name": "python",
   "nbconvert_exporter": "python",
   "pygments_lexer": "ipython3",
   "version": "3.7.3"
  }
 },
 "nbformat": 4,
 "nbformat_minor": 2
}
