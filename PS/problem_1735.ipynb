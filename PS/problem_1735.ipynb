{
 "cells": [
  {
   "cell_type": "markdown",
   "metadata": {},
   "source": [
    "# 분수의 합\n",
    "\n",
    "https://www.acmicpc.net/problem/1735"
   ]
  },
  {
   "cell_type": "markdown",
   "metadata": {},
   "source": [
    "## 문제\n",
    "\n",
    "분수 A/B는 분자가 A, 분모가 B인 분수를 의미한다. A와 B는 모두 자연수라고 하자.  \n",
    "두 분수의 합 또한 분수로 표현할 수 있다. 두 분수가 주어졌을 때, 그 합을 기약분수의 형태로 구하는 프로그램을 작성하시오. 기약분수란 더 이상 약분되지 않는 분수를 의미한다."
   ]
  },
  {
   "cell_type": "markdown",
   "metadata": {},
   "source": [
    "## 입력\n",
    "\n",
    "첫째 줄과 둘째 줄에, 각 분수의 분자와 분모를 뜻하는 두 개의 자연수가 순서대로 주어진다. 입력되는 네 자연수는 모두 30,000 이하이다."
   ]
  },
  {
   "cell_type": "markdown",
   "metadata": {},
   "source": [
    "## 출력\n",
    "\n",
    "첫째 줄에 구하고자 하는 기약분수의 분자와 분모를 뜻하는 두 개의 자연수를 빈 칸을 사이에 두고 순서대로 출력한다."
   ]
  },
  {
   "cell_type": "markdown",
   "metadata": {},
   "source": [
    "## 예제 입력 1\n",
    "\n",
    "2 7  \n",
    "3 5"
   ]
  },
  {
   "cell_type": "markdown",
   "metadata": {},
   "source": [
    "## 예제 출력 1\n",
    "\n",
    "31 35"
   ]
  },
  {
   "cell_type": "markdown",
   "metadata": {},
   "source": [
    "## 풀이"
   ]
  },
  {
   "cell_type": "markdown",
   "metadata": {},
   "source": [
    "* 분모들의 최소공배수로 통분하여 계산한다.\n",
    "* 최대공약수를 구하는 gcd 함수를 만든다.\n",
    "* 분모들의 최소공배수로 통분하여 분모를 구하고 분자도 구한다.\n",
    "* 분자와 분모를 기약분수로 만들기 위해 최대공약수로 나눈다."
   ]
  },
  {
   "cell_type": "code",
   "execution_count": 1,
   "metadata": {},
   "outputs": [
    {
     "name": "stdout",
     "output_type": "stream",
     "text": [
      "2 7\n",
      "3 5\n",
      "31 35\n"
     ]
    }
   ],
   "source": [
    "def gcd(a, b):\n",
    "    while a % b != 0:\n",
    "        mod = a % b\n",
    "        a = b\n",
    "        b = mod\n",
    "    return b\n",
    "\n",
    "a, b = map(int, input().split())\n",
    "c, d = map(int, input().split())\n",
    "\n",
    "g1 = gcd(b, d)\n",
    "demon = b * d // g1\n",
    "mole = a * (d//g1) + c * (b//g1)\n",
    "\n",
    "g2 = gcd(demon, mole)\n",
    "print(mole//g2, demon//g2)"
   ]
  },
  {
   "cell_type": "markdown",
   "metadata": {},
   "source": [
    "* 위의 풀이에서 최소공배수로 통분하지 않고 두 분모들의 곱을 분모로 구하고 분자도 구한 후 최대공약수로 나누면 된다."
   ]
  },
  {
   "cell_type": "code",
   "execution_count": 2,
   "metadata": {},
   "outputs": [
    {
     "name": "stdout",
     "output_type": "stream",
     "text": [
      "2 7\n",
      "3 5\n",
      "31 35\n"
     ]
    }
   ],
   "source": [
    "def gcd(a, b):\n",
    "    while a % b != 0:\n",
    "        mod = a % b\n",
    "        a = b\n",
    "        b = mod\n",
    "    return b\n",
    "\n",
    "a, b = map(int, input().split())\n",
    "c, d = map(int, input().split())\n",
    "\n",
    "g = gcd(a*d+b*c, b*d)\n",
    "print((a*d+b*c)//g, (b*d)//g)"
   ]
  }
 ],
 "metadata": {
  "kernelspec": {
   "display_name": "Python 3",
   "language": "python",
   "name": "python3"
  },
  "language_info": {
   "codemirror_mode": {
    "name": "ipython",
    "version": 3
   },
   "file_extension": ".py",
   "mimetype": "text/x-python",
   "name": "python",
   "nbconvert_exporter": "python",
   "pygments_lexer": "ipython3",
   "version": "3.7.3"
  }
 },
 "nbformat": 4,
 "nbformat_minor": 2
}
