{
 "cells": [
  {
   "cell_type": "markdown",
   "metadata": {},
   "source": [
    "# 줄 세우기\n",
    "\n",
    "https://www.acmicpc.net/problem/2252"
   ]
  },
  {
   "cell_type": "markdown",
   "metadata": {},
   "source": [
    "## 문제\n",
    "\n",
    "N명의 학생들을 키 순서대로 줄을 세우려고 한다. 각 학생의 키를 직접 재서 정렬하면 간단하겠지만, 마땅한 방법이 없어서 두 학생의 키를 비교하는 방법을 사용하기로 하였다. 그나마도 모든 학생들을 다 비교해 본 것이 아니고, 일부 학생들의 키만을 비교해 보았다.  \n",
    "일부 학생들의 키를 비교한 결과가 주어졌을 때, 줄을 세우는 프로그램을 작성하시오."
   ]
  },
  {
   "cell_type": "markdown",
   "metadata": {},
   "source": [
    "## 입력\n",
    "\n",
    "첫째 줄에 N(1≤N≤32,000), M(1≤M≤100,000)이 주어진다. M은 키를 비교한 회수이다.  \n",
    "다음 M개의 줄에는 키를 비교한 두 학생의 번호 A, B가 주어진다. 이는 학생 A가 학생 B의 앞에 서야 한다는 의미이다.  \n",
    "학생들의 번호는 1번부터 N번이다."
   ]
  },
  {
   "cell_type": "markdown",
   "metadata": {},
   "source": [
    "## 출력\n",
    "\n",
    "첫째 줄부터 앞에서부터 줄을 세운 결과를 출력한다. 답이 여러 가지인 경우에는 아무거나 출력한다."
   ]
  },
  {
   "cell_type": "markdown",
   "metadata": {},
   "source": [
    "## 예제 입력 1\n",
    "\n",
    "3 2  \n",
    "1 3  \n",
    "2 3"
   ]
  },
  {
   "cell_type": "markdown",
   "metadata": {},
   "source": [
    "## 예제 출력 1\n",
    "\n",
    "1 2 3"
   ]
  },
  {
   "cell_type": "markdown",
   "metadata": {},
   "source": [
    "## 풀이"
   ]
  },
  {
   "cell_type": "markdown",
   "metadata": {},
   "source": [
    "* 키를 비교한 두 학생의 번호 A, B를 입력받고 heights에 A 다음에 B가 와야 한다는 것을 저장하고 students에 B 앞에 A가 와야 하므로 +1을 한다.\n",
    "* students의 값이 0인 곳은 앞에 와야 하는 학생이 없으므로 먼저 줄을 세운다.\n",
    "* i 학생을 줄을 세우면 i 학생 다음에 와야 하는 학생들을 heights를 통해 탐색하고 students에서 -1을 한다.\n",
    "* 위의 두 과정을 반복하여 줄을 세운 결과를 출력한다."
   ]
  },
  {
   "cell_type": "code",
   "execution_count": 1,
   "metadata": {},
   "outputs": [
    {
     "name": "stdout",
     "output_type": "stream",
     "text": [
      "3 2\n",
      "1 3\n",
      "2 3\n",
      "1 2 3\n"
     ]
    }
   ],
   "source": [
    "from collections import deque\n",
    "\n",
    "n, m = map(int, input().split())\n",
    "students = [0 for _ in range(n)]\n",
    "heights = [[] for _ in range(n)]\n",
    "for _ in range(m):\n",
    "    a, b = map(int, input().split())\n",
    "    students[b-1] += 1\n",
    "    heights[a-1].append(b-1)\n",
    "    \n",
    "que = deque()\n",
    "for i in range(n):\n",
    "    if students[i] == 0:\n",
    "        que.append(i)\n",
    "        \n",
    "res = []\n",
    "while que:\n",
    "    i = que.popleft()\n",
    "    res.append(i+1)\n",
    "    for j in heights[i]:\n",
    "        students[j] -= 1\n",
    "        if students[j] == 0:\n",
    "            que.append(j)\n",
    "print(*res)"
   ]
  },
  {
   "cell_type": "markdown",
   "metadata": {},
   "source": [
    "* heights를 리스트가 아닌 dictionary로 표현했다.\n",
    "* 위의 과정과 똑같이 진행한다."
   ]
  },
  {
   "cell_type": "code",
   "execution_count": 2,
   "metadata": {},
   "outputs": [
    {
     "name": "stdout",
     "output_type": "stream",
     "text": [
      "3 2\n",
      "1 3\n",
      "2 3\n",
      "1 2 3\n"
     ]
    }
   ],
   "source": [
    "from collections import deque\n",
    "\n",
    "n, m = map(int, input().split())\n",
    "students = [0 for _ in range(n)]\n",
    "heights = {}\n",
    "for _ in range(m):\n",
    "    a, b = map(int, input().split())\n",
    "    students[b-1] += 1\n",
    "    if a-1 in heights:\n",
    "        heights[a-1].append(b-1)\n",
    "    else:\n",
    "        heights[a-1] = [b-1]\n",
    "    \n",
    "que = deque()\n",
    "for i in range(n):\n",
    "    if students[i] == 0:\n",
    "        que.append(i)\n",
    "        \n",
    "res = []\n",
    "while que:\n",
    "    i = que.popleft()\n",
    "    res.append(i+1)\n",
    "    if i in heights:\n",
    "        for j in heights[i]:\n",
    "            students[j] -= 1\n",
    "            if students[j] == 0:\n",
    "                que.append(j)\n",
    "                \n",
    "print(*res)"
   ]
  }
 ],
 "metadata": {
  "kernelspec": {
   "display_name": "Python 3",
   "language": "python",
   "name": "python3"
  },
  "language_info": {
   "codemirror_mode": {
    "name": "ipython",
    "version": 3
   },
   "file_extension": ".py",
   "mimetype": "text/x-python",
   "name": "python",
   "nbconvert_exporter": "python",
   "pygments_lexer": "ipython3",
   "version": "3.7.3"
  }
 },
 "nbformat": 4,
 "nbformat_minor": 2
}
