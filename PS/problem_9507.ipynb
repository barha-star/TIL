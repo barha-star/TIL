{
 "cells": [
  {
   "cell_type": "markdown",
   "metadata": {},
   "source": [
    "# Generations of Tribbles\n",
    "\n",
    "https://www.acmicpc.net/problem/9507"
   ]
  },
  {
   "cell_type": "markdown",
   "metadata": {},
   "source": [
    "## 문제\n",
    "\n",
    "꿍은 군대에서 진짜 할짓이 없다. 그래서 꿍만의 피보나치를 만들어보려고 한다. 기존의 피보나치는 너무 단순해서 꿍은 좀더 복잡한 피보나치를 만들어보고자 한다. 그래서 다음과 같은 피보나치를 만들었다. 꿍만의 피보나치 함수가 koong(n)이라고 할 때,  \n",
    "* n < 2 :                         1\n",
    "* n = 2 :                         2\n",
    "* n = 3 :                         4\n",
    "* n > 3 : koong(n − 1) + koong(n − 2) + koong(n − 3) + koong(n − 4)\n",
    "  \n",
    "이다.  \n",
    "여러분도 꿍 피보나치를 구해보아라."
   ]
  },
  {
   "cell_type": "markdown",
   "metadata": {},
   "source": [
    "## 입력\n",
    "\n",
    "입력의 첫 번째 줄을 테스트 케이스의 개수 t (0 < t < 69)가 주어진다.  \n",
    "다음 t줄에는 몇 번째 피보나치를 구해야하는지를 나타내는 n(0 ≤ n ≤ 67)이 주어진다."
   ]
  },
  {
   "cell_type": "markdown",
   "metadata": {},
   "source": [
    "## 출력\n",
    "\n",
    "각 테스트 케이스에 대해, 각 줄에 꿍 피보나치값을 출력하라."
   ]
  },
  {
   "cell_type": "markdown",
   "metadata": {},
   "source": [
    "## 예제 입력 1\n",
    "\n",
    "8  \n",
    "0  \n",
    "1  \n",
    "2  \n",
    "3  \n",
    "4  \n",
    "5  \n",
    "30  \n",
    "67"
   ]
  },
  {
   "cell_type": "markdown",
   "metadata": {},
   "source": [
    "## 예제 출력 1\n",
    "\n",
    "1  \n",
    "1  \n",
    "2 \n",
    "4  \n",
    "8  \n",
    "15  \n",
    "201061985   \n",
    "7057305768232953720"
   ]
  },
  {
   "cell_type": "markdown",
   "metadata": {},
   "source": [
    "## 풀이"
   ]
  },
  {
   "cell_type": "code",
   "execution_count": 1,
   "metadata": {},
   "outputs": [
    {
     "name": "stdout",
     "output_type": "stream",
     "text": [
      "8\n",
      "0\n",
      "1\n",
      "1\n",
      "1\n",
      "2\n",
      "2\n",
      "3\n",
      "4\n",
      "4\n",
      "8\n",
      "5\n",
      "15\n",
      "30\n",
      "201061985\n",
      "67\n",
      "7057305768232953720\n"
     ]
    }
   ],
   "source": [
    "import sys\n",
    "input = sys.stdin.readline\n",
    "\n",
    "dp = [1, 1, 2, 4]\n",
    "for _ in range(4, 68):\n",
    "    dp.append(dp[-1]+dp[-2]+dp[-3]+dp[-4])\n",
    "\n",
    "t = int(input())\n",
    "for _ in range(t):\n",
    "    n = int(input())\n",
    "    print(dp[n])"
   ]
  },
  {
   "cell_type": "code",
   "execution_count": 2,
   "metadata": {},
   "outputs": [
    {
     "name": "stdout",
     "output_type": "stream",
     "text": [
      "8\n",
      "0\n",
      "1\n",
      "1\n",
      "1\n",
      "2\n",
      "2\n",
      "3\n",
      "4\n",
      "4\n",
      "8\n",
      "5\n",
      "15\n",
      "30\n",
      "201061985\n",
      "67\n",
      "7057305768232953720\n"
     ]
    }
   ],
   "source": [
    "import sys\n",
    "input = sys.stdin.readline\n",
    "\n",
    "dp = [1, 1, 2, 4]\n",
    "for _ in range(4, 68):\n",
    "    dp.append(sum(dp[-4:]))\n",
    "\n",
    "t = int(input())\n",
    "for _ in range(t):\n",
    "    n = int(input())\n",
    "    print(dp[n])"
   ]
  }
 ],
 "metadata": {
  "kernelspec": {
   "display_name": "Python 3",
   "language": "python",
   "name": "python3"
  },
  "language_info": {
   "codemirror_mode": {
    "name": "ipython",
    "version": 3
   },
   "file_extension": ".py",
   "mimetype": "text/x-python",
   "name": "python",
   "nbconvert_exporter": "python",
   "pygments_lexer": "ipython3",
   "version": "3.7.3"
  }
 },
 "nbformat": 4,
 "nbformat_minor": 2
}
