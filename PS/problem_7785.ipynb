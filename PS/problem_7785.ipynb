{
 "cells": [
  {
   "cell_type": "markdown",
   "metadata": {},
   "source": [
    "# 회사에 있는 사람\n",
    "\n",
    "https://www.acmicpc.net/problem/7785"
   ]
  },
  {
   "cell_type": "markdown",
   "metadata": {},
   "source": [
    "## 문제\n",
    "\n",
    "상근이는 세계적인 소프트웨어 회사 기글에서 일한다. 이 회사의 가장 큰 특징은 자유로운 출퇴근 시간이다. 따라서, 직원들은 반드시 9시부터 6시까지 회사에 있지 않아도 된다.  \n",
    "각 직원은 자기가 원할 때 출근할 수 있고, 아무때나 퇴근할 수 있다.  \n",
    "상근이는 모든 사람의 출입카드 시스템의 로그를 가지고 있다. 이 로그는 어떤 사람이 회사에 들어왔는지, 나갔는지가 기록되어져 있다. 로그가 주어졌을 때, 현재 회사에 있는 모든 사람을 구하는 프로그램을 작성하시오."
   ]
  },
  {
   "cell_type": "markdown",
   "metadata": {},
   "source": [
    "## 입력\n",
    "\n",
    "첫째 줄에 로그에 기록된 출입 기록의 수 n이 주어진다. (2 ≤ n ≤ 106) 다음 n개의 줄에는 출입 기록이 순서대로 주어지며, 각 사람의 이름이 주어지고 \"enter\"나 \"leave\"가 주어진다. \"enter\"인 경우는 출근, \"leave\"인 경우는 퇴근이다.  \n",
    "회사에는 동명이인이 없으며, 대소문자가 다른 경우에는 다른 이름이다. 사람들의 이름은 알파벳 대소문자로 구성된 5글자 이하의 문자열이다."
   ]
  },
  {
   "cell_type": "markdown",
   "metadata": {},
   "source": [
    "## 출력\n",
    "\n",
    "현재 회사에 있는 사람의 이름을 사전 순의 역순으로 한 줄에 한 명씩 출력한다."
   ]
  },
  {
   "cell_type": "markdown",
   "metadata": {},
   "source": [
    "## 예제 입력 1\n",
    "\n",
    "4  \n",
    "Baha enter  \n",
    "Askar enter  \n",
    "Baha leave  \n",
    "Artem enter"
   ]
  },
  {
   "cell_type": "markdown",
   "metadata": {},
   "source": [
    "## 예제 출력 1\n",
    "\n",
    "Askar  \n",
    "Artem"
   ]
  },
  {
   "cell_type": "markdown",
   "metadata": {},
   "source": [
    "## 풀이"
   ]
  },
  {
   "cell_type": "markdown",
   "metadata": {},
   "source": [
    "* 회사에 출근을 하고 나서 퇴근을 한다.\n",
    "* 따라서 enter인 경우는 log에 value가 1로 저장을 한다.\n",
    "* leave인 경우는 log에 value 1에서 0으로 바꾼다.\n",
    "* log를 for문으로 돌면서 아직 퇴근하지 않은 직원을 names에 저장한다.\n",
    "* names를 사전 순의 역순으로 정렬하고 출력한다."
   ]
  },
  {
   "cell_type": "code",
   "execution_count": 1,
   "metadata": {},
   "outputs": [
    {
     "name": "stdout",
     "output_type": "stream",
     "text": [
      "4\n",
      "Baha enter\n",
      "Askar enter\n",
      "Baha leave\n",
      "Artem enter\n",
      "Askar\n",
      "Artem\n"
     ]
    }
   ],
   "source": [
    "import sys\n",
    "input = sys.stdin.readline\n",
    "\n",
    "n = int(input())\n",
    "log = {}\n",
    "for _ in range(n):\n",
    "    name, state = input().rstrip().split()\n",
    "    if state == 'enter':\n",
    "        log[name] = 1\n",
    "    else:\n",
    "        log[name] = 0\n",
    "        \n",
    "names = []\n",
    "for name in log:\n",
    "    if log[name] == 1:\n",
    "        names.append(name)\n",
    "names.sort(reverse=True)\n",
    "for name in names:\n",
    "    print(name)"
   ]
  }
 ],
 "metadata": {
  "kernelspec": {
   "display_name": "Python 3",
   "language": "python",
   "name": "python3"
  },
  "language_info": {
   "codemirror_mode": {
    "name": "ipython",
    "version": 3
   },
   "file_extension": ".py",
   "mimetype": "text/x-python",
   "name": "python",
   "nbconvert_exporter": "python",
   "pygments_lexer": "ipython3",
   "version": "3.7.3"
  }
 },
 "nbformat": 4,
 "nbformat_minor": 2
}
