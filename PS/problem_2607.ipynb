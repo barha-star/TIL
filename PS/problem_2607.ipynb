{
 "cells": [
  {
   "cell_type": "markdown",
   "metadata": {},
   "source": [
    "# 비슷한 단어\n",
    "\n",
    "https://www.acmicpc.net/problem/2607"
   ]
  },
  {
   "cell_type": "markdown",
   "metadata": {},
   "source": [
    "## 문제\n",
    "\n",
    "영문 알파벳 대문자로 이루어진 두 단어가 다음의 두 가지 조건을 만족하면 같은 구성을 갖는다고 말한다.\n",
    "  \n",
    "1. 두 개의 단어가 같은 종류의 문자로 이루어져 있다.\n",
    "2. 같은 문자는 같은 개수 만큼 있다.\n",
    "  \n",
    "예를 들어 \"DOG\"와 \"GOD\"은 둘 다 'D', 'G', 'O' 세 종류의 문자로 이루어져 있으며 양쪽 모두 'D', 'G', 'O' 가 하나씩 있으므로 이 둘은 같은 구성을 갖는다. 하지만 \"GOD\"과 \"GOOD\"의 경우 \"GOD\"에는 'O'가 하나, \"GOOD\"에는 'O'가 두 개 있으므로 이 둘은 다른 구성을 갖는다.  \n",
    "두 단어가 같은 구성을 갖는 경우, 또는 한 단어에서 한 문자를 더하거나, 빼거나, 하나의 문자를 다른 문자로 바꾸어 나머지 한 단어와 같은 구성을 갖게 되는 경우에 이들 두 단어를 서로 비슷한 단어라고 한다.  \n",
    "예를 들어 \"DOG\"와 \"GOD\"은 같은 구성을 가지므로 이 둘은 비슷한 단어이다. 또한 \"GOD\"에서 'O'를 하나 추가하면 \"GOOD\" 과 같은 구성을 갖게 되므로 이 둘 또한 비슷한 단어이다. 하지만 \"DOG\"에서 하나의 문자를 더하거나, 빼거나, 바꾸어도 \"DOLL\"과 같은 구성이 되지는 않으므로 \"DOG\"과 \"DOLL\"은 비슷한 단어가 아니다.  \n",
    "입력으로 여러 개의 서로 다른 단어가 주어질 때, 첫 번째 단어와 비슷한 단어가 모두 몇 개인지 찾아 출력하는 프로그램을 작성하시오."
   ]
  },
  {
   "cell_type": "markdown",
   "metadata": {},
   "source": [
    "## 입력\n",
    "\n",
    "첫째 줄에는 단어의 개수가 주어지고  \n",
    "둘째 줄부터는 한 줄에 하나씩 단어가 주어진다. 모든 단어는 영문 알파벳 대문자로 이루어져 있다. 단어의 개수는 100개 이하이며, 각 단어의 길이는 10 이하이다."
   ]
  },
  {
   "cell_type": "markdown",
   "metadata": {},
   "source": [
    "## 출력\n",
    "\n",
    "입력으로 주어진 첫 번째 단어와 비슷한 단어가 몇 개인지 첫째 줄에 출력한다."
   ]
  },
  {
   "cell_type": "markdown",
   "metadata": {},
   "source": [
    "## 예제 입력 1\n",
    "\n",
    "4  \n",
    "DOG  \n",
    "GOD  \n",
    "GOOD  \n",
    "DOLL"
   ]
  },
  {
   "cell_type": "markdown",
   "metadata": {},
   "source": [
    "## 예제 출력 1\n",
    "\n",
    "2"
   ]
  },
  {
   "cell_type": "markdown",
   "metadata": {},
   "source": [
    "## 풀이"
   ]
  },
  {
   "cell_type": "markdown",
   "metadata": {},
   "source": [
    "* 첫 번째 단어를 dictionary 형태로 word에 저장한다.\n",
    "* 단어들을 반복하여 단어의 알파벳을 word에서 -1 한다.\n",
    "* 한 문자를 더하거나 빼거나 다른 문자로 바꾸는 경우에만 res에 +1을 한다."
   ]
  },
  {
   "cell_type": "code",
   "execution_count": 1,
   "metadata": {},
   "outputs": [
    {
     "name": "stdout",
     "output_type": "stream",
     "text": [
      "4\n",
      "DOG\n",
      "GOD\n",
      "GOOD\n",
      "DOLL\n",
      "2\n"
     ]
    }
   ],
   "source": [
    "import copy\n",
    "import sys\n",
    "input = sys.stdin.readline\n",
    "\n",
    "n = int(input())\n",
    "words = [input().rstrip() for _ in range(n)]\n",
    "word = {}\n",
    "for w in words[0]:\n",
    "    if w in word:\n",
    "        word[w] += 1\n",
    "    else:\n",
    "        word[w] = 1\n",
    "        \n",
    "res = 0\n",
    "for i in range(1, n):\n",
    "    if len(words[i]) > len(words[0])+1 or len(words[i]) < len(words[0])-1:\n",
    "        continue\n",
    "        \n",
    "    check = copy.deepcopy(word)\n",
    "    for w in words[i]:\n",
    "        if w in check:\n",
    "            check[w] -= 1\n",
    "        else:\n",
    "            check[w] = -1\n",
    "    \n",
    "    change = [0, 0]\n",
    "    flag = True\n",
    "    for c in check:\n",
    "        if check[c] == 0:\n",
    "            continue\n",
    "        if check[c] == 1:\n",
    "            change[1] += 1\n",
    "        elif check[c] == -1:\n",
    "            change[0] += 1\n",
    "        else:\n",
    "            flag = False\n",
    "            break\n",
    "    if sum(change) > 2:\n",
    "        flag = False\n",
    "    elif change[0] > 2 or change[1] > 2:\n",
    "        flag = False\n",
    "        \n",
    "    if flag:\n",
    "        res += 1\n",
    "print(res)"
   ]
  },
  {
   "cell_type": "markdown",
   "metadata": {},
   "source": [
    "* 위의 과정과 같으나 dictionary가 아닌 list로 표현해서 같은 방법으로 해결한다."
   ]
  },
  {
   "cell_type": "code",
   "execution_count": 2,
   "metadata": {},
   "outputs": [
    {
     "name": "stdout",
     "output_type": "stream",
     "text": [
      "4\n",
      "DOG\n",
      "GOD\n",
      "GOOD\n",
      "DOLL\n",
      "2\n"
     ]
    }
   ],
   "source": [
    "import sys\n",
    "input = sys.stdin.readline\n",
    "\n",
    "n = int(input())\n",
    "words = [[0 for _ in range(26)] for _ in range(n)]\n",
    "for i in range(n):\n",
    "    string = input().rstrip()\n",
    "    for s in string:\n",
    "        words[i][ord(s)-ord('A')] += 1\n",
    "        \n",
    "res = 0\n",
    "for word in words[1:]:\n",
    "    plus, minus = 0, 0\n",
    "    for i in range(26):\n",
    "        if word[i] > words[0][i]:\n",
    "            plus += (word[i]-words[0][i])\n",
    "        else:\n",
    "            minus += (words[0][i]-word[i])\n",
    "            \n",
    "    if plus < 2 and minus < 2:\n",
    "        res += 1\n",
    "        \n",
    "print(res)"
   ]
  }
 ],
 "metadata": {
  "kernelspec": {
   "display_name": "Python 3",
   "language": "python",
   "name": "python3"
  },
  "language_info": {
   "codemirror_mode": {
    "name": "ipython",
    "version": 3
   },
   "file_extension": ".py",
   "mimetype": "text/x-python",
   "name": "python",
   "nbconvert_exporter": "python",
   "pygments_lexer": "ipython3",
   "version": "3.7.3"
  }
 },
 "nbformat": 4,
 "nbformat_minor": 2
}
