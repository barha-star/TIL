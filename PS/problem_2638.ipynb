{
 "cells": [
  {
   "cell_type": "markdown",
   "metadata": {},
   "source": [
    "# 치즈\n",
    "\n",
    "https://www.acmicpc.net/problem/2638"
   ]
  },
  {
   "cell_type": "markdown",
   "metadata": {},
   "source": [
    "## 문제\n",
    "\n",
    "N×M (5≤N, M≤100)의 모눈종이 위에 아주 얇은 치즈가 <그림 1>과 같이 표시되어 있다. 단, N 은 세로 격자의 수이고, M 은 가로 격자의 수이다. 이 치즈는 냉동 보관을 해야만 하는데 실내온도에 내어놓으면 공기와 접촉하여 천천히 녹는다. 그런데 이러한 모눈종이 모양의 치즈에서 각 치즈 격자(작 은 정사각형 모양)의 4변 중에서 적어도 2변 이상이 실내온도의 공기와 접촉한 것은 정확히 한시간만에 녹아 없어져 버린다. 따라서 아래 <그림 1> 모양과 같은 치즈(회색으로 표시된 부분)라면 C로 표시된 모든 치즈 격자는 한 시간 후에 사라진다.  \n",
    "<그림 2>와 같이 치즈 내부에 있는 공간은 치즈 외부 공기와 접촉하지 않는 것으로 가정한다. 그러므 로 이 공간에 접촉한 치즈 격자는 녹지 않고 C로 표시된 치즈 격자만 사라진다. 그러나 한 시간 후, 이 공간으로 외부공기가 유입되면 <그림 3>에서와 같이 C로 표시된 치즈 격자들이 사라지게 된다.  \n",
    "모눈종이의 맨 가장자리에는 치즈가 놓이지 않는 것으로 가정한다. 입력으로 주어진 치즈가 모두 녹아 없어지는데 걸리는 정확한 시간을 구하는 프로그램을 작성하시오."
   ]
  },
  {
   "cell_type": "markdown",
   "metadata": {},
   "source": [
    "## 입력\n",
    "\n",
    "첫째 줄에는 모눈종이의 크기를 나타내는 두 개의 정수 N, M (5≤N, M≤100)이 주어진다.  \n",
    "그 다음 N개의 줄에는 모눈종이 위의 격자에 치즈가 있는 부분은 1로 표시되고, 치즈가 없는 부분은 0으로 표시된다.  \n",
    "또한, 각 0과 1은 하나의 공백으로 분리되어 있다."
   ]
  },
  {
   "cell_type": "markdown",
   "metadata": {},
   "source": [
    "## 출력\n",
    "\n",
    "출력으로는 주어진 치즈가 모두 녹아 없어지는데 걸리는 정확한 시간을 정수로 첫 줄에 출력한다."
   ]
  },
  {
   "cell_type": "markdown",
   "metadata": {},
   "source": [
    "## 예제 입력 1\n",
    "\n",
    "8 9  \n",
    "0 0 0 0 0 0 0 0 0  \n",
    "0 0 0 1 1 0 0 0 0  \n",
    "0 0 0 1 1 0 1 1 0  \n",
    "0 0 1 1 1 1 1 1 0  \n",
    "0 0 1 1 1 1 1 0 0  \n",
    "0 0 1 1 0 1 1 0 0  \n",
    "0 0 0 0 0 0 0 0 0  \n",
    "0 0 0 0 0 0 0 0 0"
   ]
  },
  {
   "cell_type": "markdown",
   "metadata": {},
   "source": [
    "## 예제 출력 1\n",
    "\n",
    "4"
   ]
  },
  {
   "cell_type": "markdown",
   "metadata": {},
   "source": [
    "## 풀이"
   ]
  },
  {
   "cell_type": "markdown",
   "metadata": {},
   "source": [
    "* n, m과 모눈종이 위의 치즈를 입력받는다.\n",
    "* 치즈가 모두 녹아 없어졌는지 확인하기 위한 check 함수를 만든다.\n",
    "    * 이중 for문을 통해 치즈가 있다면 False를 return\n",
    "    * 치즈가 없다면 True를 return\n",
    "* 치즈의 4변 중에서 적어도 2변 이상 실내온도의 공기와 접촉해야 치즈가 녹아 없어지므로 실내온도의 공기와 몇 개의 변이 접촉했는지 확인하기 위해 dfs 함수를 만든다.\n",
    "    * 치즈 내부에 있는 공간은 치즈 외부 공기와 접촉하지 않은 것이고 맨 가장자리에는 치즈가 놓이지 않기 때문에 (0, 0)을 기준으로 치즈가 없는 모든 곳을 다니며 주위에 치즈가 있다면 +1을 해서 접촉 횟수를 저장한다.\n",
    "    * 치즈는 1로 표시되므로 2변 이상 접촉했다면 3 이상으로 표시된다.\n",
    "* 2변 이상 접촉했을 경우 치즈를 녹아 없애야 하므로 remove_cheese 함수를 만들어 확인하고 치즈를 녹인다.\n",
    "    * 이중 for문을 돌면서 치즈가 2변 이상 접촉했다면(3 이상) 치즈를 녹이고(0) 치즈가 2변 이상 접촉하지 않았다면(1 이상 2 이하) 치즈 기본값(1)으로 만든다."
   ]
  },
  {
   "cell_type": "code",
   "execution_count": 1,
   "metadata": {},
   "outputs": [
    {
     "name": "stdout",
     "output_type": "stream",
     "text": [
      "8 9\n",
      "0 0 0 0 0 0 0 0 0\n",
      "0 0 0 1 1 0 0 0 0\n",
      "0 0 0 1 1 0 1 1 0\n",
      "0 0 1 1 1 1 1 1 0\n",
      "0 0 1 1 1 1 1 0 0\n",
      "0 0 1 1 0 1 1 0 0\n",
      "0 0 0 0 0 0 0 0 0\n",
      "0 0 0 0 0 0 0 0 0\n",
      "4\n"
     ]
    }
   ],
   "source": [
    "import sys\n",
    "sys.setrecursionlimit(10**6)\n",
    "input = sys.stdin.readline\n",
    "\n",
    "n, m = map(int, input().split())\n",
    "cheese = [list(map(int, input().split())) for _ in range(n)]\n",
    "\n",
    "def check(cheese, n, m):\n",
    "    for i in range(n):\n",
    "        for j in range(m):\n",
    "            if cheese[i][j] == 1:\n",
    "                return False\n",
    "    return True\n",
    "\n",
    "def dfs(cheese, n, m, i, j):\n",
    "    for k in range(4):\n",
    "        x, y = i+dx[k], j+dy[k]\n",
    "        if 0 <= x < n and 0 <= y < m and not visit[x][y]:\n",
    "            if cheese[x][y] != 0:\n",
    "                cheese[x][y] += 1\n",
    "            else:\n",
    "                visit[x][y] = 1\n",
    "                dfs(cheese, n, m, x, y)\n",
    "    \n",
    "def remove_cheese(cheese, n, m):\n",
    "    for i in range(n):\n",
    "        for j in range(m):\n",
    "            if cheese[i][j] >= 3:\n",
    "                cheese[i][j] = 0\n",
    "            elif cheese[i][j] > 0:\n",
    "                cheese[i][j] = 1\n",
    "    return cheese\n",
    "\n",
    "res = 0\n",
    "while True:\n",
    "    if check(cheese, n, m):\n",
    "        print(res)\n",
    "        break\n",
    "        \n",
    "    visit = [[0 for _ in range(m)] for _ in range(n)]\n",
    "    dx = [1, -1, 0, 0]\n",
    "    dy = [0, 0, 1, -1]\n",
    "    visit[0][0] = 1\n",
    "    dfs(cheese, n, m, 0, 0)\n",
    "    cheese = remove_cheese(cheese, n, m)\n",
    "    res += 1"
   ]
  }
 ],
 "metadata": {
  "kernelspec": {
   "display_name": "Python 3",
   "language": "python",
   "name": "python3"
  },
  "language_info": {
   "codemirror_mode": {
    "name": "ipython",
    "version": 3
   },
   "file_extension": ".py",
   "mimetype": "text/x-python",
   "name": "python",
   "nbconvert_exporter": "python",
   "pygments_lexer": "ipython3",
   "version": "3.7.3"
  }
 },
 "nbformat": 4,
 "nbformat_minor": 2
}
