{
 "cells": [
  {
   "cell_type": "markdown",
   "metadata": {},
   "source": [
    "# 올림픽\n",
    "\n",
    "https://www.acmicpc.net/problem/8979"
   ]
  },
  {
   "cell_type": "markdown",
   "metadata": {},
   "source": [
    "## 문제\n",
    "\n",
    "올림픽은 참가에 의의가 있기에 공식적으로는 국가간 순위를 정하지 않는다. 그러나, 많은 사람들이 자신의 국가가 얼마나 잘 하는지에 관심이 많기 때문에 비공식적으로는 국가간 순위를 정하고 있다. 두 나라가 각각 얻은 금, 은, 동메달 수가 주어지면, 보통 다음 규칙을 따라 어느 나라가 더 잘했는지 결정한다.  \n",
    "  \n",
    "1. 금메달 수가 더 많은 나라 \n",
    "2. 금메달 수가 같으면, 은메달 수가 더 많은 나라\n",
    "3. 금, 은메달 수가 모두 같으면, 동메달 수가 더 많은 나라 \n",
    "  \n",
    "각 국가는 1부터 N 사이의 정수로 표현된다. 한 국가의 등수는 (자신보다 더 잘한 나라 수) + 1로 정의된다. 만약 두 나라가 금, 은, 동메달 수가 모두 같다면 두 나라의 등수는 같다. 예를 들어, 1번 국가가 금메달 1개, 은메달 1개를 얻었고, 2번 국가와 3번 국가가 모두 은메달 1개를 얻었으며, 4번 국가는 메달을 얻지 못하였다면, 1번 국가가 1등, 2번 국가와 3번 국가가 공동 2등, 4번 국가가 4등이 된다. 이 경우 3등은 없다.   \n",
    "각 국가의 금, 은, 동메달 정보를 입력받아서, 어느 국가가 몇 등을 했는지 알려주는 프로그램을 작성하시오. "
   ]
  },
  {
   "cell_type": "markdown",
   "metadata": {},
   "source": [
    "## 입력\n",
    "\n",
    "입력의 첫 줄은 국가의 수 N(1 ≤ N ≤ 1,000)과 등수를 알고 싶은 국가 K(1 ≤ K ≤ N)가 빈칸을 사이에 두고 주어진다.  \n",
    "각 국가는 1부터 N 사이의 정수로 표현된다.  \n",
    "이후 N개의 각 줄에는 차례대로 각 국가를 나타내는 정수와 이 국가가 얻은 금, 은, 동메달의 수가 빈칸을 사이에 두고 주어진다.  \n",
    "전체 메달 수의 총합은 1,000,000 이하이다."
   ]
  },
  {
   "cell_type": "markdown",
   "metadata": {},
   "source": [
    "## 출력\n",
    "\n",
    "출력은 단 한 줄이며, 입력받은 국가 K의 등수를 하나의 정수로 출력한다. 등수는 반드시 문제에서 정의된 방식을 따라야 한다. "
   ]
  },
  {
   "cell_type": "markdown",
   "metadata": {},
   "source": [
    "## 예제 입력 1\n",
    "\n",
    "4 3  \n",
    "1 1 2 0  \n",
    "2 0 1 0  \n",
    "3 0 1 0  \n",
    "4 0 0 1"
   ]
  },
  {
   "cell_type": "markdown",
   "metadata": {},
   "source": [
    "## 예제 출력 1\n",
    "\n",
    "2"
   ]
  },
  {
   "cell_type": "markdown",
   "metadata": {},
   "source": [
    "## 풀이"
   ]
  },
  {
   "cell_type": "markdown",
   "metadata": {},
   "source": [
    "* n, k를 입력받는다.\n",
    "* 국가별 메달 수를 리스트로 입력받는다.\n",
    "* 정렬 sort()함수를 이용해서 금, 은, 동 많은 순서로 정렬한다.\n",
    "* 최종 등수를 grade로 사이에 등수가 같을 경우를 count할 s를 초기화한다.\n",
    "    * grade를 1로 초기화하는 경우는 등수는 1등부터 시작하기 때문이다.\n",
    "* medals[i][0]이 k이면 grade를 출력하고 break로 for문을 빠져나오면 된다.\n",
    "* 등수가 같을 때를 대비해서 정렬된 이전 국가와 비교해서 금, 은, 동의 메달 수가 똑같으면 grade가 아닌 s에 1을 더해 공동 등수를 출력하도록 한다."
   ]
  },
  {
   "cell_type": "code",
   "execution_count": 21,
   "metadata": {},
   "outputs": [
    {
     "name": "stdout",
     "output_type": "stream",
     "text": [
      "3 1\n",
      "1 1 0 0\n",
      "2 0 0 10\n",
      "3 0 10 0\n",
      "1\n"
     ]
    }
   ],
   "source": [
    "n, k = map(int, input().split())\n",
    "medals = [list(map(int, input().split())) for _ in range(n)]\n",
    "medals.sort(key = lambda x : (x[1], x[2], x[3]), reverse=True)\n",
    "\n",
    "grade, s = 1, 0\n",
    "for i in range(n):       \n",
    "    if i != 0:\n",
    "        if medals[i-1][1:] == medals[i][1:]:\n",
    "            s += 1\n",
    "        else:\n",
    "            if s:\n",
    "                grade += s\n",
    "                s = 0\n",
    "            grade += 1\n",
    "    if medals[i][0] == k:\n",
    "        print(grade)\n",
    "        break"
   ]
  },
  {
   "cell_type": "markdown",
   "metadata": {},
   "source": [
    "* 등수를 찾을 때 for문을 돌며 국가 k의 index를 찾아서 저장한다.\n",
    "* 등수가 같은 나라가 있을 때를 대비해서 for문을 돌며 국가 k의 금, 은, 동메달 수와 같은 국가가 나오면 그 국가의 (index+1)등이므로 출력하고 break로 for문을 빠져나온다."
   ]
  },
  {
   "cell_type": "code",
   "execution_count": 22,
   "metadata": {},
   "outputs": [
    {
     "name": "stdout",
     "output_type": "stream",
     "text": [
      "3 1\n",
      "1 1 0 0\n",
      "2 0 0 10\n",
      "3 0 10 0\n",
      "1\n"
     ]
    }
   ],
   "source": [
    "n, k = map(int, input().split())\n",
    "medals = [list(map(int, input().split())) for _ in range(n)]\n",
    "medals.sort(key = lambda x : (x[1], x[2], x[3]), reverse=True)\n",
    "\n",
    "for i in range(n):\n",
    "    if medals[i][0] == k:\n",
    "        idx = i\n",
    "for i in range(n):\n",
    "    if medals[idx][1:] == medals[i][1:]:\n",
    "        print(i+1)\n",
    "        break"
   ]
  },
  {
   "cell_type": "markdown",
   "metadata": {},
   "source": [
    "* index 찾을 때 list.index() 함수를 이용해서 찾는다."
   ]
  },
  {
   "cell_type": "code",
   "execution_count": 23,
   "metadata": {},
   "outputs": [
    {
     "name": "stdout",
     "output_type": "stream",
     "text": [
      "3 1\n",
      "1 1 0 0\n",
      "2 0 0 10\n",
      "3 0 10 0\n",
      "1\n"
     ]
    }
   ],
   "source": [
    "n, k = map(int, input().split())\n",
    "medals = [list(map(int, input().split())) for _ in range(n)]\n",
    "medals.sort(key = lambda x : (x[1], x[2], x[3]), reverse=True)\n",
    "\n",
    "idx = [medals[i][0] for i in range(n)].index(k)\n",
    "for i in range(n):\n",
    "    if medals[idx][1:] == medals[i][1:]:\n",
    "        print(i+1)\n",
    "        break"
   ]
  }
 ],
 "metadata": {
  "kernelspec": {
   "display_name": "Python 3",
   "language": "python",
   "name": "python3"
  },
  "language_info": {
   "codemirror_mode": {
    "name": "ipython",
    "version": 3
   },
   "file_extension": ".py",
   "mimetype": "text/x-python",
   "name": "python",
   "nbconvert_exporter": "python",
   "pygments_lexer": "ipython3",
   "version": "3.7.3"
  }
 },
 "nbformat": 4,
 "nbformat_minor": 2
}
