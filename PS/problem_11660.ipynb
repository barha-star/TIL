{
 "cells": [
  {
   "cell_type": "markdown",
   "metadata": {},
   "source": [
    "# 구간 합 구하기 5\n",
    "\n",
    "https://www.acmicpc.net/problem/11660"
   ]
  },
  {
   "cell_type": "markdown",
   "metadata": {},
   "source": [
    "## 문제\n",
    "\n",
    "N×N개의 수가 N×N 크기의 표에 채워져 있다. (x1, y1)부터 (x2, y2)까지 합을 구하는 프로그램을 작성하시오. (x, y)는 x행 y열을 의미한다.  \n",
    "예를 들어, N = 4이고, 표가 아래와 같이 채워져 있는 경우를 살펴보자.  \n",
    "  \n",
    "1 |\t2 |\t3 |\t4\n",
    "-- | -- | -- | --\n",
    "2 |\t3 |\t4 |\t5\n",
    "3 |\t4 |\t5 |\t6\n",
    "4 |\t5 |\t6 |\t7\n",
    "  \n",
    "여기서 (2, 2)부터 (3, 4)까지 합을 구하면 3+4+5+4+5+6 = 27이고, (4, 4)부터 (4, 4)까지 합을 구하면 7이다.  \n",
    "표에 채워져 있는 수와 합을 구하는 연산이 주어졌을 때, 이를 처리하는 프로그램을 작성하시오."
   ]
  },
  {
   "cell_type": "markdown",
   "metadata": {},
   "source": [
    "## 입력\n",
    "\n",
    "첫째 줄에 표의 크기 N과 합을 구해야 하는 횟수 M이 주어진다. (1 ≤ N ≤ 1024, 1 ≤ M ≤ 100,000)  \n",
    "둘째 줄부터 N개의 줄에는 표에 채워져 있는 수가 1행부터 차례대로 주어진다.  \n",
    "다음 M개의 줄에는 네 개의 정수 x1, y1, x2, y2 가 주어지며, (x1, y1)부터 (x2, y2)의 합을 구해 출력해야 한다.  \n",
    "표에 채워져 있는 수는 1,000보다 작거나 같은 자연수이다. (x1 ≤ x2, y1 ≤ y2)"
   ]
  },
  {
   "cell_type": "markdown",
   "metadata": {},
   "source": [
    "## 출력\n",
    "\n",
    "총 M줄에 걸쳐 (x1, y1)부터 (x2, y2)까지 합을 구해 출력한다."
   ]
  },
  {
   "cell_type": "markdown",
   "metadata": {},
   "source": [
    "## 예제 입력 1\n",
    "\n",
    "4 3  \n",
    "1 2 3 4  \n",
    "2 3 4 5  \n",
    "3 4 5 6  \n",
    "4 5 6 7  \n",
    "2 2 3 4  \n",
    "3 4 3 4  \n",
    "1 1 4 4"
   ]
  },
  {
   "cell_type": "markdown",
   "metadata": {},
   "source": [
    "## 예제 출력 1\n",
    "\n",
    "27  \n",
    "6  \n",
    "64"
   ]
  },
  {
   "cell_type": "markdown",
   "metadata": {},
   "source": [
    "## 풀이"
   ]
  },
  {
   "cell_type": "markdown",
   "metadata": {},
   "source": [
    "* 표를 입력받아 table에 저장한다.\n",
    "* 완전 탐색을 하면 시간 초과가 뜨기 때문에 dp를 이용해서 해결해야 한다.\n",
    "* table의 (x, y) 즉, x행 y열은 1행 1열부터 x행 y열까지의 합으로 채워지도록 for문을 통해 구현한다.\n",
    "    * 행의 누적 합을 먼저 구한다.\n",
    "    * 열의 누적 합을 더해준다.\n",
    "* x1, y1, x2, y2가 주어질 때 (x1, y1)부터 (x2, y2)까지의 합을 구하는 규칙 및 예외를 찾고 구현한다.\n",
    "    * x1과 y1이 1일 때 예외가 발생한다."
   ]
  },
  {
   "cell_type": "code",
   "execution_count": 1,
   "metadata": {},
   "outputs": [
    {
     "name": "stdout",
     "output_type": "stream",
     "text": [
      "2 4\n",
      "1 2\n",
      "3 4\n",
      "1 1 1 1\n",
      "1\n",
      "1 2 1 2\n",
      "2\n",
      "2 1 2 1\n",
      "3\n",
      "2 2 2 2\n",
      "4\n"
     ]
    }
   ],
   "source": [
    "import sys\n",
    "input = sys.stdin.readline\n",
    "\n",
    "n, m = map(int, input().split())\n",
    "table = [list(map(int, input().split())) for _ in range(n)]\n",
    "\n",
    "for k in range(2):\n",
    "    for i in range(n):\n",
    "        if k == 1 and i == 0:\n",
    "            continue\n",
    "        for j in range(n):\n",
    "            if k == 0:\n",
    "                if j == 0:\n",
    "                    continue\n",
    "                table[i][j] += table[i][j-1]\n",
    "            else:\n",
    "                table[i][j] += table[i-1][j]\n",
    "\n",
    "for _ in range(m):\n",
    "    x1, y1, x2, y2 = map(int, input().split())\n",
    "    if x1 == 1 and y1 == 1:\n",
    "        print(table[x2-1][y2-1])\n",
    "    elif x1 == 1:\n",
    "        print(table[x2-1][y2-1] - table[x2-1][y1-2])\n",
    "    elif y1 == 1:\n",
    "        print(table[x2-1][y2-1] - table[x1-2][y2-1])\n",
    "    else:\n",
    "        print(table[x2-1][y2-1] - table[x2-1][y1-2] - table[x1-2][y2-1] + table[x1-2][y1-2])"
   ]
  }
 ],
 "metadata": {
  "kernelspec": {
   "display_name": "Python 3",
   "language": "python",
   "name": "python3"
  },
  "language_info": {
   "codemirror_mode": {
    "name": "ipython",
    "version": 3
   },
   "file_extension": ".py",
   "mimetype": "text/x-python",
   "name": "python",
   "nbconvert_exporter": "python",
   "pygments_lexer": "ipython3",
   "version": "3.7.3"
  }
 },
 "nbformat": 4,
 "nbformat_minor": 2
}
