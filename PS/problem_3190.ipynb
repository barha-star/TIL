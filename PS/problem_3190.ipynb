{
 "cells": [
  {
   "cell_type": "markdown",
   "metadata": {},
   "source": [
    "# 뱀\n",
    "\n",
    "https://www.acmicpc.net/problem/3190"
   ]
  },
  {
   "cell_type": "markdown",
   "metadata": {},
   "source": [
    "## 문제\n",
    "\n",
    " 'Dummy' 라는 도스게임이 있다. 이 게임에는 뱀이 나와서 기어다니는데, 사과를 먹으면 뱀 길이가 늘어난다. 뱀이 이리저리 기어다니다가 벽 또는 자기자신의 몸과 부딪히면 게임이 끝난다.  \n",
    "게임은 NxN 정사각 보드위에서 진행되고, 몇몇 칸에는 사과가 놓여져 있다. 보드의 상하좌우 끝에 벽이 있다. 게임이 시작할때 뱀은 맨위 맨좌측에 위치하고 뱀의 길이는 1 이다. 뱀은 처음에 오른쪽을 향한다.  \n",
    "뱀은 매 초마다 이동을 하는데 다음과 같은 규칙을 따른다.  \n",
    "\n",
    "* 먼저 뱀은 몸길이를 늘려 머리를 다음칸에 위치시킨다.\n",
    "* 만약 이동한 칸에 사과가 있다면, 그 칸에 있던 사과가 없어지고 꼬리는 움직이지 않는다.\n",
    "* 만약 이동한 칸에 사과가 없다면, 몸길이를 줄여서 꼬리가 위치한 칸을 비워준다. 즉, 몸길이는 변하지 않는다.\n",
    "\n",
    "사과의 위치와 뱀의 이동경로가 주어질 때 이 게임이 몇 초에 끝나는지 계산하라."
   ]
  },
  {
   "cell_type": "markdown",
   "metadata": {},
   "source": [
    "## 입력\n",
    "\n",
    "첫째 줄에 보드의 크기 N이 주어진다. (2 ≤ N ≤ 100) 다음 줄에 사과의 개수 K가 주어진다. (0 ≤ K ≤ 100)  \n",
    "다음 K개의 줄에는 사과의 위치가 주어지는데, 첫 번째 정수는 행, 두 번째 정수는 열 위치를 의미한다. 사과의 위치는 모두 다르며, 맨 위 맨 좌측 (1행 1열) 에는 사과가 없다.  \n",
    "다음 줄에는 뱀의 방향 변환 횟수 L 이 주어진다. (1 ≤ L ≤ 100)  \n",
    "다음 L개의 줄에는 뱀의 방향 변환 정보가 주어지는데,  정수 X와 문자 C로 이루어져 있으며. 게임 시작 시간으로부터 X초가 끝난 뒤에 왼쪽(C가 'L') 또는 오른쪽(C가 'D')로 90도 방향을 회전시킨다는 뜻이다. X는 10,000 이하의 양의 정수이며, 방향 전환 정보는 X가 증가하는 순으로 주어진다."
   ]
  },
  {
   "cell_type": "markdown",
   "metadata": {},
   "source": [
    "## 출력\n",
    "\n",
    "첫째 줄에 게임이 몇 초에 끝나는지 출력한다."
   ]
  },
  {
   "cell_type": "markdown",
   "metadata": {},
   "source": [
    "## 예제 입력 1\n",
    "\n",
    "6  \n",
    "3  \n",
    "3 4  \n",
    "2 5  \n",
    "5 3  \n",
    "3  \n",
    "3 D  \n",
    "15 L  \n",
    "17 D"
   ]
  },
  {
   "cell_type": "markdown",
   "metadata": {},
   "source": [
    "## 예제 출력 1\n",
    "\n",
    "9"
   ]
  },
  {
   "cell_type": "markdown",
   "metadata": {},
   "source": [
    "## 풀이"
   ]
  },
  {
   "cell_type": "markdown",
   "metadata": {},
   "source": [
    "* n X n 크기의 maps를 0으로 초기화한다.\n",
    "* 사과가 있는 곳을 1로 표시한다.\n",
    "* 현재 방향에 따라, D, L에 따라서 움직임을 다르게 하기\n",
    "* 사과를 먹었을 때는 꼬리가 늘어난 채 유지\n",
    "* 사과를 먹지 못했을 때, 꼬리를 줄이고 몸의 길이는 그래도\n",
    "* 꼬리 정보를 가지고 있는 deque를 만든다.\n",
    "* 자신의 몸과 부딪히거나 벽과 부딪히면 게임을 끝낸다."
   ]
  },
  {
   "cell_type": "code",
   "execution_count": 1,
   "metadata": {
    "scrolled": false
   },
   "outputs": [
    {
     "name": "stdout",
     "output_type": "stream",
     "text": [
      "6\n",
      "3\n",
      "3 4\n",
      "2 5\n",
      "5 3\n",
      "3\n",
      "3 D\n",
      "15 L\n",
      "17 D\n",
      "9\n"
     ]
    }
   ],
   "source": [
    "from collections import deque\n",
    "import sys\n",
    "input = sys.stdin.readline\n",
    "\n",
    "dx = [0, -1, 0, 1]\n",
    "dy = [1, 0, -1, 0]\n",
    "\n",
    "n = int(input())\n",
    "k = int(input())\n",
    "maps = [[0 for _ in range(n)] for _ in range(n)]\n",
    "for _ in range(k):\n",
    "    row, col = map(int, input().rstrip().split())\n",
    "    maps[row-1][col-1] = 1\n",
    "l = int(input())\n",
    "direction = []\n",
    "for _ in range(l):\n",
    "    x, c = input().rstrip().split()\n",
    "    direction.append((int(x), c))\n",
    "    \n",
    "x, c = direction[0]\n",
    "tail = deque()\n",
    "tail.append((0, 0))\n",
    "i, j = 0, 0\n",
    "maps[i][j] = -1\n",
    "idx = 1\n",
    "time = 0\n",
    "d = 0\n",
    "while True:\n",
    "    if time == x:\n",
    "        if c == 'D':\n",
    "            d -= 1\n",
    "            if d == -1:\n",
    "                d = 3\n",
    "        else:\n",
    "            d += 1\n",
    "            if d == 4:\n",
    "                d = 0\n",
    "        if idx < l:\n",
    "            x, c = direction[idx]\n",
    "            idx += 1\n",
    "        \n",
    "    new_i, new_j = i+dx[d], j+dy[d]\n",
    "    time += 1\n",
    "    if 0 <= new_i < n and 0 <= new_j < n:\n",
    "        if maps[new_i][new_j] == -1:\n",
    "            print(time)\n",
    "            break\n",
    "        elif maps[new_i][new_j] == 0:\n",
    "            maps[new_i][new_j] = -1\n",
    "            tail.append((new_i, new_j))\n",
    "            p, q = tail.popleft()\n",
    "            maps[p][q] = 0\n",
    "        else:\n",
    "            maps[new_i][new_j] = -1\n",
    "            tail.append((new_i, new_j))\n",
    "        i, j = new_i, new_j\n",
    "    else:\n",
    "        print(time)\n",
    "        break"
   ]
  }
 ],
 "metadata": {
  "kernelspec": {
   "display_name": "Python 3",
   "language": "python",
   "name": "python3"
  },
  "language_info": {
   "codemirror_mode": {
    "name": "ipython",
    "version": 3
   },
   "file_extension": ".py",
   "mimetype": "text/x-python",
   "name": "python",
   "nbconvert_exporter": "python",
   "pygments_lexer": "ipython3",
   "version": "3.7.3"
  }
 },
 "nbformat": 4,
 "nbformat_minor": 2
}
