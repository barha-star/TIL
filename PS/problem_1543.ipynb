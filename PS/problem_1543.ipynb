{
 "cells": [
  {
   "cell_type": "markdown",
   "metadata": {},
   "source": [
    "# 문서 검색\n",
    "\n",
    "https://www.acmicpc.net/problem/1543"
   ]
  },
  {
   "cell_type": "markdown",
   "metadata": {},
   "source": [
    "## 문제\n",
    "\n",
    "세준이는 영어로만 이루어진 어떤 문서를 검색하는 함수를 만들려고 한다. 이 함수는 어떤 단어가 총 몇 번 등장하는지 세려고 한다. 그러나, 세준이의 함수는 중복되어 세는 것은 빼고 세야 한다. 예를 들어, 문서가 abababa이고, 그리고 찾으려는 ababa라면, 세준이의 이 함수는 이 단어를 0번부터 찾을 수 있고, 2번부터도 찾을 수 있다. 그러나 동시에 셀 수는 없다.  \n",
    "세준이는 문서와 검색하려는 단어가 주어졌을 때, 그 단어가 최대 몇 번 중복되지 않게 등장하는지 구하는 프로그램을 작성하시오."
   ]
  },
  {
   "cell_type": "markdown",
   "metadata": {},
   "source": [
    "## 입력\n",
    "\n",
    "첫째 줄에 문서가 주어진다. 문서의 길이는 최대 2500이다.  \n",
    "둘째 줄에 검색하고 싶은 단어가 주어진다. 이 길이는 최대 50이다. 문서와 단어는 알파벳 소문자와 공백으로 이루어져 있다."
   ]
  },
  {
   "cell_type": "markdown",
   "metadata": {},
   "source": [
    "## 출력\n",
    "\n",
    "첫째 줄에 중복되지 않게 최대 몇 번 등장하는지 출력한다."
   ]
  },
  {
   "cell_type": "markdown",
   "metadata": {},
   "source": [
    "## 예제 입력 1\n",
    "\n",
    "ababababa  \n",
    "aba"
   ]
  },
  {
   "cell_type": "markdown",
   "metadata": {},
   "source": [
    "## 예제 출력 1\n",
    "\n",
    "2"
   ]
  },
  {
   "cell_type": "markdown",
   "metadata": {},
   "source": [
    "## 풀이"
   ]
  },
  {
   "cell_type": "markdown",
   "metadata": {},
   "source": [
    "* doc와 word에 각각 입력을 받는다.\n",
    "* res를 0으로 초기화하고 for문으로 doc 첫 단어부터 반복한다.\n",
    "* 만약에 word가 doc에 들어있으면 cnt에 1을 더하고 idx를 현재 인덱스 + 단어 길이로 하여 반복문에서 그 다음 인덱스로 넘어갈 수 있도록 한다."
   ]
  },
  {
   "cell_type": "code",
   "execution_count": 1,
   "metadata": {},
   "outputs": [
    {
     "name": "stdout",
     "output_type": "stream",
     "text": [
      "ababababa\n",
      "aba\n",
      "2\n"
     ]
    }
   ],
   "source": [
    "doc = input()\n",
    "word = input()\n",
    "res = 0\n",
    "for i in range(len(doc)):\n",
    "    cnt = 0\n",
    "    idx = -1\n",
    "    for j in range(i, len(doc)):\n",
    "        if j < idx:\n",
    "            continue\n",
    "        if doc[j:j+len(word)] == word:\n",
    "            cnt += 1\n",
    "            idx = j + len(word)\n",
    "    res = max(res, cnt)\n",
    "print(res)"
   ]
  },
  {
   "cell_type": "markdown",
   "metadata": {},
   "source": [
    "* doc와 word에 각각 입력을 받는다.\n",
    "* 문자열의 find는 문자나 문자열이 처음으로 나온 위치를 알려주는 함수로 문자나 문자열이 존재하지 않으면 -1을 반환한다.\n",
    "* while문을 word가 나오지 않을 때까지 반복한다.\n",
    "* word가 존재하면 res에 1을 더하고 doc을 재설정한다."
   ]
  },
  {
   "cell_type": "code",
   "execution_count": 2,
   "metadata": {},
   "outputs": [
    {
     "name": "stdout",
     "output_type": "stream",
     "text": [
      "ababababa\n",
      "aba\n",
      "2\n"
     ]
    }
   ],
   "source": [
    "doc = input()\n",
    "word = input()\n",
    "res = 0\n",
    "\n",
    "while True:\n",
    "    idx = doc.find(word)\n",
    "    if idx == -1:\n",
    "        break\n",
    "    \n",
    "    res += 1\n",
    "    doc = doc[idx+len(word):]\n",
    "    \n",
    "print(res)"
   ]
  },
  {
   "cell_type": "markdown",
   "metadata": {},
   "source": [
    "* doc와 word에 각각 입력을 받는다.\n",
    "* 단어가 등장하는 수인 res와 인덱스인 idx를 0으로 초기화한다.\n",
    "* while문으로 반복을 진행하는데 doc의 길이에서 idx를 뺀 값이 word의 길이보다 크거나 같을 때만 한다.\n",
    "* doc의 현재 idx에서 단어의 길이만큼 더한 idx까지의 단어가 word와 같으면 res에 1을 더하고 idx에 단어의 길이만큼 더한다.\n",
    "* 같지 않다면 idx에 1을 더해 진행한다."
   ]
  },
  {
   "cell_type": "code",
   "execution_count": 3,
   "metadata": {},
   "outputs": [
    {
     "name": "stdout",
     "output_type": "stream",
     "text": [
      "ababababa\n",
      "aba\n",
      "2\n"
     ]
    }
   ],
   "source": [
    "doc = input()\n",
    "word = input()\n",
    "res = 0\n",
    "idx = 0\n",
    "\n",
    "while len(doc) - idx >= len(word):\n",
    "    if doc[idx:idx+len(word)] == word:\n",
    "        res += 1\n",
    "        idx += len(word)\n",
    "    else:\n",
    "        idx += 1\n",
    "        \n",
    "print(res)"
   ]
  },
  {
   "cell_type": "markdown",
   "metadata": {},
   "source": [
    "* doc와 word에 각각 입력을 받는다.\n",
    "* count는 문자열 중 문자의 개수를 세는 함수로 이를 이용해서 word가 등장하는 수를 찾을 수 있다."
   ]
  },
  {
   "cell_type": "code",
   "execution_count": 4,
   "metadata": {},
   "outputs": [
    {
     "name": "stdout",
     "output_type": "stream",
     "text": [
      "ababababa\n",
      "aba\n",
      "2\n"
     ]
    }
   ],
   "source": [
    "doc = input()\n",
    "word = input()\n",
    "print(doc.count(word))"
   ]
  },
  {
   "cell_type": "markdown",
   "metadata": {},
   "source": [
    "* doc와 word에 각각 입력을 받는다.\n",
    "* doc를 word를 기준으로 split하면 word 기준으로 분리된 값들의 리스트가 나오기 때문에 1을 빼야 word의 수를 출력할 수 있다.\n",
    "    * 예를 들어, word 기준으로 분리된 값들이 3개라면 word가 2개 있기 때문에 3개의 부분으로 나뉘는 것이다."
   ]
  },
  {
   "cell_type": "code",
   "execution_count": 5,
   "metadata": {},
   "outputs": [
    {
     "name": "stdout",
     "output_type": "stream",
     "text": [
      "ababababa\n",
      "aba\n",
      "2\n"
     ]
    }
   ],
   "source": [
    "doc = input()\n",
    "word = input()\n",
    "print(len(doc.split(word))-1)"
   ]
  }
 ],
 "metadata": {
  "kernelspec": {
   "display_name": "Python 3",
   "language": "python",
   "name": "python3"
  },
  "language_info": {
   "codemirror_mode": {
    "name": "ipython",
    "version": 3
   },
   "file_extension": ".py",
   "mimetype": "text/x-python",
   "name": "python",
   "nbconvert_exporter": "python",
   "pygments_lexer": "ipython3",
   "version": "3.7.3"
  }
 },
 "nbformat": 4,
 "nbformat_minor": 2
}
