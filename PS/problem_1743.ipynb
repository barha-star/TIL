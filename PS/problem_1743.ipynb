{
 "cells": [
  {
   "cell_type": "markdown",
   "metadata": {},
   "source": [
    "# 음식물 피하기\n",
    "\n",
    "https://www.acmicpc.net/problem/1743"
   ]
  },
  {
   "cell_type": "markdown",
   "metadata": {},
   "source": [
    "## 문제\n",
    "\n",
    "코레스코 콘도미니엄 8층은 학생들이 3끼의 식사를 해결하는 공간이다. 그러나 몇몇 비양심적인 학생들의 만행으로 음식물이 통로 중간 중간에 떨어져 있다. 이러한 음식물들은 근처에 있는 것끼리 뭉치게 돼서 큰 음식물 쓰레기가 된다.  \n",
    "이 문제를 출제한 선생님은 개인적으로 이러한 음식물을 실내화에 묻히는 것을 정말 진정으로 싫어한다. 참고로 우리가 구해야 할 답은 이 문제를 낸 조교를 맞추는 것이 아니다.  \n",
    "통로에 떨어진 음식물을 피해가기란 쉬운 일이 아니다. 따라서 선생님은 떨어진 음식물 중에 제일 큰 음식물만은 피해 가려고 한다.   \n",
    "선생님을 도와 제일 큰 음식물의 크기를 구해서 “10ra\"를 외치지 않게 도와주자."
   ]
  },
  {
   "cell_type": "markdown",
   "metadata": {},
   "source": [
    "## 입력\n",
    "\n",
    "첫째 줄에 통로의 세로 길이 N(1 ≤ N ≤ 100)과 가로 길이 M(1 ≤ M ≤ 100) 그리고 음식물 쓰레기의 개수 K(1 ≤ K ≤ 10,000)이 주어진다.   \n",
    "그리고 다음 K개의 줄에 음식물이 떨어진 좌표 (r, c)가 주어진다.  \n",
    "좌표 (r, c)의 r은 위에서부터, c는 왼쪽에서부터가 기준이다."
   ]
  },
  {
   "cell_type": "markdown",
   "metadata": {},
   "source": [
    "## 출력\n",
    "\n",
    "첫째 줄에 음식물 중 가장 큰 음식물의 크기를 출력하라."
   ]
  },
  {
   "cell_type": "markdown",
   "metadata": {},
   "source": [
    "## 예제 입력 1\n",
    "\n",
    "3 4 5  \n",
    "3 2  \n",
    "2 2  \n",
    "3 1  \n",
    "2 3  \n",
    "1 1"
   ]
  },
  {
   "cell_type": "markdown",
   "metadata": {},
   "source": [
    "## 예제 출력 1\n",
    "\n",
    "4"
   ]
  },
  {
   "cell_type": "markdown",
   "metadata": {},
   "source": [
    "## 풀이"
   ]
  },
  {
   "cell_type": "markdown",
   "metadata": {},
   "source": [
    "* 음식물을 waste에 입력받는다.\n",
    "* idx 리스트에 음식물 위치를 저장한다.\n",
    "* check 리스트를 만들어 이미 뭉친 음식물인지 아닌지 판별한다.\n",
    "* idx 리스트가 비어질 때까지 while문을 반복한다.\n",
    "* 음식물 위치를 pop 해서 만약에 이미 뭉친 음식물이라면 while문으로 돌아간다.\n",
    "* 뭉친 음식물이 아니라면 new_idx 리스트에 넣고 인접한 곳을 돌면서 음식물을 뭉치고 가장 큰 음식물 쓰레기를 res에 저장한다."
   ]
  },
  {
   "cell_type": "code",
   "execution_count": 1,
   "metadata": {},
   "outputs": [
    {
     "name": "stdout",
     "output_type": "stream",
     "text": [
      "3 4 5\n",
      "3 2\n",
      "2 2\n",
      "3 1\n",
      "2 3\n",
      "1 1\n",
      "4\n"
     ]
    }
   ],
   "source": [
    "import sys\n",
    "input = sys.stdin.readline\n",
    "\n",
    "n, m, k = map(int, input().split())\n",
    "waste = [[0 for _ in range(m)] for _ in range(n)]\n",
    "idx = []\n",
    "\n",
    "for _ in range(k):\n",
    "    r, c = map(int, input().split())\n",
    "    waste[r-1][c-1] = 1\n",
    "    idx.append((r-1, c-1))\n",
    "    \n",
    "res = 0\n",
    "check = [[False for _ in range(m)] for _ in range(n)]\n",
    "while idx:\n",
    "    i, j = idx.pop()\n",
    "    if check[i][j]:\n",
    "        continue\n",
    "    cnt = 1\n",
    "    check[i][j] = 1\n",
    "    new_idx = [(i, j)]\n",
    "    while new_idx:\n",
    "        i, j = new_idx.pop()\n",
    "        for x, y in [(i-1, j), (i+1, j), (i, j-1), (i, j+1)]:\n",
    "            if 0 <= x < n and 0 <= y < m:\n",
    "                if not check[x][y] and waste[x][y] == 1:\n",
    "                    check[x][y] = 1\n",
    "                    cnt += 1\n",
    "                    new_idx.append((x, y))\n",
    "    res = max(res, cnt)\n",
    "    \n",
    "print(res)"
   ]
  },
  {
   "cell_type": "markdown",
   "metadata": {},
   "source": [
    "* 위의 방법을 dfs로 해결하기\n",
    "* python은 최대 재귀 깊이를 늘리도록 설정해야 런타임 에러가 뜨지 않는다.\n",
    "    * sys.setrecursionlimit(숫자)"
   ]
  },
  {
   "cell_type": "code",
   "execution_count": 2,
   "metadata": {},
   "outputs": [
    {
     "name": "stdout",
     "output_type": "stream",
     "text": [
      "3 4 5\n",
      "3 2\n",
      "2 2\n",
      "3 1\n",
      "2 3\n",
      "1 1\n",
      "4\n"
     ]
    }
   ],
   "source": [
    "import sys\n",
    "sys.setrecursionlimit(10**8)\n",
    "input = sys.stdin.readline\n",
    "\n",
    "n, m, k = map(int, input().split())\n",
    "waste = [[0 for _ in range(m)] for _ in range(n)]\n",
    "for _ in range(k):\n",
    "    r, c = map(int, input().split())\n",
    "    waste[r-1][c-1] = 1\n",
    "\n",
    "check = [[False for _ in range(m)] for _ in range(n)]\n",
    "dx = [0, 0, 1, -1]\n",
    "dy = [1, -1, 0, 0]\n",
    "\n",
    "def dfs(x, y):\n",
    "    global cnt\n",
    "    check[x][y] = True\n",
    "    if waste[x][y] == 1:\n",
    "        cnt += 1\n",
    "        \n",
    "    for idx in range(4):\n",
    "        nx, ny = x+dx[idx], y+dy[idx]\n",
    "        if 0 <= nx < n and 0 <= ny < m:\n",
    "            if waste[nx][ny] == 1 and not check[nx][ny]:\n",
    "                dfs(nx, ny)\n",
    "\n",
    "res = 0\n",
    "for i in range(n):\n",
    "    for j in range(m):\n",
    "        if waste[i][j] == 1 and not check[i][j]:\n",
    "            cnt = 0\n",
    "            dfs(i, j)\n",
    "            res = max(res, cnt)\n",
    "print(res)"
   ]
  }
 ],
 "metadata": {
  "kernelspec": {
   "display_name": "Python 3",
   "language": "python",
   "name": "python3"
  },
  "language_info": {
   "codemirror_mode": {
    "name": "ipython",
    "version": 3
   },
   "file_extension": ".py",
   "mimetype": "text/x-python",
   "name": "python",
   "nbconvert_exporter": "python",
   "pygments_lexer": "ipython3",
   "version": "3.7.3"
  }
 },
 "nbformat": 4,
 "nbformat_minor": 2
}
