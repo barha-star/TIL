{
 "cells": [
  {
   "cell_type": "markdown",
   "metadata": {},
   "source": [
    "# 신입 사원\n",
    "\n",
    "https://www.acmicpc.net/problem/1946"
   ]
  },
  {
   "cell_type": "markdown",
   "metadata": {},
   "source": [
    "## 문제\n",
    "\n",
    "언제나 최고만을 지향하는 굴지의 대기업 진영 주식회사가 신규 사원 채용을 실시한다. 인재 선발 시험은 1차 서류심사와 2차 면접시험으로 이루어진다. 최고만을 지향한다는 기업의 이념에 따라 그들은 최고의 인재들만을 사원으로 선발하고 싶어 한다.  \n",
    "그래서 진영 주식회사는, 다른 모든 지원자와 비교했을 때 서류심사 성적과 면접시험 성적 중 적어도 하나가 다른 지원자보다 떨어지지 않는 자만 선발한다는 원칙을 세웠다. 즉, 어떤 지원자 A의 성적이 다른 어떤 지원자 B의 성적에 비해 서류 심사 결과와 면접 성적이 모두 떨어진다면 A는 결코 선발되지 않는다.  \n",
    "이러한 조건을 만족시키면서, 진영 주식회사가 이번 신규 사원 채용에서 선발할 수 있는 신입사원의 최대 인원수를 구하는 프로그램을 작성하시오."
   ]
  },
  {
   "cell_type": "markdown",
   "metadata": {},
   "source": [
    "## 입력\n",
    "\n",
    "첫째 줄에는 테스트 케이스의 개수 T(1 ≤ T ≤ 20)가 주어진다.  \n",
    "각 테스트 케이스의 첫째 줄에 지원자의 숫자 N(1 ≤ N ≤ 100,000)이 주어진다.  \n",
    "둘째 줄부터 N개 줄에는 각각의 지원자의 서류심사 성적, 면접 성적의 순위가 공백을 사이에 두고 한 줄에 주어진다.  \n",
    "두 성적 순위는 모두 1위부터 N위까지 동석차 없이 결정된다고 가정한다."
   ]
  },
  {
   "cell_type": "markdown",
   "metadata": {},
   "source": [
    "## 출력\n",
    "\n",
    "각 테스트 케이스에 대해서 진영 주식회사가 선발할 수 있는 신입사원의 최대 인원수를 한 줄에 하나씩 출력한다."
   ]
  },
  {
   "cell_type": "markdown",
   "metadata": {},
   "source": [
    "## 예제 입력 1\n",
    "\n",
    "2  \n",
    "5  \n",
    "3 2  \n",
    "1 4  \n",
    "4 1  \n",
    "2 3  \n",
    "5 5  \n",
    "7  \n",
    "3 6  \n",
    "7 3  \n",
    "4 2  \n",
    "1 4  \n",
    "5 7  \n",
    "2 5  \n",
    "6 1"
   ]
  },
  {
   "cell_type": "markdown",
   "metadata": {},
   "source": [
    "## 예제 출력 1\n",
    "\n",
    "4  \n",
    "3"
   ]
  },
  {
   "cell_type": "markdown",
   "metadata": {},
   "source": [
    "## 풀이"
   ]
  },
  {
   "cell_type": "markdown",
   "metadata": {},
   "source": [
    "* 서류 등수를 기준으로 먼저 정렬\n",
    "* 정렬된 지원자는 본인 앞에 위치한 지원자들을 interview 성적들 중 가장 좋은 성적이면(숫자가 가장 작으면) 선발된다.\n",
    "* 시간초과가 될 수 있으므로 import sys를 사용한다."
   ]
  },
  {
   "cell_type": "code",
   "execution_count": 2,
   "metadata": {},
   "outputs": [
    {
     "name": "stdout",
     "output_type": "stream",
     "text": [
      "1\n",
      "5\n",
      "3 2\n",
      "1 4\n",
      "4 1\n",
      "2 3\n",
      "5 5\n",
      "4\n"
     ]
    }
   ],
   "source": [
    "import sys\n",
    "input = sys.stdin.readline\n",
    "\n",
    "t = int(input())\n",
    "for _ in range(t):\n",
    "    n = int(input())\n",
    "    cv = [list(map(int, input().split())) for _ in range(n)]\n",
    "    cv.sort(key = lambda x : x[0])\n",
    "    interview = [cv[i][1] for i in range(n)]\n",
    "    res = 1     # cv[0]이 서류 등수가 1등이므로 면접 등수는 관계없이 선발 가능하다.\n",
    "    grade = interview[0]\n",
    "    for i in range(1, n):\n",
    "        grade = min(grade, interview[i])\n",
    "        if grade == interview[i]:\n",
    "            res += 1\n",
    "    print(res)"
   ]
  },
  {
   "cell_type": "markdown",
   "metadata": {},
   "source": [
    "* interview라는 리스트를 따로 만들 필요없이 cv에서 해결하면 된다."
   ]
  },
  {
   "cell_type": "code",
   "execution_count": 3,
   "metadata": {},
   "outputs": [
    {
     "name": "stdout",
     "output_type": "stream",
     "text": [
      "1\n",
      "7\n",
      "3 6\n",
      "7 3\n",
      "4 2\n",
      "1 4\n",
      "5 7\n",
      "2 5\n",
      "6 1\n",
      "3\n"
     ]
    }
   ],
   "source": [
    "import sys\n",
    "input = sys.stdin.readline\n",
    "\n",
    "t = int(input())\n",
    "for _ in range(t):\n",
    "    n = int(input())\n",
    "    cv = [list(map(int, input().split())) for _ in range(n)]\n",
    "    cv.sort(key = lambda x : x[0])\n",
    "    res = 1\n",
    "    grade = cv[0][1]\n",
    "    for i in range(1, n):\n",
    "        grade = min(grade, cv[i][1])\n",
    "        if grade == cv[i][1]:\n",
    "            res += 1\n",
    "    print(res)"
   ]
  }
 ],
 "metadata": {
  "kernelspec": {
   "display_name": "Python 3",
   "language": "python",
   "name": "python3"
  },
  "language_info": {
   "codemirror_mode": {
    "name": "ipython",
    "version": 3
   },
   "file_extension": ".py",
   "mimetype": "text/x-python",
   "name": "python",
   "nbconvert_exporter": "python",
   "pygments_lexer": "ipython3",
   "version": "3.7.3"
  }
 },
 "nbformat": 4,
 "nbformat_minor": 2
}
