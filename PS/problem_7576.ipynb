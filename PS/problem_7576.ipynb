{
 "cells": [
  {
   "cell_type": "code",
   "execution_count": 1,
   "metadata": {
    "collapsed": true,
    "pycharm": {
     "name": "#%%\n"
    }
   },
   "outputs": [
    {
     "name": "stdout",
     "output_type": "stream",
     "text": [
      "8\n"
     ]
    }
   ],
   "source": [
    "from collections import deque\n",
    "\n",
    "m, n = map(int, input().split(' '))\n",
    "box = []\n",
    "for _ in range(n):\n",
    "    box.append(list(map(int, input().split(' '))))\n",
    "\n",
    "ripe = []\n",
    "for i in range(n):\n",
    "    for j in range(m):\n",
    "        if box[i][j] == 1:\n",
    "            ripe.append((i, j))\n",
    "\n",
    "dx = [1, -1, 0, 0]\n",
    "dy = [0, 0, 1, -1]\n",
    "\n",
    "que = deque()\n",
    "que += ripe\n",
    "while que:\n",
    "    x, y = que.popleft()\n",
    "    for i in range(4):\n",
    "        nx = x + dx[i]\n",
    "        ny = y + dy[i]\n",
    "        if 0 <= nx < n and 0 <= ny < m:\n",
    "            if box[nx][ny] == 0:\n",
    "                box[nx][ny] = box[x][y] + 1\n",
    "                que.append((nx, ny))\n",
    "\n",
    "res = 0\n",
    "for row in box:\n",
    "    if 0 in row:\n",
    "        res = -1\n",
    "        break\n",
    "    else:\n",
    "        res = max(res, max(row)-1)\n",
    "\n",
    "print(res)\n",
    "\n"
   ]
  },
  {
   "cell_type": "code",
   "execution_count": 2,
   "outputs": [
    {
     "name": "stdout",
     "output_type": "stream",
     "text": [
      "8\n"
     ]
    }
   ],
   "source": [
    "from collections import deque\n",
    "\n",
    "m, n = map(int, input().split(' '))  # m : 가로, n : 세로\n",
    "tomato = []\n",
    "for _ in range(n):\n",
    "    tomato.append(list(map(int, input().split(' '))))\n",
    "\n",
    "grow = []\n",
    "for i in range(n):\n",
    "    for j in range(m):\n",
    "        if tomato[i][j] == 1:\n",
    "            grow.append((i, j))\n",
    "\n",
    "\n",
    "que = deque()\n",
    "que += grow\n",
    "\n",
    "def bfs():\n",
    "    while que:\n",
    "        i, j = que.popleft()\n",
    "        for x, y in [(i-1, j), (i+1, j), (i, j-1), (i, j+1)]:\n",
    "            if 0 <= x < n and 0 <= y < m:\n",
    "                if tomato[x][y] == 0:\n",
    "                    tomato[x][y] = tomato[i][j] + 1\n",
    "                    que.append((x, y))\n",
    "\n",
    "def solve():\n",
    "    res = 0\n",
    "    for i in range(n):\n",
    "        for j in range(m):\n",
    "            if tomato[i][j] == 0:\n",
    "                return -1\n",
    "            else:\n",
    "                res = max(res, tomato[i][j])\n",
    "    return res-1\n",
    "\n",
    "if not grow:\n",
    "    print(-1)\n",
    "else:\n",
    "    bfs()\n",
    "    print(solve())"
   ],
   "metadata": {
    "collapsed": false,
    "pycharm": {
     "name": "#%%\n"
    }
   }
  }
 ],
 "metadata": {
  "kernelspec": {
   "display_name": "Python 3",
   "language": "python",
   "name": "python3"
  },
  "language_info": {
   "codemirror_mode": {
    "name": "ipython",
    "version": 2
   },
   "file_extension": ".py",
   "mimetype": "text/x-python",
   "name": "python",
   "nbconvert_exporter": "python",
   "pygments_lexer": "ipython2",
   "version": "2.7.6"
  }
 },
 "nbformat": 4,
 "nbformat_minor": 0
}