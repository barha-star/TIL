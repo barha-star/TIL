{
 "cells": [
  {
   "cell_type": "markdown",
   "metadata": {},
   "source": [
    "# 로봇 프로젝트\n",
    "\n",
    "https://www.acmicpc.net/problem/3649"
   ]
  },
  {
   "cell_type": "markdown",
   "metadata": {},
   "source": [
    "## 문제\n",
    "\n",
    "상근이와 선영이는 학교 숙제로 로봇을 만들고 있다. 로봇을 만들던 중에 구멍을 막을 두 레고 조각이 필요하다는 것을 깨달았다.  \n",
    "구멍의 너비는 x 센티미터이고, 구멍에 넣을 두 조각의 길이의 합은 구멍의 너비와 정확하게 일치해야 한다. 정확하게 일치하지 않으면, 프로젝트 시연을 할 때 로봇은 부수어질 것이고 상근이와 선영이는 F를 받게 된다. 구멍은 항상 두 조각으로 막아야 한다.  \n",
    "지난밤, 상근이와 선영이는 물리 실험실에 들어가서 레고 조각의 크기를 모두 정확하게 재고 돌아왔다. 구멍을 완벽하게 막을 수 있는 두 조각을 구하는 프로그램을 작성하시오."
   ]
  },
  {
   "cell_type": "markdown",
   "metadata": {},
   "source": [
    "## 입력\n",
    "\n",
    "입력은 여러 개의 테스트 케이스로 이루어져 있다.  \n",
    "각 테스트 케이스의 첫째 줄에는 구멍의 너비 x (1 ≤ x ≤ 20, x는 정수)가 주어진다. x의 단위는 센티미터이다.  \n",
    "다음 줄에는 물리 실험실에 있는 레고 조각의 수 n이 주어진다. (0 ≤ n ≤ 1000000)  \n",
    "다음 n개의 줄에는 레고 조각의 길이 ℓ이 주어진다. ℓ은 양의 정수이며, 단위는 나노미터이다. 블록의 길이는 10 센티미터 (100000000 나노미터)를 넘지 않는다."
   ]
  },
  {
   "cell_type": "markdown",
   "metadata": {},
   "source": [
    "## 출력\n",
    "\n",
    "각 테스트 케이스마다 한 줄에 하나씩, 구멍을 완벽하게 막을 수 있는 두 조각이 없다면 'danger'를 출력한다. 막을 수 있는 경우에는 'yes ℓ1 ℓ2'를 출력한다. (ℓ1 ≤ ℓ2)  \n",
    "정답이 여러 개인 경우에는 |ℓ1 - ℓ2|가 가장 큰 것을 출력한다."
   ]
  },
  {
   "cell_type": "markdown",
   "metadata": {},
   "source": [
    "## 예제 입력 1\n",
    "\n",
    "1  \n",
    "4  \n",
    "9999998  \n",
    "1  \n",
    "2  \n",
    "9999999"
   ]
  },
  {
   "cell_type": "markdown",
   "metadata": {},
   "source": [
    "## 예제 출력 1\n",
    "\n",
    "yes 1 9999999"
   ]
  },
  {
   "cell_type": "markdown",
   "metadata": {},
   "source": [
    "## 풀이"
   ]
  },
  {
   "cell_type": "markdown",
   "metadata": {},
   "source": [
    "* 1 센티미터 = 10000000 나노미터\n",
    "* lego의 조각 길이를 정렬한다.\n",
    "* 구멍은 항상 두 조각으로 막아야 하고 정답이 여러 개인 경우 차이가 가장 큰 것을 출력해야 하므로 lego 리스트의 각각의 끝에서부터 레고 조각을 고른다.\n",
    "    * lego 한 조각을 두 번 사용할 수 없으므로 왼쪽 인덱스 < 오른쪽 인덱스인 경우에서만 반복한다.\n",
    "    * lego 두 조각의 합이 구멍의 크기와 같으면 출력하고 break한다.\n",
    "    * 구멍의 크기보다 작다면 lego 두 조각의 합을 크게 만들어야 하므로 왼쪽에 있는 인덱스를 오른쪽으로 한 칸 옮긴다.\n",
    "    * 구멍의 크기보다 크다면 lego 두 조각의 합을 작게 만들어야 하므로 오른쪽에 있는 인덱스를 왼쪽으로 한 칸 옮긴다.\n",
    "  \n",
    "  \n",
    "______\n",
    "* 테스트 케이스가 여러 개이기 때문에 이를 고려해서 처리해야 한다.\n",
    "    * try, except 구문을 통해 해결한다."
   ]
  },
  {
   "cell_type": "code",
   "execution_count": 1,
   "metadata": {},
   "outputs": [
    {
     "name": "stdout",
     "output_type": "stream",
     "text": [
      "1\n",
      "4\n",
      "9999998\n",
      "1\n",
      "2\n",
      "9999999\n",
      "yes 1 9999999\n",
      "\n"
     ]
    }
   ],
   "source": [
    "import sys\n",
    "input = sys.stdin.readline\n",
    "\n",
    "while True:\n",
    "    try:\n",
    "        x = int(input()) * 10000000\n",
    "        n = int(input())\n",
    "        lego = [int(input()) for _ in range(n)]\n",
    "        lego.sort()\n",
    "        i, j = 0, n-1\n",
    "        flag = True\n",
    "        while i < j:\n",
    "            if lego[i] + lego[j] == x:\n",
    "                print('yes %d %d' %(lego[i], lego[j]))\n",
    "                flag = False\n",
    "                break\n",
    "\n",
    "            elif lego[i] + lego[j] < x:\n",
    "                i += 1\n",
    "            else:\n",
    "                j -= 1\n",
    "        if flag:\n",
    "            print('danger')\n",
    "    except:\n",
    "        break"
   ]
  }
 ],
 "metadata": {
  "kernelspec": {
   "display_name": "Python 3",
   "language": "python",
   "name": "python3"
  },
  "language_info": {
   "codemirror_mode": {
    "name": "ipython",
    "version": 3
   },
   "file_extension": ".py",
   "mimetype": "text/x-python",
   "name": "python",
   "nbconvert_exporter": "python",
   "pygments_lexer": "ipython3",
   "version": "3.7.3"
  }
 },
 "nbformat": 4,
 "nbformat_minor": 2
}
