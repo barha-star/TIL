{
 "cells": [
  {
   "cell_type": "markdown",
   "metadata": {},
   "source": [
    "# 반지\n",
    "\n",
    "https://www.acmicpc.net/problem/5555"
   ]
  },
  {
   "cell_type": "markdown",
   "metadata": {},
   "source": [
    "## 문제\n",
    "\n",
    "당신은 N개의 반지를 가지고 있다. 각각의 반지는 대문자 10 문자로 이루어진 문자열이 새겨져 있다. 반지는 문자열의 시작과 끝이 연결된 형태로 문자가 새겨져 있다. 반지에 각인된 문자열을 거꾸로 읽는 걱정은 없다.  \n",
    "찾고자하는 문자열이 주어졌을 때 그 문자열을 포함하는 반지가 몇 개인지를 발견하는 프로그램을 작성하라."
   ]
  },
  {
   "cell_type": "markdown",
   "metadata": {},
   "source": [
    "## 입력\n",
    "\n",
    "입력은 총 2 + N 줄 이다.  \n",
    "첫 번째 줄에는 1 자 이상 10 자 이하의 대문자로 구성된 찾고자 하는 문자열이 적혀있다.  \n",
    "두 번째 줄에는 반지의 개수 N (1 ≦ N ≦ 100)이 적혀있다.  \n",
    "2+i 줄(1 ≦ i ≦ N)엔 i개의 반지에 새겨져있고, 10 문자로 이루어진 문자열이 적혀있다."
   ]
  },
  {
   "cell_type": "markdown",
   "metadata": {},
   "source": [
    "## 출력\n",
    "\n",
    "찾고자하는 문자열을 포함 반지의 개수를 나타내는 정수를 한 줄로 출력하라."
   ]
  },
  {
   "cell_type": "markdown",
   "metadata": {},
   "source": [
    "## 예제 입력 1\n",
    "\n",
    "ABCD  \n",
    "3  \n",
    "ABCDXXXXXX  \n",
    "YYYYABCDXX  \n",
    "DCBAZZZZZZ"
   ]
  },
  {
   "cell_type": "markdown",
   "metadata": {},
   "source": [
    "## 예제 출력 1\n",
    "\n",
    "2"
   ]
  },
  {
   "cell_type": "markdown",
   "metadata": {},
   "source": [
    "## 풀이"
   ]
  },
  {
   "cell_type": "code",
   "execution_count": 1,
   "metadata": {},
   "outputs": [
    {
     "name": "stdout",
     "output_type": "stream",
     "text": [
      "ABCD\n",
      "3\n",
      "ABCDXXXXXX\n",
      "YYYYABCDXX\n",
      "DCBAZZZZZZ\n",
      "2\n"
     ]
    }
   ],
   "source": [
    "import sys\n",
    "input = sys.stdin.readline\n",
    "\n",
    "word = input().rstrip()\n",
    "m = len(word)\n",
    "n = int(input())\n",
    "strings = [list(input().rstrip()) for _ in range(n)]\n",
    "cnt = 0\n",
    "for string in strings:\n",
    "    for j in range(10):\n",
    "        if 10-j >= m:\n",
    "            if ''.join(string[j:j+m]) == word:\n",
    "                cnt += 1\n",
    "                break\n",
    "        else:\n",
    "            if ''.join(string[j:]+string[:m-(10-j)]) == word:\n",
    "                cnt += 1\n",
    "                break\n",
    "print(cnt)"
   ]
  }
 ],
 "metadata": {
  "kernelspec": {
   "display_name": "Python 3",
   "language": "python",
   "name": "python3"
  },
  "language_info": {
   "codemirror_mode": {
    "name": "ipython",
    "version": 3
   },
   "file_extension": ".py",
   "mimetype": "text/x-python",
   "name": "python",
   "nbconvert_exporter": "python",
   "pygments_lexer": "ipython3",
   "version": "3.7.3"
  }
 },
 "nbformat": 4,
 "nbformat_minor": 2
}
