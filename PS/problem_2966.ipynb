{
 "cells": [
  {
   "cell_type": "markdown",
   "metadata": {},
   "source": [
    "# 찍기\n",
    "\n",
    "https://www.acmicpc.net/problem/2966"
   ]
  },
  {
   "cell_type": "markdown",
   "metadata": {},
   "source": [
    "## 문제\n",
    "\n",
    "상근이, 창영이, 현진이는 역사와 전통을 자랑하는 Sogang ACM-ICPC Team에 가입하려고 한다. 하지만, 가입하려고 하는 모든 지원자는 C언어 필기시험을 통과해야 한다. 이들은 C언어를 할 줄 모른다. 따라서, 필기시험을 모두 찍으려고 한다.  \n",
    "상근이는 A, B, C, A, B, C, A, B, C, A, B, C, ...와 같이 찍어야 통과할 수 있다고 생각한다.   \n",
    "하지만, 창영이는 B, A, B, C, B, A, B, C, B, A, B, C, ...와 같이 찍는 방법이 만점의 지름길이라고 생각한다.  \n",
    "마지막으로, 현진이는 상근이와 창영이를 비웃으면서 C, C, A, A, B, B, C, C, A, A, B, B, ...와 같이 찍어야 통과한다고 말했다.  \n",
    "필기시험의 정답이 주어졌을 때, 상근이, 창영이, 현진이 중에서 가장 많은 문제를 맞힌 사람이 누구인지 구하는 프로그램을 작성하시오."
   ]
  },
  {
   "cell_type": "markdown",
   "metadata": {},
   "source": [
    "## 입력\n",
    "\n",
    "첫째 줄에 필기시험의 문제의 수 N이 주어진다. (1 ≤ N ≤ 100)  \n",
    "둘째 줄에는 시험의 정답이 주어진다."
   ]
  },
  {
   "cell_type": "markdown",
   "metadata": {},
   "source": [
    "## 출력\n",
    "\n",
    "첫째 줄에 가장 많은 문제를 맞춘 사람이 몇 문제를 맞혔는지 출력한다.  \n",
    "다음 줄에는 가장 많은 문제를 맞힌 사람의 아이디를 출력한다. 상근이의 아이디는 Adrian, 창영이의 아이디는 Bruno, 현진이의 아이디는 Goran이다. 아이디 여러 개를 출력하는 경우에는 상근이, 창영이, 현진이 순서로 출력하고, 한 줄에 하나씩 출력한다.."
   ]
  },
  {
   "cell_type": "markdown",
   "metadata": {},
   "source": [
    "## 예제 입력 1\n",
    "\n",
    "5  \n",
    "BAACC"
   ]
  },
  {
   "cell_type": "markdown",
   "metadata": {},
   "source": [
    "## 예제 출력 1\n",
    "\n",
    "3  \n",
    "Bruno"
   ]
  },
  {
   "cell_type": "markdown",
   "metadata": {},
   "source": [
    "## 풀이"
   ]
  },
  {
   "cell_type": "markdown",
   "metadata": {},
   "source": [
    "* 규칙에 맞도록 하나씩 구현했다."
   ]
  },
  {
   "cell_type": "code",
   "execution_count": 2,
   "metadata": {},
   "outputs": [
    {
     "name": "stdout",
     "output_type": "stream",
     "text": [
      "9\n",
      "AAAABBBBB\n",
      "4\n",
      "Adrian\n",
      "Bruno\n",
      "Goran\n"
     ]
    }
   ],
   "source": [
    "A, B, G = 0, 0, 0\n",
    "n = int(input())\n",
    "correct = input()\n",
    "for i in range(n):\n",
    "    if i % 3 == 0:\n",
    "        if correct[i] == 'A':\n",
    "            A += 1\n",
    "    elif i % 3 == 1:\n",
    "        if correct[i] == 'B':\n",
    "            A += 1\n",
    "    else:\n",
    "        if correct[i] == 'C':\n",
    "            A += 1\n",
    "            \n",
    "    if i % 4 == 0 or i % 4 == 2:\n",
    "        if correct[i] == 'B':\n",
    "            B += 1\n",
    "    elif i % 4 == 1:\n",
    "        if correct[i] == 'A':\n",
    "            B += 1\n",
    "    else:\n",
    "        if correct[i] == 'C':\n",
    "            B += 1\n",
    "            \n",
    "    if i % 6 == 0 or i % 6 == 1:\n",
    "        if correct[i] == 'C':\n",
    "            G += 1\n",
    "    elif i % 6 == 2 or i % 6 == 3:\n",
    "        if correct[i] == 'A':\n",
    "            G += 1\n",
    "    else:\n",
    "        if correct[i] == 'B':\n",
    "            G += 1\n",
    "            \n",
    "m = max(A, B, G)\n",
    "print(m)\n",
    "if m == A:\n",
    "    print('Adrian')\n",
    "if m == B:\n",
    "    print('Bruno')\n",
    "if m == G:\n",
    "    print('Goran')"
   ]
  },
  {
   "cell_type": "markdown",
   "metadata": {},
   "source": [
    "* 규칙에 맞도록 간단하게 구현했다."
   ]
  },
  {
   "cell_type": "code",
   "execution_count": 2,
   "metadata": {},
   "outputs": [
    {
     "name": "stdout",
     "output_type": "stream",
     "text": [
      "9\n",
      "AAAABBBBB\n",
      "4\n",
      "Adrian\n",
      "Bruno\n",
      "Goran\n"
     ]
    }
   ],
   "source": [
    "A, B, G = 0, 0, 0\n",
    "Adrian = ['A', 'B', 'C']\n",
    "Bruno = ['B', 'A', 'B', 'C']\n",
    "Goran = ['C', 'C', 'A', 'A', 'B', 'B']\n",
    "\n",
    "n = int(input())\n",
    "correct = input()\n",
    "for i in range(n):\n",
    "    if correct[i] == Adrian[i%3]:\n",
    "        A += 1\n",
    "            \n",
    "    if correct[i] == Bruno[i%4]:\n",
    "        B += 1\n",
    "            \n",
    "    if correct[i] == Goran[i%6]:\n",
    "        G += 1\n",
    "            \n",
    "m = max(A, B, G)\n",
    "print(m)\n",
    "if m == A:\n",
    "    print('Adrian')\n",
    "if m == B:\n",
    "    print('Bruno')\n",
    "if m == G:\n",
    "    print('Goran')"
   ]
  }
 ],
 "metadata": {
  "kernelspec": {
   "display_name": "Python 3",
   "language": "python",
   "name": "python3"
  },
  "language_info": {
   "codemirror_mode": {
    "name": "ipython",
    "version": 3
   },
   "file_extension": ".py",
   "mimetype": "text/x-python",
   "name": "python",
   "nbconvert_exporter": "python",
   "pygments_lexer": "ipython3",
   "version": "3.7.3"
  }
 },
 "nbformat": 4,
 "nbformat_minor": 2
}
