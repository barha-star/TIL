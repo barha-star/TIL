{
 "cells": [
  {
   "cell_type": "markdown",
   "metadata": {},
   "source": [
    "# 구간 합 구하기 4\n",
    "\n",
    "https://www.acmicpc.net/problem/11659"
   ]
  },
  {
   "cell_type": "markdown",
   "metadata": {},
   "source": [
    "## 문제\n",
    "\n",
    "수 N개가 주어졌을 때, i번째 수부터 j번째 수까지 합을 구하는 프로그램을 작성하시오."
   ]
  },
  {
   "cell_type": "markdown",
   "metadata": {},
   "source": [
    "## 입력\n",
    "\n",
    "첫째 줄에 수의 개수 N (1 ≤ N ≤ 100,000), 합을 구해야 하는 횟수 M (1 ≤ M ≤ 100,000)이 주어진다.  \n",
    "둘째 줄에는 N개의 수가 주어진다. 수는 1,000보다 작거나 같은 자연수이다.  \n",
    "셋째 줄부터 M개의 줄에는 합을 구해야 하는 구간 i와 j가 주어진다."
   ]
  },
  {
   "cell_type": "markdown",
   "metadata": {},
   "source": [
    "## 출력\n",
    "\n",
    "총 M개의 줄에 입력으로 주어진 i번째 수부터 j번째 수까지 합을 출력한다."
   ]
  },
  {
   "cell_type": "markdown",
   "metadata": {},
   "source": [
    "## 예제 입력 1\n",
    "\n",
    "5 3  \n",
    "5 4 3 2 1  \n",
    "1 3  \n",
    "2 4  \n",
    "5 5"
   ]
  },
  {
   "cell_type": "markdown",
   "metadata": {},
   "source": [
    "## 예제 출력 1\n",
    "\n",
    "12  \n",
    "9  \n",
    "1"
   ]
  },
  {
   "cell_type": "markdown",
   "metadata": {},
   "source": [
    "## 풀이"
   ]
  },
  {
   "cell_type": "markdown",
   "metadata": {},
   "source": [
    "* 완전 탐색으로 해결하면 시간 초과가 발생할 수 있기 때문에 누적 합을 이용해서 해결하기\n",
    "* 누적 합 리스트 nums_add를 구하면 i에서 j까지의 합은 nums_add[j] - nums_add[i-1]과 같다.\n",
    "    * nums_add[j]는 j까지의 숫자의 합이다.\n",
    "    * nums_add[i-1]는 i-1까지의 숫자의 합이다."
   ]
  },
  {
   "cell_type": "code",
   "execution_count": 1,
   "metadata": {},
   "outputs": [
    {
     "name": "stdout",
     "output_type": "stream",
     "text": [
      "5 3\n",
      "5 4 3 2 1\n",
      "1 3\n",
      "12\n",
      "2 4\n",
      "9\n",
      "5 5\n",
      "1\n"
     ]
    }
   ],
   "source": [
    "import sys\n",
    "input = sys.stdin.readline\n",
    "\n",
    "n, m = map(int, input().split())\n",
    "nums = list(map(int, input().split()))\n",
    "nums_add = [0]\n",
    "for i in range(n):\n",
    "    nums_add.append(nums_add[-1]+nums[i])\n",
    "for _ in range(m):\n",
    "    i, j = map(int, input().split())\n",
    "    if i == 1:\n",
    "        print(nums_add[j])\n",
    "    else:\n",
    "        print(nums_add[j]-nums_add[i-1])"
   ]
  }
 ],
 "metadata": {
  "kernelspec": {
   "display_name": "Python 3",
   "language": "python",
   "name": "python3"
  },
  "language_info": {
   "codemirror_mode": {
    "name": "ipython",
    "version": 3
   },
   "file_extension": ".py",
   "mimetype": "text/x-python",
   "name": "python",
   "nbconvert_exporter": "python",
   "pygments_lexer": "ipython3",
   "version": "3.7.3"
  }
 },
 "nbformat": 4,
 "nbformat_minor": 2
}
