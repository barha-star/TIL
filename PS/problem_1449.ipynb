{
 "cells": [
  {
   "cell_type": "markdown",
   "metadata": {},
   "source": [
    "# 수리공 항승\n",
    "\n",
    "https://www.acmicpc.net/problem/1449"
   ]
  },
  {
   "cell_type": "markdown",
   "metadata": {},
   "source": [
    "## 문제\n",
    "\n",
    "항승이는 품질이 심각하게 나쁜 수도 파이프 회사의 수리공이다. 항승이는 세준 지하철 공사에서 물이 샌다는 소식을 듣고 수리를 하러 갔다.  \n",
    "파이프에서 물이 새는 곳은 신기하게도 가장 왼쪽에서 정수만큼 떨어진 거리만 물이 샌다.  \n",
    "항승이는 길이가 L인 테이프를 무한개 가지고 있다.  \n",
    "항승이는 테이프를 이용해서 물을 막으려고 한다. 항승이는 항상 물을 막을 때, 적어도 그 위치의 좌우 0.5만큼 간격을 줘야 물이 다시는 안 샌다고 생각한다.  \n",
    "물이 새는 곳의 위치와, 항승이가 가지고 있는 테이프의 길이 L이 주어졌을 때, 항승이가 필요한 테이프의 최소 개수를 구하는 프로그램을 작성하시오. 테이프를 자를 수 없고, 테이프를 겹쳐서 붙이는 것도 가능하다."
   ]
  },
  {
   "cell_type": "markdown",
   "metadata": {},
   "source": [
    "## 입력\n",
    "\n",
    "첫째 줄에 물이 새는 곳의 개수 N과 테이프의 길이 L이 주어진다.  \n",
    "둘째 줄에는 물이 새는 곳의 위치가 주어진다.  \n",
    "N과 L은 1,000보다 작거나 같은 자연수이고, 물이 새는 곳의 위치는 1,000보다 작거나 같은 자연수이다."
   ]
  },
  {
   "cell_type": "markdown",
   "metadata": {},
   "source": [
    "## 출력\n",
    "\n",
    "첫째 줄에 항승이가 필요한 테이프의 개수를 출력한다."
   ]
  },
  {
   "cell_type": "markdown",
   "metadata": {},
   "source": [
    "## 예제 입력 1\n",
    "\n",
    "4 2  \n",
    "1 2 100 101"
   ]
  },
  {
   "cell_type": "markdown",
   "metadata": {},
   "source": [
    "## 예제 출력 1\n",
    "\n",
    "2"
   ]
  },
  {
   "cell_type": "markdown",
   "metadata": {},
   "source": [
    "## 풀이"
   ]
  },
  {
   "cell_type": "markdown",
   "metadata": {},
   "source": [
    "* 새는 곳 위치 한 곳을 막기 위해서는 길이가 1인 테이프 1개가 필요하다.\n",
    "* 새는 곳의 위치부터 테이프를 붙였다면 테이프의 길이만큼 떨어진 곳까지 막을 수 있다.\n",
    "* 새는 곳의 위치를 오름차순으로 정렬한다.\n",
    "* 새는 곳의 위치는 자연수이므로 1로 초기화를 하고 현재 막을 수 있는 곳도 leak의 0번째(새는 곳의 가장 작은 위치)에서 테이프의 길이만큼 더한 곳을 r로 초기화한다.\n",
    "* for문으로 leak의 index가 1인 곳부터 돌면서 테이프로 이미 막혀있는 곳은 continue하고 아니라면 테이프를 하나 더 붙여 cnt에 1을 더하고 r의 값을 새로 정정한다."
   ]
  },
  {
   "cell_type": "code",
   "execution_count": 3,
   "metadata": {},
   "outputs": [
    {
     "name": "stdout",
     "output_type": "stream",
     "text": [
      "4 2\n",
      "1 2 3 4\n",
      "2\n"
     ]
    }
   ],
   "source": [
    "n, l = map(int, input().split())\n",
    "leak = list(map(int, input().split()))\n",
    "leak.sort()\n",
    "cnt = 1\n",
    "r = leak[0] + (l-1)\n",
    "for i in range(1, n):\n",
    "    if leak[i] <= r:\n",
    "        continue\n",
    "    cnt +=1\n",
    "    r = leak[i] + (l-1)\n",
    "    \n",
    "print(cnt)"
   ]
  },
  {
   "cell_type": "markdown",
   "metadata": {},
   "source": [
    "* 위의 풀이와 유사하나 처음 초기화에서 차이가 있다.\n",
    "* 새는 곳의 위치를 0으로 초기화를 하고 현재 막을 수 있는 곳도 0으로 r을 초기화한다.\n",
    "* for문으로 leak를 돌면서 테이프로 이미 막혀있는 곳은 continue하고 아니라면 테이프를 하나 더 붙여 cnt에 1을 더하고 r의 값을 새로 정정한다."
   ]
  },
  {
   "cell_type": "code",
   "execution_count": 5,
   "metadata": {},
   "outputs": [
    {
     "name": "stdout",
     "output_type": "stream",
     "text": [
      "4 2\n",
      "1 2 100 101\n",
      "2\n"
     ]
    }
   ],
   "source": [
    "n, l = map(int, input().split())\n",
    "leak = list(map(int, input().split()))\n",
    "leak.sort()\n",
    "cnt = 0\n",
    "r = 0\n",
    "for i in range(n):\n",
    "    if leak[i] <= r:\n",
    "        continue\n",
    "    cnt +=1\n",
    "    r = leak[i] + (l-1)\n",
    "    \n",
    "print(cnt)"
   ]
  }
 ],
 "metadata": {
  "kernelspec": {
   "display_name": "Python 3",
   "language": "python",
   "name": "python3"
  },
  "language_info": {
   "codemirror_mode": {
    "name": "ipython",
    "version": 3
   },
   "file_extension": ".py",
   "mimetype": "text/x-python",
   "name": "python",
   "nbconvert_exporter": "python",
   "pygments_lexer": "ipython3",
   "version": "3.7.3"
  }
 },
 "nbformat": 4,
 "nbformat_minor": 2
}
