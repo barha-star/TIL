{
 "cells": [
  {
   "cell_type": "markdown",
   "metadata": {},
   "source": [
    "# 이진 검색 트리\n",
    "\n",
    "https://www.acmicpc.net/problem/5639"
   ]
  },
  {
   "cell_type": "markdown",
   "metadata": {},
   "source": [
    "## 문제\n",
    "\n",
    "이진 검색 트리는 다음과 같은 세 가지 조건을 만족하는 이진 트리이다.  \n",
    "* 노드의 왼쪽 서브트리에 있는 모든 노드의 키는 노드의 키보다 작다.\n",
    "* 노드의 오른쪽 서브트리에 있는 모든 노드의 키는 노드의 키보다 크다.\n",
    "* 왼쪽, 오른쪽 서브트리도 이진 검색 트리이다.\n",
    "  \n",
    "전위 순회 (루트-왼쪽-오른쪽)은 루트를 방문하고, 왼쪽 서브트리, 오른쪽 서브 트리를 순서대로 방문하면서 노드의 키를 출력한다. 후위 순회 (왼쪽-오른쪽-루트)는 왼쪽 서브트리, 오른쪽 서브트리, 루트 노드 순서대로 키를 출력한다. 예를 들어, 위의 이진 검색 트리의 전위 순회 결과는 50 30 24 5 28 45 98 52 60 이고, 후위 순회 결과는 5 28 24 45 30 60 52 98 50 이다.  \n",
    "이진 검색 트리를 전위 순회한 결과가 주어졌을 때, 이 트리를 후위 순회한 결과를 구하는 프로그램을 작성하시오."
   ]
  },
  {
   "cell_type": "markdown",
   "metadata": {},
   "source": [
    "## 입력\n",
    "\n",
    "트리를 전위 순회한 결과가 주어진다. 노드에 들어있는 키의 값은 106보다 작은 양의 정수이다. 모든 값은 한 줄에 하나씩 주어지며, 노드의 수는 10,000개 이하이다. 같은 키를 가지는 노드는 없다."
   ]
  },
  {
   "cell_type": "markdown",
   "metadata": {},
   "source": [
    "## 출력\n",
    "\n",
    "입력으로 주어진 이진 검색 트리를 후위 순회한 결과를 한 줄에 하나씩 출력한다."
   ]
  },
  {
   "cell_type": "markdown",
   "metadata": {},
   "source": [
    "## 예제 입력 1\n",
    "\n",
    "50  \n",
    "30  \n",
    "24  \n",
    "5  \n",
    "28  \n",
    "45  \n",
    "98  \n",
    "52  \n",
    "60"
   ]
  },
  {
   "cell_type": "markdown",
   "metadata": {},
   "source": [
    "## 예제 출력 1\n",
    "\n",
    "5  \n",
    "28  \n",
    "24  \n",
    "45  \n",
    "30  \n",
    "60  \n",
    "52  \n",
    "98  \n",
    "50"
   ]
  },
  {
   "cell_type": "markdown",
   "metadata": {},
   "source": [
    "## 풀이"
   ]
  },
  {
   "cell_type": "code",
   "execution_count": 1,
   "metadata": {},
   "outputs": [
    {
     "name": "stdout",
     "output_type": "stream",
     "text": [
      "50\n",
      "30\n",
      "24\n",
      "5\n",
      "28\n",
      "45\n",
      "98\n",
      "52\n",
      "60\n",
      "\n",
      "5\n",
      "28\n",
      "24\n",
      "45\n",
      "30\n",
      "60\n",
      "52\n",
      "98\n",
      "50\n"
     ]
    }
   ],
   "source": [
    "import sys\n",
    "sys.setrecursionlimit(10**9)\n",
    "input = sys.stdin.readline\n",
    "\n",
    "nums = []\n",
    "while True:\n",
    "    try:\n",
    "        n = int(input())\n",
    "        nums.append(n)\n",
    "    except:\n",
    "        break\n",
    "\n",
    "def solve(arr):\n",
    "    if len(arr)<=1:\n",
    "        return arr\n",
    "    root=arr[0]\n",
    "    right_idx=1\n",
    "    for i in range(1,len(arr)):\n",
    "        if arr[i]>root:\n",
    "            right_idx=i\n",
    "            break\n",
    "    return solve(arr[1:right_idx])+solve(arr[right_idx:])+[root]\n",
    "\n",
    "for x in solve(nums):\n",
    "    print(x)"
   ]
  }
 ],
 "metadata": {
  "kernelspec": {
   "display_name": "Python 3",
   "language": "python",
   "name": "python3"
  },
  "language_info": {
   "codemirror_mode": {
    "name": "ipython",
    "version": 3
   },
   "file_extension": ".py",
   "mimetype": "text/x-python",
   "name": "python",
   "nbconvert_exporter": "python",
   "pygments_lexer": "ipython3",
   "version": "3.7.3"
  }
 },
 "nbformat": 4,
 "nbformat_minor": 2
}
