{
 "cells": [
  {
   "cell_type": "markdown",
   "metadata": {},
   "source": [
    "# 스위치 켜고 끄기\n",
    "\n",
    "https://www.acmicpc.net/problem/1244"
   ]
  },
  {
   "cell_type": "markdown",
   "metadata": {},
   "source": [
    "## 문제\n",
    "\n",
    "1부터 연속적으로 번호가 붙어있는 스위치들이 있다. 스위치는 켜져 있거나 꺼져있는 상태이다. <그림 1>에 스위치 8개의 상태가 표시되어 있다. ‘1’은 스위치가 켜져 있음을, ‘0’은 꺼져 있음을 나타낸다. 그리고 학생 몇 명을 뽑아서, 학생들에게 1 이상이고 스위치 개수 이하인 자연수를 하나씩 나누어주었다. 학생들은 자신의 성별과 받은 수에 따라 아래와 같은 방식으로 스위치를 조작하게 된다.\n",
    "  \n",
    "  스위치 번호  ① ② ③ ④ ⑤ ⑥ ⑦ ⑧  \n",
    "  스위치 상태   0  1   0  1   0   0   0  1  \n",
    "  <그림 1>\n",
    "  \n",
    "남학생은 스위치 번호가 자기가 받은 수의 배수이면, 그 스위치의 상태를 바꾼다. 즉, 스위치가 켜져 있으면 끄고, 꺼져 있으면 켠다. <그림 1>과 같은 상태에서 남학생이 3을 받았다면, 이 학생은 <그림 2>와 같이 3번, 6번 스위치의 상태를 바꾼다.\n",
    "  \n",
    "  스위치 번호  ① ② ③ ④ ⑤ ⑥ ⑦ ⑧  \n",
    "  스위치 상태   0  1   1  1   0   1   0  1  \n",
    "  <그림 2>\n",
    "  \n",
    "여학생은 자기가 받은 수와 같은 번호가 붙은 스위치를 중심으로 좌우가 대칭이면서 가장 많은 스위치를 포함하는 구간을 찾아서, 그 구간에 속한 스위치의 상태를 모두 바꾼다. 이때 구간에 속한 스위치 개수는 항상 홀수가 된다.\n",
    "  \n",
    "예를 들어 <그림 2>에서 여학생이 3을 받았다면, 3번 스위치를 중심으로 2번, 4번 스위치의 상태가 같고 1번, 5번 스위치의 상태가 같으므로, <그림 3>과 같이 1번부터 5번까지 스위치의 상태를 모두 바꾼다. 만약 <그림 2>에서 여학생이 4를 받았다면, 3번, 5번 스위치의 상태가 서로 다르므로 4번 스위치의 상태만 바꾼다.\n",
    "  \n",
    "스위치 번호  ① ② ③ ④ ⑤ ⑥ ⑦ ⑧  \n",
    "스위치 상태   1   0  0   0  1   1   0  1  \n",
    "<그림 3>\n",
    "  \n",
    "입력으로 스위치들의 처음 상태가 주어지고, 각 학생의 성별과 받은 수가 주어진다. 학생들은 입력되는 순서대로 자기의 성별과 받은 수에 따라 스위치의 상태를 바꾸었을 때, 스위치들의 마지막 상태를 출력하는 프로그램을 작성하시오.  "
   ]
  },
  {
   "cell_type": "markdown",
   "metadata": {},
   "source": [
    "## 입력\n",
    "\n",
    "첫째 줄에는 스위치 개수가 주어진다. 스위치 개수는 100 이하인 양의 정수이다.  \n",
    "둘째 줄에는 각 스위치의 상태가 주어진다. 켜져 있으면 1, 꺼져있으면 0이라고 표시하고 사이에 빈칸이 하나씩 있다.  \n",
    "셋째 줄에는 학생수가 주어진다. 학생수는 100 이하인 양의 정수이다.  \n",
    "넷째 줄부터 마지막 줄까지 한 줄에 한 학생의 성별, 학생이 받은 수가 주어진다. 남학생은 1로, 여학생은 2로 표시하고, 학생이 받은 수는 스위치 개수 이하인 양의 정수이다. 학생의 성별과 받은 수 사이에 빈칸이 하나씩 있다."
   ]
  },
  {
   "cell_type": "markdown",
   "metadata": {},
   "source": [
    "## 출력\n",
    "\n",
    "스위치의 상태를 1번 스위치에서 시작하여 마지막 스위치까지 한 줄에 20개씩 출력한다. 예를 들어 21번 스위치가 있다면 이 스위치의 상태는 둘째 줄 맨 앞에 출력한다. 켜진 스위치는 1, 꺼진 스위치는 0으로 표시하고, 스위치 상태 사이에 빈칸을 하나씩 둔다."
   ]
  },
  {
   "cell_type": "markdown",
   "metadata": {},
   "source": [
    "## 예제 입력 1\n",
    "\n",
    "8  \n",
    "0 1 0 1 0 0 0 1  \n",
    "2  \n",
    "1 3  \n",
    "2 3"
   ]
  },
  {
   "cell_type": "markdown",
   "metadata": {},
   "source": [
    "## 예제 출력 1\n",
    "\n",
    "1 0 0 0 1 1 0 1"
   ]
  },
  {
   "cell_type": "markdown",
   "metadata": {},
   "source": [
    "## 풀이"
   ]
  },
  {
   "cell_type": "markdown",
   "metadata": {},
   "source": [
    "* on_off를 통해 1이면 0으로 바꾸고 0이면 1로 바꿀 수 있도록 한다.\n",
    "* 학생수만큼 for문을 돌면서 남학생인 경우, 여학생인 경우로 나눠서 스위치 작업을 진행한다.\n",
    "* 출력할 때 20개씩 끊어서 출력한다."
   ]
  },
  {
   "cell_type": "code",
   "execution_count": 1,
   "metadata": {},
   "outputs": [
    {
     "name": "stdout",
     "output_type": "stream",
     "text": [
      "8\n",
      "0 1 0 1 0 0 0 1\n",
      "2\n",
      "1 3\n",
      "2 3\n",
      "1 0 0 0 1 1 0 1\n"
     ]
    }
   ],
   "source": [
    "import sys\n",
    "input = sys.stdin.readline\n",
    "\n",
    "on_off = {1:0, 0:1}\n",
    "n = int(input())\n",
    "switch = list(map(int, input().split()))\n",
    "t = int(input())\n",
    "for _ in range(t):\n",
    "    s, num = map(int, input().split())\n",
    "    if s == 1:\n",
    "        i = num\n",
    "        while num-1 < n:\n",
    "            switch[num-1] = on_off[switch[num-1]]\n",
    "            num += i\n",
    "    else:\n",
    "        i, j = num-2, num\n",
    "        switch[num-1] = on_off[switch[num-1]]\n",
    "        while i >= 0 and j < n:\n",
    "            if switch[i] == switch[j]:\n",
    "                switch[i] = on_off[switch[i]]\n",
    "                switch[j] = on_off[switch[j]]\n",
    "            else:\n",
    "                break\n",
    "            i -= 1\n",
    "            j += 1\n",
    "            \n",
    "for i in range(0, n, 20):\n",
    "    print(*switch[i:i+20])"
   ]
  }
 ],
 "metadata": {
  "kernelspec": {
   "display_name": "Python 3",
   "language": "python",
   "name": "python3"
  },
  "language_info": {
   "codemirror_mode": {
    "name": "ipython",
    "version": 3
   },
   "file_extension": ".py",
   "mimetype": "text/x-python",
   "name": "python",
   "nbconvert_exporter": "python",
   "pygments_lexer": "ipython3",
   "version": "3.7.3"
  }
 },
 "nbformat": 4,
 "nbformat_minor": 2
}
