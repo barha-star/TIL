{
 "cells": [
  {
   "cell_type": "markdown",
   "metadata": {},
   "source": [
    "# 소수&팰린드롬\n",
    "\n",
    "https://www.acmicpc.net/problem/1747"
   ]
  },
  {
   "cell_type": "markdown",
   "metadata": {},
   "source": [
    "## 문제\n",
    "\n",
    "어떤 수와 그 수의 숫자 순서를 뒤집은 수가 일치하는 수를 팰린드롬이라 부른다. 예를 들어 79,197과 324,423 등이 팰린드롬 수이다.  \n",
    "어떤 수 N (1 ≤ N ≤ 1,000,000)이 주어졌을 때, N보다 크거나 같고, 소수이면서 팰린드롬인 수 중에서, 가장 작은 수를 구하는 프로그램을 작성하시오."
   ]
  },
  {
   "cell_type": "markdown",
   "metadata": {},
   "source": [
    "## 입력\n",
    "\n",
    "첫째 줄에 N이 주어진다."
   ]
  },
  {
   "cell_type": "markdown",
   "metadata": {},
   "source": [
    "## 출력\n",
    "\n",
    "첫째 줄에 조건을 만족하는 수를 출력한다."
   ]
  },
  {
   "cell_type": "markdown",
   "metadata": {},
   "source": [
    "## 예제 입력 1\n",
    "\n",
    "31"
   ]
  },
  {
   "cell_type": "markdown",
   "metadata": {},
   "source": [
    "## 예제 출력 1\n",
    "\n",
    "101"
   ]
  },
  {
   "cell_type": "markdown",
   "metadata": {},
   "source": [
    "## 풀이"
   ]
  },
  {
   "cell_type": "markdown",
   "metadata": {},
   "source": [
    "* 에라토스테네스의 체를 이용해서 1,000,000 이하의 범위에서 소수를 찾는다.\n",
    "* 그리고 n보다 크거나 같으면서 1,000,000보다 작거나 같은 수에서 팰린드롬인 수를 먼저 찾아준다.\n",
    "* 팰린드롬인 수면 소수인지 위에서 구한 prime을 통해 확인한다.\n",
    "* 만약 n보다 크거나 같으면서 1,000,000 이하의 범위에서 소수가 나오지 않는다면 1,000,000보다 크면서 가장 작은 소수이면서 팰린드롬인 수 1003001이 출력되도록 한다.\n",
    "  \n",
    "* 주의할 부분 : n의 범위는 나와있다고 해서 그 범위 내에서 결괏값이 나와야 하는 건 아니다.\n",
    "    * n이 특정수를 넘어가면 1,000,000내에서 소수이면서 팰린드롬인 수가 나오지 않는다. 그럴 때는 1,000,000를 넘어가지만 가장 작은 소수이면서 팰린드롬인 수 1003001가 출력되도록 해야 한다."
   ]
  },
  {
   "cell_type": "code",
   "execution_count": 1,
   "metadata": {},
   "outputs": [
    {
     "name": "stdout",
     "output_type": "stream",
     "text": [
      "31\n",
      "101\n"
     ]
    }
   ],
   "source": [
    "n = int(input())\n",
    "M = 1000001\n",
    "prime = [False, False] + [True] * (M-2)\n",
    "for i in range(2, int(M**0.5)+1):\n",
    "    if prime[i]:\n",
    "        for j in range(i+i, M, i):\n",
    "            if prime[j]:\n",
    "                prime[j] = False\n",
    "\n",
    "res = 0\n",
    "for i in range(n, M):\n",
    "    if i == 1:\n",
    "        continue\n",
    "    if str(i) == str(i)[::-1]:\n",
    "        if prime[i]:\n",
    "            res = i\n",
    "            break\n",
    "if res == 0:\n",
    "    res = 1003001\n",
    "print(res)"
   ]
  },
  {
   "cell_type": "markdown",
   "metadata": {},
   "source": [
    "* 위의 흐름과 동일하다.\n",
    "* 에라토스테네스의 체를 이용하지 않고 소수를 찾는 for문을 만든다."
   ]
  },
  {
   "cell_type": "code",
   "execution_count": 2,
   "metadata": {},
   "outputs": [
    {
     "name": "stdout",
     "output_type": "stream",
     "text": [
      "31\n",
      "101\n"
     ]
    }
   ],
   "source": [
    "n = int(input())\n",
    "M = 1000001\n",
    "res = 0\n",
    "for i in range(n, M):\n",
    "    if i == 1:\n",
    "        continue\n",
    "    if i == 2:\n",
    "        res = i\n",
    "        break\n",
    "    if str(i) == str(i)[::-1]:\n",
    "        if i % 2 == 0:\n",
    "            continue\n",
    "        flag = True\n",
    "        for j in range(2, int(i**0.5)+1):\n",
    "            if i % j == 0:\n",
    "                flag = False\n",
    "                break\n",
    "        if flag:\n",
    "            res = i\n",
    "            break\n",
    "if res == 0:\n",
    "    res = 1003001\n",
    "print(res)"
   ]
  }
 ],
 "metadata": {
  "kernelspec": {
   "display_name": "Python 3",
   "language": "python",
   "name": "python3"
  },
  "language_info": {
   "codemirror_mode": {
    "name": "ipython",
    "version": 3
   },
   "file_extension": ".py",
   "mimetype": "text/x-python",
   "name": "python",
   "nbconvert_exporter": "python",
   "pygments_lexer": "ipython3",
   "version": "3.7.5"
  }
 },
 "nbformat": 4,
 "nbformat_minor": 2
}
