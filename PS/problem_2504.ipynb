{
 "cells": [
  {
   "cell_type": "markdown",
   "metadata": {},
   "source": [
    "# 괄호의 값\n",
    "\n",
    "https://www.acmicpc.net/problem/2504"
   ]
  },
  {
   "cell_type": "markdown",
   "metadata": {},
   "source": [
    "## 문제\n",
    "\n",
    "4개의 기호 ‘(’, ‘)’, ‘[’, ‘]’를 이용해서 만들어지는 괄호열 중에서 올바른 괄호열이란 다음과 같이 정의된다.  \n",
    "  \n",
    "1. 한 쌍의 괄호로만 이루어진 ‘()’와 ‘[]’는 올바른 괄호열이다. \n",
    "2. 만일 X가 올바른 괄호열이면 ‘(X)’이나 ‘[X]’도 모두 올바른 괄호열이 된다. \n",
    "3. X와 Y 모두 올바른 괄호열이라면 이들을 결합한 XY도 올바른 괄호열이 된다.\n",
    "  \n",
    "예를 들어 ‘(()[[]])’나 ‘(())[][]’ 는 올바른 괄호열이지만 ‘([)]’ 나 ‘(()()[]’ 은 모두 올바른 괄호열이 아니다. 우리는 어떤 올바른 괄호열 X에 대하여 그 괄호열의 값(괄호값)을 아래와 같이 정의하고 값(X)로 표시한다.   \n",
    "  \n",
    "1. ‘()’ 인 괄호열의 값은 2이다.\n",
    "2. ‘[]’ 인 괄호열의 값은 3이다.\n",
    "3. ‘(X)’ 의 괄호값은 2×값(X) 으로 계산된다.\n",
    "4. ‘[X]’ 의 괄호값은 3×값(X) 으로 계산된다.\n",
    "5. 올바른 괄호열 X와 Y가 결합된 XY의 괄호값은 값(XY)= 값(X)+값(Y) 로 계산된다.\n",
    "  \n",
    "예를 들어 ‘(()[[]])([])’ 의 괄호값을 구해보자.  ‘()[[]]’ 의 괄호값이 2 + 3×3=11 이므로  ‘(()[[ ]])’의 괄호값은 2×11=22 이다. 그리고  ‘([])’의 값은 2×3=6 이므로 전체 괄호열의 값은 22 + 6 = 28 이다.  \n",
    "여러분이 풀어야 할 문제는 주어진 괄호열을 읽고 그 괄호값을 앞에서 정의한대로 계산하여 출력하는 것이다."
   ]
  },
  {
   "cell_type": "markdown",
   "metadata": {},
   "source": [
    "## 입력\n",
    "\n",
    "첫째 줄에 괄호열을 나타내는 문자열(스트링)이 주어진다. 단 그 길이는 1 이상, 30 이하이다."
   ]
  },
  {
   "cell_type": "markdown",
   "metadata": {},
   "source": [
    "## 출력\n",
    "\n",
    "첫째 줄에 그 괄호열의 값을 나타내는 정수를 출력한다. 만일 입력이 올바르지 못한 괄호열이면 반드시 0을 출력해야 한다. "
   ]
  },
  {
   "cell_type": "markdown",
   "metadata": {},
   "source": [
    "## 예제 입력 1\n",
    "\n",
    "(()[[]])([])"
   ]
  },
  {
   "cell_type": "markdown",
   "metadata": {},
   "source": [
    "## 예제 출력 1\n",
    "\n",
    "28"
   ]
  },
  {
   "cell_type": "markdown",
   "metadata": {},
   "source": [
    "## 풀이"
   ]
  },
  {
   "cell_type": "code",
   "execution_count": 1,
   "metadata": {},
   "outputs": [
    {
     "name": "stdout",
     "output_type": "stream",
     "text": [
      "(()[[]])([])\n",
      "28\n"
     ]
    }
   ],
   "source": [
    "bracket = list(input())\n",
    "\n",
    "def solve(bracket):\n",
    "    stk = []\n",
    "    cnt = 0\n",
    "    for i in bracket:\n",
    "        if i == '(' or i == '[':\n",
    "            cnt += 1\n",
    "            stk.append(i)\n",
    "            \n",
    "        elif i == ')':\n",
    "            cnt -= 1\n",
    "            if not stk:\n",
    "                return 0\n",
    "            num = 2\n",
    "            if cnt < 0:\n",
    "                return 0\n",
    "            while True:\n",
    "                s = stk.pop()\n",
    "                if s == '(':\n",
    "                    stk.append(num)\n",
    "                    break\n",
    "                elif s == '[':\n",
    "                    return 0\n",
    "                else:\n",
    "                    num *= s\n",
    "        else:\n",
    "            cnt -= 1\n",
    "            if not stk:\n",
    "                return 0\n",
    "            num = 3\n",
    "            if cnt < 0:\n",
    "                return 0\n",
    "            while True:\n",
    "                s = stk.pop()\n",
    "                if s == '[':\n",
    "                    stk.append(num)\n",
    "                    break\n",
    "                elif s == '(':\n",
    "                    return 0\n",
    "                else:\n",
    "                    num *= s\n",
    "                \n",
    "        while True:\n",
    "            if len(stk) <= 1:\n",
    "                break\n",
    "            \n",
    "            if stk[-1] == '(' or stk[-1] == '[':\n",
    "                break\n",
    "            \n",
    "            if stk[-2] == '(' or stk[-2] == '[':\n",
    "                break\n",
    "                \n",
    "            a = stk.pop()\n",
    "            b = stk.pop()\n",
    "            stk.append(a+b)\n",
    "                    \n",
    "    if len(stk) > 1:\n",
    "        return 0\n",
    "    elif len(stk) == 0:\n",
    "        return 0\n",
    "    else:\n",
    "        if stk[0] == '(' or stk[0] == '[':\n",
    "            return 0\n",
    "        else:    \n",
    "            return stk[0]\n",
    "\n",
    "print(solve(bracket))"
   ]
  }
 ],
 "metadata": {
  "kernelspec": {
   "display_name": "Python 3",
   "language": "python",
   "name": "python3"
  },
  "language_info": {
   "codemirror_mode": {
    "name": "ipython",
    "version": 3
   },
   "file_extension": ".py",
   "mimetype": "text/x-python",
   "name": "python",
   "nbconvert_exporter": "python",
   "pygments_lexer": "ipython3",
   "version": "3.7.3"
  }
 },
 "nbformat": 4,
 "nbformat_minor": 2
}
