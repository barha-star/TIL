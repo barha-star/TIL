{
 "cells": [
  {
   "cell_type": "markdown",
   "metadata": {},
   "source": [
    "# IOIOI\n",
    "\n",
    "https://www.acmicpc.net/problem/5525"
   ]
  },
  {
   "cell_type": "markdown",
   "metadata": {},
   "source": [
    "## 문제\n",
    "\n",
    "N+1개의 I와 N개의 O로 이루어져 있으면, I와 O이 교대로 나오는 문자열을 PN이라고 한다.  \n",
    "* P1 IOI\n",
    "* P2 IOIOI\n",
    "* P3 IOIOIOI\n",
    "* PN IOIOI...OI (O가 N개)\n",
    "  \n",
    "I와 O로만 이루어진 문자열 S와 정수 N이 주어졌을 때, S안에 PN이 몇 군데 포함되어 있는지 구하는 프로그램을 작성하시오."
   ]
  },
  {
   "cell_type": "markdown",
   "metadata": {},
   "source": [
    "## 입력\n",
    "\n",
    "첫째 줄에 N이 주어진다.  \n",
    "둘째 줄에는 S의 길이 M이 주어지며,  \n",
    "셋째 줄에 S가 주어진다.  \n",
    "(1 ≤ N ≤ 1,000,000, 2N+1 ≤ M ≤ 1,000,000)"
   ]
  },
  {
   "cell_type": "markdown",
   "metadata": {},
   "source": [
    "## 출력\n",
    "\n",
    "S에 PN이 몇 군데 포함되어 있는지 출력한다."
   ]
  },
  {
   "cell_type": "markdown",
   "metadata": {},
   "source": [
    "## 예제 입력 1\n",
    "\n",
    "1  \n",
    "13  \n",
    "OOIOIOIOIIOII"
   ]
  },
  {
   "cell_type": "markdown",
   "metadata": {},
   "source": [
    "## 예제 출력 1\n",
    "\n",
    "4"
   ]
  },
  {
   "cell_type": "markdown",
   "metadata": {},
   "source": [
    "## 풀이"
   ]
  },
  {
   "cell_type": "code",
   "execution_count": 1,
   "metadata": {},
   "outputs": [
    {
     "name": "stdout",
     "output_type": "stream",
     "text": [
      "1\n",
      "13\n",
      "OOIOIOIOIIOII\n",
      "4\n"
     ]
    }
   ],
   "source": [
    "n = int(input())\n",
    "m = int(input())\n",
    "s = input()\n",
    "res = 0\n",
    "ioi = 'IOI'\n",
    "plus = 'OI'\n",
    "idx = 0\n",
    "while idx < m-2:\n",
    "    cnt = 0\n",
    "    if s[idx:idx+3] == ioi:\n",
    "        cnt = 1\n",
    "        idx += 3\n",
    "            \n",
    "        while True:\n",
    "                \n",
    "            if idx + 1 >= m:\n",
    "                break\n",
    "            \n",
    "            if s[idx:idx+2] == plus:\n",
    "                cnt += 1\n",
    "                idx += 2\n",
    "            else:\n",
    "                break\n",
    "        if cnt >= n:\n",
    "            res += (cnt+1-n)\n",
    "    else:\n",
    "        idx += 1\n",
    "        \n",
    "print(res)"
   ]
  }
 ],
 "metadata": {
  "kernelspec": {
   "display_name": "Python 3",
   "language": "python",
   "name": "python3"
  },
  "language_info": {
   "codemirror_mode": {
    "name": "ipython",
    "version": 3
   },
   "file_extension": ".py",
   "mimetype": "text/x-python",
   "name": "python",
   "nbconvert_exporter": "python",
   "pygments_lexer": "ipython3",
   "version": "3.7.3"
  }
 },
 "nbformat": 4,
 "nbformat_minor": 2
}
