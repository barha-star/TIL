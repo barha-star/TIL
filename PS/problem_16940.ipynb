{
 "cells": [
  {
   "cell_type": "markdown",
   "metadata": {},
   "source": [
    "# BFS 스페셜 저지\n",
    "\n",
    "https://www.acmicpc.net/problem/16940"
   ]
  },
  {
   "cell_type": "markdown",
   "metadata": {},
   "source": [
    "## 문제\n",
    "\n",
    "BOJ에서 정답이 여러가지인 경우에는 스페셜 저지를 사용한다. 스페셜 저지는 유저가 출력한 답을 검증하는 코드를 통해서 정답 유무를 결정하는 방식이다. 오늘은 스페셜 저지 코드를 하나 만들어보려고 한다.  \n",
    "정점의 개수가 N이고, 정점에 1부터 N까지 번호가 매겨져있는 양방향 그래프가 있을 때, BFS 알고리즘은 다음과 같은 형태로 이루어져 있다.\n",
    "  \n",
    "1. 큐에 시작 정점을 넣는다. 이 문제에서 시작 정점은 1이다. 1을 방문했다고 처리한다.\n",
    "2. 큐가 비어 있지 않은 동안 다음을 반복한다.\n",
    "    1. 큐에 들어있는 첫 정점을 큐에서 꺼낸다. 이 정점을 x라고 하자.\n",
    "    2. x와 연결되어 있으면, 아직 방문하지 않은 정점 y를 모두 큐에 넣는다. 모든 y를 방문했다고 처리한다.\n",
    "  \n",
    "2-2 단계에서 방문하지 않은 정점을 방문하는 순서는 중요하지 않다. 따라서, BFS의 결과는 여러가지가 나올 수 있다.  \n",
    "트리가 주어졌을 때, 올바른 BFS 방문 순서인지 구해보자."
   ]
  },
  {
   "cell_type": "markdown",
   "metadata": {},
   "source": [
    "## 입력\n",
    "\n",
    "첫째 줄에 정점의 수 N(2 ≤ N ≤ 100,000)이 주어진다.  \n",
    "둘째 줄부터 N-1개의 줄에는 트리의 간선 정보가 주어진다.  \n",
    "마지막 줄에는 BFS 방문 순서가 주어진다. BFS 방문 순서는 항상 N개의 정수로 이루어져 있으며, 1부터 N까지 자연수가 한 번씩 등장한다."
   ]
  },
  {
   "cell_type": "markdown",
   "metadata": {},
   "source": [
    "## 출력\n",
    "\n",
    "입력으로 주어진 BFS 방문 순서가 올바른 순서면 1, 아니면 0을 출력한다."
   ]
  },
  {
   "cell_type": "markdown",
   "metadata": {},
   "source": [
    "## 예제 입력 1\n",
    "\n",
    "4  \n",
    "1 2  \n",
    "1 3  \n",
    "2 4  \n",
    "1 2 3 4"
   ]
  },
  {
   "cell_type": "markdown",
   "metadata": {},
   "source": [
    "## 예제 출력 1\n",
    "\n",
    "1"
   ]
  },
  {
   "cell_type": "markdown",
   "metadata": {},
   "source": [
    "## 풀이"
   ]
  },
  {
   "cell_type": "code",
   "execution_count": 3,
   "metadata": {},
   "outputs": [
    {
     "name": "stdout",
     "output_type": "stream",
     "text": [
      "4\n",
      "1 2\n",
      "1 3\n",
      "2 4\n",
      "1 2 4 3\n",
      "0\n"
     ]
    }
   ],
   "source": [
    "import sys\n",
    "input = sys.stdin.readline\n",
    "\n",
    "def solve():\n",
    "    n = int(input())\n",
    "    tree = [set() for _ in range(n+1)]\n",
    "    tree[0].add(1)\n",
    "    for _ in range(n-1):\n",
    "        a, b = map(int, input().split())\n",
    "        tree[a].add(b)\n",
    "        tree[b].add(a)\n",
    "\n",
    "    que = [0]\n",
    "    idx = 0\n",
    "    answer = list(map(int, input().split()))\n",
    "    for x in answer:\n",
    "        while x not in tree[que[idx]]:\n",
    "            idx += 1\n",
    "            if idx == len(que):\n",
    "                return 0\n",
    "        que.append(x)\n",
    "        \n",
    "    return 1\n",
    "\n",
    "print(solve())"
   ]
  },
  {
   "cell_type": "markdown",
   "metadata": {},
   "source": [
    "* python은 시간 초과, pypy는 성공"
   ]
  },
  {
   "cell_type": "code",
   "execution_count": 4,
   "metadata": {},
   "outputs": [
    {
     "name": "stdout",
     "output_type": "stream",
     "text": [
      "4\n",
      "1 2\n",
      "1 3\n",
      "2 4\n",
      "1 2 3 4\n",
      "1\n"
     ]
    }
   ],
   "source": [
    "from collections import deque\n",
    "import sys\n",
    "input = sys.stdin.readline\n",
    "\n",
    "def solve():\n",
    "    n = int(input())\n",
    "    tree = [[] for _ in range(n)]\n",
    "    for _ in range(n-1):\n",
    "        a, b = map(int, input().split())\n",
    "        tree[a-1].append(b-1)\n",
    "        tree[b-1].append(a-1)\n",
    "    answer = list(map(int, input().split()))\n",
    "    answer = [a-1 for a in answer]\n",
    "    if answer[0] != 0:\n",
    "        return 0\n",
    "    \n",
    "    idx = 1\n",
    "    check = [0] * n\n",
    "    que = deque([0])\n",
    "    check[0] = 1\n",
    "    while que:\n",
    "        x = que.popleft()\n",
    "        \n",
    "        if not tree[x]:\n",
    "            continue\n",
    "            \n",
    "        nex = []\n",
    "        for i in tree[x]:\n",
    "            if not check[i]:\n",
    "                nex.append(i)\n",
    "                check[i] = 1\n",
    "        \n",
    "        l = len(nex)\n",
    "        for k in range(idx, idx+l):\n",
    "            if answer[k] in nex:\n",
    "                que.append(answer[k])\n",
    "            else:\n",
    "                return 0\n",
    "        idx += l\n",
    "        \n",
    "    return 1\n",
    "    \n",
    "    \n",
    "print(solve())"
   ]
  }
 ],
 "metadata": {
  "kernelspec": {
   "display_name": "Python 3",
   "language": "python",
   "name": "python3"
  },
  "language_info": {
   "codemirror_mode": {
    "name": "ipython",
    "version": 3
   },
   "file_extension": ".py",
   "mimetype": "text/x-python",
   "name": "python",
   "nbconvert_exporter": "python",
   "pygments_lexer": "ipython3",
   "version": "3.7.3"
  }
 },
 "nbformat": 4,
 "nbformat_minor": 2
}
