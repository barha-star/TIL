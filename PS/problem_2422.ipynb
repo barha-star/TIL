{
 "cells": [
  {
   "cell_type": "markdown",
   "metadata": {},
   "source": [
    "# 한윤정이 이탈리아에 가서 아이스크림을 사먹는데\n",
    "\n",
    "https://www.acmicpc.net/problem/2422"
   ]
  },
  {
   "cell_type": "markdown",
   "metadata": {},
   "source": [
    "## 문제\n",
    "\n",
    "한윤정과 친구들은 이탈리아로 방학 여행을 갔다. 이탈리아는 덥다. 윤정이와 친구들은 아이스크림을 사먹기로 했다. 아이스크림 가게에는 N종류의 아이스크림이 있다. 모든 아이스크림은 1부터 N까지 번호가 매겨져있다. 어떤 종류의 아이스크림을 함께먹으면, 맛이 아주 형편없어진다. 따라서 윤정이는 이러한 경우를 피하면서 아이스크림을 3가지 선택하려고 한다. 이때, 선택하는 방법이 몇 가지인지 구하려고 한다."
   ]
  },
  {
   "cell_type": "markdown",
   "metadata": {},
   "source": [
    "## 입력\n",
    "\n",
    "첫째 줄에 정수 N과 M이 주어진다. N은 아이스크림 종류의 수이고, M은 섞어먹으면 안 되는 조합의 개수이다.  \n",
    "아래 M개의 줄에는 섞어먹으면 안 되는 조합의 번호가 주어진다. 같은 조합은 두 번 이상 나오지 않는다. (1 ≤ N ≤ 200, 0 ≤ M ≤ 10,000)"
   ]
  },
  {
   "cell_type": "markdown",
   "metadata": {},
   "source": [
    "## 출력\n",
    "\n",
    "첫째 줄에, 가능한 방법이 총 몇 개 있는지 출력한다."
   ]
  },
  {
   "cell_type": "markdown",
   "metadata": {},
   "source": [
    "## 예제 입력 1\n",
    "\n",
    "5 3  \n",
    "1 2  \n",
    "3 4  \n",
    "1 3"
   ]
  },
  {
   "cell_type": "markdown",
   "metadata": {},
   "source": [
    "## 예제 출력 1\n",
    "\n",
    "3"
   ]
  },
  {
   "cell_type": "markdown",
   "metadata": {},
   "source": [
    "## 풀이"
   ]
  },
  {
   "cell_type": "code",
   "execution_count": 1,
   "metadata": {},
   "outputs": [
    {
     "name": "stdout",
     "output_type": "stream",
     "text": [
      "5 3\n",
      "1 2\n",
      "3 4\n",
      "1 3\n",
      "3\n"
     ]
    }
   ],
   "source": [
    "import sys\n",
    "input = sys.stdin.readline\n",
    "\n",
    "n, m = map(int, input().split())\n",
    "ice = [[0]*n for _ in range(n)]\n",
    "for _ in range(m):\n",
    "    a, b = map(int, input().split())\n",
    "    ice[a-1][b-1] = -1\n",
    "    ice[b-1][a-1] = -1\n",
    "\n",
    "res = 0\n",
    "for i in range(n-2):\n",
    "    for j in range(i+1, n-1):\n",
    "        if ice[i][j] != -1:\n",
    "            for k in range(j+1, n):\n",
    "                if ice[i][k] != -1 and ice[j][k] != -1:\n",
    "                    res += 1\n",
    "                    \n",
    "print(res)"
   ]
  },
  {
   "cell_type": "code",
   "execution_count": 2,
   "metadata": {},
   "outputs": [
    {
     "name": "stdout",
     "output_type": "stream",
     "text": [
      "5 3\n",
      "1 2\n",
      "3 4\n",
      "1 3\n",
      "3\n"
     ]
    }
   ],
   "source": [
    "import sys\n",
    "input = sys.stdin.readline\n",
    "\n",
    "n, m = map(int, input().split())\n",
    "ice = [[] for _ in range(n)]\n",
    "for _ in range(m):\n",
    "    a, b = map(int, input().split())\n",
    "    ice[a-1].append(b-1)\n",
    "    ice[b-1].append(a-1)\n",
    "    \n",
    "def dfs(i, cnt):\n",
    "    global res\n",
    "    if cnt == 3:\n",
    "        res += 1\n",
    "        return\n",
    "    \n",
    "    for j in range(i+1, n):\n",
    "        if not check[j]:\n",
    "            check[j] += 1\n",
    "            for k in ice[j]:\n",
    "                check[k] += 1\n",
    "            dfs(j, cnt+1)\n",
    "            check[j] -= 1\n",
    "            for k in ice[j]:\n",
    "                check[k] -= 1\n",
    "    \n",
    "    \n",
    "check = [0 for _ in range(n)]\n",
    "res = 0\n",
    "for i in range(n):\n",
    "    check[i] += 1\n",
    "    for j in ice[i]:\n",
    "        check[j] += 1\n",
    "    dfs(i, 1)\n",
    "    check[i] -= 1\n",
    "    for j in ice[i]:\n",
    "        check[j] -= 1\n",
    "    \n",
    "print(res)"
   ]
  }
 ],
 "metadata": {
  "kernelspec": {
   "display_name": "Python 3",
   "language": "python",
   "name": "python3"
  },
  "language_info": {
   "codemirror_mode": {
    "name": "ipython",
    "version": 3
   },
   "file_extension": ".py",
   "mimetype": "text/x-python",
   "name": "python",
   "nbconvert_exporter": "python",
   "pygments_lexer": "ipython3",
   "version": "3.7.3"
  }
 },
 "nbformat": 4,
 "nbformat_minor": 2
}
