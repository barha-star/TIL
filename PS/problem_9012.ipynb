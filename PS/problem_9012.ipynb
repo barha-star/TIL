{
 "cells": [
  {
   "cell_type": "markdown",
   "metadata": {},
   "source": [
    "# 괄호\n",
    "\n",
    "https://www.acmicpc.net/problem/9012"
   ]
  },
  {
   "cell_type": "markdown",
   "metadata": {},
   "source": [
    "## 문제\n",
    "\n",
    "괄호 문자열(Parenthesis String, PS)은 두 개의 괄호 기호인 ‘(’ 와 ‘)’ 만으로 구성되어 있는 문자열이다. 그 중에서 괄호의 모양이 바르게 구성된 문자열을 올바른 괄호 문자열(Valid PS, VPS)이라고 부른다. 한 쌍의 괄호 기호로 된 “( )” 문자열은 기본 VPS 이라고 부른다. 만일 x 가 VPS 라면 이것을 하나의 괄호에 넣은 새로운 문자열 “(x)”도 VPS 가 된다. 그리고 두 VPS x 와 y를 접합(concatenation)시킨 새로운 문자열 xy도 VPS 가 된다. 예를 들어 “(())()”와 “((()))” 는 VPS 이지만 “(()(”, “(())()))” , 그리고 “(()” 는 모두 VPS 가 아닌 문자열이다.   \n",
    "여러분은 입력으로 주어진 괄호 문자열이 VPS 인지 아닌지를 판단해서 그 결과를 YES 와 NO 로 나타내어야 한다. "
   ]
  },
  {
   "cell_type": "markdown",
   "metadata": {},
   "source": [
    "## 입력\n",
    "\n",
    "입력 데이터는 표준 입력을 사용한다. 입력은 T개의 테스트 데이터로 주어진다. 입력의 첫 번째 줄에는 입력 데이터의 수를 나타내는 정수 T가 주어진다. 각 테스트 데이터의 첫째 줄에는 괄호 문자열이 한 줄에 주어진다. 하나의 괄호 문자열의 길이는 2 이상 50 이하이다. "
   ]
  },
  {
   "cell_type": "markdown",
   "metadata": {},
   "source": [
    "## 출력\n",
    "\n",
    "출력은 표준 출력을 사용한다. 만일 입력 괄호 문자열이 올바른 괄호 문자열(VPS)이면 “YES”, 아니면 “NO”를 한 줄에 하나씩 차례대로 출력해야 한다. "
   ]
  },
  {
   "cell_type": "markdown",
   "metadata": {},
   "source": [
    "## 예제 입력 1\n",
    "\n",
    "6  \n",
    "(())())  \n",
    "(((()())()  \n",
    "(()())((()))  \n",
    "((()()(()))(((())))()  \n",
    "()()()()(()()())()  \n",
    "(()((())()("
   ]
  },
  {
   "cell_type": "markdown",
   "metadata": {},
   "source": [
    "## 예제 출력 1\n",
    "\n",
    "NO  \n",
    "NO  \n",
    "YES  \n",
    "NO  \n",
    "YES  \n",
    "NO"
   ]
  },
  {
   "cell_type": "markdown",
   "metadata": {},
   "source": [
    "## 풀이"
   ]
  },
  {
   "cell_type": "markdown",
   "metadata": {},
   "source": [
    "* vps를 확인하는 check 함수를 만든다.\n",
    "* cnt를 0으로 초기화한다.\n",
    "* 그리고 vps에서 괄호를 하나씩 꺼낸다.\n",
    "* 꺼낸 괄호가 ')' 모양이라면 cnt에 더하기 1을 한다.\n",
    "* 꺼낸 괄호가 '(' 모양이라면\n",
    "    * cnt가 0보다 작거나 같으면 올바른 괄호가 아니다.\n",
    "    * cnt가 0보다 클 때 cnt에 빼기 1을 한다.\n",
    "* vps가 비었을 때\n",
    "    * cnt를 확인하고 0이 아닌 경우 올바른 괄호가 아니다."
   ]
  },
  {
   "cell_type": "code",
   "execution_count": 1,
   "metadata": {},
   "outputs": [
    {
     "name": "stdout",
     "output_type": "stream",
     "text": [
      "6\n",
      "(())())\n",
      "NO\n",
      "(((()())()\n",
      "NO\n",
      "(()())((()))\n",
      "YES\n",
      "((()()(()))(((())))()\n",
      "NO\n",
      "()()()()(()()())()\n",
      "YES\n",
      "(()((())()(\n",
      "NO\n"
     ]
    }
   ],
   "source": [
    "import sys\n",
    "input = sys.stdin.readline\n",
    "\n",
    "t = int(input())\n",
    "\n",
    "def check(vps):\n",
    "    cnt = 0\n",
    "    while vps:\n",
    "        v = vps.pop()\n",
    "        if v == ')':\n",
    "            cnt += 1\n",
    "        else:\n",
    "            if cnt <= 0:\n",
    "                return False\n",
    "            cnt -= 1\n",
    "    if cnt != 0:\n",
    "        return False\n",
    "    return True\n",
    "\n",
    "for _ in range(t):\n",
    "    vps = list(input().rstrip())\n",
    "    if check(vps):\n",
    "        print('YES')\n",
    "    else:\n",
    "        print('NO')"
   ]
  },
  {
   "cell_type": "markdown",
   "metadata": {},
   "source": [
    "* 위의 방법과 동일하게 진행된다.\n",
    "* 여기서는 cnt가 아닌 stk(stack)의 형태로 올바른 괄호를 확인한다.\n",
    "* stk를 [](빈 리스트)로 초기화한다.\n",
    "* 그리고 vps에서 괄호를 하나씩 꺼낸다.\n",
    "* 꺼낸 괄호가 ')' 모양이라면 stk에 추가한다.\n",
    "* 꺼낸 괄호가 '(' 모양이라면\n",
    "    * stk가 비었다면 올바른 괄호가 아니다.\n",
    "    * stk가 비어있지 않을 때 stk에 pop을 한다.\n",
    "* vps가 비었을 때\n",
    "    * stk를 확인하고 비어있지 않은 경우 올바른 괄호가 아니다."
   ]
  },
  {
   "cell_type": "code",
   "execution_count": 2,
   "metadata": {},
   "outputs": [
    {
     "name": "stdout",
     "output_type": "stream",
     "text": [
      "6\n",
      "(())())\n",
      "NO\n",
      "(((()())()\n",
      "NO\n",
      "(()())((()))\n",
      "YES\n",
      "((()()(()))(((())))()\n",
      "NO\n",
      "()()()()(()()())()\n",
      "YES\n",
      "(()((())()(\n",
      "NO\n"
     ]
    }
   ],
   "source": [
    "import sys\n",
    "input = sys.stdin.readline\n",
    "\n",
    "t = int(input())\n",
    "\n",
    "def check(vps):\n",
    "    stk = []\n",
    "    while vps:\n",
    "        v = vps.pop()\n",
    "        if v == ')':\n",
    "            stk.append(v)\n",
    "        else:\n",
    "            if not stk:\n",
    "                return False\n",
    "            stk.pop()\n",
    "    if stk:\n",
    "        return False\n",
    "    return True\n",
    "\n",
    "for _ in range(t):\n",
    "    vps = list(input().rstrip())\n",
    "    if check(vps):\n",
    "        print('YES')\n",
    "    else:\n",
    "        print('NO')"
   ]
  }
 ],
 "metadata": {
  "kernelspec": {
   "display_name": "Python 3",
   "language": "python",
   "name": "python3"
  },
  "language_info": {
   "codemirror_mode": {
    "name": "ipython",
    "version": 3
   },
   "file_extension": ".py",
   "mimetype": "text/x-python",
   "name": "python",
   "nbconvert_exporter": "python",
   "pygments_lexer": "ipython3",
   "version": "3.7.3"
  }
 },
 "nbformat": 4,
 "nbformat_minor": 2
}
