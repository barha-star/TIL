{
 "cells": [
  {
   "cell_type": "markdown",
   "metadata": {},
   "source": [
    "# 줄어들지 않아\n",
    "\n",
    "https://www.acmicpc.net/problem/2688"
   ]
  },
  {
   "cell_type": "markdown",
   "metadata": {},
   "source": [
    "## 문제\n",
    "\n",
    "어떤 숫자가 줄어들지 않는다는 것은 그 숫자의 각 자리 수보다 그 왼쪽 자리 수가 작거나 같을 때 이다.  \n",
    "예를 들어, 1234는 줄어들지 않는다.   \n",
    "줄어들지 않는 4자리 수를 예를 들어 보면 0011, 1111, 1112, 1122, 2223이 있다. 줄어들지 않는 4자리수는 총 715개가 있다.  \n",
    "이 문제에서는 숫자의 앞에 0(leading zero)이 있어도 된다. 0000, 0001, 0002는 올바른 줄어들지 않는 4자리수이다.  \n",
    "n이 주어졌을 때, 줄어들지 않는 n자리 수의 개수를 구하는 프로그램을 작성하시오."
   ]
  },
  {
   "cell_type": "markdown",
   "metadata": {},
   "source": [
    "## 입력\n",
    "\n",
    "첫째 줄에 테스트 케이스의 개수 T(1 <= T <= 1,000)이 주어진다. 각 테스트 케이스는 숫자 하나 n으로 이루어져 있다. (1 <= n <= 64)"
   ]
  },
  {
   "cell_type": "markdown",
   "metadata": {},
   "source": [
    "## 출력\n",
    "\n",
    "각 테스트 케이스에 대해 한 줄에 하나씩 줄어들지 않는 n자리 수의 개수를 출력한다."
   ]
  },
  {
   "cell_type": "markdown",
   "metadata": {},
   "source": [
    "## 예제 입력 1\n",
    "\n",
    "3  \n",
    "2  \n",
    "3  \n",
    "4"
   ]
  },
  {
   "cell_type": "markdown",
   "metadata": {},
   "source": [
    "## 예제 출력 1\n",
    "\n",
    "55  \n",
    "220  \n",
    "715"
   ]
  },
  {
   "cell_type": "markdown",
   "metadata": {},
   "source": [
    "## 풀이"
   ]
  },
  {
   "cell_type": "markdown",
   "metadata": {},
   "source": [
    "* 1인 경우 0 - 9 (10개)\n",
    "* 2인 경우 00-09(10개), 11-19(9개), ..., 99(1개) : 10 + 9 + ... + 1 (55개)\n",
    "    * 0으로 끝나는 건 1개\n",
    "    * 1로 끝나는 건 2개\n",
    "    * 2로 끝나는 건 3개\n",
    "    * ...\n",
    "    * 9로 끝나는 건 10개"
   ]
  },
  {
   "cell_type": "code",
   "execution_count": 3,
   "metadata": {},
   "outputs": [
    {
     "name": "stdout",
     "output_type": "stream",
     "text": [
      "3\n",
      "2\n",
      "3\n",
      "4\n",
      "55\n",
      "220\n",
      "715\n"
     ]
    }
   ],
   "source": [
    "import sys\n",
    "input = sys.stdin.readline\n",
    "\n",
    "t = int(input())\n",
    "n = [int(input()) for _ in range(t)]\n",
    "m = max(n)\n",
    "\n",
    "res = [0, 10]\n",
    "dp = [1] * 10\n",
    "for i in range(2, m+1):\n",
    "    cnt = 0\n",
    "    new_dp = [0] * 10\n",
    "    for j in range(10):\n",
    "        cnt += dp[j]*(10-j)\n",
    "        for k in range(j, 10):\n",
    "            new_dp[k] += dp[j]\n",
    "    res.append(cnt)\n",
    "    dp = new_dp\n",
    "    \n",
    "for i in n:\n",
    "    print(res[i])"
   ]
  }
 ],
 "metadata": {
  "kernelspec": {
   "display_name": "Python 3",
   "language": "python",
   "name": "python3"
  },
  "language_info": {
   "codemirror_mode": {
    "name": "ipython",
    "version": 3
   },
   "file_extension": ".py",
   "mimetype": "text/x-python",
   "name": "python",
   "nbconvert_exporter": "python",
   "pygments_lexer": "ipython3",
   "version": "3.7.3"
  }
 },
 "nbformat": 4,
 "nbformat_minor": 2
}
