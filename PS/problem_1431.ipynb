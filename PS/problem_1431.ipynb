{
 "cells": [
  {
   "cell_type": "markdown",
   "metadata": {},
   "source": [
    "# 시리얼 번호\n",
    "\n",
    "https://www.acmicpc.net/problem/1431"
   ]
  },
  {
   "cell_type": "markdown",
   "metadata": {},
   "source": [
    "## 문제\n",
    "\n",
    "다솜이는 기타를 많이 가지고 있다. 그리고 각각의 기타는 모두 다른 시리얼 번호를 가지고 있다. 다솜이는 기타를 빨리 찾아서 빨리 사람들에게 연주해주기 위해서 기타를 시리얼 번호 순서대로 정렬하고자 한다.  \n",
    "모든 시리얼 번호는 알파벳 대문자 (A-Z)와 숫자 (0-9)로 이루어져 있다.  \n",
    "시리얼번호 A가 시리얼번호 B의 앞에 오는 경우는 다음과 같다.  \n",
    "1. A와 B의 길이가 다르면, 짧은 것이 먼저 온다.\n",
    "2. 만약 서로 길이가 같다면, A의 모든 자리수의 합과 B의 모든 자리수의 합을 비교해서 작은 합을 가지는 것이 먼저온다. (숫자인 것만 더한다)\n",
    "3. 만약 1,2번 둘 조건으로도 비교할 수 없으면, 사전순으로 비교한다. 숫자가 알파벳보다 사전순으로 작다.\n",
    "  \n",
    "시리얼이 주어졌을 때, 정렬해서 출력하는 프로그램을 작성하시오."
   ]
  },
  {
   "cell_type": "markdown",
   "metadata": {},
   "source": [
    "## 입력\n",
    "\n",
    "첫째 줄에 기타의 개수 N이 주어진다. N은 1,000보다 작거나 같다.  \n",
    "둘째 줄부터 N개의 줄에 시리얼 번호가 하나씩 주어진다. 시리얼 번호의 길이는 최대 50이고, 알파벳 대문자 또는 숫자로만 이루어져 있다. 시리얼 번호는 중복되지 않는다."
   ]
  },
  {
   "cell_type": "markdown",
   "metadata": {},
   "source": [
    "## 출력\n",
    "\n",
    "첫째 줄부터 차례대로 N개의 줄에 한줄에 하나씩 시리얼 번호를 정렬한 결과를 출력한다."
   ]
  },
  {
   "cell_type": "markdown",
   "metadata": {},
   "source": [
    "## 예제 입력 1\n",
    "\n",
    "5  \n",
    "ABCD  \n",
    "145C  \n",
    "A  \n",
    "A910  \n",
    "Z321"
   ]
  },
  {
   "cell_type": "markdown",
   "metadata": {},
   "source": [
    "## 예제 출력 1\n",
    "\n",
    "A  \n",
    "ABCD  \n",
    "Z321  \n",
    "145C  \n",
    "A910"
   ]
  },
  {
   "cell_type": "markdown",
   "metadata": {},
   "source": [
    "## 풀이"
   ]
  },
  {
   "cell_type": "markdown",
   "metadata": {},
   "source": [
    "* n과 시리얼 번호를 입력받는다.\n",
    "* 모든 자릿수의 합(숫자만)을 구하는 sum_num 함수를 정의한다.\n",
    "* 시리얼 번호를 lambda 함수를 통해 길이, 모든 자릿수의 합, 사전 순으로 정렬한다.\n",
    "* 시리얼 번호를 하나씩 출력한다."
   ]
  },
  {
   "cell_type": "code",
   "execution_count": 2,
   "metadata": {},
   "outputs": [
    {
     "name": "stdout",
     "output_type": "stream",
     "text": [
      "5\n",
      "ABCD\n",
      "145C\n",
      "A\n",
      "A910\n",
      "Z321\n",
      "A\n",
      "ABCD\n",
      "Z321\n",
      "145C\n",
      "A910\n"
     ]
    }
   ],
   "source": [
    "import sys\n",
    "input = sys.stdin.readline\n",
    "\n",
    "def sum_num(s):\n",
    "    res = 0\n",
    "    for i in s:\n",
    "        if i.isdigit():\n",
    "            res += int(i)\n",
    "    return res\n",
    "\n",
    "n = int(input())\n",
    "serial = [input().rstrip() for _ in range(n)]\n",
    "serial.sort(key= lambda x:(len(x), sum_num(x), x))\n",
    "for s in serial:\n",
    "    print(s)"
   ]
  }
 ],
 "metadata": {
  "kernelspec": {
   "display_name": "Python 3",
   "language": "python",
   "name": "python3"
  },
  "language_info": {
   "codemirror_mode": {
    "name": "ipython",
    "version": 3
   },
   "file_extension": ".py",
   "mimetype": "text/x-python",
   "name": "python",
   "nbconvert_exporter": "python",
   "pygments_lexer": "ipython3",
   "version": "3.7.3"
  }
 },
 "nbformat": 4,
 "nbformat_minor": 2
}
