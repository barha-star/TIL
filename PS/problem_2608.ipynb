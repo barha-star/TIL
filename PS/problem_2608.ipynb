{
 "cells": [
  {
   "cell_type": "markdown",
   "metadata": {},
   "source": [
    "# 로마 숫자\n",
    "\n",
    "https://www.acmicpc.net/problem/2608"
   ]
  },
  {
   "cell_type": "markdown",
   "metadata": {},
   "source": [
    "## 문제\n",
    "\n",
    "로마 시대 때는 현재 사용하는 아라비아 숫자가 아닌 다른 방법으로 수를 표현하였다.  \n",
    "로마 숫자는 다음과 같은 7개의 기호로 이루어진다.  \n",
    "기호\tI\tV\tX\tL\tC\tD\tM  \n",
    "값\t1\t5\t10\t50\t100\t500\t1000  \n",
    "수를 만드는 규칙은 다음과 같다.  \n",
    "1. 보통 큰 숫자를 왼쪽에 작은 숫자를 오른쪽에 쓴다. 그리고 그 값은 모든 숫자의 값을 더한 값이 된다. 예를 들어 LX = 50 + 10 = 60 이 되고, MLI = 1000 + 50 + 1 = 1051 이 된다.\n",
    "2. V, L, D는 한 번만 사용할 수 있고 I, X, C, M은 연속해서 세 번까지만 사용할 수 있다. 예를 들어 VV나 LXIIII 와 같은 수는 없다. 그리고 같은 숫자가 반복되면 그 값은 모든 숫자의 값을 더한 값이 된다. 예를 들어 XXX = 10 + 10 + 10 = 30 이 되고, CCLIII = 100 + 100 + 50 + 1 + 1 + 1 = 253 이 된다.\n",
    "3. 작은 숫자가 큰 숫자의 왼쪽에 오는 경우는 다음과 같다. IV = 4, IX = 9, XL = 40, XC = 90, CD = 400, CM = 900 을 나타낸다. 이들 각각은 한 번씩만 사용할 수 있다. 그런데 IV 와 IX 는 같이 쓸 수 없으며 XL 과 XC, CD 와 CM 또한 같이 쓸 수 없다. 이들 외에는 작은 숫자가 큰 숫자 왼쪽 어디에도 나올 수 없다. 예를 들어 XCXC 나 CMCD, VX 나 IIX 와 같은 수는 없다. 참고로 LIX = 50 + 9 = 59, CXC = 100 + 90 = 190 이 된다.\n",
    "4. 모든 수는 가능한 가장 적은 개수의 로마 숫자들로 표현해야 한다. 예를 들어 60 은 LX 이지 XLXX 가 아니고, 5 는 V 이지 IVI 가 아니다.\n",
    "  \n",
    "아래의 예를 참고 하시오.  \n",
    "* DLIII = 500 + 50 + 3 = 553\n",
    "* MCMXL = 1000 + 900 + 40 = 1940\n",
    "* 235 = CCXXXV\n",
    "* 2493 = MMCDXCIII\n",
    "  \n",
    "로마 숫자로 이루어진 두 수를 입력받아 그 둘을 더한 값을 아라비아 숫자와 로마 숫자로 출력하는 프로그램을 작성하시오."
   ]
  },
  {
   "cell_type": "markdown",
   "metadata": {},
   "source": [
    "## 입력\n",
    "\n",
    "첫째 줄과 둘째 줄에 하나씩 로마 숫자로 표현된 수가 주어진다. 입력된 각 수는 2000 보다 작거나 같고, 두 수의 합은 4000보다 작다."
   ]
  },
  {
   "cell_type": "markdown",
   "metadata": {},
   "source": [
    "## 출력\n",
    "\n",
    "입력으로 주어진 두 수를 더한 값을 첫째 줄에 아라비아숫자로 출력하고 둘째 줄에는 로마 숫자로 출력한다."
   ]
  },
  {
   "cell_type": "markdown",
   "metadata": {},
   "source": [
    "## 예제 입력 1\n",
    "\n",
    "DLIII  \n",
    "MCMXL"
   ]
  },
  {
   "cell_type": "markdown",
   "metadata": {},
   "source": [
    "## 예제 출력 1\n",
    "\n",
    "2493  \n",
    "MMCDXCIII"
   ]
  },
  {
   "cell_type": "markdown",
   "metadata": {},
   "source": [
    "## 풀이"
   ]
  },
  {
   "cell_type": "markdown",
   "metadata": {},
   "source": [
    "* 로마 숫자를 아라비아 숫자로 바꾸는 to_num이라는 함수를 구현했다.\n",
    "* 합을 구한 후 하나씩 차례로 로마 숫자로 바꾸는 과정을 구현했다."
   ]
  },
  {
   "cell_type": "code",
   "execution_count": 5,
   "metadata": {},
   "outputs": [
    {
     "name": "stdout",
     "output_type": "stream",
     "text": [
      "DLIII\n",
      "MCMXL\n",
      "2493\n",
      "MM\n",
      "MMCD\n",
      "MMCDXC\n",
      "MMCDXCIII\n",
      "MMCDXCIII\n"
     ]
    }
   ],
   "source": [
    "nums = {'I':1, 'V':5, 'X':10, 'L':50, 'C':100, 'D':500, 'M':1000}\n",
    "extra = {'IV':4, 'IX':9, 'XL':40, 'XC':90, 'CD':400, 'CM':900}\n",
    "\n",
    "def to_num(r):\n",
    "    res = 0\n",
    "    n = len(r)\n",
    "    idx = 0\n",
    "    while idx < n:\n",
    "        if idx == n-1:\n",
    "            res += nums[r[idx]]\n",
    "            break\n",
    "        \n",
    "        flag = True\n",
    "        if r[idx] == 'I':\n",
    "            if r[idx+1] == 'V' or r[idx+1] == 'X':\n",
    "                res += extra[r[idx:idx+2]]\n",
    "                flag = False\n",
    "        elif r[idx] == 'X':\n",
    "            if r[idx+1] == 'L' or r[idx+1] == 'C':\n",
    "                res += extra[r[idx:idx+2]]\n",
    "                flag = False\n",
    "        elif r[idx] == 'C':\n",
    "            if r[idx+1] == 'D' or r[idx+1] == 'M':\n",
    "                res += extra[r[idx:idx+2]]\n",
    "                flag = False\n",
    "                \n",
    "        if not flag:\n",
    "            idx += 2\n",
    "        else:\n",
    "            res += nums[r[idx]]\n",
    "            idx += 1\n",
    "            \n",
    "    return res\n",
    "            \n",
    "a, b = input(), input()\n",
    "a = to_num(a)\n",
    "b = to_num(b)\n",
    "total = a+b\n",
    "print(total)\n",
    "\n",
    "ans = ''\n",
    "total = str(total)\n",
    "t = len(total)\n",
    "n = len(total)\n",
    "while n:\n",
    "    num = int(total[t-n])\n",
    "    if n == 4:\n",
    "        ans += 'M'*num\n",
    "    elif n == 3:\n",
    "        if num == 9:\n",
    "            ans += 'CM'\n",
    "        elif num == 4:\n",
    "            ans += 'CD'\n",
    "        else:\n",
    "            if num >= 5:\n",
    "                ans += 'D'\n",
    "            ans += 'C'*(num%5)\n",
    "    elif n == 2:\n",
    "        if num == 9:\n",
    "            ans += 'XC'\n",
    "        elif num == 4:\n",
    "            ans += 'XL'\n",
    "        else:\n",
    "            if num >= 5:\n",
    "                ans += 'L'\n",
    "            ans += 'X'*(num%5)\n",
    "    elif n == 1:\n",
    "        if num == 9:\n",
    "            ans += 'IX'\n",
    "        elif num == 4:\n",
    "            ans += 'IV'\n",
    "        else:\n",
    "            if num >= 5:\n",
    "                ans += 'V'\n",
    "            ans += 'I'*(num%5)\n",
    "    n -= 1\n",
    "    \n",
    "print(ans)"
   ]
  }
 ],
 "metadata": {
  "kernelspec": {
   "display_name": "Python 3",
   "language": "python",
   "name": "python3"
  },
  "language_info": {
   "codemirror_mode": {
    "name": "ipython",
    "version": 3
   },
   "file_extension": ".py",
   "mimetype": "text/x-python",
   "name": "python",
   "nbconvert_exporter": "python",
   "pygments_lexer": "ipython3",
   "version": "3.7.3"
  }
 },
 "nbformat": 4,
 "nbformat_minor": 2
}
