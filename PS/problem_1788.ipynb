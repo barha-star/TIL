{
 "cells": [
  {
   "cell_type": "markdown",
   "metadata": {},
   "source": [
    "# 피보나치 수의 확장\n",
    "\n",
    "https://www.acmicpc.net/problem/1788"
   ]
  },
  {
   "cell_type": "markdown",
   "metadata": {},
   "source": [
    "## 문제\n",
    "\n",
    "수학에서, 피보나치 수는 위의 점화식과 같이 귀납적으로 정의되는 수열이다. 위의 식에서도 알 수 있듯이, 피보나치 수 F(n)은 0 이상의 n에 대해서만 정의된다.  \n",
    "하지만 피보나치 수 F(n)을 n이 음수인 경우로도 확장시킬 수 있다. 위의 식에서 n>1인 경우에만 성립하는 F(n)=F(n-1)+F(n-2)를 n<=1일 때도 성립되도록 정의하는 것이다. 예를 들어 n=1일 때 F(1)=F(0)+F(-1)이 성립되어야 하므로, F(-1)은 1이 되어야 한다.  \n",
    "n이 주어졌을 때, 피보나치 수 F(n)을 구하는 프로그램을 작성하시오. n은 음수로 주어질 수도 있다."
   ]
  },
  {
   "cell_type": "markdown",
   "metadata": {},
   "source": [
    "## 입력\n",
    "\n",
    "첫째 줄에 n이 주어진다. n은 절댓값이 1,000,000을 넘지 않는 정수이다."
   ]
  },
  {
   "cell_type": "markdown",
   "metadata": {},
   "source": [
    "## 출력\n",
    "\n",
    "첫째 줄에 F(n)이 양수이면 1, 0이면 0, 음수이면 -1을 출력한다.  \n",
    "둘째 줄에는 F(n)의 절댓값을 출력한다. 이 수가 충분히 커질 수 있으므로, 절댓값을 1,000,000,000으로 나눈 나머지를 출력한다."
   ]
  },
  {
   "cell_type": "markdown",
   "metadata": {},
   "source": [
    "## 예제 입력 1\n",
    "\n",
    "-2"
   ]
  },
  {
   "cell_type": "markdown",
   "metadata": {},
   "source": [
    "## 예제 출력 1\n",
    "\n",
    "-1  \n",
    "1"
   ]
  },
  {
   "cell_type": "markdown",
   "metadata": {},
   "source": [
    "## 풀이"
   ]
  },
  {
   "cell_type": "markdown",
   "metadata": {},
   "source": [
    "* n을 양수, 0, 음수일 때 나눠서 계산한다.\n",
    "* n이 양수일 때, 1, 1, 2, 3, 5, 8, 13, ... 으로 피보나치 수이다.\n",
    "* n이 음수일 때, 1, -1, 2, -3, 5, -8, ... 으로 피보나치 수이다.\n",
    "* n이 양수라고 가정하고 피보나치 배열을 구한다.\n",
    "* n이 음수일 때 그리고 2로 나누어 떨어진다면 첫 줄에 -1을 출력하고 아니라면 1을 출력한다."
   ]
  },
  {
   "cell_type": "code",
   "execution_count": 1,
   "metadata": {},
   "outputs": [
    {
     "name": "stdout",
     "output_type": "stream",
     "text": [
      "-2\n",
      "-1\n",
      "1\n"
     ]
    }
   ],
   "source": [
    "n = int(input())\n",
    "flag = 0\n",
    "if n > 0:\n",
    "    flag = 1\n",
    "elif n < 0:\n",
    "    flag = -1\n",
    "    \n",
    "dp = [0, 1]\n",
    "for _ in range(2, abs(n)+1):\n",
    "    dp.append((dp[-1]+dp[-2])%1000000000)\n",
    "\n",
    "if flag == -1:\n",
    "    if (-n) % 2 != 0:\n",
    "        flag = -flag\n",
    "\n",
    "print(flag)\n",
    "print(dp[abs(n)])"
   ]
  }
 ],
 "metadata": {
  "kernelspec": {
   "display_name": "Python 3",
   "language": "python",
   "name": "python3"
  },
  "language_info": {
   "codemirror_mode": {
    "name": "ipython",
    "version": 3
   },
   "file_extension": ".py",
   "mimetype": "text/x-python",
   "name": "python",
   "nbconvert_exporter": "python",
   "pygments_lexer": "ipython3",
   "version": "3.7.3"
  }
 },
 "nbformat": 4,
 "nbformat_minor": 2
}
