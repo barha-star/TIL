{
 "cells": [
  {
   "cell_type": "markdown",
   "metadata": {},
   "source": [
    "# 이동하기\n",
    "\n",
    "https://www.acmicpc.net/problem/11048"
   ]
  },
  {
   "cell_type": "markdown",
   "metadata": {},
   "source": [
    "## 문제\n",
    "\n",
    "준규는 N×M 크기의 미로에 갇혀있다. 미로는 1×1크기의 방으로 나누어져 있고, 각 방에는 사탕이 놓여져 있다. 미로의 가장 왼쪽 윗 방은 (1, 1)이고, 가장 오른쪽 아랫 방은 (N, M)이다.  \n",
    "준규는 현재 (1, 1)에 있고, (N, M)으로 이동하려고 한다. 준규가 (r, c)에 있으면, (r+1, c), (r, c+1), (r+1, c+1)로 이동할 수 있고, 각 방을 방문할 때마다 방에 놓여져있는 사탕을 모두 가져갈 수 있다. 또, 미로 밖으로 나갈 수는 없다.  \n",
    "준규가 (N, M)으로 이동할 때, 가져올 수 있는 사탕 개수의 최댓값을 구하시오."
   ]
  },
  {
   "cell_type": "markdown",
   "metadata": {},
   "source": [
    "## 입력\n",
    "\n",
    "첫째 줄에 미로의 크기 N, M이 주어진다. (1 ≤ N, M ≤ 1,000)  \n",
    "둘째 줄부터 N개 줄에는 총 M개의 숫자가 주어지며, r번째 줄의 c번째 수는 (r, c)에 놓여져 있는 사탕의 개수이다. 사탕의 개수는 0보다 크거나 같고, 100보다 작거나 같다."
   ]
  },
  {
   "cell_type": "markdown",
   "metadata": {},
   "source": [
    "## 출력\n",
    "\n",
    "첫째 줄에 준규가 (N, M)으로 이동할 때, 가져올 수 있는 사탕 개수를 출력한다."
   ]
  },
  {
   "cell_type": "markdown",
   "metadata": {},
   "source": [
    "## 예제 입력 1\n",
    "\n",
    "3 4  \n",
    "1 2 3 4  \n",
    "0 0 0 5  \n",
    "9 8 7 6"
   ]
  },
  {
   "cell_type": "markdown",
   "metadata": {},
   "source": [
    "## 예제 출력 1\n",
    "\n",
    "31"
   ]
  },
  {
   "cell_type": "markdown",
   "metadata": {},
   "source": [
    "## 풀이"
   ]
  },
  {
   "cell_type": "markdown",
   "metadata": {},
   "source": [
    "* 미로에 있는 사탕을 배열로 저장한다.\n",
    "* (r, c)에서 (r+1, c), (r, c+1), (r+1, c+1)로 이동할 수 있으므로 (n, m)은 (n-1, m), (n, m-1), (n-1, m-1)에서 오는 것이 가능한다.\n",
    "* 그 중 가장 사탕을 많이 가져오는 것이 최댓값을 구하는 방법이다.\n",
    "* 이 때, 미로의 가장 오른쪽이나 가장 윗 방일 때만 다르게 처리해주면 된다."
   ]
  },
  {
   "cell_type": "code",
   "execution_count": 1,
   "metadata": {},
   "outputs": [
    {
     "name": "stdout",
     "output_type": "stream",
     "text": [
      "3 4\n",
      "1 2 3 4\n",
      "0 0 0 5\n",
      "9 8 7 6\n",
      "31\n"
     ]
    }
   ],
   "source": [
    "import sys\n",
    "input = sys.stdin.readline\n",
    "\n",
    "n, m = map(int, input().split())\n",
    "candy = [list(map(int, input().split())) for _ in range(n)]\n",
    "for i in range(n):\n",
    "    for j in range(m):\n",
    "        if i == 0 and j == 0:\n",
    "            continue\n",
    "        if i == 0:\n",
    "            candy[i][j] += candy[i][j-1]\n",
    "            continue\n",
    "        if j == 0:\n",
    "            candy[i][j] += candy[i-1][j]\n",
    "            continue\n",
    "        candy[i][j] += max(candy[i-1][j], candy[i][j-1], candy[i-1][j-1])\n",
    "print(candy[-1][-1])"
   ]
  }
 ],
 "metadata": {
  "kernelspec": {
   "display_name": "Python 3",
   "language": "python",
   "name": "python3"
  },
  "language_info": {
   "codemirror_mode": {
    "name": "ipython",
    "version": 3
   },
   "file_extension": ".py",
   "mimetype": "text/x-python",
   "name": "python",
   "nbconvert_exporter": "python",
   "pygments_lexer": "ipython3",
   "version": "3.7.3"
  }
 },
 "nbformat": 4,
 "nbformat_minor": 2
}
