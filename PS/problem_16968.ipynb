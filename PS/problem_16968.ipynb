{
 "cells": [
  {
   "cell_type": "markdown",
   "metadata": {},
   "source": [
    "# 차량 번호판 1\n",
    "\n",
    "https://www.acmicpc.net/problem/16968"
   ]
  },
  {
   "cell_type": "markdown",
   "metadata": {},
   "source": [
    "## 문제\n",
    "\n",
    "상도시의 차량 번호판 형식이 주어졌을 때, 가능한 차량 번호판의 개수를 구해보자.\n",
    "  \n",
    "* 번호판에 사용할 수 있는 숫자는 0, 1, 2, ..., 8, 9이다.\n",
    "* 사용할 수 있는 문자는 a, b, c, d, ..., y, z이다.\n",
    "* 차량 번호판의 형식은 최대 4글자이고, c와 d로 이루어진 문자열로 나타낼 수 있다.\n",
    "* c는 문자가 위치하는 자리, d는 숫자가 위치하는 자리이다.\n",
    "* 같은 문자 또는 숫자가 연속해서 2번 나타나면 안 된다.\n",
    "  \n",
    "예를 들어, 형식이 \"cd\"이면, a1, d4, h5, k4 등이 가능하다. 형식이 \"dd\"인 경우에 01, 10, 34, 69는 가능하지만, 00, 11, 55, 66은 같은 숫자가 2번 연속해서 불가능하다."
   ]
  },
  {
   "cell_type": "markdown",
   "metadata": {},
   "source": [
    "## 입력\n",
    "\n",
    "첫째 줄에 차량 번호판의 형식이 주어진다. 형식은 길이가 4보다 작거나 같으며, c와 d로만 이루어져 있다."
   ]
  },
  {
   "cell_type": "markdown",
   "metadata": {},
   "source": [
    "## 출력\n",
    "\n",
    "첫째 줄에 가능한 차량 번호판의 개수를 출력한다."
   ]
  },
  {
   "cell_type": "markdown",
   "metadata": {},
   "source": [
    "## 예제 입력 1\n",
    "\n",
    "dd"
   ]
  },
  {
   "cell_type": "markdown",
   "metadata": {},
   "source": [
    "## 예제 출력 1\n",
    "\n",
    "90"
   ]
  },
  {
   "cell_type": "markdown",
   "metadata": {},
   "source": [
    "## 풀이"
   ]
  },
  {
   "cell_type": "markdown",
   "metadata": {},
   "source": [
    "* c는 문자가 위치하는 자리이므로 가능한 문자는 26개\n",
    "* d는 숫자가 위치하는 자리이므로 가능한 숫자는 10개\n",
    "* 연속해서 나타나는 경우만 고려하면 된다.\n",
    "* 연속해서 나타나는 경우 앞에서 사용한 문자 또는 숫자를 사용하지 않아야 하므로 (26-1) 또는 (10-1)의 경우의 수가 있다."
   ]
  },
  {
   "cell_type": "code",
   "execution_count": 1,
   "metadata": {},
   "outputs": [
    {
     "name": "stdout",
     "output_type": "stream",
     "text": [
      "dd\n",
      "90\n"
     ]
    }
   ],
   "source": [
    "nums = {'c':26, 'd':10}\n",
    "car_nums = input()\n",
    "n = len(car_nums)\n",
    "res = nums[car_nums[0]]\n",
    "for i in range(1, n):\n",
    "    mul = nums[car_nums[i]]\n",
    "    if car_nums[i] == car_nums[i-1]:\n",
    "        mul -= 1\n",
    "    res *= mul\n",
    "    \n",
    "print(res)"
   ]
  }
 ],
 "metadata": {
  "kernelspec": {
   "display_name": "Python 3",
   "language": "python",
   "name": "python3"
  },
  "language_info": {
   "codemirror_mode": {
    "name": "ipython",
    "version": 3
   },
   "file_extension": ".py",
   "mimetype": "text/x-python",
   "name": "python",
   "nbconvert_exporter": "python",
   "pygments_lexer": "ipython3",
   "version": "3.7.3"
  }
 },
 "nbformat": 4,
 "nbformat_minor": 2
}
