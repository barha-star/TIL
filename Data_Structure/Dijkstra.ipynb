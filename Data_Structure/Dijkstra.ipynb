{
 "cells": [
  {
   "cell_type": "markdown",
   "metadata": {},
   "source": [
    "# Dijkstra(다익스트라)"
   ]
  },
  {
   "cell_type": "markdown",
   "metadata": {},
   "source": [
    "## Dijkstra란?\n",
    "\n",
    "* 하나의 정점에서 다른 모든 정점 간의 각각 가장 짧은 거리를 구하는 문제\n",
    "* 최단 경로 문제 : 두 노드를 잇는 가장 짧은 경로를 찾는 문제\n",
    "* 가중치 그래프(weighted graph)에서 간선(edge)의 가중치 합이 최소가 되도록 하는 경로를 찾는 것이 목적\n",
    "* 단일 출발 최단 경로 문제(single-source shortest path problem)\n",
    "\n",
    "## Dijkstra 특징\n",
    "\n",
    "* 첫 정점을 기준으로 연결되어 있는 정점들을 추가해 가며 최단 거리를 갱신하는 기법\n",
    "* 다익스트라 알고리즘은 너비우선탐색(BFS)와 유사\n",
    "* 첫 정점부터 각 노드간의 거리를 저장하는 배열을 만들고 첫 정점의 인접 노드 간의 거리부터 먼저 계산하면서 가장 짧은 거리를 배열에 업데이트하는 방법\n",
    "* 우선순위 큐를 활용함"
   ]
  },
  {
   "cell_type": "markdown",
   "metadata": {},
   "source": [
    "## Dijkstra 구현"
   ]
  },
  {
   "cell_type": "markdown",
   "metadata": {},
   "source": [
    "1. 초기화\n",
    "    * 첫 정점의 거리는 0, 나머지는 무한대로 초기화한다.\n",
    "    * 우선순위 큐에 (첫 정점, 거리 0)을 넣음\n",
    "2. 우선순위 큐에서 추출한 (노드, 첫 노드와의 거리)를 기반으로 인접한 노드와의 거리 계산\n",
    "    * 우선순위 큐에서 (노드, 거리)를 꺼냄\n",
    "    * 노드와 인접한 노드들 각각에 대해 거리와 현재 배열에 저장되어 있는 거리를 비교한다.\n",
    "    * 해당 노드로 가는 거리가 배열에 저장된 거리보다 짧으면 해당 노드의 거리를 업데이트하고 우선순위 큐에 넣는다.\n",
    "3. 2번의 과정을 우선순위 큐가 빌 때까지 반복한다."
   ]
  },
  {
   "cell_type": "code",
   "execution_count": 1,
   "metadata": {},
   "outputs": [],
   "source": [
    "import heapq\n",
    "\n",
    "def dijkstra(graph, start):\n",
    "    distance = [float('inf') for _ in range(len(graph))]\n",
    "    distance[start] = 0\n",
    "    que = []\n",
    "    heapq.heappush(que, (distance[start], start))\n",
    "    \n",
    "    while que:\n",
    "        curr_dist, curr_node = heapq.heappop(que)\n",
    "        \n",
    "        if distance[curr_node] < curr_dist:\n",
    "            continue\n",
    "            \n",
    "        for adj, w in graph[curr_node]:\n",
    "            dist = curr_dist + w\n",
    "            \n",
    "            if dist < distance[adj]:\n",
    "                distance[adj] = dist\n",
    "                heapq.heappush(que, (dist, adj))\n",
    "    return distance"
   ]
  }
 ],
 "metadata": {
  "kernelspec": {
   "display_name": "Python 3",
   "language": "python",
   "name": "python3"
  },
  "language_info": {
   "codemirror_mode": {
    "name": "ipython",
    "version": 3
   },
   "file_extension": ".py",
   "mimetype": "text/x-python",
   "name": "python",
   "nbconvert_exporter": "python",
   "pygments_lexer": "ipython3",
   "version": "3.7.3"
  }
 },
 "nbformat": 4,
 "nbformat_minor": 2
}
