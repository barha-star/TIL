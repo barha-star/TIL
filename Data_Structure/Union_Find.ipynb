{
 "cells": [
  {
   "cell_type": "markdown",
   "metadata": {},
   "source": [
    "# Union Find(유니온 파인드)"
   ]
  },
  {
   "cell_type": "markdown",
   "metadata": {},
   "source": [
    "## Union Find란?\n",
    "\n",
    "* 서로소 집합(Disjoint Set)\n",
    "* 병합 찾기 집합(Merge Find Set)\n",
    "* 여러 서로서 집합의 정보를 저장하고 있는 자료구조\n",
    "\n",
    "## Union Find 특징\n",
    "\n",
    "* 배열을 이용해서 Tree 자료구조를 만들어 구현한다.\n",
    "* 주어진 두 원소 또는 집합을 합하는 Union부분과 원소가 어떤 집합에 있는지 찾는 Find 함수로 이루어짐\n",
    "* 시간 복잡도\n",
    "    * find : O(logn)\n",
    "    * union : O(logn)"
   ]
  },
  {
   "cell_type": "markdown",
   "metadata": {},
   "source": [
    "## Union Find 구현"
   ]
  },
  {
   "cell_type": "markdown",
   "metadata": {},
   "source": [
    "### 구현\n",
    "\n",
    "1. 초기화\n",
    "    * 처음에 각각 원소들은 연결된 정보가 없기 때문에 부모로 자기 자신을 가지고 있다.\n",
    "    * parent[i] = i\n",
    "2. Find 함수 : x로 들어온 원소의 Root 노드 반환\n",
    "3. Union 함수 : x원소와 y원소를 합치는 함수로 y의 Root 노드를 X로 함"
   ]
  },
  {
   "cell_type": "code",
   "execution_count": null,
   "metadata": {},
   "outputs": [],
   "source": [
    "def find(target):\n",
    "    if target == parent[target]:\n",
    "        return target\n",
    "    \n",
    "    parent[target] = find(parent[target])\n",
    "    return parent[target]\n",
    "\n",
    "def union(a, b):\n",
    "    a = find(a)\n",
    "    b = find(b)\n",
    "    \n",
    "    if a < b:\n",
    "        parent[b] = a\n",
    "    else:\n",
    "        parent[a] = b"
   ]
  },
  {
   "cell_type": "markdown",
   "metadata": {},
   "source": [
    "__배열 사용하여 Disjoint-set 구현__"
   ]
  },
  {
   "cell_type": "code",
   "execution_count": null,
   "metadata": {},
   "outputs": [],
   "source": [
    "class Disjoint_set:\n",
    "    def __init__(self, n):\n",
    "        self.data = list(range(n))     # 본인을 부모 노드로 초기화한다.\n",
    "        self.size = n\n",
    "        \n",
    "    def find(self, idx):\n",
    "        return self.data[idx]\n",
    "    \n",
    "    def union(self, x, y):\n",
    "        x, y = self.find(x), self.find(y)\n",
    "        \n",
    "        if x == y:                # x, y의 부모 노드가 같다면 연결되어 있는 것\n",
    "            return\n",
    "        \n",
    "        for i in range(self.size):   # y의 부모 노드로 가진 모든 원소들의 부모를 x의 부모 노드로 교체\n",
    "            if self.find(i) == y:\n",
    "                self.data[i] = x\n",
    "                \n",
    "    @property\n",
    "    def length(self):\n",
    "        return len(set(self.data))      # 전체 disjoint set 수"
   ]
  },
  {
   "cell_type": "markdown",
   "metadata": {},
   "source": [
    "__트리구조 사용하여 Disjoint-set 구현__"
   ]
  },
  {
   "cell_type": "markdown",
   "metadata": {},
   "source": [
    "* union-by-size : 두 집합을 합칠 때 원소의 수가 적은 집합을 원소의 수가 많은 집합의 하위 트리로 합치는 방법"
   ]
  },
  {
   "cell_type": "code",
   "execution_count": null,
   "metadata": {},
   "outputs": [],
   "source": [
    "class Disjoint_set:\n",
    "    def __init__(self, n):\n",
    "        self.data = [-1 for _ in range(n)]\n",
    "        self.size = n\n",
    "        \n",
    "    def find(self, idx):\n",
    "        val = self.data[idx]\n",
    "        if val < 0:\n",
    "            return idx\n",
    "        \n",
    "        return self.find(val)\n",
    "    \n",
    "    def union(self, x, y):\n",
    "        x = self.find(x)\n",
    "        y = self.find(y)\n",
    "        \n",
    "        if x == y:\n",
    "            return\n",
    "        \n",
    "        if self.data[x] < self.data[y]:\n",
    "            self.dadta[x] += self.data[y]\n",
    "            self.dadta[y] = x\n",
    "        else:\n",
    "            self.data[y] += self.data[x]\n",
    "            self.data[x] = y\n",
    "            \n",
    "        self.size -= 1"
   ]
  },
  {
   "cell_type": "markdown",
   "metadata": {},
   "source": [
    "* union-by-height : 두 집합을 합칠 때 트리의 높이가 작은 집합을 높이가 높은 집합의 서브트리로 합치는 방법"
   ]
  },
  {
   "cell_type": "code",
   "execution_count": null,
   "metadata": {},
   "outputs": [],
   "source": [
    "class Disjoint_set:\n",
    "    def __init__(self, n):\n",
    "        self.data = [-1 for _ in range(n)]\n",
    "        self.size = n\n",
    "        \n",
    "    def find(self, idx):\n",
    "        val = self.data[idx]\n",
    "        if val < 0:\n",
    "            return idx\n",
    "        \n",
    "        return self.find(val)\n",
    "    \n",
    "    def union(self, x, y):\n",
    "        x = self.find(x)\n",
    "        y = self.find(y)\n",
    "        \n",
    "        if x == y:\n",
    "            return\n",
    "        \n",
    "        if self.data[x] < self.data[y]:\n",
    "            self.dadta[y] = x\n",
    "        elif self.data[x] > self.data[y]:\n",
    "            self.data[x] = y\n",
    "        else:\n",
    "            self.data[x] -= 1\n",
    "            self.data[y] = x\n",
    "            \n",
    "        self.size -= 1"
   ]
  },
  {
   "cell_type": "markdown",
   "metadata": {},
   "source": [
    "* path comprehension"
   ]
  },
  {
   "cell_type": "code",
   "execution_count": null,
   "metadata": {},
   "outputs": [],
   "source": [
    "class Disjoint_set:\n",
    "    def __init__(self, n):\n",
    "        self.data = [-1 for _ in range(n)]\n",
    "        self.size = n\n",
    "        \n",
    "    def upward(self, change_lst, idx):\n",
    "        val = self.data[idx]\n",
    "        if val < 0 :\n",
    "            return idx\n",
    "        \n",
    "        change_lst.append(idx)\n",
    "        return self.upward(change_lst, val)\n",
    "    \n",
    "    def find(self, idx):\n",
    "        change_lst = []\n",
    "        res = self.upward(change_lst, idx)\n",
    "        \n",
    "        for i in change_lst:\n",
    "            self.data[i] = res\n",
    "        \n",
    "        return res\n",
    "    \n",
    "    def union(self, x, y):\n",
    "        x = self.find(x)\n",
    "        y = self.find(y)\n",
    "        \n",
    "        if x == y:\n",
    "            return\n",
    "        \n",
    "        if self.data[x] < self.data[y]:\n",
    "            self.dadta[y] = x\n",
    "        elif self.data[x] > self.data[y]:\n",
    "            self.data[x] = y\n",
    "        else:\n",
    "            self.data[x] -= 1\n",
    "            self.data[y] = x\n",
    "            \n",
    "        self.size -= 1"
   ]
  }
 ],
 "metadata": {
  "kernelspec": {
   "display_name": "Python 3",
   "language": "python",
   "name": "python3"
  },
  "language_info": {
   "codemirror_mode": {
    "name": "ipython",
    "version": 3
   },
   "file_extension": ".py",
   "mimetype": "text/x-python",
   "name": "python",
   "nbconvert_exporter": "python",
   "pygments_lexer": "ipython3",
   "version": "3.7.3"
  }
 },
 "nbformat": 4,
 "nbformat_minor": 2
}
