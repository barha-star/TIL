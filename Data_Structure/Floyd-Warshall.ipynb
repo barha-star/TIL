{
 "cells": [
  {
   "cell_type": "markdown",
   "metadata": {},
   "source": [
    "# Floyd-Warshall(플로이드-워샬 알고리즘)"
   ]
  },
  {
   "cell_type": "markdown",
   "metadata": {},
   "source": [
    "## Floyd-Warshall란?\n",
    "\n",
    "* 그래프에서 모든 정점 사이의 최단 경로/거리를 구하는 알고리즘\n",
    "* 시간 복잡도 : O(V^3)\n",
    "* 음의 사이클이 없는 그래프에서 모든 정점 사이의 최단 거리를 구할 수 있다.\n",
    "* 음수 가중치를 갖는 간선이 있어도 최단 거리를 구할 수 있다.\n",
    "* 2차원 배열을 이용하여 동적계획법으로 최적의 값을 계산한다.\n",
    "* 정점 i, j 사이 모든 경유지를 탐색해서 그 중 최단 경로를 찾아내는 것이다.\n",
    "    * dp[i][j] = min(dp[i][j], dp[i][k] + dp[k][j])\n",
    "\n",
    "\n",
    "## Floyd-Warshall 로직\n",
    "\n",
    "1. 2차원 배열을 만들고 그래프의 간선의 정보를 저장한다.\n",
    "    * 하나의 정점에서 다른 정점으로 바로 갈 수 있으면 최소 비용을 저장한다.\n",
    "    * 두 정점이 직접적으로 연결되어 있지 않으면 INF(무한대)값, 자기 자신으로 가는 거리는 0으로 한다.\n",
    "2. 경유지 1~V 까지 순회하여 2차원 테이블을 업데이트 한다.\n",
    "3. 3중 for문을 통해 거쳐가는 정점을 설정한 후 해당 정점을 거쳐가서 비용이 줄어드는 경우에는 값을 바꾼다."
   ]
  },
  {
   "cell_type": "markdown",
   "metadata": {},
   "source": [
    "## Floyd-Warshall 구현"
   ]
  },
  {
   "cell_type": "code",
   "execution_count": null,
   "metadata": {},
   "outputs": [],
   "source": [
    "import sys\n",
    "INF = sys.maxsize\n",
    "\n",
    "def Floyd_Warshall():\n",
    "    # 최단 경로를 담는 배열\n",
    "    dist = [[INF for _ in range(n)] for _ in range(n)]\n",
    "    \n",
    "    # 최단 경로를 담는 배열 초기화\n",
    "    for i in range(n):\n",
    "        for j in range(n):\n",
    "            dist[i][j] = graph[i][j]\n",
    "            \n",
    "    for k in range(n):       # 거치는 지점\n",
    "        for i in range(n):     # 시작점\n",
    "            for j in range(n):    # 끝점\n",
    "                # 최단 경로를 저장한다.\n",
    "                dist[i][j] = min(dist[i][j], dist[i][k] + dist[k][j])\n",
    "                \n",
    "    return dist"
   ]
  }
 ],
 "metadata": {
  "kernelspec": {
   "display_name": "Python 3",
   "language": "python",
   "name": "python3"
  },
  "language_info": {
   "codemirror_mode": {
    "name": "ipython",
    "version": 3
   },
   "file_extension": ".py",
   "mimetype": "text/x-python",
   "name": "python",
   "nbconvert_exporter": "python",
   "pygments_lexer": "ipython3",
   "version": "3.7.3"
  }
 },
 "nbformat": 4,
 "nbformat_minor": 2
}
