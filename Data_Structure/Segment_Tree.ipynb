{
 "cells": [
  {
   "cell_type": "markdown",
   "metadata": {},
   "source": [
    "# Segment Tree(세그먼트 트리)"
   ]
  },
  {
   "cell_type": "markdown",
   "metadata": {},
   "source": [
    "## Segment Tree란?\n",
    "\n",
    "* 여러 개의 데이터가 연속적으로 존재할 때 특정한 범위의 데이터의 합을 구하는 방법\n",
    "* 원래 데이터의 범위를 반씩 분할하며 그 구간의 합들을 저장하도록 초기 설정하는 것\n",
    "* 인덱스 번호가 1부터 시작하면 2를 곱했을 때 왼쪽 자식 노드를 가리키므로 효과적이다.\n",
    "* 데이터의 개수가 n개일 때 n보타 큰 가장 가까운 n의 제곱수를 구한 뒤에 그것의 2배까지 미리 배열의 크기를 만들어놓아야 한다.\n",
    "* 범위 안에 있는 경우에 한해서만 더해주면 된다.\n",
    "* 시간복잡도 : O(NM)"
   ]
  },
  {
   "cell_type": "markdown",
   "metadata": {},
   "source": [
    "### 구현"
   ]
  },
  {
   "cell_type": "code",
   "execution_count": null,
   "metadata": {},
   "outputs": [],
   "source": [
    "def init(a, tree, start, end, node):\n",
    "    if start == end:\n",
    "        tree[node-1] = start\n",
    "    else:\n",
    "        mid = (start + end) // 2\n",
    "        init(a, tree, start, mid, node*2)\n",
    "        init(a, tree, mid+1, end, node*2+1)\n",
    "        if a[tree[node*2-1]] < a[tree[node*2]]:\n",
    "            tree[node-1] = tree[node*2-1]\n",
    "        else:\n",
    "            tree[node-1] = tree[node*2]"
   ]
  },
  {
   "cell_type": "code",
   "execution_count": null,
   "metadata": {},
   "outputs": [],
   "source": [
    "def query(a, tree, start, end, node, left, right):\n",
    "    if left > end or right < start:\n",
    "        return -1\n",
    "    if left <= start and end <= right:\n",
    "        return tree[node-1]\n",
    "    \n",
    "    mid = (start + end) // 2\n",
    "    m1 = query(a, tree, start ,mid, 2*node, left, right)\n",
    "    m2 = query(a, tree, mid+1, end, 2*node+1, left, right)\n",
    "    \n",
    "    if m1 == -1:\n",
    "        return m2\n",
    "    elif m2 == -1:\n",
    "        return m1\n",
    "    else:\n",
    "        if a[m1] <= a[m2]:\n",
    "            return m1\n",
    "        else:\n",
    "            return m2"
   ]
  }
 ],
 "metadata": {
  "kernelspec": {
   "display_name": "Python 3",
   "language": "python",
   "name": "python3"
  },
  "language_info": {
   "codemirror_mode": {
    "name": "ipython",
    "version": 3
   },
   "file_extension": ".py",
   "mimetype": "text/x-python",
   "name": "python",
   "nbconvert_exporter": "python",
   "pygments_lexer": "ipython3",
   "version": "3.7.3"
  }
 },
 "nbformat": 4,
 "nbformat_minor": 2
}
