{
 "cells": [
  {
   "cell_type": "markdown",
   "metadata": {},
   "source": [
    "# Binary Search(이진탐색)"
   ]
  },
  {
   "cell_type": "markdown",
   "metadata": {},
   "source": [
    "## Binary Search란?\n",
    "\n",
    "* 정렬된 자료를 반으로 나누어 탐색하는 방법\n",
    "* 주의점 : 자료는 오름차순으로 정렬된 자료여야 한다.\n",
    "* 복잡도 : O(logn)\n",
    "\n",
    "_____\n",
    "* python에는 이진 탐색 모듈, bisect이 있다."
   ]
  },
  {
   "cell_type": "markdown",
   "metadata": {},
   "source": [
    "## Binary Search 구현"
   ]
  },
  {
   "cell_type": "markdown",
   "metadata": {},
   "source": [
    "### 구현 개요\n",
    "\n",
    "1. 자료의 중간 값이(mid) 찾고자 하는 값인지 검사\n",
    "2. 아니라면 대소관계를 비교하여 start, end값 이동\n",
    "3. 동일 연산 반복\n",
    "  \n",
    "__필요한 변수__  \n",
    "* target : 찾고자 하는 값\n",
    "* data : 오름차순으로 정렬된 list\n",
    "* start : data의 처음 값 인덱스\n",
    "* end : data의 마지막 값 인덱스\n",
    "* mid : start, end의 중간 인덱스"
   ]
  },
  {
   "cell_type": "code",
   "execution_count": null,
   "metadata": {},
   "outputs": [],
   "source": [
    "def binary_search(target, data):    # data는 정렬된 데이터\n",
    "    start = 0\n",
    "    end = len(data) - 1\n",
    "    while start <= end:\n",
    "        mid = (start+end) // 2\n",
    "        \n",
    "        if data[mid] == target:\n",
    "            return mid\n",
    "        elif data[mid] < target:\n",
    "            start = mid + 1\n",
    "        else:\n",
    "            end = mid - 1\n",
    "    return None"
   ]
  },
  {
   "cell_type": "markdown",
   "metadata": {},
   "source": [
    "* 재귀적 구현"
   ]
  },
  {
   "cell_type": "code",
   "execution_count": null,
   "metadata": {},
   "outputs": [],
   "source": [
    "def binary_search(target, start, end, data):\n",
    "    if start > end:\n",
    "        return None\n",
    "    \n",
    "    mid = (start + end) // 2\n",
    "    \n",
    "    if data[mid] == target:\n",
    "        return mid\n",
    "    elif data[mid] > target:\n",
    "        return binary_search(target, start, mid-1, data)\n",
    "    else:\n",
    "        return binary_search(target, mid+1, end, data)"
   ]
  },
  {
   "cell_type": "markdown",
   "metadata": {},
   "source": [
    "* bisect method"
   ]
  },
  {
   "cell_type": "code",
   "execution_count": null,
   "metadata": {},
   "outputs": [],
   "source": [
    "def bisect(arr, x, lo=0, hi=None):\n",
    "    if lo < 0:\n",
    "        raise ValueError('lo must be non-negative')\n",
    "    if hi is None:\n",
    "        hi = len(arr)\n",
    "    while lo < hi:\n",
    "        mid = (lo + hi) // 2\n",
    "        if arr[mid] < x:\n",
    "            lo = mid + 1\n",
    "        else:\n",
    "            hi = mid\n",
    "    return lo"
   ]
  },
  {
   "cell_type": "code",
   "execution_count": 1,
   "metadata": {},
   "outputs": [
    {
     "name": "stdout",
     "output_type": "stream",
     "text": [
      "3\n"
     ]
    }
   ],
   "source": [
    "import bisect\n",
    "\n",
    "lst = [1, 2, 3, 7, 9, 11, 33]\n",
    "print(bisect.bisect(lst, 3))"
   ]
  }
 ],
 "metadata": {
  "kernelspec": {
   "display_name": "Python 3",
   "language": "python",
   "name": "python3"
  },
  "language_info": {
   "codemirror_mode": {
    "name": "ipython",
    "version": 3
   },
   "file_extension": ".py",
   "mimetype": "text/x-python",
   "name": "python",
   "nbconvert_exporter": "python",
   "pygments_lexer": "ipython3",
   "version": "3.7.3"
  }
 },
 "nbformat": 4,
 "nbformat_minor": 2
}
