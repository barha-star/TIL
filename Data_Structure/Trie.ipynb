{
 "cells": [
  {
   "cell_type": "markdown",
   "metadata": {},
   "source": [
    "# Trie(트라이)"
   ]
  },
  {
   "cell_type": "markdown",
   "metadata": {},
   "source": [
    "## Trie란?\n",
    "\n",
    "* 검색을 뜻하는 re**trie**val에서 온 단어이다.\n",
    "* Prefix tree이다.\n",
    "* 트리(Tree) 자료 구조의 일종이다.\n",
    "* 어떤 문자열을 검색할 때 시간 복잡도는 O(m)이다.(m : 문자열의 최대 길이)\n",
    "* 문자열을 검색하는 데 특화된 자료 구조이다.\n",
    "\n",
    "## Trie 특징\n",
    "\n",
    "* 검색이 빠르다.\n",
    "* 문자열을 키(Key)로 하는 동적 집합이나 연관 배열로 사용된다.\n",
    "* 노드는 키를 갖지 않는 대신 노드의 위치가 키 역할을 한다.\n",
    "* root가 빈 스트링이다.\n",
    "* 공간 복잡도가 단점이다.\n",
    "    * 메모리는 O(포인터 크기 x 포인터 배열 개수 x 트라이에 존재하는 총 노드의 개수)이다."
   ]
  },
  {
   "cell_type": "markdown",
   "metadata": {},
   "source": [
    "## Trie 구현"
   ]
  },
  {
   "cell_type": "markdown",
   "metadata": {},
   "source": [
    "### Node 구현\n",
    "\n",
    "1. key는 단어의 글자 하나를 담는 데 이용\n",
    "    * 영어라면 알파벳만 들어갈 수 있음\n",
    "2. data는 마지막 글자를 나타내는 flag로 원래 True/False로 구분할 수 있지만 마지막 글자인 경우 단어 전체를 data 필드에 저장하고 아닌 경우는 None로 둔다.\n",
    "    * Python의 경우 P > y > t > h > o > n에서 마지막 글자인 n 노드의 data에만 'Python'이 들어가고 그 외 노드의 data에는 None이다."
   ]
  },
  {
   "cell_type": "code",
   "execution_count": null,
   "metadata": {},
   "outputs": [],
   "source": [
    "class Node(object):\n",
    "    \"\"\"\n",
    "    A node that consists of a trie.\n",
    "    \"\"\"\n",
    "    \n",
    "    def __init__(self, key, data=None):\n",
    "        self.key = key          # 단어 글자, character\n",
    "        self.data = data        # 마지막 글자를 나타내는 flag, string or None\n",
    "        self.children = {}     # 해당 char에서 다른 char로 이어지는 children_char(key)와 Node(value)"
   ]
  },
  {
   "cell_type": "markdown",
   "metadata": {},
   "source": [
    "### Trie 구현\n",
    "\n",
    "1. 삽입 : insert(string) - 트라이에 문자열 삽입\n",
    "    1. 삽입하려는 첫 글자가 root의 child로 저장되어있으면 해당 child로 내려간다.\n",
    "        * 없다면 첫 글자를 root의 child로 저장한다.\n",
    "    2. 동일한 문자가 있을 경우 다음 글자로 내려가고, 없을 경우 새로운 문자를 child의 sibling으로 삽입한다.\n",
    "    3. 맨 마지막 글자를 체크 또는 삽입할 때까지 반복한다.\n",
    "2. 탐색 : search(string) - 주어진 단어 string이 트라이에 존재하는지 여부 반환\n",
    "3. starts_with(prefix) - 주어진 prefix로 시작하는 단어들을 BFS로 트라이에서 찾아 리스트 형태로 반환"
   ]
  },
  {
   "cell_type": "code",
   "execution_count": null,
   "metadata": {},
   "outputs": [],
   "source": [
    "class Trie(object):\n",
    "    def __init__(self):\n",
    "        self.head = Node(None)\n",
    "        \n",
    "    \n",
    "    def insert(self, string):\n",
    "        curr_node = self.head\n",
    "        \n",
    "        for char in string:\n",
    "            if char not in curr_node.children:\n",
    "                curr_node.children[char] = Node(char)\n",
    "                \n",
    "            curr_node = curr_node.children[char]\n",
    "            \n",
    "        \n",
    "        curr_node.data = string     # string의 마지막 글자면 data에 문자열(string) 전체를 저장\n",
    "        \n",
    "        \n",
    "    def search(self, string):\n",
    "        curr_node = self.head\n",
    "        \n",
    "        for char in string:\n",
    "            if char in curr_node.children:\n",
    "                curr_node = curr_node.children[char]\n",
    "            else:\n",
    "                return False\n",
    "        \n",
    "        if curr_node.data != None:    # string의 마지막 글자일 때 data가 있다면 trie에 존재\n",
    "            return True\n",
    "        \n",
    "        \n",
    "    def starts_with(self, prefix):\n",
    "        curr_node = self.head\n",
    "        result = []\n",
    "        subtrie = None\n",
    "        \n",
    "        for char in prefix:\n",
    "            if char in curr_node.children:    # trie에서 prefix 찾기\n",
    "                curr_node = curr_node.children[char]\n",
    "                subtrie = curr_node    # prefix의 마지막 글자 노드를 subtrie로 설정\n",
    "            else:\n",
    "                return None\n",
    "            \n",
    "        que = list(subtrie.children.values())   # bfs로 prefix subtrie를 순회하며 data가 있는 노드(완전한 단어)를 찾음\n",
    "        while que:\n",
    "            curr = que.pop()\n",
    "            if curr.data != None:\n",
    "                result.append(curr.data)\n",
    "            que += list(curr.children.values())\n",
    "            \n",
    "        return result"
   ]
  },
  {
   "cell_type": "markdown",
   "metadata": {},
   "source": [
    "## Trie 코드"
   ]
  },
  {
   "cell_type": "code",
   "execution_count": 1,
   "metadata": {},
   "outputs": [],
   "source": [
    "class Node(object):\n",
    "    \"\"\"\n",
    "    A node that consists of a trie.\n",
    "    \"\"\"\n",
    "    \n",
    "    def __init__(self, key, data=None):\n",
    "        self.key = key          # 단어 글자, character\n",
    "        self.data = data        # 마지막 글자를 나타내는 flag, string or None\n",
    "        self.children = {}     # 해당 char에서 다른 char로 이어지는 children_char(key)와 Node(value)\n",
    "        \n",
    "        \n",
    "class Trie(object):\n",
    "    def __init__(self):\n",
    "        self.head = Node(None)\n",
    "        \n",
    "    \n",
    "    def insert(self, string):\n",
    "        curr_node = self.head\n",
    "        \n",
    "        for char in string:\n",
    "            if char not in curr_node.children:\n",
    "                curr_node.children[char] = Node(char)\n",
    "                \n",
    "            curr_node = curr_node.children[char]\n",
    "            \n",
    "        \n",
    "        curr_node.data = string     # string의 마지막 글자면 data에 문자열(string) 전체를 저장\n",
    "        \n",
    "        \n",
    "    def search(self, string):\n",
    "        curr_node = self.head\n",
    "        \n",
    "        for char in string:\n",
    "            if char in curr_node.children:\n",
    "                curr_node = curr_node.children[char]\n",
    "            else:\n",
    "                return False\n",
    "        \n",
    "        if curr_node.data != None:    # string의 마지막 글자일 때 data가 있다면 trie에 존재\n",
    "            return True\n",
    "        \n",
    "        \n",
    "    def starts_with(self, prefix):\n",
    "        curr_node = self.head\n",
    "        result = []\n",
    "        subtrie = None\n",
    "        \n",
    "        for char in prefix:\n",
    "            if char in curr_node.children:    # trie에서 prefix 찾기\n",
    "                curr_node = curr_node.children[char]\n",
    "                subtrie = curr_node    # prefix의 마지막 글자 노드를 subtrie로 설정\n",
    "            else:\n",
    "                return None\n",
    "            \n",
    "        que = list(subtrie.children.values())   # bfs로 prefix subtrie를 순회하며 data가 있는 노드(완전한 단어)를 찾음\n",
    "        while que:\n",
    "            curr = que.pop()\n",
    "            if curr.data != None:\n",
    "                result.append(curr.data)\n",
    "            que += list(curr.children.values())\n",
    "            \n",
    "        return result"
   ]
  },
  {
   "cell_type": "code",
   "execution_count": 2,
   "metadata": {},
   "outputs": [],
   "source": [
    "trie = Trie()"
   ]
  },
  {
   "cell_type": "code",
   "execution_count": 3,
   "metadata": {},
   "outputs": [],
   "source": [
    "trie.insert('python')"
   ]
  },
  {
   "cell_type": "code",
   "execution_count": 4,
   "metadata": {},
   "outputs": [],
   "source": [
    "trie.insert('pytorch')"
   ]
  },
  {
   "cell_type": "code",
   "execution_count": 5,
   "metadata": {},
   "outputs": [],
   "source": [
    "trie.insert('pyro')"
   ]
  },
  {
   "cell_type": "code",
   "execution_count": 6,
   "metadata": {},
   "outputs": [
    {
     "data": {
      "text/plain": [
       "True"
      ]
     },
     "execution_count": 6,
     "metadata": {},
     "output_type": "execute_result"
    }
   ],
   "source": [
    "trie.search('python')"
   ]
  },
  {
   "cell_type": "code",
   "execution_count": 7,
   "metadata": {},
   "outputs": [
    {
     "data": {
      "text/plain": [
       "False"
      ]
     },
     "execution_count": 7,
     "metadata": {},
     "output_type": "execute_result"
    }
   ],
   "source": [
    "trie.search('pythons')"
   ]
  },
  {
   "cell_type": "code",
   "execution_count": 8,
   "metadata": {},
   "outputs": [
    {
     "data": {
      "text/plain": [
       "['pyro', 'pytorch', 'python']"
      ]
     },
     "execution_count": 8,
     "metadata": {},
     "output_type": "execute_result"
    }
   ],
   "source": [
    "trie.starts_with('py')"
   ]
  }
 ],
 "metadata": {
  "kernelspec": {
   "display_name": "Python 3",
   "language": "python",
   "name": "python3"
  },
  "language_info": {
   "codemirror_mode": {
    "name": "ipython",
    "version": 3
   },
   "file_extension": ".py",
   "mimetype": "text/x-python",
   "name": "python",
   "nbconvert_exporter": "python",
   "pygments_lexer": "ipython3",
   "version": "3.7.3"
  }
 },
 "nbformat": 4,
 "nbformat_minor": 2
}
